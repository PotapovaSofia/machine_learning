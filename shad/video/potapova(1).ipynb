{
 "cells": [
  {
   "cell_type": "code",
   "execution_count": 136,
   "metadata": {
    "collapsed": false
   },
   "outputs": [],
   "source": [
    "import cv2\n",
    "from skimage import color\n",
    "from skimage import io\n",
    "import numpy as np\n",
    "from matplotlib import pyplot as plt\n",
    "%matplotlib inline\n",
    "from tqdm import tqdm\n",
    "from scipy import ndimage as ni\n",
    "import itertools\n",
    "import pandas as pd\n",
    "import math\n",
    "from sklearn.cross_validation import cross_val_score\n",
    "from sklearn import svm\n",
    "import xgboost"
   ]
  },
  {
   "cell_type": "code",
   "execution_count": 137,
   "metadata": {
    "collapsed": true
   },
   "outputs": [],
   "source": [
    "def convolve(img):\n",
    "    I_x = np.zeros((img.shape[0] - 2, img.shape[1] - 2))\n",
    "    I_y = np.zeros((img.shape[0] - 2, img.shape[1] - 2))\n",
    "    h = I_x.shape[0]\n",
    "    w = I_y.shape[1]\n",
    "    s_x = np.array([[-1, 0, 1], [-2, 0, 2], [-1, 0, 1]])\n",
    "    s_y = np.array([[-1, 2, 1], [0, 0, 0], [-1, -2, -1]])\n",
    "    I_x = ni.convolve(img, s_x, mode='constant', cval=0.0)[1:-1, 1:-1]\n",
    "    I_y = ni.convolve(img, s_y, mode='constant', cval=0.0)[1:-1, 1:-1]\n",
    "    G = np.sqrt(I_x ** 2 + I_y ** 2)\n",
    "    func = lambda x: x if x >= 0 else math.pi + x\n",
    "    theta = (np.vectorize(func))(np.arctan2(I_y, I_x))\n",
    "#     return , np.abs(np.arctan2(I_y, I_x))\n",
    "    return G, theta"
   ]
  },
  {
   "cell_type": "code",
   "execution_count": 131,
   "metadata": {
    "collapsed": true
   },
   "outputs": [],
   "source": [
    "def histograms(img, cellRowsCnt=8, cellColsCnt=8, binCount=7, blockRowCells=5, blockColCells=5, step_x=3, step_y=3, eps=1e-10): \n",
    "    G , theta = convolve(img)\n",
    "    #Итоговые фичи олжны быть одинакового размера\n",
    "    '''\n",
    "    (h, w) = theta.shape\n",
    "    cellRows = np.floor(h / cellRowsCnt)\n",
    "    cellCols = np.floor(w / cellColsCnt)\n",
    "    img_hists = np.zeros((cellRowsCnt, cellColsCnt, binCount))\n",
    "    for i in range(h - h % cellRowsCnt):\n",
    "        for j in range(w - w % cellColsCnt):\n",
    "            a = theta[i][j] * binCount / np.pi\n",
    "            img_hists[i / cellRows, j / cellCols, a] += G[i][j]\n",
    "    '''     \n",
    "    hn = 8\n",
    "    hm = 8\n",
    "    cellRows = int(theta.shape[0] / hn)\n",
    "    cellCols = int(theta.shape[1] / hm)\n",
    "    H = np.zeros((hn, hm, binCount))\n",
    "    bucket_angle = (math.pi + eps) / binCount\n",
    "    buckets = np.floor(theta / bucket_angle)\n",
    "    \n",
    "    absGPerBucket = []\n",
    "    for j in range(binCount):\n",
    "        absGPerBucket.append(G * (buckets == j))\n",
    "    \n",
    "    for i in range(hn):\n",
    "        for j in range(hm):\n",
    "            for buck in range(binCount):\n",
    "                H[i][j][buck] = np.sum(absGPerBucket[buck][i * cellRows : (i + 1) * cellRows, j * cellCols : (j + 1) * cellCols])\n",
    "    return H\n",
    "    "
   ]
  },
  {
   "cell_type": "code",
   "execution_count": 4,
   "metadata": {
    "collapsed": true
   },
   "outputs": [],
   "source": [
    "def descriptor(img_hists, blockRowCells=5, blockColCells=5, step_x=3, step_y=3, eps=1e-15):\n",
    "    res = []\n",
    "    for i in range(0, img_hists.shape[0], step_x):\n",
    "        for j in range(0, img_hists.shape[1], step_y):\n",
    "            v = np.concatenate(img_hists[i : i + blockRowCells, j : j + blockColCells, :])\n",
    "            res.append(v / np.sqrt(np.sum(v ** 2) + eps))\n",
    "    return np.concatenate(np.concatenate(res))"
   ]
  },
  {
   "cell_type": "code",
   "execution_count": 5,
   "metadata": {
    "collapsed": true
   },
   "outputs": [],
   "source": [
    "def extract_hog(img, cellRowsCnt=10, cellColsCnt=10, binCount=8, blockRowCells=4, blockColCells=4, step_x=2, step_y=2, eps=1e-10): \n",
    "    img_hists = histograms(img)\n",
    "    return descriptor(img_hists)    "
   ]
  },
  {
   "cell_type": "code",
   "execution_count": 61,
   "metadata": {
    "collapsed": true
   },
   "outputs": [],
   "source": [
    "def prepare(img):\n",
    "    (x, y) = img.shape\n",
    "    i = x / 10\n",
    "    j = y / 10\n",
    "    return img[i:x-i, j:y-j]"
   ]
  },
  {
   "cell_type": "code",
   "execution_count": 138,
   "metadata": {
    "collapsed": false
   },
   "outputs": [],
   "source": [
    "from sklearn.cross_validation import train_test_split \n",
    "from sklearn.metrics import accuracy_score\n",
    "\n",
    "def fit_and_classify(X, y):\n",
    "    X_train, X_test, y_train, y_test = train_test_split(X, y)\n",
    "    clf = svm.LinearSVC()\n",
    "    clf.fit(X_train, y_train)\n",
    "    y_pred = clf.predict(X_test)\n",
    "    print(accuracy_score(y_test, y_pred))    "
   ]
  },
  {
   "cell_type": "code",
   "execution_count": 132,
   "metadata": {
    "collapsed": false
   },
   "outputs": [],
   "source": [
    "def f(x):\n",
    "    res = str(x)\n",
    "    return 'train/' + '0' * (5 - len(res)) + res + '.png'\n",
    "filenames = [f(x) for x in range(39209)]\n",
    "\n",
    "images = [color.rgb2gray(io.imread(x)) for x in filenames]"
   ]
  },
  {
   "cell_type": "code",
   "execution_count": 133,
   "metadata": {
    "collapsed": false
   },
   "outputs": [
    {
     "name": "stderr",
     "output_type": "stream",
     "text": [
      "  0%|          | 0/39209 [00:00<?, ?it/s]/home/ubuntu/anaconda3/lib/python3.5/site-packages/ipykernel/__main__.py:5: DeprecationWarning: using a non-integer number instead of an integer will result in an error in the future\n",
      "100%|██████████| 39209/39209 [02:07<00:00, 307.19it/s]"
     ]
    },
    {
     "name": "stdout",
     "output_type": "stream",
     "text": [
      "CPU times: user 2min 7s, sys: 21.8 ms, total: 2min 7s\n",
      "Wall time: 2min 7s\n"
     ]
    },
    {
     "name": "stderr",
     "output_type": "stream",
     "text": [
      "\n"
     ]
    }
   ],
   "source": [
    "%%time\n",
    "X = []\n",
    "for j in tqdm(range(len(images))):\n",
    "    X.append(extract_hog(prepare(images[j])))\n",
    "y = pd.DataFrame(pd.read_csv('train/gt.csv')).class_id"
   ]
  },
  {
   "cell_type": "code",
   "execution_count": 86,
   "metadata": {
    "collapsed": false
   },
   "outputs": [
    {
     "name": "stdout",
     "output_type": "stream",
     "text": [
      "0.869223707028\n",
      "CPU times: user 32.9 s, sys: 75.8 ms, total: 33 s\n",
      "Wall time: 32.9 s\n"
     ]
    }
   ],
   "source": [
    "%%time\n",
    "fit_and_classify(X, y)"
   ]
  },
  {
   "cell_type": "markdown",
   "metadata": {},
   "source": [
    "### Попробуем обучить xgboost на подобранных параметрах\n",
    "(Именно на нем параметры и подбирались, но вывод не сохранился, результат оказался хуже SVM)"
   ]
  },
  {
   "cell_type": "code",
   "execution_count": 140,
   "metadata": {
    "collapsed": false
   },
   "outputs": [],
   "source": [
    "Xdatatrain = xgboost.DMatrix(data = X_train, label = y_train)\n",
    "Xdataval = xgboost.DMatrix(data = X_test, label = y_test)\n",
    "Xdatatest = xgboost.DMatrix(X_test_test)\n",
    "watchlist = [(Xdatatrain, 'train'), (Xdataval, 'eval')] "
   ]
  },
  {
   "cell_type": "code",
   "execution_count": null,
   "metadata": {
    "collapsed": false
   },
   "outputs": [],
   "source": [
    "param = {}\n",
    "param['booster'] = 'gbtree'\n",
    "param['objective'] = 'multi:softmax'\n",
    "param['eval_metric'] = 'merror'\n",
    "param['silent'] = 0\n",
    "param['num_class'] = 43\n",
    "param['eta'] = 0.6\n",
    "\n",
    "numround = 20\n",
    "\n",
    "plst = list(param.items())\n",
    "\n",
    "bst = xgboost.train(plst, Xdatatrain, numround, evals = watchlist,  early_stopping_rounds=50, verbose_eval = 1)\n",
    "score = accuracy_score(y_test, bst.predict(Xdataval))\n",
    "print(\"final score = {}\".format(score))"
   ]
  },
  {
   "cell_type": "markdown",
   "metadata": {},
   "source": [
    "### Тестовая выборка"
   ]
  },
  {
   "cell_type": "code",
   "execution_count": 147,
   "metadata": {
    "collapsed": false
   },
   "outputs": [
    {
     "name": "stderr",
     "output_type": "stream",
     "text": [
      "  0%|          | 0/12342 [00:00<?, ?it/s]/home/ubuntu/anaconda3/lib/python3.5/site-packages/ipykernel/__main__.py:5: DeprecationWarning: using a non-integer number instead of an integer will result in an error in the future\n",
      "100%|██████████| 12342/12342 [00:39<00:00, 312.74it/s]\n"
     ]
    }
   ],
   "source": [
    "def f(x):\n",
    "    res = str(x)\n",
    "    return 'test/' + '0' * (5 - len(res)) + res + '.png'\n",
    "filenames_test = [f(x) for x in range(12342)]\n",
    "\n",
    "\n",
    "images_test = [color.rgb2gray(io.imread(x)) for x in filenames_test]\n",
    "X_test_test = []\n",
    "for j in tqdm(range(len(images_test))):\n",
    "    X_test_test.append(extract_hog(prepare(images_test[j])))"
   ]
  },
  {
   "cell_type": "code",
   "execution_count": null,
   "metadata": {
    "collapsed": false
   },
   "outputs": [],
   "source": [
    "%%time\n",
    "clf = svm.LinearSVC()\n",
    "clf.fit(X, y)\n",
    "y_linear_pred = clf.predict(X_test_test)"
   ]
  },
  {
   "cell_type": "code",
   "execution_count": 150,
   "metadata": {
    "collapsed": true
   },
   "outputs": [],
   "source": [
    "def foo(x):\n",
    "    res = str(x)\n",
    "    return '0' * (5 - len(res)) + res + '.png'\n",
    "test_files = [foo(x) for x in range(12342)]\n",
    "y_df = pd.DataFrame(data={'filename': test_files, 'class_id': y_linear_pred})\n",
    "y_df.to_csv('linear_res.csv', columns=['filename', 'class_id'], index=False)"
   ]
  },
  {
   "cell_type": "code",
   "execution_count": 143,
   "metadata": {
    "collapsed": true
   },
   "outputs": [],
   "source": [
    "y_xgb_pred = bst.predict(Xdatatest)"
   ]
  },
  {
   "cell_type": "code",
   "execution_count": 144,
   "metadata": {
    "collapsed": true
   },
   "outputs": [],
   "source": [
    "def foo(x):\n",
    "    res = str(x)\n",
    "    return '0' * (5 - len(res)) + res + '.png'\n",
    "test_files = [foo(x) for x in range(12342)]\n",
    "y_df = pd.DataFrame(data={'filename': test_files, 'class_id': y_xgb_pred})\n",
    "y_df.to_csv('xgb_res.csv', columns=['filename', 'class_id'], index=False)"
   ]
  },
  {
   "cell_type": "code",
   "execution_count": null,
   "metadata": {
    "collapsed": true
   },
   "outputs": [],
   "source": []
  }
 ],
 "metadata": {
  "kernelspec": {
   "display_name": "Python 2",
   "language": "python",
   "name": "python2"
  },
  "language_info": {
   "codemirror_mode": {
    "name": "ipython",
    "version": 2
   },
   "file_extension": ".py",
   "mimetype": "text/x-python",
   "name": "python",
   "nbconvert_exporter": "python",
   "pygments_lexer": "ipython2",
   "version": "2.7.6"
  }
 },
 "nbformat": 4,
 "nbformat_minor": 1
}
