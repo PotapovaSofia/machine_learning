{
 "cells": [
  {
   "cell_type": "code",
   "execution_count": 16,
   "metadata": {
    "collapsed": false
   },
   "outputs": [],
   "source": [
    "from skimage import io\n",
    "import numpy as np\n",
    "io.use_plugin('matplotlib')\n",
    "%matplotlib inline\n",
    "import matplotlib.pyplot as plt\n",
    "import cv2\n",
    "from tqdm import tqdm\n",
    "from math import sin, cos, ceil, floor"
   ]
  },
  {
   "cell_type": "code",
   "execution_count": 3,
   "metadata": {
    "collapsed": false
   },
   "outputs": [
    {
     "data": {
      "image/png": "[encoded data removed]",
      "text/plain": [
       "<matplotlib.figure.Figure at 0x7f6905b4a390>"
      ]
     },
     "metadata": {},
     "output_type": "display_data"
    }
   ],
   "source": [
    "from scipy import ndimage, misc\n",
    "image = ndimage.imread('./line1.png',0)\n",
    "img = cv2.Canny(image,1,100)\n",
    "io.imshow(img)"
   ]
  },
  {
   "cell_type": "code",
   "execution_count": 3,
   "metadata": {
    "collapsed": false
   },
   "outputs": [],
   "source": [
    "def houghmatrix(img, f_eta, R_eta, accuracy):\n",
    "    f_max = np.pi\n",
    "    R_max = int(np.sqrt(img.shape[0] ** 2 + img.shape[1] ** 2))\n",
    "    hough_matrix = np.zeros((f_max / f_eta, R_max / R_eta))\n",
    "    print R_max, f_max\n",
    "    for i in tqdm(xrange(img.shape[0])):\n",
    "        for j in xrange(img.shape[1]):\n",
    "            if img[i][j] == 255:\n",
    "                f = f_ind = 0\n",
    "                for f_ind in xrange(hough_matrix.shape[0]):\n",
    "                    R_lower = int(min(0, j * sin(f) + i * cos(f) - accuracy) / R_eta)\n",
    "                    R_upper = int(max(R_max, j * sin(f) + i * cos(f) + accuracy) / R_eta)\n",
    "                    hough_matrix[f_ind][R_lower:R_upper] += 1\n",
    "                    f += f_eta\n",
    "    return hough_matrix\n",
    "    \n",
    "    "
   ]
  },
  {
   "cell_type": "code",
   "execution_count": 13,
   "metadata": {
    "collapsed": true
   },
   "outputs": [],
   "source": [
    "a = np.linspace(0, np.pi, 180)"
   ]
  },
  {
   "cell_type": "code",
   "execution_count": 14,
   "metadata": {
    "collapsed": false
   },
   "outputs": [
    {
     "data": {
      "text/plain": [
       "(180,)"
      ]
     },
     "execution_count": 14,
     "metadata": {},
     "output_type": "execute_result"
    }
   ],
   "source": [
    "a.shape"
   ]
  },
  {
   "cell_type": "code",
   "execution_count": 15,
   "metadata": {
    "collapsed": false
   },
   "outputs": [
    {
     "data": {
      "text/plain": [
       "array([ 0.        ,  0.0175508 ,  0.03510159,  0.05265239,  0.07020319,\n",
       "        0.08775398,  0.10530478,  0.12285558,  0.14040638,  0.15795717,\n",
       "        0.17550797,  0.19305877,  0.21060956,  0.22816036,  0.24571116,\n",
       "        0.26326195,  0.28081275,  0.29836355,  0.31591435,  0.33346514,\n",
       "        0.35101594,  0.36856674,  0.38611753,  0.40366833,  0.42121913,\n",
       "        0.43876992,  0.45632072,  0.47387152,  0.49142231,  0.50897311,\n",
       "        0.52652391,  0.54407471,  0.5616255 ,  0.5791763 ,  0.5967271 ,\n",
       "        0.61427789,  0.63182869,  0.64937949,  0.66693028,  0.68448108,\n",
       "        0.70203188,  0.71958267,  0.73713347,  0.75468427,  0.77223507,\n",
       "        0.78978586,  0.80733666,  0.82488746,  0.84243825,  0.85998905,\n",
       "        0.87753985,  0.89509064,  0.91264144,  0.93019224,  0.94774304,\n",
       "        0.96529383,  0.98284463,  1.00039543,  1.01794622,  1.03549702,\n",
       "        1.05304782,  1.07059861,  1.08814941,  1.10570021,  1.123251  ,\n",
       "        1.1408018 ,  1.1583526 ,  1.1759034 ,  1.19345419,  1.21100499,\n",
       "        1.22855579,  1.24610658,  1.26365738,  1.28120818,  1.29875897,\n",
       "        1.31630977,  1.33386057,  1.35141136,  1.36896216,  1.38651296,\n",
       "        1.40406376,  1.42161455,  1.43916535,  1.45671615,  1.47426694,\n",
       "        1.49181774,  1.50936854,  1.52691933,  1.54447013,  1.56202093,\n",
       "        1.57957173,  1.59712252,  1.61467332,  1.63222412,  1.64977491,\n",
       "        1.66732571,  1.68487651,  1.7024273 ,  1.7199781 ,  1.7375289 ,\n",
       "        1.75507969,  1.77263049,  1.79018129,  1.80773209,  1.82528288,\n",
       "        1.84283368,  1.86038448,  1.87793527,  1.89548607,  1.91303687,\n",
       "        1.93058766,  1.94813846,  1.96568926,  1.98324006,  2.00079085,\n",
       "        2.01834165,  2.03589245,  2.05344324,  2.07099404,  2.08854484,\n",
       "        2.10609563,  2.12364643,  2.14119723,  2.15874802,  2.17629882,\n",
       "        2.19384962,  2.21140042,  2.22895121,  2.24650201,  2.26405281,\n",
       "        2.2816036 ,  2.2991544 ,  2.3167052 ,  2.33425599,  2.35180679,\n",
       "        2.36935759,  2.38690838,  2.40445918,  2.42200998,  2.43956078,\n",
       "        2.45711157,  2.47466237,  2.49221317,  2.50976396,  2.52731476,\n",
       "        2.54486556,  2.56241635,  2.57996715,  2.59751795,  2.61506875,\n",
       "        2.63261954,  2.65017034,  2.66772114,  2.68527193,  2.70282273,\n",
       "        2.72037353,  2.73792432,  2.75547512,  2.77302592,  2.79057671,\n",
       "        2.80812751,  2.82567831,  2.84322911,  2.8607799 ,  2.8783307 ,\n",
       "        2.8958815 ,  2.91343229,  2.93098309,  2.94853389,  2.96608468,\n",
       "        2.98363548,  3.00118628,  3.01873707,  3.03628787,  3.05383867,\n",
       "        3.07138947,  3.08894026,  3.10649106,  3.12404186,  3.14159265])"
      ]
     },
     "execution_count": 15,
     "metadata": {},
     "output_type": "execute_result"
    }
   ],
   "source": [
    "a"
   ]
  },
  {
   "cell_type": "code",
   "execution_count": 10,
   "metadata": {
    "collapsed": false
   },
   "outputs": [
    {
     "data": {
      "text/plain": [
       "0.017453292519943295"
      ]
     },
     "execution_count": 10,
     "metadata": {},
     "output_type": "execute_result"
    }
   ],
   "source": [
    "s = np.pi / 180\n",
    "s"
   ]
  },
  {
   "cell_type": "code",
   "execution_count": 20,
   "metadata": {
    "collapsed": false
   },
   "outputs": [],
   "source": [
    "R_max = np.sqrt(img.shape[0] ** 2 + img.shape[1] ** 2)\n",
    "R = np.linspace(0, R_max, 1600)"
   ]
  },
  {
   "cell_type": "code",
   "execution_count": 38,
   "metadata": {
    "collapsed": false
   },
   "outputs": [],
   "source": [
    "a = np.ones((10, 10))"
   ]
  },
  {
   "cell_type": "code",
   "execution_count": 39,
   "metadata": {
    "collapsed": false
   },
   "outputs": [
    {
     "data": {
      "text/plain": [
       "array([[ 1.,  1.,  1.,  1.,  1.,  1.,  1.,  1.,  1.,  1.],\n",
       "       [ 1.,  1.,  1.,  1.,  1.,  1.,  1.,  1.,  1.,  1.],\n",
       "       [ 1.,  1.,  1.,  1.,  1.,  1.,  1.,  1.,  1.,  1.],\n",
       "       [ 1.,  1.,  1.,  1.,  1.,  1.,  1.,  1.,  1.,  1.],\n",
       "       [ 1.,  1.,  1.,  1.,  1.,  1.,  1.,  1.,  1.,  1.],\n",
       "       [ 1.,  1.,  1.,  1.,  1.,  1.,  1.,  1.,  1.,  1.],\n",
       "       [ 1.,  1.,  1.,  1.,  1.,  1.,  1.,  1.,  1.,  1.],\n",
       "       [ 1.,  1.,  1.,  1.,  1.,  1.,  1.,  1.,  1.,  1.],\n",
       "       [ 1.,  1.,  1.,  1.,  1.,  1.,  1.,  1.,  1.,  1.],\n",
       "       [ 1.,  1.,  1.,  1.,  1.,  1.,  1.,  1.,  1.,  1.]])"
      ]
     },
     "execution_count": 39,
     "metadata": {},
     "output_type": "execute_result"
    }
   ],
   "source": [
    "a"
   ]
  },
  {
   "cell_type": "code",
   "execution_count": 54,
   "metadata": {
    "collapsed": false
   },
   "outputs": [
    {
     "data": {
      "text/plain": [
       "array([[ 3.,  3.,  3.,  3.,  3.,  3.,  3.,  3.,  3.,  3.],\n",
       "       [ 2.,  2.,  2.,  2.,  2.,  2.,  2.,  2.,  2.,  2.]])"
      ]
     },
     "execution_count": 54,
     "metadata": {},
     "output_type": "execute_result"
    }
   ],
   "source": [
    "a[1:3]"
   ]
  },
  {
   "cell_type": "code",
   "execution_count": 47,
   "metadata": {
    "collapsed": false
   },
   "outputs": [
    {
     "data": {
      "text/plain": [
       "array([[ 1.,  1.,  1.,  1.,  1.,  1.,  1.,  1.,  1.,  1.],\n",
       "       [ 3.,  3.,  3.,  3.,  3.,  3.,  3.,  3.,  3.,  3.],\n",
       "       [ 2.,  2.,  2.,  2.,  2.,  2.,  2.,  2.,  2.,  2.],\n",
       "       [ 1.,  1.,  1.,  1.,  1.,  1.,  1.,  1.,  1.,  1.],\n",
       "       [ 1.,  1.,  1.,  1.,  1.,  1.,  1.,  1.,  1.,  1.],\n",
       "       [ 1.,  1.,  1.,  1.,  1.,  1.,  1.,  1.,  1.,  1.],\n",
       "       [ 1.,  1.,  1.,  1.,  1.,  1.,  1.,  1.,  1.,  1.],\n",
       "       [ 1.,  1.,  1.,  1.,  1.,  1.,  1.,  1.,  1.,  1.],\n",
       "       [ 1.,  1.,  1.,  1.,  1.,  1.,  1.,  1.,  1.,  1.],\n",
       "       [ 1.,  1.,  1.,  1.,  1.,  1.,  1.,  1.,  1.,  1.]])"
      ]
     },
     "execution_count": 47,
     "metadata": {},
     "output_type": "execute_result"
    }
   ],
   "source": [
    "a"
   ]
  },
  {
   "cell_type": "code",
   "execution_count": 71,
   "metadata": {
    "collapsed": false
   },
   "outputs": [],
   "source": [
    "def houghlines(img, f_eta, R_eta, accuracy):\n",
    "    f_max = np.pi\n",
    "    R_max = np.sqrt(img.shape[0] ** 2 + img.shape[1] ** 2)\n",
    "    R = np.linspace(0, R_max, R_eta)\n",
    "    print R\n",
    "    f = np.linspace(-np.pi / 2, np.pi / 2, f_eta)\n",
    "    print f\n",
    "    print f.shape\n",
    "    hough_matrix = np.zeros((R_eta, f_eta))\n",
    "    print hough_matrix.shape\n",
    "    for i in tqdm(xrange(img.shape[0])):\n",
    "        for j in xrange(img.shape[1]):\n",
    "            if img[i][j] == 255:\n",
    "                for f_ind in xrange(hough_matrix.shape[1]):\n",
    "                    R_lower = int(max(0, j * sin(f[f_ind]) + i * cos(f[f_ind]) - accuracy))\n",
    "                    #R_max / R_eta * x >= low\n",
    "                    #x >= low * R_eta / R_max\n",
    "                    x = int(floor(R_lower * R_eta / R_max))\n",
    "                    R_upper = int(min(R_max, j * sin(f[f_ind]) + i * cos(f[f_ind]) + accuracy))\n",
    "                    y = int(ceil(R_upper * R_eta / R_max))\n",
    "                    hough_matrix[x:y, f_ind] += 1\n",
    "    return hough_matrix, f, R"
   ]
  },
  {
   "cell_type": "code",
   "execution_count": 72,
   "metadata": {
    "collapsed": false
   },
   "outputs": [
    {
     "name": "stderr",
     "output_type": "stream",
     "text": [
      "  3%|▎         | 17/526 [00:00<00:03, 161.45it/s]"
     ]
    },
    {
     "name": "stdout",
     "output_type": "stream",
     "text": [
      "[  0.00000000e+00   4.99952966e-01   9.99905933e-01 ...,   7.98424887e+02\n",
      "   7.98924840e+02   7.99424793e+02]\n",
      "[-1.57079633 -1.55324553 -1.53569473 -1.51814394 -1.50059314 -1.48304234\n",
      " -1.46549155 -1.44794075 -1.43038995 -1.41283915 -1.39528836 -1.37773756\n",
      " -1.36018676 -1.34263597 -1.32508517 -1.30753437 -1.28998358 -1.27243278\n",
      " -1.25488198 -1.23733118 -1.21978039 -1.20222959 -1.18467879 -1.167128\n",
      " -1.1495772  -1.1320264  -1.11447561 -1.09692481 -1.07937401 -1.06182322\n",
      " -1.04427242 -1.02672162 -1.00917082 -0.99162003 -0.97406923 -0.95651843\n",
      " -0.93896764 -0.92141684 -0.90386604 -0.88631525 -0.86876445 -0.85121365\n",
      " -0.83366286 -0.81611206 -0.79856126 -0.78101046 -0.76345967 -0.74590887\n",
      " -0.72835807 -0.71080728 -0.69325648 -0.67570568 -0.65815489 -0.64060409\n",
      " -0.62305329 -0.60550249 -0.5879517  -0.5704009  -0.5528501  -0.53529931\n",
      " -0.51774851 -0.50019771 -0.48264692 -0.46509612 -0.44754532 -0.42999453\n",
      " -0.41244373 -0.39489293 -0.37734213 -0.35979134 -0.34224054 -0.32468974\n",
      " -0.30713895 -0.28958815 -0.27203735 -0.25448656 -0.23693576 -0.21938496\n",
      " -0.20183416 -0.18428337 -0.16673257 -0.14918177 -0.13163098 -0.11408018\n",
      " -0.09652938 -0.07897859 -0.06142779 -0.04387699 -0.0263262  -0.0087754\n",
      "  0.0087754   0.0263262   0.04387699  0.06142779  0.07897859  0.09652938\n",
      "  0.11408018  0.13163098  0.14918177  0.16673257  0.18428337  0.20183416\n",
      "  0.21938496  0.23693576  0.25448656  0.27203735  0.28958815  0.30713895\n",
      "  0.32468974  0.34224054  0.35979134  0.37734213  0.39489293  0.41244373\n",
      "  0.42999453  0.44754532  0.46509612  0.48264692  0.50019771  0.51774851\n",
      "  0.53529931  0.5528501   0.5704009   0.5879517   0.60550249  0.62305329\n",
      "  0.64060409  0.65815489  0.67570568  0.69325648  0.71080728  0.72835807\n",
      "  0.74590887  0.76345967  0.78101046  0.79856126  0.81611206  0.83366286\n",
      "  0.85121365  0.86876445  0.88631525  0.90386604  0.92141684  0.93896764\n",
      "  0.95651843  0.97406923  0.99162003  1.00917082  1.02672162  1.04427242\n",
      "  1.06182322  1.07937401  1.09692481  1.11447561  1.1320264   1.1495772\n",
      "  1.167128    1.18467879  1.20222959  1.21978039  1.23733118  1.25488198\n",
      "  1.27243278  1.28998358  1.30753437  1.32508517  1.34263597  1.36018676\n",
      "  1.37773756  1.39528836  1.41283915  1.43038995  1.44794075  1.46549155\n",
      "  1.48304234  1.50059314  1.51814394  1.53569473  1.55324553  1.57079633]\n",
      "(180,)\n",
      "(1600, 180)\n"
     ]
    },
    {
     "name": "stderr",
     "output_type": "stream",
     "text": [
      "100%|██████████| 526/526 [00:22<00:00, 23.25it/s]\n"
     ]
    },
    {
     "data": {
      "image/png": "[encoded data removed]",
      "text/plain": [
       "<matplotlib.figure.Figure at 0x7f68d82bcb90>"
      ]
     },
     "metadata": {},
     "output_type": "display_data"
    }
   ],
   "source": [
    "h, theta, d = houghlines(img, 180, 1600, 40)\n",
    "io.imshow(np.log(1 + h),\n",
    "             extent=[np.rad2deg(theta[-1]), np.rad2deg(theta[0]),\n",
    "                     d[-1], d[0]],\n",
    "             cmap=plt.cm.gray, aspect=1/1.5)"
   ]
  },
  {
   "cell_type": "code",
   "execution_count": 64,
   "metadata": {
    "collapsed": false
   },
   "outputs": [
    {
     "data": {
      "text/plain": [
       "array([[  121.,    76.,    29., ...,  8308.,  8305.,  8303.],\n",
       "       [  121.,    76.,    29., ...,  8308.,  8305.,  8303.],\n",
       "       [  121.,    76.,    29., ...,  8304.,  8301.,  8299.],\n",
       "       ..., \n",
       "       [    0.,     0.,     0., ...,     0.,     0.,     0.],\n",
       "       [    0.,     0.,     0., ...,     0.,     0.,     0.],\n",
       "       [    0.,     0.,     0., ...,     0.,     0.,     0.]])"
      ]
     },
     "execution_count": 64,
     "metadata": {},
     "output_type": "execute_result"
    }
   ],
   "source": [
    "h"
   ]
  },
  {
   "cell_type": "code",
   "execution_count": 35,
   "metadata": {
    "collapsed": false
   },
   "outputs": [
    {
     "data": {
      "text/plain": [
       "(1600, 180)"
      ]
     },
     "execution_count": 35,
     "metadata": {},
     "output_type": "execute_result"
    }
   ],
   "source": [
    "h.shape"
   ]
  },
  {
   "cell_type": "code",
   "execution_count": 65,
   "metadata": {
    "collapsed": false
   },
   "outputs": [
    {
     "data": {
      "image/png": "[encoded data removed]",
      "text/plain": [
       "<matplotlib.figure.Figure at 0x7f68e00753d0>"
      ]
     },
     "metadata": {},
     "output_type": "display_data"
    }
   ],
   "source": [
    "from skimage.transform import hough_line\n",
    "h, theta, d = hough_line(img)\n",
    "io.imshow(np.log(1 + h),\n",
    "             extent=[np.rad2deg(theta[-1]), np.rad2deg(theta[0]),\n",
    "                     d[-1], d[0]],\n",
    "             cmap=plt.cm.gray, aspect=1/1.5)"
   ]
  },
  {
   "cell_type": "code",
   "execution_count": 66,
   "metadata": {
    "collapsed": false
   },
   "outputs": [
    {
     "data": {
      "text/plain": [
       "array([[0, 0, 0, ..., 0, 0, 0],\n",
       "       [0, 0, 0, ..., 0, 0, 0],\n",
       "       [0, 0, 0, ..., 0, 0, 0],\n",
       "       ..., \n",
       "       [0, 0, 0, ..., 0, 0, 0],\n",
       "       [0, 0, 0, ..., 0, 0, 0],\n",
       "       [0, 0, 0, ..., 0, 0, 0]], dtype=uint64)"
      ]
     },
     "execution_count": 66,
     "metadata": {},
     "output_type": "execute_result"
    }
   ],
   "source": [
    "h"
   ]
  },
  {
   "cell_type": "code",
   "execution_count": null,
   "metadata": {
    "collapsed": true
   },
   "outputs": [],
   "source": []
  }
 ],
 "metadata": {
  "kernelspec": {
   "display_name": "Python 2",
   "language": "python",
   "name": "python2"
  },
  "language_info": {
   "codemirror_mode": {
    "name": "ipython",
    "version": 2
   },
   "file_extension": ".py",
   "mimetype": "text/x-python",
   "name": "python",
   "nbconvert_exporter": "python",
   "pygments_lexer": "ipython2",
   "version": "2.7.10"
  }
 },
 "nbformat": 4,
 "nbformat_minor": 1
}
