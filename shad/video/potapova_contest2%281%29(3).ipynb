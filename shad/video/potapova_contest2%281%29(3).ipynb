{
 "cells": [
  {
   "cell_type": "code",
   "execution_count": 33,
   "metadata": {
    "collapsed": false
   },
   "outputs": [],
   "source": [
    "from skimage import color, io, draw, img_as_float\n",
    "from skimage import transform\n",
    "import numpy as np\n",
    "from matplotlib import pyplot as plt\n",
    "%matplotlib inline\n",
    "from scipy import ndimage as ni\n",
    "import itertools\n",
    "import pandas as pd\n",
    "import math\n",
    "import gc\n",
    "import os\n",
    "from sklearn.cross_validation import cross_val_score\n",
    "from sklearn.cross_validation import train_test_split"
   ]
  },
  {
   "cell_type": "code",
   "execution_count": 2,
   "metadata": {
    "collapsed": true
   },
   "outputs": [],
   "source": [
    "points_df = pd.DataFrame(pd.read_csv(\"facial-keypoints-train/gt_train.csv\"))"
   ]
  },
  {
   "cell_type": "code",
   "execution_count": 3,
   "metadata": {
    "collapsed": false
   },
   "outputs": [
    {
     "data": {
      "text/html": [
       "<div>\n",
       "<table border=\"1\" class=\"dataframe\">\n",
       "  <thead>\n",
       "    <tr style=\"text-align: right;\">\n",
       "      <th></th>\n",
       "      <th>filename</th>\n",
       "      <th>x0</th>\n",
       "      <th>y0</th>\n",
       "      <th>x1</th>\n",
       "      <th>y1</th>\n",
       "      <th>x2</th>\n",
       "      <th>y2</th>\n",
       "      <th>x3</th>\n",
       "      <th>y3</th>\n",
       "      <th>x4</th>\n",
       "      <th>...</th>\n",
       "      <th>x9</th>\n",
       "      <th>y9</th>\n",
       "      <th>x10</th>\n",
       "      <th>y10</th>\n",
       "      <th>x11</th>\n",
       "      <th>y11</th>\n",
       "      <th>x12</th>\n",
       "      <th>y12</th>\n",
       "      <th>x13</th>\n",
       "      <th>y13</th>\n",
       "    </tr>\n",
       "  </thead>\n",
       "  <tbody>\n",
       "    <tr>\n",
       "      <th>0</th>\n",
       "      <td>00000.jpg</td>\n",
       "      <td>51</td>\n",
       "      <td>51</td>\n",
       "      <td>127</td>\n",
       "      <td>60</td>\n",
       "      <td>169</td>\n",
       "      <td>65</td>\n",
       "      <td>203</td>\n",
       "      <td>52</td>\n",
       "      <td>68</td>\n",
       "      <td>...</td>\n",
       "      <td>193</td>\n",
       "      <td>84</td>\n",
       "      <td>156</td>\n",
       "      <td>144</td>\n",
       "      <td>92</td>\n",
       "      <td>174</td>\n",
       "      <td>140</td>\n",
       "      <td>180</td>\n",
       "      <td>168</td>\n",
       "      <td>179</td>\n",
       "    </tr>\n",
       "    <tr>\n",
       "      <th>1</th>\n",
       "      <td>00001.jpg</td>\n",
       "      <td>21</td>\n",
       "      <td>20</td>\n",
       "      <td>36</td>\n",
       "      <td>18</td>\n",
       "      <td>57</td>\n",
       "      <td>19</td>\n",
       "      <td>80</td>\n",
       "      <td>25</td>\n",
       "      <td>23</td>\n",
       "      <td>...</td>\n",
       "      <td>78</td>\n",
       "      <td>33</td>\n",
       "      <td>43</td>\n",
       "      <td>46</td>\n",
       "      <td>31</td>\n",
       "      <td>61</td>\n",
       "      <td>45</td>\n",
       "      <td>66</td>\n",
       "      <td>60</td>\n",
       "      <td>65</td>\n",
       "    </tr>\n",
       "    <tr>\n",
       "      <th>2</th>\n",
       "      <td>00002.jpg</td>\n",
       "      <td>23</td>\n",
       "      <td>116</td>\n",
       "      <td>39</td>\n",
       "      <td>83</td>\n",
       "      <td>47</td>\n",
       "      <td>57</td>\n",
       "      <td>56</td>\n",
       "      <td>19</td>\n",
       "      <td>36</td>\n",
       "      <td>...</td>\n",
       "      <td>62</td>\n",
       "      <td>31</td>\n",
       "      <td>91</td>\n",
       "      <td>86</td>\n",
       "      <td>106</td>\n",
       "      <td>122</td>\n",
       "      <td>115</td>\n",
       "      <td>100</td>\n",
       "      <td>121</td>\n",
       "      <td>81</td>\n",
       "    </tr>\n",
       "    <tr>\n",
       "      <th>3</th>\n",
       "      <td>00003.jpg</td>\n",
       "      <td>29</td>\n",
       "      <td>18</td>\n",
       "      <td>63</td>\n",
       "      <td>25</td>\n",
       "      <td>84</td>\n",
       "      <td>32</td>\n",
       "      <td>105</td>\n",
       "      <td>34</td>\n",
       "      <td>38</td>\n",
       "      <td>...</td>\n",
       "      <td>95</td>\n",
       "      <td>45</td>\n",
       "      <td>72</td>\n",
       "      <td>71</td>\n",
       "      <td>46</td>\n",
       "      <td>83</td>\n",
       "      <td>63</td>\n",
       "      <td>87</td>\n",
       "      <td>75</td>\n",
       "      <td>89</td>\n",
       "    </tr>\n",
       "    <tr>\n",
       "      <th>4</th>\n",
       "      <td>00004.jpg</td>\n",
       "      <td>31</td>\n",
       "      <td>53</td>\n",
       "      <td>76</td>\n",
       "      <td>44</td>\n",
       "      <td>107</td>\n",
       "      <td>38</td>\n",
       "      <td>136</td>\n",
       "      <td>33</td>\n",
       "      <td>40</td>\n",
       "      <td>...</td>\n",
       "      <td>129</td>\n",
       "      <td>49</td>\n",
       "      <td>111</td>\n",
       "      <td>105</td>\n",
       "      <td>72</td>\n",
       "      <td>137</td>\n",
       "      <td>106</td>\n",
       "      <td>132</td>\n",
       "      <td>126</td>\n",
       "      <td>121</td>\n",
       "    </tr>\n",
       "  </tbody>\n",
       "</table>\n",
       "<p>5 rows × 29 columns</p>\n",
       "</div>"
      ],
      "text/plain": [
       "    filename  x0   y0   x1  y1   x2  y2   x3  y3  x4 ...    x9  y9  x10  y10  \\\n",
       "0  00000.jpg  51   51  127  60  169  65  203  52  68 ...   193  84  156  144   \n",
       "1  00001.jpg  21   20   36  18   57  19   80  25  23 ...    78  33   43   46   \n",
       "2  00002.jpg  23  116   39  83   47  57   56  19  36 ...    62  31   91   86   \n",
       "3  00003.jpg  29   18   63  25   84  32  105  34  38 ...    95  45   72   71   \n",
       "4  00004.jpg  31   53   76  44  107  38  136  33  40 ...   129  49  111  105   \n",
       "\n",
       "   x11  y11  x12  y12  x13  y13  \n",
       "0   92  174  140  180  168  179  \n",
       "1   31   61   45   66   60   65  \n",
       "2  106  122  115  100  121   81  \n",
       "3   46   83   63   87   75   89  \n",
       "4   72  137  106  132  126  121  \n",
       "\n",
       "[5 rows x 29 columns]"
      ]
     },
     "execution_count": 3,
     "metadata": {},
     "output_type": "execute_result"
    }
   ],
   "source": [
    "points_df.head()"
   ]
  },
  {
   "cell_type": "code",
   "execution_count": 4,
   "metadata": {
    "collapsed": false
   },
   "outputs": [],
   "source": [
    "def f(x):\n",
    "    res = str(x)\n",
    "    return 'facial-keypoints-train/images/' + '0' * (5 - len(res)) + res + '.jpg'\n",
    "filenames = [f(x) for x in range(6000)]\n",
    "\n",
    "init_images = [io.imread(x) for x in filenames]"
   ]
  },
  {
   "cell_type": "code",
   "execution_count": 5,
   "metadata": {
    "collapsed": true
   },
   "outputs": [],
   "source": [
    "def draw_points(image, points):\n",
    "    img = img_as_float(np.copy(image))\n",
    "    for i in range(14):\n",
    "        point = draw.circle_perimeter(int(points[i * 2 + 1]), int(points[i * 2]), radius=image.shape[0] // 50)\n",
    "        img[point] = [1., 0, 0]\n",
    "    io.imshow(img)"
   ]
  },
  {
   "cell_type": "code",
   "execution_count": 31,
   "metadata": {
    "collapsed": false
   },
   "outputs": [],
   "source": [
    "IMG_SIZE = 96\n",
    "def resize_img(img, points=None):\n",
    "    if len(img.shape) != 3:\n",
    "        img = color.gray2rgb(np.copy(img))\n",
    "    \n",
    "    tform = transform.SimilarityTransform(scale=(IMG_SIZE * 1. / img.shape[0]))\n",
    "    img = transform.warp(img, inverse_map=tform.inverse, output_shape=(IMG_SIZE, IMG_SIZE))\n",
    "    if points is not None:\n",
    "        ps = np.copy(points)\n",
    "        for i in range(14):\n",
    "            ps[2 * i + 1], ps[2 * i] = tform([ps[2 * i + 1], ps[2 * i]])[0]\n",
    "        return tform, np.array(img), np.array(ps)\n",
    "    else:\n",
    "        return tform, np.array(img)\n",
    "\n",
    "def rotate_img(img, points=None, angle=10):\n",
    "    tform = tf.SimilarityTransform(scale=1, rotation=np.pi * angle / 180, translation=(0, 1))\n",
    "    img = tf.warp(img, inverse_map=tform.inverse, output_shape=img.shape)\n",
    "    if points is not None:\n",
    "        ps = np.copy(points)\n",
    "        for i in range(14):\n",
    "            old_x, old_y = ps[2 * i + 1], ps[2 * i]\n",
    "            new_x, new_y = tform.inverse([old_x, old_y])[0]\n",
    "            if abs(old_x - new_x) > 96/2 or abs(old_y - new_y) > 96/2:\n",
    "#                 return None, None\n",
    "                pass\n",
    "#             print(old_x - new_x, old_y-new_y)\n",
    "            ps[2 * i + 1], ps[2 * i] = new_x, new_y\n",
    "    return np.array(img), np.array(ps)"
   ]
  },
  {
   "cell_type": "code",
   "execution_count": 7,
   "metadata": {
    "collapsed": false
   },
   "outputs": [],
   "source": [
    "del points_df[\"filename\"]"
   ]
  },
  {
   "cell_type": "code",
   "execution_count": 8,
   "metadata": {
    "collapsed": false,
    "scrolled": true
   },
   "outputs": [],
   "source": [
    "resized_data = np.array(list(map(resize_img, init_images, points_df.values)))\n",
    "resized_images, resized_points = np.array(resized_data[:, 1]), np.array(resized_data[:, 2])"
   ]
  },
  {
   "cell_type": "code",
   "execution_count": 9,
   "metadata": {
    "collapsed": false
   },
   "outputs": [],
   "source": [
    "angles = [5, -5, 10, -10, 15, -15]\n",
    "images = []\n",
    "points = []\n",
    "for a in angles:\n",
    "#     tmp = map(rotate_img, , resized_images, resized_points)\n",
    "    rotate_foo = np.vectorize(rotate_img, otypes=[np.ndarray], excluded=['angle'])\n",
    "    tmp = np.vstack(rotate_foo(resized_images, resized_points, angle=a))\n",
    "    images.append(tmp[:, 0])\n",
    "    points.append(tmp[:, 1])\n",
    "images.append(resized_images)\n",
    "points.append(resized_points)\n",
    "images = np.stack(np.concatenate(np.array(images)))\n",
    "points = np.stack(np.concatenate(np.array(points)))"
   ]
  },
  {
   "cell_type": "code",
   "execution_count": 12,
   "metadata": {
    "collapsed": false
   },
   "outputs": [
    {
     "data": {
      "text/plain": [
       "0"
      ]
     },
     "execution_count": 12,
     "metadata": {},
     "output_type": "execute_result"
    }
   ],
   "source": [
    "gc.collect()"
   ]
  },
  {
   "cell_type": "code",
   "execution_count": 10,
   "metadata": {
    "collapsed": false
   },
   "outputs": [
    {
     "name": "stderr",
     "output_type": "stream",
     "text": [
      "Using gpu device 0: Tesla K80 (CNMeM is disabled, cuDNN 5105)\n"
     ]
    }
   ],
   "source": [
    "from lasagne import layers, objectives, regularization, updates\n",
    "from lasagne.updates import adam\n",
    "import theano.tensor as T\n",
    "import theano\n",
    "import time\n",
    "import lasagne\n",
    "import lasagne.layers"
   ]
  },
  {
   "cell_type": "code",
   "execution_count": 11,
   "metadata": {
    "collapsed": false
   },
   "outputs": [],
   "source": [
    "import lasagne.layers.dnn"
   ]
  },
  {
   "cell_type": "code",
   "execution_count": 12,
   "metadata": {
    "collapsed": false
   },
   "outputs": [],
   "source": [
    "X_train, X_val, y_train, y_val = train_test_split(images.astype(np.float32), points.astype(np.float32), test_size=0.15)"
   ]
  },
  {
   "cell_type": "code",
   "execution_count": 13,
   "metadata": {
    "collapsed": false
   },
   "outputs": [],
   "source": [
    "def iterate_minibatches(inputs, targets, batchsize, shuffle=False):\n",
    "    assert len(inputs) == len(targets)\n",
    "    if shuffle:\n",
    "        indices = np.arange(len(inputs))\n",
    "        np.random.shuffle(indices)\n",
    "    for start_idx in range(0, len(inputs) - batchsize + 1, batchsize):\n",
    "        if shuffle:\n",
    "            excerpt = indices[start_idx:start_idx + batchsize]\n",
    "        else:\n",
    "            excerpt = slice(start_idx, start_idx + batchsize)\n",
    "    yield inputs[excerpt], targets[excerpt]"
   ]
  },
  {
   "cell_type": "code",
   "execution_count": 14,
   "metadata": {
    "collapsed": false
   },
   "outputs": [],
   "source": [
    "input_X, target_y = T.tensor4(\"X\"), T.matrix(\"y\")\n",
    "\n",
    "nn = lasagne.layers.InputLayer(shape=(None,) + (96, 96) + (3,), input_var=input_X)\n",
    "nn = lasagne.layers.DimshuffleLayer(nn, (0, 3, 1, 2))\n",
    "\n",
    "nn = lasagne.layers.dnn.Conv2DDNNLayer(nn, num_filters=32, filter_size=(7, 7))\n",
    "nn = lasagne.layers.MaxPool2DLayer(nn, pool_size=(2, 2))\n",
    "nn = lasagne.layers.dropout(nn, p=0.1)\n",
    "\n",
    "nn = lasagne.layers.dnn.Conv2DDNNLayer(nn, num_filters=64, filter_size=(5, 5))\n",
    "nn = lasagne.layers.MaxPool2DLayer(nn, pool_size=(2, 2))\n",
    "nn = lasagne.layers.dropout(nn, p=0.2)\n",
    "\n",
    "nn = lasagne.layers.dnn.Conv2DDNNLayer(nn, num_filters=128, filter_size=(3, 3))\n",
    "nn = lasagne.layers.MaxPool2DLayer(nn, pool_size=(2, 2))\n",
    "nn = lasagne.layers.dropout(nn, p=0.3)\n",
    "\n",
    "nn = lasagne.layers.dnn.Conv2DDNNLayer(nn, num_filters=128, filter_size=(2, 2))\n",
    "nn = lasagne.layers.MaxPool2DLayer(nn, pool_size=(2, 2))\n",
    "nn = lasagne.layers.dropout(nn, p=0.4)\n",
    "\n",
    "nn = lasagne.layers.DenseLayer(nn, num_units=1000)\n",
    "nn = lasagne.layers.dropout(nn, p=0.5)\n",
    "nn = lasagne.layers.DenseLayer(nn, num_units=1000)\n",
    "\n",
    "nn = lasagne.layers.DenseLayer(nn, 28, nonlinearity=None)"
   ]
  },
  {
   "cell_type": "code",
   "execution_count": 15,
   "metadata": {
    "collapsed": false
   },
   "outputs": [
    {
     "name": "stderr",
     "output_type": "stream",
     "text": [
      "/home/ubuntu/env/src/lasagne/lasagne/layers/pool.py:266: UserWarning: DEPRECATION: the 'ds' parameter is not going to exist anymore as it is going to be replaced by the parameter 'ws'.\n",
      "  mode=self.mode,\n",
      "/home/ubuntu/env/src/lasagne/lasagne/layers/pool.py:266: UserWarning: DEPRECATION: the 'st' parameter is not going to exist anymore as it is going to be replaced by the parameter 'stride'.\n",
      "  mode=self.mode,\n",
      "/home/ubuntu/env/src/lasagne/lasagne/layers/pool.py:266: UserWarning: DEPRECATION: the 'padding' parameter is not going to exist anymore as it is going to be replaced by the parameter 'pad'.\n",
      "  mode=self.mode,\n",
      "/home/ubuntu/env/src/lasagne/lasagne/layers/pool.py:266: UserWarning: DEPRECATION: the 'ds' parameter is not going to exist anymore as it is going to be replaced by the parameter 'ws'.\n",
      "  mode=self.mode,\n",
      "/home/ubuntu/env/src/lasagne/lasagne/layers/pool.py:266: UserWarning: DEPRECATION: the 'st' parameter is not going to exist anymore as it is going to be replaced by the parameter 'stride'.\n",
      "  mode=self.mode,\n",
      "/home/ubuntu/env/src/lasagne/lasagne/layers/pool.py:266: UserWarning: DEPRECATION: the 'padding' parameter is not going to exist anymore as it is going to be replaced by the parameter 'pad'.\n",
      "  mode=self.mode,\n"
     ]
    }
   ],
   "source": [
    "predicted = lasagne.layers.get_output(nn)\n",
    "final_predicted = lasagne.layers.get_output(nn, deterministic=True)\n",
    "\n",
    "all_weights = lasagne.layers.get_all_params(nn, trainable=True)"
   ]
  },
  {
   "cell_type": "code",
   "execution_count": 16,
   "metadata": {
    "collapsed": false
   },
   "outputs": [],
   "source": [
    "loss = lasagne.objectives.squared_error(final_predicted, target_y).mean()\n",
    "loss += lasagne.regularization.regularize_network_params(nn, lasagne.regularization.l2) * 2e-3\n",
    "final_loss = lasagne.objectives.squared_error(final_predicted, target_y).mean()\n",
    "updates = lasagne.updates.adam(loss, all_weights)"
   ]
  },
  {
   "cell_type": "code",
   "execution_count": 17,
   "metadata": {
    "collapsed": false
   },
   "outputs": [],
   "source": [
    "train_fun = theano.function([input_X, target_y], loss, updates=updates, allow_input_downcast=True)\n",
    "pred_fun = theano.function([input_X], final_predicted, allow_input_downcast=True)\n",
    "validate_fun = theano.function([input_X, target_y], final_loss, allow_input_downcast=True)"
   ]
  },
  {
   "cell_type": "code",
   "execution_count": 18,
   "metadata": {
    "collapsed": false
   },
   "outputs": [
    {
     "name": "stdout",
     "output_type": "stream",
     "text": [
      "epoch:  50 training loss:  164.898330688   validation loss:  153.603637695\n",
      "epoch:  100 training loss:  121.292854309   validation loss:  120.983222961\n",
      "epoch:  150 training loss:  115.303749084   validation loss:  108.839096069\n",
      "epoch:  200 training loss:  116.337944031   validation loss:  99.1640396118\n",
      "epoch:  250 training loss:  93.3070602417   validation loss:  92.2999954224\n",
      "epoch:  300 training loss:  83.5439147949   validation loss:  88.2797698975\n",
      "epoch:  350 training loss:  81.3066253662   validation loss:  93.5584106445\n",
      "epoch:  400 training loss:  90.4236984253   validation loss:  86.2649078369\n",
      "epoch:  450 training loss:  85.1796798706   validation loss:  86.6595077515\n",
      "epoch:  500 training loss:  110.23690033   validation loss:  86.2892608643\n",
      "epoch:  550 training loss:  87.5244903564   validation loss:  87.2199249268\n",
      "epoch:  600 training loss:  88.737487793   validation loss:  86.1870193481\n",
      "epoch:  650 training loss:  79.9439239502   validation loss:  85.8116073608\n",
      "epoch:  700 training loss:  96.7807235718   validation loss:  85.9449462891\n",
      "epoch:  750 training loss:  89.585899353   validation loss:  87.3051986694\n",
      "epoch:  800 training loss:  83.6908493042   validation loss:  85.5725479126\n",
      "epoch:  850 training loss:  81.5379562378   validation loss:  85.6579589844\n",
      "epoch:  900 training loss:  100.987129211   validation loss:  86.4164810181\n",
      "epoch:  950 training loss:  94.9540481567   validation loss:  86.7563934326\n",
      "epoch:  1000 training loss:  106.358032227   validation loss:  85.4473876953\n",
      "epoch:  1050 training loss:  87.8459777832   validation loss:  84.9014816284\n",
      "epoch:  1100 training loss:  85.2619628906   validation loss:  83.3013763428\n",
      "epoch:  1150 training loss:  29.6071777344   validation loss:  33.901802063\n",
      "epoch:  1200 training loss:  28.4811077118   validation loss:  31.4580688477\n",
      "epoch:  1250 training loss:  32.6588401794   validation loss:  31.9978847504\n",
      "epoch:  1300 training loss:  39.111114502   validation loss:  29.1207580566\n",
      "epoch:  1350 training loss:  34.1439437866   validation loss:  28.7964134216\n",
      "epoch:  1400 training loss:  37.6590614319   validation loss:  35.2097930908\n",
      "epoch:  1450 training loss:  26.7382888794   validation loss:  28.9153251648\n",
      "epoch:  1500 training loss:  25.9993247986   validation loss:  28.2027778625\n",
      "epoch:  1550 training loss:  25.4990520477   validation loss:  28.5976390839\n",
      "epoch:  1600 training loss:  33.6128845215   validation loss:  29.1416187286\n",
      "epoch:  1650 training loss:  26.9215641022   validation loss:  27.8691616058\n",
      "epoch:  1700 training loss:  25.4041996002   validation loss:  27.7310905457\n",
      "epoch:  1750 training loss:  28.4960441589   validation loss:  28.1175956726\n",
      "epoch:  1800 training loss:  23.0871372223   validation loss:  27.6733379364\n",
      "epoch:  1850 training loss:  25.6014862061   validation loss:  28.6154518127\n",
      "epoch:  1900 training loss:  34.2992782593   validation loss:  27.8210887909\n",
      "epoch:  1950 training loss:  25.5040893555   validation loss:  27.3488731384\n"
     ]
    }
   ],
   "source": [
    "batchsize = 200\n",
    "val_errs = []\n",
    "train_errs = []\n",
    "\n",
    "for epoch in range(2000):\n",
    "    train_err = 0\n",
    "    train_batches = 0\n",
    "    start_time = time.time()\n",
    "    for batch in iterate_minibatches(X_train, y_train, batchsize, shuffle=True):\n",
    "        inputs, targets = batch\n",
    "        train_err += train_fun(inputs, targets)\n",
    "        train_batches += 1\n",
    "\n",
    "    val_err = 0\n",
    "    val_batches = 0\n",
    "    for batch in iterate_minibatches(X_val, y_val, batchsize, shuffle=False):\n",
    "        inputs, targets = batch\n",
    "        err = validate_fun(inputs, targets)\n",
    "        val_err += err\n",
    "        val_batches += 1\n",
    "\n",
    "    if epoch % 50 == 0 and epoch > 0:\n",
    "        print(\"epoch: \", epoch, \"training loss: \", train_err / train_batches, \"  validation loss: \", val_err / val_batches)\n",
    "    val_errs.append(val_err)\n",
    "    train_errs.append(train_err)"
   ]
  },
  {
   "cell_type": "code",
   "execution_count": 65,
   "metadata": {
    "collapsed": false
   },
   "outputs": [],
   "source": [
    "path_test = os.path.join('facial-keypoints-test', 'images')\n",
    "X_test = np.zeros((1763, IMG_SIZE, IMG_SIZE, 3))\n",
    "test_tforms = []\n",
    "for i in range(1763):\n",
    "    image = io.imread(os.path.join(path_test, '0{}.jpg'.format(6000 + i)))\n",
    "    tform, img = resize_img(image)\n",
    "    test_tforms.append(tf)\n",
    "    X_test[i] = img    "
   ]
  },
  {
   "cell_type": "code",
   "execution_count": 86,
   "metadata": {
    "collapsed": false
   },
   "outputs": [],
   "source": [
    "y_pred = pred_fun(X_test)"
   ]
  },
  {
   "cell_type": "code",
   "execution_count": 81,
   "metadata": {
    "collapsed": true
   },
   "outputs": [],
   "source": [
    "for i in range(1763):\n",
    "    ps = np.copy(y_pred[i])\n",
    "    tform = test_tforms[i]\n",
    "    for j in range(14):\n",
    "        ps[2 * j + 1], ps[2 * j] = tform.inverse([ps[2 * j + 1], ps[2 * j]])[0]\n",
    "    y_pred[i] = ps"
   ]
  },
  {
   "cell_type": "code",
   "execution_count": 92,
   "metadata": {
    "collapsed": false
   },
   "outputs": [
    {
     "data": {
      "image/png": "[encoded data removed]",
      "text/plain": [
       "<matplotlib.figure.Figure at 0x7fe36b160320>"
      ]
     },
     "metadata": {},
     "output_type": "display_data"
    }
   ],
   "source": [
    "draw_points(io.imread(os.path.join(path_test, '0{}.jpg'.format(6000 + 3))), y_pred[3])"
   ]
  },
  {
   "cell_type": "code",
   "execution_count": 93,
   "metadata": {
    "collapsed": true
   },
   "outputs": [],
   "source": [
    "filenames = np.vectorize(lambda i: '0{}.jpg'.format(i))(np.arange(6000, 7763))"
   ]
  },
  {
   "cell_type": "code",
   "execution_count": 94,
   "metadata": {
    "collapsed": true
   },
   "outputs": [],
   "source": [
    "df = pd.DataFrame(data=np.concatenate([filenames[:, np.newaxis], y_pred], axis=1))\n",
    "df.to_csv('first.csv', index=False,\n",
    "          header=['filename','x0','y0','x1','y1','x2','y2','x3','y3','x4','y4','x5','y5','x6','y6',\n",
    "                  'x7','y7','x8','y8','x9','y9','x10','y10','x11','y11','x12','y12','x13','y13'])"
   ]
  },
  {
   "cell_type": "code",
   "execution_count": null,
   "metadata": {
    "collapsed": true
   },
   "outputs": [],
   "source": []
  }
 ],
 "metadata": {
  "kernelspec": {
   "display_name": "Python 3",
   "language": "python",
   "name": "python3"
  },
  "language_info": {
   "codemirror_mode": {
    "name": "ipython",
    "version": 3
   },
   "file_extension": ".py",
   "mimetype": "text/x-python",
   "name": "python",
   "nbconvert_exporter": "python",
   "pygments_lexer": "ipython3",
   "version": "3.5.2"
  }
 },
 "nbformat": 4,
 "nbformat_minor": 0
}
