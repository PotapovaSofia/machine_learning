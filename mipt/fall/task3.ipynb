{
 "cells": [
  {
   "cell_type": "code",
   "execution_count": 1,
   "metadata": {
    "collapsed": false
   },
   "outputs": [],
   "source": [
    "import cv2\n",
    "from skimage import color\n",
    "from skimage import io\n",
    "import numpy as np\n",
    "from matplotlib import pyplot as plt\n",
    "%matplotlib inline\n",
    "from tqdm import tqdm\n",
    "from scipy import ndimage as ni\n",
    "import itertools\n",
    "import pandas as pd\n",
    "import math\n",
    "from sklearn.cross_validation import cross_val_score\n",
    "from sklearn import svm"
   ]
  },
  {
   "cell_type": "code",
   "execution_count": 2,
   "metadata": {
    "collapsed": true
   },
   "outputs": [],
   "source": [
    "def convolve(img):\n",
    "    I_x = np.zeros((img.shape[0] - 2, img.shape[1] - 2))\n",
    "    I_y = np.zeros((img.shape[0] - 2, img.shape[1] - 2))\n",
    "    h = I_x.shape[0]\n",
    "    w = I_y.shape[1]\n",
    "    s_x = np.array([[-1, 0, 1], [-2, 0, 2], [-1, 0, 1]])\n",
    "    s_y = np.array([[-1, 2, 1], [0, 0, 0], [-1, -2, -1]])\n",
    "    I_x = ni.convolve(img, s_x, mode='constant', cval=0.0)[1:-1, 1:-1]\n",
    "    I_y = ni.convolve(img, s_y, mode='constant', cval=0.0)[1:-1, 1:-1]\n",
    "    return np.sqrt(I_x ** 2 + I_y ** 2), np.abs(np.arctan2(I_y, I_x))"
   ]
  },
  {
   "cell_type": "code",
   "execution_count": 3,
   "metadata": {
    "collapsed": true
   },
   "outputs": [],
   "source": [
    "def histograms(img, cellRowsCnt=9, cellColsCnt=9, binCount=8, blockRowCells=4, blockColCells=4, step_x=2, step_y=2, eps=1e-10): \n",
    "    G , theta = convolve(img)\n",
    "    #Итоговые фичи олжны быть одинакового размера\n",
    "    '''\n",
    "    (h, w) = theta.shape\n",
    "    cellRows = np.floor(h / cellRowsCnt)\n",
    "    cellCols = np.floor(w / cellColsCnt)\n",
    "    img_hists = np.zeros((cellRowsCnt, cellColsCnt, binCount))\n",
    "    for i in range(h - h % cellRowsCnt):\n",
    "        for j in range(w - w % cellColsCnt):\n",
    "            a = theta[i][j] * binCount / np.pi\n",
    "            img_hists[i / cellRows, j / cellCols, a] += G[i][j]\n",
    "    '''     \n",
    "    hn = 9\n",
    "    hm = 9\n",
    "    cellRows = int(theta.shape[0] / hn)\n",
    "    cellCols = int(theta.shape[1] / hm)\n",
    "    H = np.zeros((hn, hm, binCount))\n",
    "    bucket_angle = (math.pi + eps) / binCount\n",
    "    buckets = np.floor(theta / bucket_angle)\n",
    "    \n",
    "    absGPerBucket = []\n",
    "    for j in range(binCount):\n",
    "        absGPerBucket.append(G * (buckets == j))\n",
    "    \n",
    "    for i in range(hn):\n",
    "        for j in range(hm):\n",
    "            for buck in range(binCount):\n",
    "                H[i][j][buck] = np.sum(absGPerBucket[buck][i * cellRows : (i + 1) * cellRows, j * cellCols : (j + 1) * cellCols])\n",
    "    return H\n",
    "    "
   ]
  },
  {
   "cell_type": "code",
   "execution_count": 4,
   "metadata": {
    "collapsed": true
   },
   "outputs": [],
   "source": [
    "def descriptor(img_hists, blockRowCells=5, blockColCells=5, step_x=3, step_y=3, eps=1e-15):\n",
    "    res = []\n",
    "    for i in range(0, img_hists.shape[0], step_x):\n",
    "        for j in range(0, img_hists.shape[1], step_y):\n",
    "            v = np.concatenate(img_hists[i : i + blockRowCells, j : j + blockColCells, :])\n",
    "            res.append(v / np.sqrt(np.sum(v ** 2) + eps))\n",
    "    return np.concatenate(np.concatenate(res))"
   ]
  },
  {
   "cell_type": "code",
   "execution_count": 5,
   "metadata": {
    "collapsed": true
   },
   "outputs": [],
   "source": [
    "def extract_hog(img, cellRowsCnt=10, cellColsCnt=10, binCount=8, blockRowCells=4, blockColCells=4, step_x=2, step_y=2, eps=1e-10): \n",
    "    img_hists = histograms(img)\n",
    "    return descriptor(img_hists)    "
   ]
  },
  {
   "cell_type": "code",
   "execution_count": 6,
   "metadata": {
    "collapsed": false
   },
   "outputs": [],
   "source": [
    "def f(x):\n",
    "    res = str(x)\n",
    "    return 'train/' + '0' * (5 - len(res)) + res + '.png'\n",
    "filenames = [f(x) for x in range(39209)]"
   ]
  },
  {
   "cell_type": "code",
   "execution_count": 7,
   "metadata": {
    "collapsed": false
   },
   "outputs": [],
   "source": [
    "images = [color.rgb2gray(io.imread(x)) for x in filenames]"
   ]
  },
  {
   "cell_type": "code",
   "execution_count": 8,
   "metadata": {
    "collapsed": false
   },
   "outputs": [
    {
     "name": "stderr",
     "output_type": "stream",
     "text": [
      "100%|██████████| 39209/39209 [02:20<00:00, 293.27it/s]"
     ]
    },
    {
     "name": "stdout",
     "output_type": "stream",
     "text": [
      "CPU times: user 2min 20s, sys: 171 ms, total: 2min 20s\n",
      "Wall time: 2min 20s\n"
     ]
    },
    {
     "name": "stderr",
     "output_type": "stream",
     "text": [
      "\n"
     ]
    }
   ],
   "source": [
    "%%time\n",
    "X = []\n",
    "for j in tqdm(range(len(images))):\n",
    "    X.append(extract_hog(images[j]))"
   ]
  },
  {
   "cell_type": "code",
   "execution_count": 9,
   "metadata": {
    "collapsed": false
   },
   "outputs": [],
   "source": [
    "y = pd.DataFrame(pd.read_csv('train/gt.csv')).class_id"
   ]
  },
  {
   "cell_type": "code",
   "execution_count": 10,
   "metadata": {
    "collapsed": true
   },
   "outputs": [],
   "source": [
    "from sklearn.cross_validation import train_test_split \n",
    "from sklearn.metrics import accuracy_score\n",
    "X_train, X_test, y_train, y_test = train_test_split(X, y)"
   ]
  },
  {
   "cell_type": "code",
   "execution_count": 14,
   "metadata": {
    "collapsed": false
   },
   "outputs": [
    {
     "data": {
      "text/plain": [
       "(1352,)"
      ]
     },
     "execution_count": 14,
     "metadata": {},
     "output_type": "execute_result"
    }
   ],
   "source": [
    "X_train[0].shape"
   ]
  },
  {
   "cell_type": "code",
   "execution_count": null,
   "metadata": {
    "collapsed": false
   },
   "outputs": [],
   "source": [
    "%%time\n",
    "clf = svm.SVC(kernel='rbf')\n",
    "clf.fit(X_train, y_train)\n",
    "y_pred = clf.predict(X_test)\n",
    "print(accuracy_score(y_test, y_pred))"
   ]
  },
  {
   "cell_type": "code",
   "execution_count": null,
   "metadata": {
    "collapsed": false
   },
   "outputs": [],
   "source": [
    "%%time\n",
    "clf = svm.SVC(kernel='rbf')\n",
    "scores = cross_val_score(clf, X_train, y_train, cv=3, scoring='accuracy')\n",
    "print(scores)"
   ]
  },
  {
   "cell_type": "code",
   "execution_count": null,
   "metadata": {
    "collapsed": true
   },
   "outputs": [],
   "source": []
  }
 ],
 "metadata": {
  "kernelspec": {
   "display_name": "Python 3",
   "language": "python",
   "name": "python3"
  },
  "language_info": {
   "codemirror_mode": {
    "name": "ipython",
    "version": 3
   },
   "file_extension": ".py",
   "mimetype": "text/x-python",
   "name": "python",
   "nbconvert_exporter": "python",
   "pygments_lexer": "ipython3",
   "version": "3.5.2"
  }
 },
 "nbformat": 4,
 "nbformat_minor": 1
}
