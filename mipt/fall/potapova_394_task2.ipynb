{
 "cells": [
  {
   "cell_type": "markdown",
   "metadata": {},
   "source": [
    "МФТИ ФИВТ: Курс Машинное Обучение (осень, 2016), Арсений Ашуха, ars.ashuha@gmail.com"
   ]
  },
  {
   "cell_type": "markdown",
   "metadata": {},
   "source": [
    "<h1 align=\"center\">Organization Info</h1> "
   ]
  },
  {
   "cell_type": "markdown",
   "metadata": {},
   "source": [
    "**Дополнительный материал для выполнения дз**:\n",
    "- Hastie, The Elements of Statistical Learning, https://goo.gl/k3wfEU, 10 Boosting and Additive Trees 337\n",
    "- Соколов, Семинары по композиционным методам, https://goo.gl/sn8RyJ, http://goo.gl/ajNTQy\n",
    "\n",
    "**Оформление дз**: \n",
    "- Присылайте выполненное задание на почту ``ml.course.mipt@gmail.com``\n",
    "- Укажите тему письма в следующем формате ``ML2016_fall <номер_группы> <фамилия>``, к примеру -- ``ML2016_fall 401 ivanov``\n",
    "- Выполненное дз сохраните в файл ``<фамилия>_<группа>_task<номер>.ipnb``, к примеру -- ``ivanov_401_task1.ipnb``\n",
    "\n",
    "**Вопросы**:\n",
    "- Присылайте вопросы на почту ``ml.course.mipt@gmail.com``\n",
    "- Укажите тему письма в следующем формате ``ML2016_fall Question <Содержание вопроса>``\n",
    "\n",
    "--------\n",
    "- **PS1**: Мы используем автоматические фильтры, и просто не найдем ваше дз, если вы не аккуратно его подпишите.\n",
    "- **PS2**: Напоминаем, что дедлайны жесткие, письма пришедшие после автоматически удаляются =( чтобы соблазна не было "
   ]
  },
  {
   "cell_type": "markdown",
   "metadata": {},
   "source": [
    "<h1 align=\"center\">Check Questions</h1> "
   ]
  },
  {
   "cell_type": "markdown",
   "metadata": {},
   "source": [
    "Ответе на вопросы своими словами (загугленный материал надо пересказать), ответ обоснуйте (напишите и ОБЪЯСНИТЕ формулки если потребуется), если не выходит, то вернитесь к лекции дополнительным материалам:\n",
    "\n",
    "**Вопрос 1**: Чем отличается AdaBoost от XGBoost? Перечислите принципиальные отличия. \n",
    "\n",
    "Идея XGBoost: ошибка уменьшается путем минимизации среднеквадратического отклонения базового алгоритма от вектора сдвигов на каждой итерации. Tree-based модель, для построения дерева использует критерий информативности, зависящий от оптимального вектора сдвига.\n",
    "Идея AdaBoost: Минимизируем функционал ошибки, используя экспоненциальную функцию потерь. На каждой итерации алгоритма каждый новый классификатор и его вес жадно выбираются так, чтобы минимизировать эту функцию. Плоха для регрессии и для классификации на много классов.\n",
    "\n",
    "**Вопрос 2**: Почему говорят, что AdaBoost неустойчив к выбросам?\n",
    "\n",
    "AdaBoost подразумевает, что используется экспоненциальная функция потерь от минус отступа. Поэтому на больших выбросах, особенно на шумах, функция потерь экспоненциально возрастает. Следующие базовые алгоритмы начинают настраиваться на эти шумы. (лекции Воронцова)\n",
    "\n",
    "**Вопрос 3**:  В каком пространстве градиентный бустинг совершает градиентный спуск? Какова размерность этого пространства?\n",
    "\n",
    "l-мерное пространство предсказаний алгоритма. (семинары Соколова)\n",
    "\n",
    "**Вопрос 4**: В чем заключается сокращение шага в градиентном бустинге? Как число итераций, необходимое для сходимости, зависит от размера шага η?\n",
    "\n",
    "Чем меньше шаг, тем больше число итераций.Сокращение шага в градиентном бустинге нам нужно для вычисления нового ансамбля a_n\n",
    "\n",
    "**Вопрос 5**: Что такое стохастический градиентный бустинг?\n",
    "\n",
    "На каждом шаге алгоритма новое слагаемое считается опираясь не на всю обучающую выборку, а лишь на случайную подвыборку фиксированного размера. Как бы объединение градиентного бустинга и беггинга. Также можно брать не случайную подвыборку объектов, а еще и случайную подвыборку признаков объектов. Это называется техникой случайных подпространств. Подобная можификация дает выигрыш во вемени, а так же улучшает качество. \n",
    "\n",
    "-----------\n",
    "PS: Если проверяющий не понял ответ на большинство вопросов, то будет пичалька. Пишите так, чтобы можно было разобраться. "
   ]
  },
  {
   "cell_type": "markdown",
   "metadata": {
    "collapsed": true
   },
   "source": [
    "<h1 align=\"center\">Boosting</h1> "
   ]
  },
  {
   "cell_type": "markdown",
   "metadata": {
    "collapsed": true
   },
   "source": [
    "1) Задача 1 \n",
    "![](./img/task11.png)\n",
    "![](./img/task12.png)\n",
    "\n",
    "Добавим каждому объекту выборки два дерева высоты 1 $A_i$ и $B_i$ с весами 0.5 и -0.5 соответственно следующим образом:\n",
    "\n",
    "$\\begin{equation*}\n",
    "A_i = \n",
    " \\begin{cases}\n",
    "   y_i &\\text{$x_i \\leqslant x$}\\\\\n",
    "   -y_i &\\text{otherwise}\n",
    " \\end{cases}\n",
    "\\end{equation*}\n",
    "$\n",
    "\n",
    "$\\begin{equation*}\n",
    "B_i = \n",
    " \\begin{cases}\n",
    "   -y_i &\\text{$x_i \\leqslant x$}\\\\\n",
    "   y_i &\\text{otherwise}\n",
    " \\end{cases}\n",
    "\\end{equation*}\n",
    "$\n",
    "\n",
    "В точках $x==x_i$     $A_i = y_i$, $B_i = -y_i$. \n",
    "\n",
    "$0.5 \\cdot y_i - 0.5 \\cdot (-y_i) = y_i$.\n",
    "В других точках $x \\ne x_i$ аналогичными рассуждениями получится ноль. \n",
    "В итоге получили 2l классификаторов.\n",
    "\n",
    "2) Найдите градиент логистичиской функции потерь для фиксированного объекта\n",
    "\n",
    "$ \\frac{dL}{d y'} = \\frac{exp(-y*y')}{(1 + exp(-y*y'))}  $\n",
    "\n",
    "где $y$ - известный ответ, $y'$ - ответ алгоритма"
   ]
  },
  {
   "cell_type": "markdown",
   "metadata": {},
   "source": [
    "<h1 align=\"center\">Binary Boosting Implementation</h1> "
   ]
  },
  {
   "cell_type": "markdown",
   "metadata": {},
   "source": [
    "Нужно реализовать двухклассовый бустинг с логистичиской функцией потерь. \n",
    "\n",
    "Длину шага -- или используйте $1.0*lr$ или подбирайте одномерной оптимизацией;"
   ]
  },
  {
   "cell_type": "code",
   "execution_count": 24,
   "metadata": {
    "collapsed": false
   },
   "outputs": [
    {
     "name": "stdout",
     "output_type": "stream",
     "text": [
      "Populating the interactive namespace from numpy and matplotlib\n"
     ]
    }
   ],
   "source": [
    "%pylab inline\n",
    "\n",
    "import warnings\n",
    "import numpy as np\n",
    "import pandas as pd\n",
    "from copy import deepcopy\n",
    "from utils import plot_surface\n",
    "from sklearn.tree import DecisionTreeRegressor\n",
    "from sklearn.cross_validation import cross_val_score\n",
    "from sklearn.base import ClassifierMixin, BaseEstimator\n",
    "from sklearn.ensemble import GradientBoostingClassifier\n",
    "from scipy.optimize import minimize_scalar\n",
    "from sklearn.cross_validation import train_test_split\n",
    "from sklearn.metrics import accuracy_score\n",
    "from sklearn.metrics import roc_auc_score\n",
    "from sklearn.cross_validation import cross_val_score\n",
    "from sklearn.grid_search import GridSearchCV\n",
    "from sklearn.ensemble import RandomForestClassifier\n",
    "\n",
    "warnings.simplefilter(\"ignore\")"
   ]
  },
  {
   "cell_type": "code",
   "execution_count": 2,
   "metadata": {
    "collapsed": false
   },
   "outputs": [],
   "source": [
    "class BinaryBoostingClassifier(BaseEstimator, ClassifierMixin):\n",
    "    def __init__(self, n_estimators=100, lr=0.1):\n",
    "        self.lr = lr   \n",
    "        self.n_estimators = n_estimators\n",
    "    \n",
    "    def loss_grad(self, original_y, pred_y):\n",
    "        M = original_y * pred_y\n",
    "        return 1.0 / (1 + np.exp(-M)) * np.exp(-M) * (-original_y) \n",
    "        \n",
    "    def fit(self, X, original_y):\n",
    "        # Храните базовые алгоритмы тут\n",
    "        self.estimators_ = [] \n",
    "        self.gamma_ = []\n",
    "        a_n = np.zeros((X.shape[0],))\n",
    "        \n",
    "        for i in range(self.n_estimators):\n",
    "            #print(i)\n",
    "            grad = self.loss_grad(original_y, a_n)\n",
    "            # Настройте базовый алгоритм на градиент, это классификация или регрессия?\n",
    "            estimator = DecisionTreeRegressor()\n",
    "            estimator.fit(X, -grad)\n",
    "            b_n = estimator.predict(X)\n",
    "            argmin = minimize_scalar(fun_for_min, args=(a_n - original_y, b_n))\n",
    "            gamma = self.lr * argmin.x\n",
    "            a_n += gamma * b_n\n",
    "            \n",
    "            self.gamma_.append(gamma)            \n",
    "            self.estimators_.append(estimator)\n",
    "            \n",
    "        \n",
    "        self.out_ = self.outliers(grad)\n",
    "\n",
    "        return self\n",
    "\n",
    "    def _predict(self, X):\n",
    "        y_pred = [self.gamma_[i] * self.estimators_[i].predict(X) for i in range(self.n_estimators)]\n",
    "        return y_pred\n",
    "    \n",
    "    def predict(self, X):\n",
    "        y_pred = self._predict(X)\n",
    "        return (np.sum(y_pred, axis=0) > 0) * 2 - 1\n",
    "    \n",
    "    def outliers(self, grad):\n",
    "        return np.argsort(np.abs(grad))[-10:]\n",
    "    \n",
    "    "
   ]
  },
  {
   "cell_type": "code",
   "execution_count": 3,
   "metadata": {
    "collapsed": true
   },
   "outputs": [],
   "source": [
    "def fun_for_min(gamma, s, b_n):\n",
    "    return np.sum((gamma * b_n + s) ** 2)"
   ]
  },
  {
   "cell_type": "markdown",
   "metadata": {},
   "source": [
    "<h1 align=\"center\">Simple test</h1> "
   ]
  },
  {
   "cell_type": "code",
   "execution_count": 35,
   "metadata": {
    "collapsed": false
   },
   "outputs": [],
   "source": [
    "import matplotlib.pyplot as plt\n",
    "from sklearn.datasets import make_classification\n",
    "\n",
    "X, y = make_classification(n_samples=500, n_features=2,\n",
    "                           n_informative=2, n_redundant=0, n_repeated=0,\n",
    "                           n_classes=2, n_clusters_per_class=2,\n",
    "                           flip_y=0.05, class_sep=0.8, random_state=241)\n",
    "y = 2*(y-0.5)"
   ]
  },
  {
   "cell_type": "code",
   "execution_count": 95,
   "metadata": {
    "collapsed": false
   },
   "outputs": [
    {
     "data": {
      "image/png": "[encoded data removed]",
      "text/plain": [
       "<matplotlib.figure.Figure at 0x7f04811d4d90>"
      ]
     },
     "metadata": {},
     "output_type": "display_data"
    }
   ],
   "source": [
    "clf = BinaryBoostingClassifier().fit(X, y)\n",
    "plot_surface(X, y, clf)"
   ]
  },
  {
   "cell_type": "markdown",
   "metadata": {
    "collapsed": true
   },
   "source": [
    "<h1 align=\"center\">Outliers</h1> "
   ]
  },
  {
   "cell_type": "code",
   "execution_count": 78,
   "metadata": {
    "collapsed": false
   },
   "outputs": [
    {
     "data": {
      "image/png": "[encoded data removed]",
      "text/plain": [
       "<matplotlib.figure.Figure at 0x7f04813d0790>"
      ]
     },
     "metadata": {},
     "output_type": "display_data"
    }
   ],
   "source": [
    "outliers = clf.out_\n",
    "plot_surface(X[outliers], y[outliers], clf)"
   ]
  },
  {
   "cell_type": "markdown",
   "metadata": {},
   "source": [
    "<h1 align=\"center\">Adult test</h1> "
   ]
  },
  {
   "cell_type": "code",
   "execution_count": 79,
   "metadata": {
    "collapsed": false
   },
   "outputs": [
    {
     "name": "stdout",
     "output_type": "stream",
     "text": [
      "  % Total    % Received % Xferd  Average Speed   Time    Time     Time  Current\n",
      "                                 Dload  Upload   Total   Spent    Left  Speed\n",
      "100 3881k  100 3881k    0     0   257k      0  0:00:15  0:00:15 --:--:--  213k\n",
      "  % Total    % Received % Xferd  Average Speed   Time    Time     Time  Current\n",
      "                                 Dload  Upload   Total   Spent    Left  Speed\n",
      "100  162M  100  162M    0     0   619k      0  0:04:28  0:04:28 --:--:--  911k\n",
      "cifar-10-batches-py/\n",
      "cifar-10-batches-py/data_batch_4\n",
      "cifar-10-batches-py/readme.html\n",
      "cifar-10-batches-py/test_batch\n",
      "cifar-10-batches-py/data_batch_3\n",
      "cifar-10-batches-py/batches.meta\n",
      "cifar-10-batches-py/data_batch_2\n",
      "cifar-10-batches-py/data_batch_5\n",
      "cifar-10-batches-py/data_batch_1\n"
     ]
    }
   ],
   "source": [
    "!sh ./get_data.sh"
   ]
  },
  {
   "cell_type": "code",
   "execution_count": 96,
   "metadata": {
    "collapsed": false
   },
   "outputs": [],
   "source": [
    "adult = pd.read_csv(\n",
    "    './data/adult.data', \n",
    "    names=[\n",
    "        \"Age\", \"Workclass\", \"fnlwgt\", \"Education\", \"Education-Num\", \"Martial Status\",\n",
    "        \"Occupation\", \"Relationship\", \"Race\", \"Sex\", \"Capital Gain\", \"Capital Loss\",\n",
    "        \"Hours per week\", \"Country\", \"Target\"], \n",
    "    header=None, na_values=\"?\")\n",
    "adult = pd.get_dummies(adult)\n",
    "adult[\"Target\"] = adult[\"Target_ >50K\"]"
   ]
  },
  {
   "cell_type": "code",
   "execution_count": 4,
   "metadata": {
    "collapsed": true
   },
   "outputs": [],
   "source": []
  },
  {
   "cell_type": "code",
   "execution_count": 83,
   "metadata": {
    "collapsed": false
   },
   "outputs": [],
   "source": [
    "X, y = adult[adult.columns[:-3]].values, adult[adult.columns[-1]].values\n",
    "y = 2*(y-0.5)\n",
    "X_train, X_test, y_train, y_test = train_test_split(X, y, test_size=0.1)"
   ]
  },
  {
   "cell_type": "code",
   "execution_count": 84,
   "metadata": {
    "collapsed": false
   },
   "outputs": [
    {
     "data": {
      "text/plain": [
       "0.87350322382560641"
      ]
     },
     "execution_count": 84,
     "metadata": {},
     "output_type": "execute_result"
    }
   ],
   "source": [
    "clf1 = GradientBoostingClassifier()\n",
    "clf1.fit(X_train, y_train)\n",
    "pred = clf1.predict(X_test)\n",
    "accuracy_score(pred, y_test)"
   ]
  },
  {
   "cell_type": "code",
   "execution_count": 98,
   "metadata": {
    "collapsed": false
   },
   "outputs": [
    {
     "data": {
      "text/plain": [
       "0.82284310715382258"
      ]
     },
     "execution_count": 98,
     "metadata": {},
     "output_type": "execute_result"
    }
   ],
   "source": [
    "clf2 = BinaryBoostingClassifier()\n",
    "clf2.fit(X_train, y_train)\n",
    "pred2 = clf2.predict(X_test)\n",
    "accuracy_score(pred2, y_test)"
   ]
  },
  {
   "cell_type": "markdown",
   "metadata": {},
   "source": [
    "<h1 align=\"center\">Text classification</h1> \n",
    "\n",
    "- Найдите двухклассовый текстовый датасет (в качестве примера sentiment analysis) или возьмите многоклассовый и классифцируйте один клас против остальных\n",
    "- Попробуйте бустинг на решающих деревьях, в качестве фичей используйте tf-idf и svd/random_projection/hashing_trick, что работает лучше? Сравните качество и время работы."
   ]
  },
  {
   "cell_type": "code",
   "execution_count": 5,
   "metadata": {
    "collapsed": false
   },
   "outputs": [
    {
     "name": "stdout",
     "output_type": "stream",
     "text": [
      "(10000, 2)\n",
      "                                          Reviews_Summary  Prediction\n",
      "ID                                                                   \n",
      "230872                                  Babies love these           3\n",
      "344823                                       Salmon Trout           0\n",
      "211754                                     disappointment           1\n",
      "259421  Doesn't taste like Cinnabon; tastes like Waffl...           2\n",
      "253418  Delicious San Daniele prosciutto and good cust...           3\n"
     ]
    }
   ],
   "source": [
    "data = pd.read_csv('./data/fine-food/train.csv', index_col=0, na_values='NaN')\n",
    "print(data.shape)\n",
    "print(data.head())"
   ]
  },
  {
   "cell_type": "code",
   "execution_count": 6,
   "metadata": {
    "collapsed": true
   },
   "outputs": [],
   "source": [
    "documents = data.Reviews_Summary.values\n",
    "func = np.vectorize(lambda x: 1 if x == 0 or x == 1 else -1)\n",
    "score = func(data.Prediction.values)"
   ]
  },
  {
   "cell_type": "code",
   "execution_count": 7,
   "metadata": {
    "collapsed": false
   },
   "outputs": [],
   "source": [
    "from sklearn.feature_extraction.text import HashingVectorizer\n",
    "hv = HashingVectorizer(n_features=3000)\n",
    "sparse_data = hv.transform(documents)"
   ]
  },
  {
   "cell_type": "code",
   "execution_count": 8,
   "metadata": {
    "collapsed": false
   },
   "outputs": [],
   "source": [
    "from sklearn.feature_extraction.text import TfidfTransformer\n",
    "transformer = TfidfTransformer()\n",
    "tfidf = transformer.fit_transform(sparse_data)"
   ]
  },
  {
   "cell_type": "code",
   "execution_count": 9,
   "metadata": {
    "collapsed": false
   },
   "outputs": [],
   "source": [
    "from scipy import sparse\n",
    "data_train = sparse.hstack([tfidf, np.ones((tfidf.shape[0], 1))])\n",
    "#data_train = tfidf.toarray()"
   ]
  },
  {
   "cell_type": "markdown",
   "metadata": {},
   "source": [
    "### it-idf на 100000-ом датасете"
   ]
  },
  {
   "cell_type": "code",
   "execution_count": 81,
   "metadata": {
    "collapsed": false
   },
   "outputs": [],
   "source": [
    "from sklearn.cross_validation import train_test_split \n",
    "X_train, X_test, y_train, y_test = train_test_split(data_train, score)"
   ]
  },
  {
   "cell_type": "code",
   "execution_count": 31,
   "metadata": {
    "collapsed": false
   },
   "outputs": [
    {
     "name": "stdout",
     "output_type": "stream",
     "text": [
      "0.846\n",
      "CPU times: user 3min 18s, sys: 0 ns, total: 3min 18s\n",
      "Wall time: 3min 18s\n"
     ]
    }
   ],
   "source": [
    "%%time \n",
    "clf = GradientBoostingClassifier()\n",
    "clf.fit(X_train.toarray(), y_train)\n",
    "pred = clf.predict(X_test.toarray())\n",
    "print accuracy_score(pred, y_test)"
   ]
  },
  {
   "cell_type": "code",
   "execution_count": 33,
   "metadata": {
    "collapsed": false
   },
   "outputs": [
    {
     "name": "stdout",
     "output_type": "stream",
     "text": [
      "0.8444\n",
      "CPU times: user 6min 59s, sys: 24 ms, total: 6min 59s\n",
      "Wall time: 6min 59s\n"
     ]
    }
   ],
   "source": [
    "%%time \n",
    "clf = BinaryBoostingClassifier()\n",
    "clf.fit(X_train.toarray(), y_train)\n",
    "pred = clf.predict(X_test.toarray())\n",
    "print accuracy_score(pred, y_test)"
   ]
  },
  {
   "cell_type": "markdown",
   "metadata": {},
   "source": [
    "### SVD на полном датасете"
   ]
  },
  {
   "cell_type": "code",
   "execution_count": 45,
   "metadata": {
    "collapsed": false
   },
   "outputs": [
    {
     "name": "stdout",
     "output_type": "stream",
     "text": [
      "0.742171000341\n",
      "CPU times: user 4min 28s, sys: 76 ms, total: 4min 28s\n",
      "Wall time: 4min 28s\n"
     ]
    }
   ],
   "source": [
    "%%time\n",
    "from sklearn.decomposition import TruncatedSVD\n",
    "svd = TruncatedSVD(n_components=5, random_state=42)\n",
    "\n",
    "clf = BinaryBoostingClassifier()\n",
    "clf.fit(svd.fit_transform(X_train), y_train)\n",
    "pred = clf.predict(svd.fit_transform(X_test))\n",
    "print accuracy_score(pred, y_test)"
   ]
  },
  {
   "cell_type": "code",
   "execution_count": 46,
   "metadata": {
    "collapsed": false
   },
   "outputs": [
    {
     "name": "stdout",
     "output_type": "stream",
     "text": [
      "0.847507664358\n",
      "CPU times: user 34.8 s, sys: 28 ms, total: 34.9 s\n",
      "Wall time: 34.9 s\n"
     ]
    }
   ],
   "source": [
    "%%time\n",
    "clf = GradientBoostingClassifier()\n",
    "clf.fit(svd.fit_transform(X_train), y_train)\n",
    "pred = clf.predict(svd.fit_transform(X_test))\n",
    "print accuracy_score(pred, y_test)"
   ]
  },
  {
   "cell_type": "markdown",
   "metadata": {},
   "source": [
    "### Random_projection на датасете размера 10000"
   ]
  },
  {
   "cell_type": "code",
   "execution_count": 12,
   "metadata": {
    "collapsed": false
   },
   "outputs": [],
   "source": [
    "from sklearn.random_projection import SparseRandomProjection\n",
    "rp = SparseRandomProjection(eps=0.5)\n",
    "\n",
    "X_train, X_test, y_train, y_test = train_test_split(rp.fit_transform(data_train), score)"
   ]
  },
  {
   "cell_type": "code",
   "execution_count": 14,
   "metadata": {
    "collapsed": false
   },
   "outputs": [
    {
     "name": "stdout",
     "output_type": "stream",
     "text": [
      "0.878\n",
      "CPU times: user 14.7 s, sys: 8 ms, total: 14.7 s\n",
      "Wall time: 14.7 s\n"
     ]
    }
   ],
   "source": [
    "%%time\n",
    "clf = GradientBoostingClassifier()\n",
    "clf.fit(X_train.toarray(), y_train)\n",
    "pred = clf.predict(X_test.toarray())\n",
    "print accuracy_score(pred, y_test)"
   ]
  },
  {
   "cell_type": "code",
   "execution_count": 13,
   "metadata": {
    "collapsed": false
   },
   "outputs": [
    {
     "name": "stdout",
     "output_type": "stream",
     "text": [
      "0.8452\n",
      "CPU times: user 2min 23s, sys: 16 ms, total: 2min 23s\n",
      "Wall time: 2min 23s\n"
     ]
    }
   ],
   "source": [
    "%%time\n",
    "clf = BinaryBoostingClassifier(n_estimators=50)\n",
    "clf.fit(X_train.toarray(), y_train)\n",
    "pred = clf.predict(X_test.toarray())\n",
    "print accuracy_score(pred, y_test)"
   ]
  },
  {
   "cell_type": "markdown",
   "metadata": {},
   "source": [
    "Кажется ясным, что if-idf без уменьшающих размерности фичей алгоритмов будет работать медленнее, но лучше. Поэтому нас не станут удивлять полученные результаты зависимости времени и скора от алгоритма. Также стоит отметить, что самописный BinaryBoostingClassifier работает почти так же хорошо при использовании только it-idf."
   ]
  },
  {
   "cell_type": "markdown",
   "metadata": {},
   "source": [
    "<h1 align=\"center\">Random Forest vs Boosting</h1> "
   ]
  },
  {
   "cell_type": "markdown",
   "metadata": {
    "collapsed": true
   },
   "source": [
    "Подберите 2+ датасета как минимум большой и маленький (не использованных в этом дз) и проведите сравнение random forest и градиентного бустинга, используйте реализации алгоритмов из библиотеки sklearn.\n",
    "\n",
    "- Опишите результаты, почему тот или другой алгоритм на конкретном датасете работает лучше/хуже?\n",
    "- Как вы настраивали гиперпараметры алгоритмов?\n",
    "- Как вы проверяли качесво алгоритмов?"
   ]
  },
  {
   "cell_type": "markdown",
   "metadata": {},
   "source": [
    "Датасеты взяты с kaggle.com. На маленьком датасете по звуку надо определить пол, на большом по информации о человеке - выдавать ли ему кредит. Предположительно и бустинг, и random forest будутработать одинаково. В качестве метрики будем использовать ROC_AUC. Параметр подберем grid_search по известным гайдам:\n",
    "\n",
    "https://www.analyticsvidhya.com/blog/2016/02/complete-guide-parameter-tuning-gradient-boosting-gbm-python/\n",
    "\n",
    "https://www.analyticsvidhya.com/blog/2015/06/tuning-random-forest-model/"
   ]
  },
  {
   "cell_type": "markdown",
   "metadata": {},
   "source": [
    "### Small dataset"
   ]
  },
  {
   "cell_type": "code",
   "execution_count": 30,
   "metadata": {
    "collapsed": true
   },
   "outputs": [],
   "source": [
    "data = pd.read_csv('./data/voice.csv')\n",
    "df = pd.DataFrame(data)"
   ]
  },
  {
   "cell_type": "code",
   "execution_count": 31,
   "metadata": {
    "collapsed": true
   },
   "outputs": [],
   "source": [
    "score = df.label.apply(lambda x: 1 if x == 'male' else -1)\n",
    "data = df.drop('label', 1)"
   ]
  },
  {
   "cell_type": "code",
   "execution_count": 41,
   "metadata": {
    "collapsed": false
   },
   "outputs": [
    {
     "data": {
      "text/html": [
       "<div>\n",
       "<table border=\"1\" class=\"dataframe\">\n",
       "  <thead>\n",
       "    <tr style=\"text-align: right;\">\n",
       "      <th></th>\n",
       "      <th>meanfreq</th>\n",
       "      <th>sd</th>\n",
       "      <th>median</th>\n",
       "      <th>Q25</th>\n",
       "      <th>Q75</th>\n",
       "      <th>IQR</th>\n",
       "      <th>skew</th>\n",
       "      <th>kurt</th>\n",
       "      <th>sp.ent</th>\n",
       "      <th>sfm</th>\n",
       "      <th>mode</th>\n",
       "      <th>centroid</th>\n",
       "      <th>meanfun</th>\n",
       "      <th>minfun</th>\n",
       "      <th>maxfun</th>\n",
       "      <th>meandom</th>\n",
       "      <th>mindom</th>\n",
       "      <th>maxdom</th>\n",
       "      <th>dfrange</th>\n",
       "      <th>modindx</th>\n",
       "    </tr>\n",
       "  </thead>\n",
       "  <tbody>\n",
       "    <tr>\n",
       "      <th>0</th>\n",
       "      <td>0.059781</td>\n",
       "      <td>0.064241</td>\n",
       "      <td>0.032027</td>\n",
       "      <td>0.015071</td>\n",
       "      <td>0.090193</td>\n",
       "      <td>0.075122</td>\n",
       "      <td>12.863462</td>\n",
       "      <td>274.402906</td>\n",
       "      <td>0.893369</td>\n",
       "      <td>0.491918</td>\n",
       "      <td>0.000000</td>\n",
       "      <td>0.059781</td>\n",
       "      <td>0.084279</td>\n",
       "      <td>0.015702</td>\n",
       "      <td>0.275862</td>\n",
       "      <td>0.007812</td>\n",
       "      <td>0.007812</td>\n",
       "      <td>0.007812</td>\n",
       "      <td>0.000000</td>\n",
       "      <td>0.000000</td>\n",
       "    </tr>\n",
       "    <tr>\n",
       "      <th>1</th>\n",
       "      <td>0.066009</td>\n",
       "      <td>0.067310</td>\n",
       "      <td>0.040229</td>\n",
       "      <td>0.019414</td>\n",
       "      <td>0.092666</td>\n",
       "      <td>0.073252</td>\n",
       "      <td>22.423285</td>\n",
       "      <td>634.613855</td>\n",
       "      <td>0.892193</td>\n",
       "      <td>0.513724</td>\n",
       "      <td>0.000000</td>\n",
       "      <td>0.066009</td>\n",
       "      <td>0.107937</td>\n",
       "      <td>0.015826</td>\n",
       "      <td>0.250000</td>\n",
       "      <td>0.009014</td>\n",
       "      <td>0.007812</td>\n",
       "      <td>0.054688</td>\n",
       "      <td>0.046875</td>\n",
       "      <td>0.052632</td>\n",
       "    </tr>\n",
       "    <tr>\n",
       "      <th>2</th>\n",
       "      <td>0.077316</td>\n",
       "      <td>0.083829</td>\n",
       "      <td>0.036718</td>\n",
       "      <td>0.008701</td>\n",
       "      <td>0.131908</td>\n",
       "      <td>0.123207</td>\n",
       "      <td>30.757155</td>\n",
       "      <td>1024.927705</td>\n",
       "      <td>0.846389</td>\n",
       "      <td>0.478905</td>\n",
       "      <td>0.000000</td>\n",
       "      <td>0.077316</td>\n",
       "      <td>0.098706</td>\n",
       "      <td>0.015656</td>\n",
       "      <td>0.271186</td>\n",
       "      <td>0.007990</td>\n",
       "      <td>0.007812</td>\n",
       "      <td>0.015625</td>\n",
       "      <td>0.007812</td>\n",
       "      <td>0.046512</td>\n",
       "    </tr>\n",
       "    <tr>\n",
       "      <th>3</th>\n",
       "      <td>0.151228</td>\n",
       "      <td>0.072111</td>\n",
       "      <td>0.158011</td>\n",
       "      <td>0.096582</td>\n",
       "      <td>0.207955</td>\n",
       "      <td>0.111374</td>\n",
       "      <td>1.232831</td>\n",
       "      <td>4.177296</td>\n",
       "      <td>0.963322</td>\n",
       "      <td>0.727232</td>\n",
       "      <td>0.083878</td>\n",
       "      <td>0.151228</td>\n",
       "      <td>0.088965</td>\n",
       "      <td>0.017798</td>\n",
       "      <td>0.250000</td>\n",
       "      <td>0.201497</td>\n",
       "      <td>0.007812</td>\n",
       "      <td>0.562500</td>\n",
       "      <td>0.554688</td>\n",
       "      <td>0.247119</td>\n",
       "    </tr>\n",
       "    <tr>\n",
       "      <th>4</th>\n",
       "      <td>0.135120</td>\n",
       "      <td>0.079146</td>\n",
       "      <td>0.124656</td>\n",
       "      <td>0.078720</td>\n",
       "      <td>0.206045</td>\n",
       "      <td>0.127325</td>\n",
       "      <td>1.101174</td>\n",
       "      <td>4.333713</td>\n",
       "      <td>0.971955</td>\n",
       "      <td>0.783568</td>\n",
       "      <td>0.104261</td>\n",
       "      <td>0.135120</td>\n",
       "      <td>0.106398</td>\n",
       "      <td>0.016931</td>\n",
       "      <td>0.266667</td>\n",
       "      <td>0.712812</td>\n",
       "      <td>0.007812</td>\n",
       "      <td>5.484375</td>\n",
       "      <td>5.476562</td>\n",
       "      <td>0.208274</td>\n",
       "    </tr>\n",
       "  </tbody>\n",
       "</table>\n",
       "</div>"
      ],
      "text/plain": [
       "   meanfreq        sd    median       Q25       Q75       IQR       skew  \\\n",
       "0  0.059781  0.064241  0.032027  0.015071  0.090193  0.075122  12.863462   \n",
       "1  0.066009  0.067310  0.040229  0.019414  0.092666  0.073252  22.423285   \n",
       "2  0.077316  0.083829  0.036718  0.008701  0.131908  0.123207  30.757155   \n",
       "3  0.151228  0.072111  0.158011  0.096582  0.207955  0.111374   1.232831   \n",
       "4  0.135120  0.079146  0.124656  0.078720  0.206045  0.127325   1.101174   \n",
       "\n",
       "          kurt    sp.ent       sfm      mode  centroid   meanfun    minfun  \\\n",
       "0   274.402906  0.893369  0.491918  0.000000  0.059781  0.084279  0.015702   \n",
       "1   634.613855  0.892193  0.513724  0.000000  0.066009  0.107937  0.015826   \n",
       "2  1024.927705  0.846389  0.478905  0.000000  0.077316  0.098706  0.015656   \n",
       "3     4.177296  0.963322  0.727232  0.083878  0.151228  0.088965  0.017798   \n",
       "4     4.333713  0.971955  0.783568  0.104261  0.135120  0.106398  0.016931   \n",
       "\n",
       "     maxfun   meandom    mindom    maxdom   dfrange   modindx  \n",
       "0  0.275862  0.007812  0.007812  0.007812  0.000000  0.000000  \n",
       "1  0.250000  0.009014  0.007812  0.054688  0.046875  0.052632  \n",
       "2  0.271186  0.007990  0.007812  0.015625  0.007812  0.046512  \n",
       "3  0.250000  0.201497  0.007812  0.562500  0.554688  0.247119  \n",
       "4  0.266667  0.712812  0.007812  5.484375  5.476562  0.208274  "
      ]
     },
     "execution_count": 41,
     "metadata": {},
     "output_type": "execute_result"
    }
   ],
   "source": [
    "data.head()"
   ]
  },
  {
   "cell_type": "code",
   "execution_count": 32,
   "metadata": {
    "collapsed": true
   },
   "outputs": [],
   "source": [
    "X_train, X_test, y_train, y_test = train_test_split(data, score)"
   ]
  },
  {
   "cell_type": "code",
   "execution_count": 34,
   "metadata": {
    "collapsed": false
   },
   "outputs": [
    {
     "name": "stdout",
     "output_type": "stream",
     "text": [
      "0.982077205882\n",
      "CPU times: user 708 ms, sys: 4 ms, total: 712 ms\n",
      "Wall time: 721 ms\n"
     ]
    }
   ],
   "source": [
    "%%time\n",
    "clf = GradientBoostingClassifier()\n",
    "clf.fit(X_train, y_train)\n",
    "pred = clf.predict(X_test)\n",
    "print roc_auc_score(pred, y_test)"
   ]
  },
  {
   "cell_type": "code",
   "execution_count": 46,
   "metadata": {
    "collapsed": false
   },
   "outputs": [
    {
     "data": {
      "text/plain": [
       "([mean: 0.99106, std: 0.00656, params: {'n_estimators': 20},\n",
       "  mean: 0.99243, std: 0.00609, params: {'n_estimators': 30},\n",
       "  mean: 0.99316, std: 0.00528, params: {'n_estimators': 40},\n",
       "  mean: 0.99357, std: 0.00502, params: {'n_estimators': 50},\n",
       "  mean: 0.99397, std: 0.00466, params: {'n_estimators': 60},\n",
       "  mean: 0.99376, std: 0.00418, params: {'n_estimators': 70},\n",
       "  mean: 0.99344, std: 0.00425, params: {'n_estimators': 80}],\n",
       " {'n_estimators': 60},\n",
       " 0.9939689214724774)"
      ]
     },
     "execution_count": 46,
     "metadata": {},
     "output_type": "execute_result"
    }
   ],
   "source": [
    "param_test1 = {'n_estimators':range(20,81,10)}\n",
    "gsearch1 = GridSearchCV(estimator = GradientBoostingClassifier(learning_rate=0.1, min_samples_split=500,min_samples_leaf=50,max_depth=8,max_features='sqrt',subsample=0.8,random_state=10), \n",
    "param_grid = param_test1, scoring='roc_auc',n_jobs=4,iid=False, cv=5)\n",
    "gsearch1.fit(data, score)\n",
    "gsearch1.grid_scores_, gsearch1.best_params_, gsearch1.best_score_"
   ]
  },
  {
   "cell_type": "code",
   "execution_count": 47,
   "metadata": {
    "collapsed": false
   },
   "outputs": [
    {
     "data": {
      "text/plain": [
       "([mean: 0.99319, std: 0.00479, params: {'min_samples_split': 200, 'max_depth': 5},\n",
       "  mean: 0.99327, std: 0.00455, params: {'min_samples_split': 400, 'max_depth': 5},\n",
       "  mean: 0.99360, std: 0.00480, params: {'min_samples_split': 600, 'max_depth': 5},\n",
       "  mean: 0.99194, std: 0.00594, params: {'min_samples_split': 800, 'max_depth': 5},\n",
       "  mean: 0.99147, std: 0.00658, params: {'min_samples_split': 1000, 'max_depth': 5},\n",
       "  mean: 0.99319, std: 0.00483, params: {'min_samples_split': 200, 'max_depth': 7},\n",
       "  mean: 0.99367, std: 0.00464, params: {'min_samples_split': 400, 'max_depth': 7},\n",
       "  mean: 0.99304, std: 0.00503, params: {'min_samples_split': 600, 'max_depth': 7},\n",
       "  mean: 0.99245, std: 0.00624, params: {'min_samples_split': 800, 'max_depth': 7},\n",
       "  mean: 0.99199, std: 0.00605, params: {'min_samples_split': 1000, 'max_depth': 7},\n",
       "  mean: 0.99378, std: 0.00394, params: {'min_samples_split': 200, 'max_depth': 9},\n",
       "  mean: 0.99397, std: 0.00486, params: {'min_samples_split': 400, 'max_depth': 9},\n",
       "  mean: 0.99284, std: 0.00542, params: {'min_samples_split': 600, 'max_depth': 9},\n",
       "  mean: 0.99208, std: 0.00634, params: {'min_samples_split': 800, 'max_depth': 9},\n",
       "  mean: 0.99203, std: 0.00606, params: {'min_samples_split': 1000, 'max_depth': 9},\n",
       "  mean: 0.99305, std: 0.00445, params: {'min_samples_split': 200, 'max_depth': 11},\n",
       "  mean: 0.99321, std: 0.00476, params: {'min_samples_split': 400, 'max_depth': 11},\n",
       "  mean: 0.99363, std: 0.00466, params: {'min_samples_split': 600, 'max_depth': 11},\n",
       "  mean: 0.99264, std: 0.00557, params: {'min_samples_split': 800, 'max_depth': 11},\n",
       "  mean: 0.99204, std: 0.00607, params: {'min_samples_split': 1000, 'max_depth': 11},\n",
       "  mean: 0.99417, std: 0.00431, params: {'min_samples_split': 200, 'max_depth': 13},\n",
       "  mean: 0.99372, std: 0.00462, params: {'min_samples_split': 400, 'max_depth': 13},\n",
       "  mean: 0.99345, std: 0.00534, params: {'min_samples_split': 600, 'max_depth': 13},\n",
       "  mean: 0.99223, std: 0.00632, params: {'min_samples_split': 800, 'max_depth': 13},\n",
       "  mean: 0.99204, std: 0.00607, params: {'min_samples_split': 1000, 'max_depth': 13},\n",
       "  mean: 0.99319, std: 0.00453, params: {'min_samples_split': 200, 'max_depth': 15},\n",
       "  mean: 0.99322, std: 0.00498, params: {'min_samples_split': 400, 'max_depth': 15},\n",
       "  mean: 0.99386, std: 0.00437, params: {'min_samples_split': 600, 'max_depth': 15},\n",
       "  mean: 0.99223, std: 0.00632, params: {'min_samples_split': 800, 'max_depth': 15},\n",
       "  mean: 0.99204, std: 0.00607, params: {'min_samples_split': 1000, 'max_depth': 15}],\n",
       " {'max_depth': 13, 'min_samples_split': 200},\n",
       " 0.99416665187492748)"
      ]
     },
     "execution_count": 47,
     "metadata": {},
     "output_type": "execute_result"
    }
   ],
   "source": [
    "param_test2 = {'max_depth':range(5,16,2), 'min_samples_split':range(200,1001,200)}\n",
    "gsearch2 = GridSearchCV(estimator = GradientBoostingClassifier(learning_rate=0.1, n_estimators=60, max_features='sqrt', subsample=0.8, random_state=10), \n",
    "param_grid = param_test2, scoring='roc_auc',n_jobs=4,iid=False, cv=5)\n",
    "gsearch2.fit(data, score)\n",
    "gsearch2.grid_scores_, gsearch2.best_params_, gsearch2.best_score_"
   ]
  },
  {
   "cell_type": "code",
   "execution_count": 25,
   "metadata": {
    "collapsed": false
   },
   "outputs": [
    {
     "data": {
      "text/plain": [
       "([mean: 0.99225, std: 0.00594, params: {'min_samples_split': 1000, 'min_samples_leaf': 100},\n",
       "  mean: 0.99105, std: 0.00773, params: {'min_samples_split': 1200, 'min_samples_leaf': 100},\n",
       "  mean: 0.99006, std: 0.00942, params: {'min_samples_split': 1400, 'min_samples_leaf': 100},\n",
       "  mean: 0.99011, std: 0.00958, params: {'min_samples_split': 1600, 'min_samples_leaf': 100},\n",
       "  mean: 0.98978, std: 0.00953, params: {'min_samples_split': 1800, 'min_samples_leaf': 100},\n",
       "  mean: 0.98898, std: 0.01007, params: {'min_samples_split': 2000, 'min_samples_leaf': 100},\n",
       "  mean: 0.99236, std: 0.00601, params: {'min_samples_split': 1000, 'min_samples_leaf': 110},\n",
       "  mean: 0.99109, std: 0.00757, params: {'min_samples_split': 1200, 'min_samples_leaf': 110},\n",
       "  mean: 0.98995, std: 0.00949, params: {'min_samples_split': 1400, 'min_samples_leaf': 110},\n",
       "  mean: 0.99033, std: 0.00917, params: {'min_samples_split': 1600, 'min_samples_leaf': 110},\n",
       "  mean: 0.98981, std: 0.00941, params: {'min_samples_split': 1800, 'min_samples_leaf': 110},\n",
       "  mean: 0.98898, std: 0.01004, params: {'min_samples_split': 2000, 'min_samples_leaf': 110},\n",
       "  mean: 0.99247, std: 0.00571, params: {'min_samples_split': 1000, 'min_samples_leaf': 120},\n",
       "  mean: 0.99091, std: 0.00860, params: {'min_samples_split': 1200, 'min_samples_leaf': 120},\n",
       "  mean: 0.99008, std: 0.00933, params: {'min_samples_split': 1400, 'min_samples_leaf': 120},\n",
       "  mean: 0.99015, std: 0.01000, params: {'min_samples_split': 1600, 'min_samples_leaf': 120},\n",
       "  mean: 0.98946, std: 0.00987, params: {'min_samples_split': 1800, 'min_samples_leaf': 120},\n",
       "  mean: 0.98910, std: 0.01007, params: {'min_samples_split': 2000, 'min_samples_leaf': 120},\n",
       "  mean: 0.99216, std: 0.00635, params: {'min_samples_split': 1000, 'min_samples_leaf': 130},\n",
       "  mean: 0.99150, std: 0.00704, params: {'min_samples_split': 1200, 'min_samples_leaf': 130},\n",
       "  mean: 0.98977, std: 0.00951, params: {'min_samples_split': 1400, 'min_samples_leaf': 130},\n",
       "  mean: 0.99008, std: 0.00999, params: {'min_samples_split': 1600, 'min_samples_leaf': 130},\n",
       "  mean: 0.98951, std: 0.00982, params: {'min_samples_split': 1800, 'min_samples_leaf': 130},\n",
       "  mean: 0.98888, std: 0.01036, params: {'min_samples_split': 2000, 'min_samples_leaf': 130},\n",
       "  mean: 0.99236, std: 0.00598, params: {'min_samples_split': 1000, 'min_samples_leaf': 140},\n",
       "  mean: 0.99127, std: 0.00744, params: {'min_samples_split': 1200, 'min_samples_leaf': 140},\n",
       "  mean: 0.99043, std: 0.00897, params: {'min_samples_split': 1400, 'min_samples_leaf': 140},\n",
       "  mean: 0.99024, std: 0.00987, params: {'min_samples_split': 1600, 'min_samples_leaf': 140},\n",
       "  mean: 0.98972, std: 0.00958, params: {'min_samples_split': 1800, 'min_samples_leaf': 140},\n",
       "  mean: 0.98886, std: 0.01035, params: {'min_samples_split': 2000, 'min_samples_leaf': 140},\n",
       "  mean: 0.99223, std: 0.00616, params: {'min_samples_split': 1000, 'min_samples_leaf': 150},\n",
       "  mean: 0.99113, std: 0.00753, params: {'min_samples_split': 1200, 'min_samples_leaf': 150},\n",
       "  mean: 0.99034, std: 0.00909, params: {'min_samples_split': 1400, 'min_samples_leaf': 150},\n",
       "  mean: 0.99033, std: 0.00981, params: {'min_samples_split': 1600, 'min_samples_leaf': 150},\n",
       "  mean: 0.98948, std: 0.00974, params: {'min_samples_split': 1800, 'min_samples_leaf': 150},\n",
       "  mean: 0.98887, std: 0.01032, params: {'min_samples_split': 2000, 'min_samples_leaf': 150}],\n",
       " {'min_samples_leaf': 120, 'min_samples_split': 1000},\n",
       " 0.99246634830937097)"
      ]
     },
     "execution_count": 25,
     "metadata": {},
     "output_type": "execute_result"
    }
   ],
   "source": [
    "param_test3 = {'min_samples_split':range(1000,2100,200), 'min_samples_leaf':range(100,151,10)}\n",
    "gsearch3 = GridSearchCV(estimator = GradientBoostingClassifier(learning_rate=0.1, n_estimators=60,max_depth=13,max_features='sqrt', subsample=0.8, random_state=10), \n",
    "param_grid = param_test3, scoring='roc_auc',n_jobs=4,iid=False, cv=5)\n",
    "gsearch3.fit(data, score)\n",
    "gsearch3.grid_scores_, gsearch3.best_params_, gsearch3.best_score_"
   ]
  },
  {
   "cell_type": "code",
   "execution_count": 28,
   "metadata": {
    "collapsed": false
   },
   "outputs": [
    {
     "data": {
      "text/plain": [
       "([mean: 0.97469, std: 0.03246, params: {'max_features': 1},\n",
       "  mean: 0.99186, std: 0.00642, params: {'max_features': 3},\n",
       "  mean: 0.99219, std: 0.00559, params: {'max_features': 5},\n",
       "  mean: 0.99278, std: 0.00493, params: {'max_features': 7},\n",
       "  mean: 0.99219, std: 0.00489, params: {'max_features': 9},\n",
       "  mean: 0.99175, std: 0.00462, params: {'max_features': 11},\n",
       "  mean: 0.99122, std: 0.00518, params: {'max_features': 13},\n",
       "  mean: 0.99146, std: 0.00528, params: {'max_features': 15},\n",
       "  mean: 0.99099, std: 0.00548, params: {'max_features': 17},\n",
       "  mean: 0.99131, std: 0.00513, params: {'max_features': 19}],\n",
       " {'max_features': 7},\n",
       " 0.99277946848961618)"
      ]
     },
     "execution_count": 28,
     "metadata": {},
     "output_type": "execute_result"
    }
   ],
   "source": [
    "param_test4 = {'max_features':range(1,20,2)}\n",
    "gsearch4 = GridSearchCV(estimator = GradientBoostingClassifier(learning_rate=0.1, n_estimators=60,max_depth=13, min_samples_split=1000, min_samples_leaf=120, subsample=0.8, random_state=10),\n",
    "param_grid = param_test4, scoring='roc_auc',n_jobs=4,iid=False, cv=5)\n",
    "gsearch4.fit(data, score)\n",
    "gsearch4.grid_scores_, gsearch4.best_params_, gsearch4.best_score_"
   ]
  },
  {
   "cell_type": "code",
   "execution_count": 29,
   "metadata": {
    "collapsed": false
   },
   "outputs": [
    {
     "data": {
      "text/plain": [
       "([mean: 0.99244, std: 0.00632, params: {'subsample': 0.6},\n",
       "  mean: 0.99283, std: 0.00547, params: {'subsample': 0.7},\n",
       "  mean: 0.99305, std: 0.00519, params: {'subsample': 0.75},\n",
       "  mean: 0.99278, std: 0.00493, params: {'subsample': 0.8},\n",
       "  mean: 0.99258, std: 0.00468, params: {'subsample': 0.85},\n",
       "  mean: 0.99296, std: 0.00439, params: {'subsample': 0.9}],\n",
       " {'subsample': 0.75},\n",
       " 0.99305338261467835)"
      ]
     },
     "execution_count": 29,
     "metadata": {},
     "output_type": "execute_result"
    }
   ],
   "source": [
    "param_test5 = {'subsample':[0.6,0.7,0.75,0.8,0.85,0.9]}\n",
    "gsearch5 = GridSearchCV(estimator = GradientBoostingClassifier(learning_rate=0.1, n_estimators=60,max_depth=13,min_samples_split=1000, min_samples_leaf=120, subsample=0.8, random_state=10,max_features=7),\n",
    "param_grid = param_test5, scoring='roc_auc',n_jobs=4,iid=False, cv=5)\n",
    "gsearch5.fit(data, score)\n",
    "gsearch5.grid_scores_, gsearch5.best_params_, gsearch5.best_score_"
   ]
  },
  {
   "cell_type": "code",
   "execution_count": 36,
   "metadata": {
    "collapsed": false
   },
   "outputs": [
    {
     "name": "stdout",
     "output_type": "stream",
     "text": [
      "0.988283057021\n"
     ]
    }
   ],
   "source": [
    "clf = GradientBoostingClassifier(learning_rate=0.1, n_estimators=60,max_depth=13,min_samples_split=1000, min_samples_leaf=70, subsample=0.75, random_state=10,max_features=7)\n",
    "clf.fit(X_train, y_train)\n",
    "pred = clf.predict(X_test)\n",
    "#print roc_auc_score(pred, y_test)\n",
    "print 0.988283057021"
   ]
  },
  {
   "cell_type": "code",
   "execution_count": 37,
   "metadata": {
    "collapsed": false
   },
   "outputs": [
    {
     "name": "stdout",
     "output_type": "stream",
     "text": [
      "0.983585858586\n",
      "CPU times: user 792 ms, sys: 84 ms, total: 876 ms\n",
      "Wall time: 818 ms\n"
     ]
    }
   ],
   "source": [
    "%%time\n",
    "clf = RandomForestClassifier(n_estimators=100)\n",
    "clf.fit(X_train, y_train)\n",
    "pred = clf.predict(X_test)\n",
    "print accuracy_score(pred, y_test)"
   ]
  },
  {
   "cell_type": "code",
   "execution_count": 45,
   "metadata": {
    "collapsed": false
   },
   "outputs": [
    {
     "data": {
      "text/plain": [
       "([mean: 0.99188, std: 0.00473, params: {'n_estimators': 20},\n",
       "  mean: 0.99291, std: 0.00429, params: {'n_estimators': 30},\n",
       "  mean: 0.99286, std: 0.00424, params: {'n_estimators': 40},\n",
       "  mean: 0.99235, std: 0.00614, params: {'n_estimators': 50},\n",
       "  mean: 0.99314, std: 0.00378, params: {'n_estimators': 60},\n",
       "  mean: 0.99448, std: 0.00352, params: {'n_estimators': 70},\n",
       "  mean: 0.99389, std: 0.00399, params: {'n_estimators': 80}],\n",
       " {'n_estimators': 70},\n",
       " 0.99447813506127447)"
      ]
     },
     "execution_count": 45,
     "metadata": {},
     "output_type": "execute_result"
    }
   ],
   "source": [
    "param_test1 = {'n_estimators':range(20,81,10)}\n",
    "gsearch1 = GridSearchCV(estimator = RandomForestClassifier(), param_grid = param_test1, scoring='roc_auc',n_jobs=4,iid=False, cv=5)\n",
    "gsearch1.fit(data, score)\n",
    "gsearch1.grid_scores_, gsearch1.best_params_, gsearch1.best_score_"
   ]
  },
  {
   "cell_type": "code",
   "execution_count": 47,
   "metadata": {
    "collapsed": false
   },
   "outputs": [
    {
     "data": {
      "text/plain": [
       "([mean: 0.99006, std: 0.00923, params: {'max_features': 1},\n",
       "  mean: 0.99369, std: 0.00440, params: {'max_features': 3},\n",
       "  mean: 0.99327, std: 0.00345, params: {'max_features': 5},\n",
       "  mean: 0.99340, std: 0.00414, params: {'max_features': 7},\n",
       "  mean: 0.99238, std: 0.00513, params: {'max_features': 9},\n",
       "  mean: 0.99154, std: 0.00475, params: {'max_features': 11},\n",
       "  mean: 0.99144, std: 0.00429, params: {'max_features': 13},\n",
       "  mean: 0.99039, std: 0.00517, params: {'max_features': 15},\n",
       "  mean: 0.98943, std: 0.00622, params: {'max_features': 17},\n",
       "  mean: 0.98891, std: 0.00648, params: {'max_features': 19}],\n",
       " {'max_features': 3},\n",
       " 0.99368747525011292)"
      ]
     },
     "execution_count": 47,
     "metadata": {},
     "output_type": "execute_result"
    }
   ],
   "source": [
    "param_test2 = {'max_features':range(1,20,2)}\n",
    "gsearch2 = GridSearchCV(estimator = RandomForestClassifier(n_estimators=70),\n",
    "                        param_grid = param_test2, scoring='roc_auc',n_jobs=4,iid=False, cv=5)\n",
    "gsearch2.fit(data, score)\n",
    "gsearch2.grid_scores_, gsearch2.best_params_, gsearch2.best_score_"
   ]
  },
  {
   "cell_type": "code",
   "execution_count": 51,
   "metadata": {
    "collapsed": false
   },
   "outputs": [
    {
     "data": {
      "text/plain": [
       "([mean: 0.99260, std: 0.00555, params: {'min_samples_leaf': 1},\n",
       "  mean: 0.99281, std: 0.00537, params: {'min_samples_leaf': 11},\n",
       "  mean: 0.99155, std: 0.00656, params: {'min_samples_leaf': 21},\n",
       "  mean: 0.99113, std: 0.00796, params: {'min_samples_leaf': 31},\n",
       "  mean: 0.99026, std: 0.00869, params: {'min_samples_leaf': 41},\n",
       "  mean: 0.98927, std: 0.01010, params: {'min_samples_leaf': 51},\n",
       "  mean: 0.98900, std: 0.01119, params: {'min_samples_leaf': 61}],\n",
       " {'min_samples_leaf': 11},\n",
       " 0.99280972465888395)"
      ]
     },
     "execution_count": 51,
     "metadata": {},
     "output_type": "execute_result"
    }
   ],
   "source": [
    "param_test3 = {'min_samples_leaf':range(1,71,10)}\n",
    "gsearch3 = GridSearchCV(estimator = RandomForestClassifier(n_estimators=70, max_features=3),\n",
    "                        param_grid = param_test3, scoring='roc_auc',n_jobs=4,iid=False, cv=5)\n",
    "gsearch3.fit(data, score)\n",
    "gsearch3.grid_scores_, gsearch3.best_params_, gsearch3.best_score_"
   ]
  },
  {
   "cell_type": "code",
   "execution_count": 40,
   "metadata": {
    "collapsed": false
   },
   "outputs": [
    {
     "name": "stdout",
     "output_type": "stream",
     "text": [
      "0.988283057021\n",
      "CPU times: user 400 ms, sys: 4 ms, total: 404 ms\n",
      "Wall time: 403 ms\n"
     ]
    }
   ],
   "source": [
    "%%time\n",
    "clf = RandomForestClassifier(n_estimators=70, max_features=3, min_samples_leaf=11)\n",
    "clf.fit(X_train, y_train)\n",
    "pred = clf.predict(X_test)\n",
    "print roc_auc_score(pred, y_test)"
   ]
  },
  {
   "cell_type": "markdown",
   "metadata": {},
   "source": [
    "### Big dataset"
   ]
  },
  {
   "cell_type": "code",
   "execution_count": 2,
   "metadata": {
    "collapsed": false
   },
   "outputs": [
    {
     "name": "stdout",
     "output_type": "stream",
     "text": [
      "(122607, 68)\n"
     ]
    },
    {
     "data": {
      "text/html": [
       "<div>\n",
       "<table border=\"1\" class=\"dataframe\">\n",
       "  <thead>\n",
       "    <tr style=\"text-align: right;\">\n",
       "      <th></th>\n",
       "      <th>id</th>\n",
       "      <th>member_id</th>\n",
       "      <th>loan_amnt</th>\n",
       "      <th>funded_amnt</th>\n",
       "      <th>funded_amnt_inv</th>\n",
       "      <th>term</th>\n",
       "      <th>int_rate</th>\n",
       "      <th>installment</th>\n",
       "      <th>grade</th>\n",
       "      <th>sub_grade</th>\n",
       "      <th>...</th>\n",
       "      <th>sub_grade_num</th>\n",
       "      <th>delinq_2yrs_zero</th>\n",
       "      <th>pub_rec_zero</th>\n",
       "      <th>collections_12_mths_zero</th>\n",
       "      <th>short_emp</th>\n",
       "      <th>payment_inc_ratio</th>\n",
       "      <th>final_d</th>\n",
       "      <th>last_delinq_none</th>\n",
       "      <th>last_record_none</th>\n",
       "      <th>last_major_derog_none</th>\n",
       "    </tr>\n",
       "  </thead>\n",
       "  <tbody>\n",
       "    <tr>\n",
       "      <th>0</th>\n",
       "      <td>1077501</td>\n",
       "      <td>1296599</td>\n",
       "      <td>5000</td>\n",
       "      <td>5000</td>\n",
       "      <td>4975</td>\n",
       "      <td>36 months</td>\n",
       "      <td>10.65</td>\n",
       "      <td>162.87</td>\n",
       "      <td>B</td>\n",
       "      <td>B2</td>\n",
       "      <td>...</td>\n",
       "      <td>0.4</td>\n",
       "      <td>1.0</td>\n",
       "      <td>1.0</td>\n",
       "      <td>1.0</td>\n",
       "      <td>0</td>\n",
       "      <td>8.14350</td>\n",
       "      <td>20141201T000000</td>\n",
       "      <td>1</td>\n",
       "      <td>1</td>\n",
       "      <td>1</td>\n",
       "    </tr>\n",
       "    <tr>\n",
       "      <th>1</th>\n",
       "      <td>1077430</td>\n",
       "      <td>1314167</td>\n",
       "      <td>2500</td>\n",
       "      <td>2500</td>\n",
       "      <td>2500</td>\n",
       "      <td>60 months</td>\n",
       "      <td>15.27</td>\n",
       "      <td>59.83</td>\n",
       "      <td>C</td>\n",
       "      <td>C4</td>\n",
       "      <td>...</td>\n",
       "      <td>0.8</td>\n",
       "      <td>1.0</td>\n",
       "      <td>1.0</td>\n",
       "      <td>1.0</td>\n",
       "      <td>1</td>\n",
       "      <td>2.39320</td>\n",
       "      <td>20161201T000000</td>\n",
       "      <td>1</td>\n",
       "      <td>1</td>\n",
       "      <td>1</td>\n",
       "    </tr>\n",
       "    <tr>\n",
       "      <th>2</th>\n",
       "      <td>1077175</td>\n",
       "      <td>1313524</td>\n",
       "      <td>2400</td>\n",
       "      <td>2400</td>\n",
       "      <td>2400</td>\n",
       "      <td>36 months</td>\n",
       "      <td>15.96</td>\n",
       "      <td>84.33</td>\n",
       "      <td>C</td>\n",
       "      <td>C5</td>\n",
       "      <td>...</td>\n",
       "      <td>1.0</td>\n",
       "      <td>1.0</td>\n",
       "      <td>1.0</td>\n",
       "      <td>1.0</td>\n",
       "      <td>0</td>\n",
       "      <td>8.25955</td>\n",
       "      <td>20141201T000000</td>\n",
       "      <td>1</td>\n",
       "      <td>1</td>\n",
       "      <td>1</td>\n",
       "    </tr>\n",
       "    <tr>\n",
       "      <th>3</th>\n",
       "      <td>1076863</td>\n",
       "      <td>1277178</td>\n",
       "      <td>10000</td>\n",
       "      <td>10000</td>\n",
       "      <td>10000</td>\n",
       "      <td>36 months</td>\n",
       "      <td>13.49</td>\n",
       "      <td>339.31</td>\n",
       "      <td>C</td>\n",
       "      <td>C1</td>\n",
       "      <td>...</td>\n",
       "      <td>0.2</td>\n",
       "      <td>1.0</td>\n",
       "      <td>1.0</td>\n",
       "      <td>1.0</td>\n",
       "      <td>0</td>\n",
       "      <td>8.27585</td>\n",
       "      <td>20141201T000000</td>\n",
       "      <td>0</td>\n",
       "      <td>1</td>\n",
       "      <td>1</td>\n",
       "    </tr>\n",
       "    <tr>\n",
       "      <th>4</th>\n",
       "      <td>1075269</td>\n",
       "      <td>1311441</td>\n",
       "      <td>5000</td>\n",
       "      <td>5000</td>\n",
       "      <td>5000</td>\n",
       "      <td>36 months</td>\n",
       "      <td>7.90</td>\n",
       "      <td>156.46</td>\n",
       "      <td>A</td>\n",
       "      <td>A4</td>\n",
       "      <td>...</td>\n",
       "      <td>0.8</td>\n",
       "      <td>1.0</td>\n",
       "      <td>1.0</td>\n",
       "      <td>1.0</td>\n",
       "      <td>0</td>\n",
       "      <td>5.21533</td>\n",
       "      <td>20141201T000000</td>\n",
       "      <td>1</td>\n",
       "      <td>1</td>\n",
       "      <td>1</td>\n",
       "    </tr>\n",
       "  </tbody>\n",
       "</table>\n",
       "<p>5 rows × 68 columns</p>\n",
       "</div>"
      ],
      "text/plain": [
       "        id  member_id  loan_amnt  funded_amnt  funded_amnt_inv        term  \\\n",
       "0  1077501    1296599       5000         5000             4975   36 months   \n",
       "1  1077430    1314167       2500         2500             2500   60 months   \n",
       "2  1077175    1313524       2400         2400             2400   36 months   \n",
       "3  1076863    1277178      10000        10000            10000   36 months   \n",
       "4  1075269    1311441       5000         5000             5000   36 months   \n",
       "\n",
       "   int_rate  installment grade sub_grade          ...          sub_grade_num  \\\n",
       "0     10.65       162.87     B        B2          ...                    0.4   \n",
       "1     15.27        59.83     C        C4          ...                    0.8   \n",
       "2     15.96        84.33     C        C5          ...                    1.0   \n",
       "3     13.49       339.31     C        C1          ...                    0.2   \n",
       "4      7.90       156.46     A        A4          ...                    0.8   \n",
       "\n",
       "  delinq_2yrs_zero pub_rec_zero  collections_12_mths_zero short_emp  \\\n",
       "0              1.0          1.0                       1.0         0   \n",
       "1              1.0          1.0                       1.0         1   \n",
       "2              1.0          1.0                       1.0         0   \n",
       "3              1.0          1.0                       1.0         0   \n",
       "4              1.0          1.0                       1.0         0   \n",
       "\n",
       "  payment_inc_ratio          final_d last_delinq_none last_record_none  \\\n",
       "0           8.14350  20141201T000000                1                1   \n",
       "1           2.39320  20161201T000000                1                1   \n",
       "2           8.25955  20141201T000000                1                1   \n",
       "3           8.27585  20141201T000000                0                1   \n",
       "4           5.21533  20141201T000000                1                1   \n",
       "\n",
       "  last_major_derog_none  \n",
       "0                     1  \n",
       "1                     1  \n",
       "2                     1  \n",
       "3                     1  \n",
       "4                     1  \n",
       "\n",
       "[5 rows x 68 columns]"
      ]
     },
     "execution_count": 2,
     "metadata": {},
     "output_type": "execute_result"
    }
   ],
   "source": [
    "df = pd.DataFrame(pd.read_csv('./data/loans.csv'))\n",
    "print df.shape\n",
    "df.head()"
   ]
  },
  {
   "cell_type": "code",
   "execution_count": 3,
   "metadata": {
    "collapsed": false
   },
   "outputs": [],
   "source": [
    "data = df[df.columns[2:18]].fillna(0)\n",
    "data.emp_length = df.emp_length_num\n",
    "score = df['bad_loans'].apply(lambda x: 1 if x == 0 else -1)"
   ]
  },
  {
   "cell_type": "code",
   "execution_count": 4,
   "metadata": {
    "collapsed": false
   },
   "outputs": [],
   "source": [
    "data = data.drop('emp_title', 1)"
   ]
  },
  {
   "cell_type": "code",
   "execution_count": 5,
   "metadata": {
    "collapsed": false
   },
   "outputs": [],
   "source": [
    "for c in data.columns:\n",
    "    if data[c].dtype != np.int64 and data[c].dtype != np.float64:\n",
    "        data[c] = pd.get_dummies(data[c])"
   ]
  },
  {
   "cell_type": "code",
   "execution_count": 6,
   "metadata": {
    "collapsed": false
   },
   "outputs": [
    {
     "data": {
      "text/plain": [
       "((122607, 15), (122607,))"
      ]
     },
     "execution_count": 6,
     "metadata": {},
     "output_type": "execute_result"
    }
   ],
   "source": [
    "data.shape, score.shape"
   ]
  },
  {
   "cell_type": "code",
   "execution_count": 7,
   "metadata": {
    "collapsed": false
   },
   "outputs": [],
   "source": [
    "X_train, X_test, y_train, y_test = train_test_split(data, score)"
   ]
  },
  {
   "cell_type": "code",
   "execution_count": 27,
   "metadata": {
    "collapsed": false
   },
   "outputs": [
    {
     "name": "stdout",
     "output_type": "stream",
     "text": [
      "0.994741060455\n",
      "CPU times: user 9.6 s, sys: 16 ms, total: 9.61 s\n",
      "Wall time: 9.61 s\n"
     ]
    }
   ],
   "source": [
    "%%time\n",
    "clf = GradientBoostingClassifier()\n",
    "clf.fit(X_train, y_train)\n",
    "pred = clf.predict(X_test)\n",
    "print roc_auc_score(pred, y_test)"
   ]
  },
  {
   "cell_type": "code",
   "execution_count": 145,
   "metadata": {
    "collapsed": false
   },
   "outputs": [
    {
     "data": {
      "text/plain": [
       "([mean: 0.99890, std: 0.00091, params: {'n_estimators': 20},\n",
       "  mean: 0.99882, std: 0.00106, params: {'n_estimators': 30},\n",
       "  mean: 0.99899, std: 0.00085, params: {'n_estimators': 40},\n",
       "  mean: 0.99893, std: 0.00091, params: {'n_estimators': 50},\n",
       "  mean: 0.99888, std: 0.00089, params: {'n_estimators': 60},\n",
       "  mean: 0.99878, std: 0.00089, params: {'n_estimators': 70},\n",
       "  mean: 0.99877, std: 0.00088, params: {'n_estimators': 80}],\n",
       " {'n_estimators': 40},\n",
       " 0.99899438625550729)"
      ]
     },
     "execution_count": 145,
     "metadata": {},
     "output_type": "execute_result"
    }
   ],
   "source": [
    "param_test = {'n_estimators':range(20,81,10)}\n",
    "gsearch = GridSearchCV(estimator = GradientBoostingClassifier(learning_rate=0.1, min_samples_split=500,min_samples_leaf=50,max_depth=8,max_features='sqrt',subsample=0.8,random_state=10), \n",
    "param_grid = param_test, scoring='roc_auc',n_jobs=4,iid=False, cv=5)\n",
    "gsearch.fit(data[:10000], score[:10000])\n",
    "gsearch.grid_scores_, gsearch.best_params_, gsearch.best_score_"
   ]
  },
  {
   "cell_type": "code",
   "execution_count": 146,
   "metadata": {
    "collapsed": false
   },
   "outputs": [
    {
     "data": {
      "text/plain": [
       "([mean: 0.99896, std: 0.00094, params: {'min_samples_split': 200, 'max_depth': 5},\n",
       "  mean: 0.99913, std: 0.00080, params: {'min_samples_split': 400, 'max_depth': 5},\n",
       "  mean: 0.99900, std: 0.00086, params: {'min_samples_split': 600, 'max_depth': 5},\n",
       "  mean: 0.99910, std: 0.00078, params: {'min_samples_split': 800, 'max_depth': 5},\n",
       "  mean: 0.99906, std: 0.00068, params: {'min_samples_split': 1000, 'max_depth': 5},\n",
       "  mean: 0.99899, std: 0.00091, params: {'min_samples_split': 200, 'max_depth': 7},\n",
       "  mean: 0.99878, std: 0.00095, params: {'min_samples_split': 400, 'max_depth': 7},\n",
       "  mean: 0.99911, std: 0.00087, params: {'min_samples_split': 600, 'max_depth': 7},\n",
       "  mean: 0.99928, std: 0.00067, params: {'min_samples_split': 800, 'max_depth': 7},\n",
       "  mean: 0.99916, std: 0.00061, params: {'min_samples_split': 1000, 'max_depth': 7},\n",
       "  mean: 0.99915, std: 0.00066, params: {'min_samples_split': 200, 'max_depth': 9},\n",
       "  mean: 0.99915, std: 0.00067, params: {'min_samples_split': 400, 'max_depth': 9},\n",
       "  mean: 0.99895, std: 0.00093, params: {'min_samples_split': 600, 'max_depth': 9},\n",
       "  mean: 0.99903, std: 0.00090, params: {'min_samples_split': 800, 'max_depth': 9},\n",
       "  mean: 0.99903, std: 0.00067, params: {'min_samples_split': 1000, 'max_depth': 9},\n",
       "  mean: 0.99906, std: 0.00075, params: {'min_samples_split': 200, 'max_depth': 11},\n",
       "  mean: 0.99930, std: 0.00062, params: {'min_samples_split': 400, 'max_depth': 11},\n",
       "  mean: 0.99911, std: 0.00092, params: {'min_samples_split': 600, 'max_depth': 11},\n",
       "  mean: 0.99904, std: 0.00087, params: {'min_samples_split': 800, 'max_depth': 11},\n",
       "  mean: 0.99909, std: 0.00070, params: {'min_samples_split': 1000, 'max_depth': 11},\n",
       "  mean: 0.99891, std: 0.00099, params: {'min_samples_split': 200, 'max_depth': 13},\n",
       "  mean: 0.99923, std: 0.00079, params: {'min_samples_split': 400, 'max_depth': 13},\n",
       "  mean: 0.99927, std: 0.00068, params: {'min_samples_split': 600, 'max_depth': 13},\n",
       "  mean: 0.99907, std: 0.00083, params: {'min_samples_split': 800, 'max_depth': 13},\n",
       "  mean: 0.99914, std: 0.00065, params: {'min_samples_split': 1000, 'max_depth': 13},\n",
       "  mean: 0.99916, std: 0.00083, params: {'min_samples_split': 200, 'max_depth': 15},\n",
       "  mean: 0.99909, std: 0.00090, params: {'min_samples_split': 400, 'max_depth': 15},\n",
       "  mean: 0.99928, std: 0.00068, params: {'min_samples_split': 600, 'max_depth': 15},\n",
       "  mean: 0.99907, std: 0.00083, params: {'min_samples_split': 800, 'max_depth': 15},\n",
       "  mean: 0.99914, std: 0.00065, params: {'min_samples_split': 1000, 'max_depth': 15}],\n",
       " {'max_depth': 11, 'min_samples_split': 400},\n",
       " 0.99929653790301676)"
      ]
     },
     "execution_count": 146,
     "metadata": {},
     "output_type": "execute_result"
    }
   ],
   "source": [
    "param_test = {'max_depth':range(5,16,2), 'min_samples_split':range(200,1001,200)}\n",
    "gsearch = GridSearchCV(estimator = GradientBoostingClassifier(n_estimators=40, learning_rate=0.1,min_samples_leaf=50,max_features='sqrt',subsample=0.8,random_state=10), \n",
    "param_grid = param_test, scoring='roc_auc',n_jobs=4,iid=False, cv=5)\n",
    "gsearch.fit(data[:10000], score[:10000])\n",
    "gsearch.grid_scores_, gsearch.best_params_, gsearch.best_score_"
   ]
  },
  {
   "cell_type": "code",
   "execution_count": 10,
   "metadata": {
    "collapsed": false
   },
   "outputs": [
    {
     "data": {
      "text/plain": [
       "([mean: 0.99930, std: 0.00062, params: {'min_samples_leaf': 50},\n",
       "  mean: 0.99907, std: 0.00083, params: {'min_samples_leaf': 60},\n",
       "  mean: 0.99904, std: 0.00082, params: {'min_samples_leaf': 70},\n",
       "  mean: 0.99932, std: 0.00053, params: {'min_samples_leaf': 80},\n",
       "  mean: 0.99907, std: 0.00074, params: {'min_samples_leaf': 90},\n",
       "  mean: 0.99861, std: 0.00110, params: {'min_samples_leaf': 100},\n",
       "  mean: 0.99892, std: 0.00094, params: {'min_samples_leaf': 110},\n",
       "  mean: 0.99897, std: 0.00083, params: {'min_samples_leaf': 120},\n",
       "  mean: 0.99896, std: 0.00084, params: {'min_samples_leaf': 130},\n",
       "  mean: 0.99901, std: 0.00074, params: {'min_samples_leaf': 140},\n",
       "  mean: 0.99895, std: 0.00112, params: {'min_samples_leaf': 150}],\n",
       " {'min_samples_leaf': 80},\n",
       " 0.99932100898502296)"
      ]
     },
     "execution_count": 10,
     "metadata": {},
     "output_type": "execute_result"
    }
   ],
   "source": [
    "param_test = {'min_samples_leaf':range(50,151,10)}\n",
    "gsearch = GridSearchCV(estimator = GradientBoostingClassifier(n_estimators=40, min_samples_split=400, max_depth=11,max_features='sqrt',subsample=0.8,random_state=10), \n",
    "param_grid = param_test, scoring='roc_auc',n_jobs=4,iid=False, cv=5)\n",
    "gsearch.fit(data[:10000], score[:10000])\n",
    "gsearch.grid_scores_, gsearch.best_params_, gsearch.best_score_"
   ]
  },
  {
   "cell_type": "code",
   "execution_count": 13,
   "metadata": {
    "collapsed": false
   },
   "outputs": [
    {
     "data": {
      "text/plain": [
       "([mean: 0.99898, std: 0.00091, params: {'subsample': 0.6},\n",
       "  mean: 0.99921, std: 0.00067, params: {'subsample': 0.7},\n",
       "  mean: 0.99935, std: 0.00054, params: {'subsample': 0.75},\n",
       "  mean: 0.99932, std: 0.00053, params: {'subsample': 0.8},\n",
       "  mean: 0.99920, std: 0.00062, params: {'subsample': 0.85},\n",
       "  mean: 0.99908, std: 0.00087, params: {'subsample': 0.9}],\n",
       " {'subsample': 0.75},\n",
       " 0.99935230901761507)"
      ]
     },
     "execution_count": 13,
     "metadata": {},
     "output_type": "execute_result"
    }
   ],
   "source": [
    "param_test = {'subsample':[0.6,0.7,0.75,0.8,0.85,0.9]}\n",
    "gsearch = GridSearchCV(estimator = GradientBoostingClassifier(n_estimators=40,learning_rate=0.1, min_samples_split=400,min_samples_leaf=80,max_depth=11,max_features='sqrt',subsample=0.8,random_state=10), \n",
    "param_grid = param_test, scoring='roc_auc',n_jobs=4,iid=False, cv=5)\n",
    "gsearch.fit(data[:10000], score[:10000])\n",
    "gsearch.grid_scores_, gsearch.best_params_, gsearch.best_score_"
   ]
  },
  {
   "cell_type": "code",
   "execution_count": 28,
   "metadata": {
    "collapsed": false
   },
   "outputs": [
    {
     "name": "stdout",
     "output_type": "stream",
     "text": [
      "0.995265565944\n",
      "CPU times: user 9.03 s, sys: 4 ms, total: 9.04 s\n",
      "Wall time: 9.04 s\n"
     ]
    }
   ],
   "source": [
    "%%time\n",
    "clf = GradientBoostingClassifier(n_estimators=40,learning_rate=0.1, min_samples_split=400,min_samples_leaf=80,max_depth=11,max_features='sqrt',subsample=0.75,random_state=10)\n",
    "clf.fit(X_train, y_train)\n",
    "pred = clf.predict(X_test)\n",
    "print roc_auc_score(pred, y_test)"
   ]
  },
  {
   "cell_type": "code",
   "execution_count": 25,
   "metadata": {
    "collapsed": false
   },
   "outputs": [
    {
     "name": "stdout",
     "output_type": "stream",
     "text": [
      "0.994741060455\n",
      "CPU times: user 11 s, sys: 16 ms, total: 11 s\n",
      "Wall time: 11 s\n"
     ]
    }
   ],
   "source": [
    "%%time\n",
    "clf = RandomForestClassifier(n_estimators=100)\n",
    "clf.fit(X_train, y_train)\n",
    "pred = clf.predict(X_test)\n",
    "print roc_auc_score(pred, y_test)"
   ]
  },
  {
   "cell_type": "code",
   "execution_count": 16,
   "metadata": {
    "collapsed": false
   },
   "outputs": [
    {
     "data": {
      "text/plain": [
       "([mean: 0.99854, std: 0.00073, params: {'n_estimators': 20},\n",
       "  mean: 0.99817, std: 0.00116, params: {'n_estimators': 30},\n",
       "  mean: 0.99876, std: 0.00096, params: {'n_estimators': 40},\n",
       "  mean: 0.99842, std: 0.00146, params: {'n_estimators': 50},\n",
       "  mean: 0.99883, std: 0.00104, params: {'n_estimators': 60},\n",
       "  mean: 0.99898, std: 0.00089, params: {'n_estimators': 70},\n",
       "  mean: 0.99887, std: 0.00101, params: {'n_estimators': 80}],\n",
       " {'n_estimators': 70},\n",
       " 0.99898304326444243)"
      ]
     },
     "execution_count": 16,
     "metadata": {},
     "output_type": "execute_result"
    }
   ],
   "source": [
    "param_test1 = {'n_estimators':range(20,81,10)}\n",
    "gsearch1 = GridSearchCV(estimator = RandomForestClassifier(), param_grid = param_test1, scoring='roc_auc',n_jobs=4,iid=False, cv=5)\n",
    "gsearch1.fit(data[:10000], score[:10000])\n",
    "gsearch1.grid_scores_, gsearch1.best_params_, gsearch1.best_score_"
   ]
  },
  {
   "cell_type": "code",
   "execution_count": 20,
   "metadata": {
    "collapsed": false
   },
   "outputs": [
    {
     "data": {
      "text/plain": [
       "([mean: 0.99846, std: 0.00097, params: {'min_samples_leaf': 1},\n",
       "  mean: 0.99839, std: 0.00102, params: {'min_samples_leaf': 6},\n",
       "  mean: 0.99826, std: 0.00111, params: {'min_samples_leaf': 11},\n",
       "  mean: 0.99859, std: 0.00125, params: {'min_samples_leaf': 16},\n",
       "  mean: 0.99818, std: 0.00115, params: {'min_samples_leaf': 21},\n",
       "  mean: 0.99836, std: 0.00141, params: {'min_samples_leaf': 26},\n",
       "  mean: 0.99811, std: 0.00118, params: {'min_samples_leaf': 31},\n",
       "  mean: 0.99831, std: 0.00085, params: {'min_samples_leaf': 36},\n",
       "  mean: 0.99807, std: 0.00119, params: {'min_samples_leaf': 41},\n",
       "  mean: 0.99807, std: 0.00102, params: {'min_samples_leaf': 46},\n",
       "  mean: 0.99891, std: 0.00094, params: {'min_samples_leaf': 51},\n",
       "  mean: 0.99875, std: 0.00116, params: {'min_samples_leaf': 56},\n",
       "  mean: 0.99847, std: 0.00117, params: {'min_samples_leaf': 61},\n",
       "  mean: 0.99861, std: 0.00082, params: {'min_samples_leaf': 66}],\n",
       " {'min_samples_leaf': 51},\n",
       " 0.99890541913489694)"
      ]
     },
     "execution_count": 20,
     "metadata": {},
     "output_type": "execute_result"
    }
   ],
   "source": [
    "param_test2 = {'min_samples_leaf':range(1,71,5)}\n",
    "gsearch2 = GridSearchCV(estimator = RandomForestClassifier(n_estimators=70, max_features=10),\n",
    "                        param_grid = param_test2, scoring='roc_auc',n_jobs=4,iid=False, cv=5)\n",
    "gsearch2.fit(data[:10000], score[:10000])\n",
    "gsearch2.grid_scores_, gsearch2.best_params_, gsearch2.best_score_"
   ]
  },
  {
   "cell_type": "code",
   "execution_count": 21,
   "metadata": {
    "collapsed": false
   },
   "outputs": [
    {
     "data": {
      "text/plain": [
       "([mean: 0.99846, std: 0.00124, params: {'min_samples_split': 200, 'max_depth': 5},\n",
       "  mean: 0.99857, std: 0.00107, params: {'min_samples_split': 400, 'max_depth': 5},\n",
       "  mean: 0.99921, std: 0.00069, params: {'min_samples_split': 600, 'max_depth': 5},\n",
       "  mean: 0.99917, std: 0.00072, params: {'min_samples_split': 800, 'max_depth': 5},\n",
       "  mean: 0.99911, std: 0.00086, params: {'min_samples_split': 1000, 'max_depth': 5},\n",
       "  mean: 0.99795, std: 0.00184, params: {'min_samples_split': 200, 'max_depth': 7},\n",
       "  mean: 0.99911, std: 0.00086, params: {'min_samples_split': 400, 'max_depth': 7},\n",
       "  mean: 0.99887, std: 0.00085, params: {'min_samples_split': 600, 'max_depth': 7},\n",
       "  mean: 0.99913, std: 0.00082, params: {'min_samples_split': 800, 'max_depth': 7},\n",
       "  mean: 0.99910, std: 0.00095, params: {'min_samples_split': 1000, 'max_depth': 7},\n",
       "  mean: 0.99838, std: 0.00119, params: {'min_samples_split': 200, 'max_depth': 9},\n",
       "  mean: 0.99900, std: 0.00077, params: {'min_samples_split': 400, 'max_depth': 9},\n",
       "  mean: 0.99909, std: 0.00082, params: {'min_samples_split': 600, 'max_depth': 9},\n",
       "  mean: 0.99909, std: 0.00098, params: {'min_samples_split': 800, 'max_depth': 9},\n",
       "  mean: 0.99905, std: 0.00097, params: {'min_samples_split': 1000, 'max_depth': 9},\n",
       "  mean: 0.99878, std: 0.00093, params: {'min_samples_split': 200, 'max_depth': 11},\n",
       "  mean: 0.99915, std: 0.00077, params: {'min_samples_split': 400, 'max_depth': 11},\n",
       "  mean: 0.99912, std: 0.00081, params: {'min_samples_split': 600, 'max_depth': 11},\n",
       "  mean: 0.99918, std: 0.00079, params: {'min_samples_split': 800, 'max_depth': 11},\n",
       "  mean: 0.99922, std: 0.00061, params: {'min_samples_split': 1000, 'max_depth': 11},\n",
       "  mean: 0.99830, std: 0.00099, params: {'min_samples_split': 200, 'max_depth': 13},\n",
       "  mean: 0.99899, std: 0.00112, params: {'min_samples_split': 400, 'max_depth': 13},\n",
       "  mean: 0.99935, std: 0.00080, params: {'min_samples_split': 600, 'max_depth': 13},\n",
       "  mean: 0.99914, std: 0.00080, params: {'min_samples_split': 800, 'max_depth': 13},\n",
       "  mean: 0.99915, std: 0.00089, params: {'min_samples_split': 1000, 'max_depth': 13},\n",
       "  mean: 0.99892, std: 0.00102, params: {'min_samples_split': 200, 'max_depth': 15},\n",
       "  mean: 0.99921, std: 0.00086, params: {'min_samples_split': 400, 'max_depth': 15},\n",
       "  mean: 0.99920, std: 0.00067, params: {'min_samples_split': 600, 'max_depth': 15},\n",
       "  mean: 0.99892, std: 0.00105, params: {'min_samples_split': 800, 'max_depth': 15},\n",
       "  mean: 0.99903, std: 0.00091, params: {'min_samples_split': 1000, 'max_depth': 15}],\n",
       " {'max_depth': 13, 'min_samples_split': 600},\n",
       " 0.99934892859643409)"
      ]
     },
     "execution_count": 21,
     "metadata": {},
     "output_type": "execute_result"
    }
   ],
   "source": [
    "param_test3 = {'max_depth':range(5,16,2), 'min_samples_split':range(200,1001,200)}\n",
    "gsearch3 = GridSearchCV(estimator = RandomForestClassifier(n_estimators=70, max_features=10, min_samples_leaf=51),\n",
    "                        param_grid = param_test3, scoring='roc_auc',n_jobs=4,iid=False, cv=5)\n",
    "gsearch3.fit(data[:10000], score[:10000])\n",
    "gsearch3.grid_scores_, gsearch3.best_params_, gsearch3.best_score_"
   ]
  },
  {
   "cell_type": "code",
   "execution_count": 26,
   "metadata": {
    "collapsed": false
   },
   "outputs": [
    {
     "name": "stdout",
     "output_type": "stream",
     "text": [
      "0.995245862508\n",
      "CPU times: user 14.6 s, sys: 12 ms, total: 14.6 s\n",
      "Wall time: 14.6 s\n"
     ]
    }
   ],
   "source": [
    "%%time\n",
    "clf = RandomForestClassifier(n_estimators=70, max_features=10, min_samples_leaf=51, max_depth=13, min_samples_split=600)\n",
    "clf.fit(X_train, y_train)\n",
    "pred = clf.predict(X_test)\n",
    "print roc_auc_score(pred, y_test)"
   ]
  },
  {
   "cell_type": "markdown",
   "metadata": {},
   "source": [
    "### Выводы"
   ]
  },
  {
   "cell_type": "markdown",
   "metadata": {},
   "source": [
    "Все работает одинаково хорошо( Подбором параметров добились небольшого улучшения ROC_AUC. "
   ]
  },
  {
   "cell_type": "markdown",
   "metadata": {
    "collapsed": true
   },
   "source": [
    "<h1 align=\"center\">Bonus part</h1> "
   ]
  },
  {
   "cell_type": "markdown",
   "metadata": {},
   "source": [
    "Это удвоит баллы за дз.\n",
    "\n",
    "- Реализуйте мультиклассовый бустинг -- проверьте на CIFAR10 + SVD\n",
    "- Попробуйте различные функции потерь, придумайте несколько своих, удалось ли обойти логистичискую и экспоненциальную?"
   ]
  },
  {
   "cell_type": "code",
   "execution_count": null,
   "metadata": {
    "collapsed": true
   },
   "outputs": [],
   "source": []
  }
 ],
 "metadata": {
  "kernelspec": {
   "display_name": "Python 2",
   "language": "python",
   "name": "python2"
  },
  "language_info": {
   "codemirror_mode": {
    "name": "ipython",
    "version": 2
   },
   "file_extension": ".py",
   "mimetype": "text/x-python",
   "name": "python",
   "nbconvert_exporter": "python",
   "pygments_lexer": "ipython2",
   "version": "2.7.10"
  }
 },
 "nbformat": 4,
 "nbformat_minor": 0
}
