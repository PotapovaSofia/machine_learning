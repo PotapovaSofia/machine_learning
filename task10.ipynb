{
 "cells": [
  {
   "cell_type": "markdown",
   "metadata": {},
   "source": [
    "## Домашнее здание №2 / Link Prediction\n",
    "\n",
    "### Фамилия Имя / Группа\n",
    "\n",
    "----\n",
    "План выполнения домашнего задания:\n",
    "\n",
    "1. Краткий обзор исходных данных\n",
    "2. Генерация дополнительных данных\n",
    "3. Создание матрицы признаков для ребер\n",
    "4. Настройка модели и валидация качества модели\n",
    "5. Отправка результатов в контест на Kaggle"
   ]
  },
  {
   "cell_type": "markdown",
   "metadata": {},
   "source": [
    "----\n",
    "\n",
    "В данном домашнем задании вам предстоит построить классификатор, который бы предсказывал наличие или отсутствия ребра в графе между двумя вершинами. Никакой дополнительной информации о вершинах, кроме ее соседей нет, поэтому вам придется создавать вектор признаков для каждой пары вершин на основе топологии графа.\n",
    "\n",
    "Вершины графа - товары интернет магазина, наличие ребра символизируют о высокой частоте совместной покупки данных товаров вместе. Например если в нашем графе присутствую вершины молоко и хлеб и данные товары часто покупаются вместе, то между данными вершинами будет ребро. Если в нашем графе есть вершины молоко и кроссовки, то между данными вершинами ребра не будет. \n",
    "\n",
    "В данном датасете уровень относительной частоты по которому решается есть ребро между вершинами или его нет был определен за нас. Сам датасет был получен краулингом сайта Amazon.com в марте 2003 года, парсилась секция \"Люди которые купили данный продукт, также преобретали это...\"\n",
    "\n",
    "Мотивация данного задания: Расширить список блока рекомендаций, за счет товаров которые с высокой вероятность могут оказаться в одной корзине покупателя.\n",
    "\n",
    "----\n",
    "Для создания модели и работы с данными мы будем использовать пакет GraphLab, структуры данных SFrame и SGraph идеально подходят для работы с графами. Распределенное хранение данных и применения функций для расчета метрик отдельных вершин сильно облегчают работу с графом.\n",
    "\n",
    "Библиотека платная, но лицензия для академических целей получается в течении 5 минут, чтобы установить пакет следуйте шагам на сайте - https://turi.com/download/academic.html\n",
    "\n",
    "----"
   ]
  },
  {
   "cell_type": "markdown",
   "metadata": {},
   "source": [
    "Описание файлов:\n",
    "\n",
    "1. the_graph.csv - файл содержащий ребра графа, две колонки: src,dst \n",
    "2. suspicions.csv - файл с ребрами, графа. Для данных ребер неизвестно присутствует ли оно в графе или нет.\n",
    "\n",
    "Описание целевой метрики - в качестве целевой метрики будем использовать ROC AUC http://mlwiki.org/index.php/ROC_Analysis"
   ]
  },
  {
   "cell_type": "markdown",
   "metadata": {},
   "source": [
    "----"
   ]
  },
  {
   "cell_type": "code",
   "execution_count": 1,
   "metadata": {
    "collapsed": false,
    "scrolled": false
   },
   "outputs": [],
   "source": [
    "import graphlab as gl"
   ]
  },
  {
   "cell_type": "code",
   "execution_count": 2,
   "metadata": {
    "collapsed": false,
    "scrolled": true
   },
   "outputs": [],
   "source": [
    "import numpy as np\n",
    "import pandas as pd\n",
    "\n",
    "gl.canvas.set_target('ipynb')"
   ]
  },
  {
   "cell_type": "markdown",
   "metadata": {},
   "source": [
    "### 1. Краткий обзор исходных данных - 10 Баллов\n",
    "\n",
    "Загрузим данные, найдем ряд базовых статистик:\n",
    "\n",
    "1. Количество вершин и ребер\n",
    "2. Распределение степеней вершин графа (График log - log)\n",
    "3. Плотность графа\n",
    "4. Диаметр графа\n",
    "5. Количество треугольников в графе\n",
    "6. Краткие выводы о данных.\n",
    "7. БОНУСЫ - сделайте красивую визулизацию или расчет дополнительных метрик с выводами и вы получите дополнительные баллы за задание"
   ]
  },
  {
   "cell_type": "code",
   "execution_count": 3,
   "metadata": {
    "collapsed": false
   },
   "outputs": [
    {
     "name": "stderr",
     "output_type": "stream",
     "text": [
      "[INFO] graphlab.cython.cy_server: GraphLab Create v2.1 started. Logging: /tmp/graphlab_server_1479235713.log\n",
      "INFO:graphlab.cython.cy_server:GraphLab Create v2.1 started. Logging: /tmp/graphlab_server_1479235713.log\n"
     ]
    },
    {
     "name": "stdout",
     "output_type": "stream",
     "text": [
      "This non-commercial license of GraphLab Create for academic use is assigned to potapova@phystech.edu and will expire on February 09, 2017.\n"
     ]
    }
   ],
   "source": [
    "edges = gl.SFrame.read_csv('the_graph.csv', delimiter=',', verbose=False)"
   ]
  },
  {
   "cell_type": "code",
   "execution_count": 4,
   "metadata": {
    "collapsed": false
   },
   "outputs": [
    {
     "name": "stdout",
     "output_type": "stream",
     "text": [
      "+--------+--------+\n",
      "|  src   |  dst   |\n",
      "+--------+--------+\n",
      "| 41898  | 41897  |\n",
      "| 86369  |  4710  |\n",
      "| 58560  | 33579  |\n",
      "| 201922 | 154591 |\n",
      "| 182984 | 155666 |\n",
      "| 256013 | 256011 |\n",
      "| 213111 | 43121  |\n",
      "| 175870 | 140446 |\n",
      "| 74789  | 96044  |\n",
      "| 256177 | 254467 |\n",
      "+--------+--------+\n",
      "[1384871 rows x 2 columns]\n",
      "Note: Only the head of the SFrame is printed.\n",
      "You can use print_rows(num_rows=m, num_columns=n) to print more rows and columns.\n"
     ]
    }
   ],
   "source": [
    "print edges"
   ]
  },
  {
   "cell_type": "code",
   "execution_count": 5,
   "metadata": {
    "collapsed": true
   },
   "outputs": [],
   "source": [
    "g = gl.SGraph().add_edges(edges, src_field='src', dst_field='dst')"
   ]
  },
  {
   "cell_type": "markdown",
   "metadata": {},
   "source": [
    "1. Количество вершин и ребер"
   ]
  },
  {
   "cell_type": "code",
   "execution_count": 6,
   "metadata": {
    "collapsed": false
   },
   "outputs": [
    {
     "name": "stdout",
     "output_type": "stream",
     "text": [
      "Number of vertices = 262111\n",
      "Number of edges = 1384871\n"
     ]
    }
   ],
   "source": [
    "vert_edgs = g.summary()\n",
    "\n",
    "print 'Number of vertices = {0}'.format(vert_edgs['num_vertices'])\n",
    "print 'Number of edges = {0}'.format(vert_edgs['num_edges'])"
   ]
  },
  {
   "cell_type": "markdown",
   "metadata": {},
   "source": [
    "Выполните пункты 2 - 6. В пункте 6 напишите краткие выводы."
   ]
  },
  {
   "cell_type": "code",
   "execution_count": 7,
   "metadata": {
    "collapsed": false
   },
   "outputs": [
    {
     "name": "stdout",
     "output_type": "stream",
     "text": [
      "SGraph({'num_edges': 999, 'num_vertices': 492})\n"
     ]
    }
   ],
   "source": [
    "small_g = g.get_neighborhood(ids=g.vertices[:6]['__id'], radius=1)\n",
    "print small_g"
   ]
  },
  {
   "cell_type": "markdown",
   "metadata": {},
   "source": [
    "Визуализация подграфа"
   ]
  },
  {
   "cell_type": "code",
   "execution_count": 8,
   "metadata": {
    "collapsed": false
   },
   "outputs": [
    {
     "data": {
      "application/javascript": [
       "$(\"head\").append($(\"<link/>\").attr({\n",
       "  rel:  \"stylesheet\",\n",
       "  type: \"text/css\",\n",
       "  href: \"//cdnjs.cloudflare.com/ajax/libs/font-awesome/4.1.0/css/font-awesome.min.css\"\n",
       "}));\n",
       "$(\"head\").append($(\"<link/>\").attr({\n",
       "  rel:  \"stylesheet\",\n",
       "  type: \"text/css\",\n",
       "  href: \"https://static.turi.com/products/graphlab-create/2.1/canvas/css/canvas.css\"\n",
       "}));\n",
       "\n",
       "            (function(){\n",
       "\n",
       "                var e = null;\n",
       "                if (typeof element == 'undefined') {\n",
       "                    var scripts = document.getElementsByTagName('script');\n",
       "                    var thisScriptTag = scripts[scripts.length-1];\n",
       "                    var parentDiv = thisScriptTag.parentNode;\n",
       "                    e = document.createElement('div');\n",
       "                    parentDiv.appendChild(e);\n",
       "                } else {\n",
       "                    e = element[0];\n",
       "                }\n",
       "\n",
       "                if (typeof requirejs !== 'undefined') {\n",
       "                    // disable load timeout; ipython_app.js is large and can take a while to load.\n",
       "                    requirejs.config({waitSeconds: 0});\n",
       "                }\n",
       "\n",
       "                require(['https://static.turi.com/products/graphlab-create/2.1/canvas/js/ipython_app.js'], function(IPythonApp){\n",
       "                    var app = new IPythonApp();\n",
       "                    app.attachView('sgraph','View', {\"edges_labels\": null, \"selected_variable\": {\"name\": [\"small_g\"], \"view_file\": \"sgraph\", \"view_component\": \"View\", \"view_params\": {\"elabel_hover\": false, \"vertex_positions\": null, \"h_offset\": 0.0, \"node_size\": 300, \"ecolor\": [0.37, 0.33, 0.33], \"elabel\": null, \"arrows\": false, \"ewidth\": 1, \"vlabel\": null, \"highlight_color\": [0.69, 0.0, 0.498], \"vcolor\": [0.522, 0.741, 0.0], \"vlabel_hover\": false, \"highlight\": {}, \"v_offset\": 0.03}, \"view_components\": [\"View\"], \"type\": \"SGraph\", \"descriptives_links\": {\"edges\": \"edges\", \"vertices\": \"vertices\"}, \"descriptives\": {\"edges\": 999, \"vertices\": 492}}, \"positions\": null, \"error_type\": 0, \"vertices\": [246703, 246075, 223155, 171811, 162397, 145964, 209075, 125295, 200020, 108764, 103753, 7, 82048, 36746, 79340, 88166, 72841, 92732, 85411, 228028, 60956, 45715, 50011, 43535, 40345, 37570, 30224, 21047, 20656, 115, 18779, 20009, 68171, 7782, 11534, 482, 17791, 81922, 38208, 834, 7975, 1838, 15121, 504, 8, 763, 93579, 225581, 765, 480, 170384, 10, 36702, 313, 29, 156436, 454, 174005, 27, 7624, 7161, 5, 250930, 247467, 227358, 192716, 164301, 108259, 145108, 96156, 93238, 71574, 250543, 70997, 64815, 46389, 23214, 224981, 18575, 220944, 21, 14957, 18782, 13429, 21505, 11701, 30, 122457, 11699, 3460, 8715, 27518, 97828, 19656, 250319, 181197, 121436, 18406, 1921, 33826, 444, 193, 23003, 76, 39628, 23, 26605, 16, 608, 146, 143, 40, 37, 250339, 78, 219848, 212446, 211520, 209546, 208220, 184406, 147520, 141060, 140034, 15194, 136886, 125552, 245757, 203652, 48702, 135658, 95421, 94309, 92962, 222095, 117057, 6383, 79289, 69387, 98260, 53993, 47935, 28309, 2021, 41077, 98092, 129715, 445, 231390, 115894, 39630, 2220, 7463, 25364, 28331, 29952, 6505, 16239, 35363, 44336, 4147, 64613, 228, 11698, 145, 930, 66774, 0, 215024, 3926, 171139, 450, 251921, 5392, 7992, 14289, 41139, 2600, 123, 10873, 248941, 212463, 206245, 180716, 142042, 110351, 81059, 74340, 43614, 60319, 57681, 71359, 250634, 243746, 54409, 42212, 36727, 63452, 33968, 23655, 33409, 224196, 29169, 32969, 28990, 55116, 195900, 176, 302, 683, 19258, 315, 1436, 3723, 3459, 102458, 72781, 2078, 23004, 33731, 1079, 26047, 146011, 69353, 443, 20549, 158781, 13805, 98094, 95054, 46032, 12464, 210429, 11700, 96515, 222899, 67792, 13, 49095, 58286, 38209, 34667, 30267, 40238, 23711, 15120, 14134, 11993, 10458, 12846, 9003, 4003, 2129, 1162, 309, 290, 200352, 97, 252884, 251009, 250872, 137, 236039, 232125, 210697, 189589, 88632, 147269, 29368, 181144, 7622, 174027, 162679, 179438, 115184, 30106, 107431, 197924, 258431, 76526, 92153, 719, 160, 85154, 88582, 764, 156435, 2555, 38596, 206959, 69999, 128150, 85475, 6, 191902, 220497, 170820, 9975, 154, 260857, 240991, 9, 258605, 57742, 54441, 54186, 40172, 35873, 31505, 25053, 21387, 188656, 226323, 14158, 13423, 229023, 6665, 5415, 255737, 144007, 138, 2658, 183574, 226, 16812, 13405, 182, 249215, 1939, 239448, 230371, 17360, 226310, 185596, 156352, 223278, 98, 83373, 149035, 216369, 14, 213569, 38210, 249100, 206129, 113149, 2570, 153576, 117385, 222854, 126903, 111931, 156226, 125553, 191914, 215392, 32082, 11765, 123801, 80, 49161, 84410, 261985, 261241, 240134, 201928, 196751, 173450, 159440, 103821, 69385, 107225, 68749, 164, 20578, 63713, 57297, 53519, 5316, 45704, 40311, 69386, 67704, 118019, 26321, 37212, 262023, 261986, 35290, 35249, 34859, 30335, 101450, 24688, 29922, 183428, 48367, 24572, 229652, 42, 23459, 784, 20, 25867, 98093, 39506, 153999, 3549, 687, 2415, 2333, 144, 74339, 1, 8310, 147, 210, 221727, 44840, 668, 110880, 39631, 40729, 39629, 38211, 36996, 31632, 23045, 2772, 1281, 685, 99, 24, 18781, 479, 46643, 22, 31502, 597, 245484, 231143, 56632, 230222, 42656, 77, 70602, 220059, 210252, 28197, 211192, 207722, 41719, 169467, 39574, 125752, 145109, 603, 251697, 17, 256491, 136713, 203464, 819, 184132, 13404, 64436, 630, 111094, 4, 112, 179457, 98780, 122829, 106351, 60838, 242199, 224407, 106157, 612, 90514, 228282, 199114, 113979, 43649, 61514, 110490, 45371, 142315, 139, 187851, 92606, 50873], \"vertices_labels\": null, \"edges\": [[156436, 5], [5, 10], [60956, 8], [482, 10], [103753, 8], [88166, 29], [45715, 29], [10, 5], [246075, 8], [17791, 20656], [17791, 5], [171811, 10], [313, 8], [108764, 8], [15121, 29], [20009, 27], [81922, 8], [480, 8], [5, 8], [200020, 8], [7, 8], [10, 7], [7975, 27], [834, 29], [20656, 5], [40345, 5], [1838, 27], [79340, 8], [145964, 5], [72841, 8], [37570, 10], [38208, 5], [92732, 29], [18779, 5], [7782, 8], [115, 8], [21047, 8], [125295, 8], [504, 7], [36702, 29], [7161, 29], [36702, 15121], [209075, 8], [36746, 8], [228028, 8], [763, 765], [763, 29], [30224, 8], [313, 7], [223155, 8], [50011, 27], [7624, 8], [11534, 7], [765, 29], [504, 8], [246703, 8], [5, 7], [454, 8], [93579, 8], [82048, 5], [68171, 29], [43535, 27], [162397, 8], [765, 763], [225581, 8], [7, 5], [85411, 5], [170384, 8], [174005, 8], [82048, 39628], [7, 30], [7624, 193], [60956, 21], [125295, 30], [8, 23], [8, 21], [27, 76], [156436, 39628], [27, 21], [40345, 39628], [68171, 143], [7975, 37], [92732, 143], [40345, 39630], [115, 37], [30224, 445], [18779, 7463], [29, 143], [29, 146], [765, 143], [85411, 69387], [763, 143], [29, 145], [223155, 450], [27, 78], [10, 141060], [7624, 302], [156436, 98094], [8, 13], [763, 443], [50011, 302], [765, 443], [93579, 302], [225581, 315], [482, 1079], [115, 302], [313, 683], [92732, 443], [27, 13], [85411, 98094], [10, 137], [125295, 6], [313, 160], [7, 290], [504, 290], [36746, 719], [765, 764], [454, 290], [5, 6], [93579, 7622], [125295, 156435], [38208, 38209], [7, 9], [225581, 719], [156436, 156435], [5, 9], [763, 764], [38208, 38210], [480, 138], [10, 138], [7, 153576], [454, 164], [834, 147], [20009, 2333], [37570, 29922], [20656, 210], [68171, 147], [38208, 30335], [29, 144], [29, 147], [85411, 39631], [480, 479], [834, 603], [38208, 39629], [454, 479], [60956, 56632], [27, 77], [10, 139], [30224, 99], [40345, 39629], [8, 24], [8, 22], [82048, 39629], [40345, 38211], [85411, 39629], [70997, 8], [30, 8], [1921, 8], [23003, 27], [46389, 8], [220944, 8], [21505, 27], [18782, 5], [26605, 27], [121436, 29], [96156, 8], [19656, 8], [250319, 29], [93238, 8], [224981, 8], [16, 7], [108259, 8], [250930, 8], [247467, 7], [192716, 8], [164301, 8], [227358, 8], [64815, 8], [3460, 10], [39628, 18779], [23, 8], [18575, 27], [71574, 8], [250543, 7], [11701, 10], [181197, 8], [33826, 8], [11699, 10], [193, 8], [444, 29], [39628, 5], [23214, 8], [13429, 27], [8715, 8], [145108, 5], [122457, 8], [18406, 8], [97828, 8], [14957, 5], [27518, 8], [145108, 39628], [27518, 21], [21, 23], [145108, 98092], [18575, 78], [11699, 11698], [70997, 41077], [444, 143], [1921, 445], [33826, 37], [11701, 11698], [21505, 445], [11701, 13805], [1921, 302], [23003, 302], [11699, 11700], [23, 13], [21, 13], [11699, 13805], [11701, 11700], [193, 97], [33826, 719], [18406, 97], [30, 9], [444, 309], [18782, 2555], [13429, 14], [1921, 210], [23, 20], [21, 164], [444, 144], [145108, 38211], [64815, 99], [39628, 38211], [21, 77], [16, 4], [14957, 17], [145108, 145109], [444, 603], [18782, 18781], [41139, 8], [930, 27], [7463, 5], [40, 8], [94309, 8], [184406, 8], [29952, 8], [117057, 8], [25364, 8], [66774, 8], [35363, 27], [0, 5], [11698, 10], [10873, 20009], [251921, 8], [212446, 8], [129715, 8], [47935, 10], [15194, 8], [41077, 8], [3926, 8], [48702, 7], [125552, 10], [2021, 5], [14289, 10], [2600, 8], [64613, 8], [98092, 5], [92962, 8], [445, 27], [608, 5], [6505, 27], [44336, 8], [79289, 29], [7463, 18779], [450, 8], [147520, 8], [211520, 8], [147520, 7], [135658, 8], [37, 8], [209546, 8], [208220, 7], [7992, 8], [2021, 482], [98260, 8], [136886, 8], [222095, 8], [5392, 27], [145, 29], [39630, 40345], [228, 8], [53993, 7], [250339, 8], [6383, 8], [95421, 8], [115894, 8], [28309, 8], [16239, 27], [143, 29], [245757, 8], [39630, 5], [2220, 27], [231390, 8], [146, 29], [140034, 10], [219848, 765], [69387, 85411], [219848, 29], [28331, 8], [123, 7], [171139, 8], [4147, 8], [203652, 8], [140034, 313], [215024, 8], [69387, 5], [10873, 27], [39630, 39628], [37, 23], [98092, 145108], [445, 21], [2600, 23], [78, 23], [146, 444], [2600, 21], [11698, 11701], [7992, 445], [250339, 7463], [11698, 16239], [5392, 10873], [64613, 450], [146, 143], [115894, 40], [143, 145], [69387, 98092], [145, 143], [41139, 40], [7992, 37], [64613, 37], [143, 146], [16239, 11698], [3926, 445], [11698, 11700], [69387, 98094], [146, 443], [219848, 443], [15194, 302], [6383, 176], [16239, 11700], [37, 97], [47935, 137], [145, 309], [140034, 6], [219848, 764], [228, 290], [35363, 97], [7992, 719], [6383, 6], [140034, 160], [125552, 125553], [47935, 138], [41139, 138], [143, 147], [608, 210], [5392, 2333], [146, 147], [47935, 210], [115894, 42], [219848, 144], [69387, 98093], [143, 144], [145, 147], [78, 20], [0, 1], [40, 42], [39630, 38211], [445, 22], [2600, 99], [40, 24], [98092, 38211], [78, 112], [98092, 145109], [0, 4], [37, 22], [228, 479], [95421, 24], [39630, 39629], [98092, 39629], [224196, 8], [33968, 10], [248941, 8], [74340, 10], [33731, 8], [13805, 5], [55116, 29], [315, 8], [46032, 8], [1436, 8], [60319, 10], [42212, 8], [71359, 8], [23004, 27], [13805, 10], [222899, 8], [443, 763], [1079, 8], [95054, 8], [206245, 8], [250634, 10], [63452, 8], [11700, 10], [683, 8], [210429, 8], [142042, 10], [683, 313], [32969, 8], [20549, 8], [72781, 8], [54409, 8], [29169, 8], [60319, 480], [67792, 8], [443, 29], [12464, 8], [57681, 8], [28990, 8], [81059, 8], [43614, 5], [3459, 8], [69353, 8], [98094, 5], [26047, 27], [110351, 8], [212463, 8], [96515, 29], [23655, 27], [98094, 156436], [443, 765], [158781, 8], [302, 8], [243746, 8], [176, 8], [146011, 8], [33409, 29], [195900, 8], [180716, 8], [2078, 27], [3723, 27], [19258, 7], [102458, 8], [36727, 29], [13, 21], [2078, 76], [13805, 11701], [12464, 21], [11700, 11701], [13, 23], [315, 450], [33409, 143], [54409, 445], [23655, 445], [43614, 69387], [42212, 450], [1079, 445], [11700, 11698], [69353, 445], [443, 143], [12464, 13], [2078, 302], [13805, 11700], [250634, 13805], [11700, 13805], [248941, 9], [72781, 6], [1436, 719], [28990, 97], [250634, 250872], [243746, 290], [176, 6], [69353, 719], [443, 764], [98094, 156435], [54409, 719], [33968, 290], [33968, 6], [60319, 1939], [81059, 83373], [60319, 138], [43614, 69386], [43614, 69385], [12464, 164], [315, 687], [302, 210], [57681, 668], [13, 20], [74340, 74339], [176, 99], [1436, 22], [98094, 38211], [683, 1281], [210429, 199114], [98094, 39629], [1079, 99], [315, 685], [302, 479], [250634, 245484], [764, 29], [764, 765], [1162, 8], [236039, 8], [206959, 27], [147269, 8], [220497, 8], [252884, 8], [30267, 480], [290, 504], [2555, 5], [137, 10], [2129, 8], [179438, 5], [40238, 8], [174027, 8], [154, 5], [128150, 7], [191902, 8], [12846, 8], [107431, 8], [23711, 8], [85154, 8], [260857, 8], [92153, 8], [7622, 8], [15120, 8], [197924, 8], [6, 8], [240991, 8], [11993, 8], [290, 7], [76526, 8], [9975, 8], [719, 8], [200352, 7], [34667, 29], [38209, 5], [14134, 27], [49095, 8], [170820, 8], [88582, 10], [30106, 27], [181144, 10], [115184, 8], [88632, 8], [85475, 5], [58286, 5], [2555, 480], [38596, 8], [29368, 8], [162679, 8], [97, 8], [137, 7], [232125, 8], [236039, 85411], [69999, 8], [6, 7], [309, 29], [210697, 8], [250872, 10], [10458, 27], [6, 5], [189589, 10], [290, 8], [258431, 8], [30267, 8], [154, 7], [9003, 8], [160, 313], [156435, 5], [160, 7], [251009, 8], [4003, 27], [7622, 23], [251009, 228], [200352, 40], [7622, 228], [309, 145], [764, 143], [9003, 445], [38596, 445], [14134, 78], [179438, 608], [309, 143], [40238, 1436], [764, 443], [250872, 13805], [250872, 250634], [156435, 98094], [137, 160], [11993, 6], [6, 9], [154, 6], [10458, 5415], [38209, 38210], [250872, 255737], [1162, 1939], [137, 138], [206959, 20], [2555, 210], [154, 20], [154, 210], [6, 20], [764, 144], [7622, 20], [719, 687], [38209, 30335], [156435, 39631], [309, 147], [2129, 164], [4003, 2333], [40238, 40729], [137, 139], [250872, 245484], [38596, 99], [156435, 39629], [1162, 479], [10458, 77], [12846, 99], [9003, 99], [183574, 8], [40172, 7161], [98, 8], [213569, 8], [31505, 8], [2658, 29], [35873, 8], [1939, 480], [144007, 8], [206129, 8], [182, 8], [11765, 27], [255737, 10], [191914, 8], [2658, 27], [80, 8], [222854, 8], [156352, 8], [2570, 8], [258605, 5], [149035, 8], [215392, 8], [249100, 8], [226310, 8], [226323, 8], [54186, 29], [84410, 8], [113149, 8], [126903, 8], [17360, 8], [83373, 8], [188656, 8], [21387, 8], [32082, 8], [16812, 8], [5415, 27], [156226, 8], [226, 8], [185596, 8], [229023, 8], [14, 27], [117385, 8], [123801, 8], [14158, 8], [111931, 10], [49161, 7], [6665, 8], [57742, 8], [38210, 5], [1939, 8], [54441, 8], [40172, 29], [125553, 8], [13405, 27], [25053, 8], [239448, 8], [223278, 8], [230371, 8], [249215, 8], [216369, 8], [14, 29], [13423, 8], [5415, 21], [14, 21], [98, 30], [144007, 6383], [14158, 445], [2570, 37], [125553, 125552], [188656, 608], [255737, 13805], [255737, 250634], [6665, 176], [5415, 13], [32082, 13], [14, 13], [2658, 13], [31505, 719], [14158, 6], [183574, 160], [6665, 6], [57742, 719], [38210, 38209], [21387, 719], [1939, 1162], [80, 97], [255737, 250872], [2658, 14], [111931, 29922], [38210, 30335], [182, 20], [117385, 687], [16812, 99], [13405, 13404], [1939, 479], [2658, 77], [182, 112], [31505, 31502], [2570, 22], [196751, 8], [24572, 5], [20, 7], [210, 8], [173450, 8], [2333, 27], [29922, 10], [26321, 27], [110880, 8], [42, 8], [118019, 8], [262023, 8], [8310, 8], [40311, 27], [68749, 7], [35290, 8], [44840, 8], [39506, 8], [69386, 5], [67704, 8], [20578, 8], [98093, 82048], [101450, 5], [57297, 8], [45704, 27], [48367, 29], [668, 8], [784, 8], [221727, 8], [39631, 5], [164, 8], [24572, 10], [69385, 5], [25867, 27], [20, 8], [183428, 29], [35249, 8], [210, 7], [37212, 10], [201928, 8], [63713, 27], [687, 8], [229652, 8], [30335, 5], [34859, 8], [29922, 5], [164, 454], [68749, 8], [69386, 85411], [48367, 7161], [30335, 38208], [23459, 10], [240134, 8], [261986, 8], [261985, 5], [3549, 27], [98093, 5], [29922, 37570], [159440, 7], [261241, 8], [74339, 10], [107225, 10], [24688, 8], [24572, 482], [103821, 8], [153999, 8], [1, 5], [2415, 7], [53519, 7], [5316, 8], [144, 29], [98093, 39628], [68749, 30], [20, 23], [40311, 23], [20, 30], [45704, 23], [45704, 76], [210, 608], [144, 145], [35249, 37], [3549, 37], [164, 228], [144, 146], [144, 143], [69386, 69387], [42, 40], [2333, 5392], [1, 0], [2415, 123], [69385, 43614], [74339, 74340], [69386, 43614], [687, 315], [5316, 176], [687, 719], [30335, 38209], [668, 97], [35290, 719], [20578, 6], [5316, 6], [668, 6], [35249, 719], [23459, 6], [25867, 6], [20, 6], [24572, 2555], [30335, 38210], [261241, 29922], [784, 164], [144, 147], [69385, 210], [210, 20], [3549, 164], [147, 603], [98093, 38211], [784, 479], [687, 685], [1, 4], [30335, 38211], [39631, 38211], [42, 24], [20578, 99], [39631, 39629], [8310, 99], [98093, 39629], [251697, 29], [2772, 482], [92606, 8], [220059, 8], [60838, 8], [31632, 29], [39574, 8], [479, 454], [242199, 8], [112, 8], [90514, 29], [1281, 10], [231143, 8], [98780, 8], [187851, 8], [136713, 8], [46643, 8], [4, 7], [230222, 8], [110490, 7], [70602, 8], [479, 8], [142315, 8], [41719, 29], [122829, 8], [28197, 8], [125752, 313], [145109, 5], [479, 480], [17, 8], [40729, 8], [139, 7], [228282, 7], [36996, 5], [113979, 8], [203464, 8], [56632, 60956], [23045, 8], [64436, 8], [18781, 5], [245484, 10], [630, 7], [603, 29], [1281, 504], [56632, 8], [125752, 8], [99, 8], [111094, 29], [1281, 454], [612, 5], [70602, 313], [2772, 5], [45371, 8], [139, 10], [106157, 8], [43649, 8], [597, 8], [50873, 8], [22, 8], [31502, 8], [13404, 27], [184132, 8], [603, 834], [106351, 8], [207722, 8], [685, 8], [42656, 8], [17, 7], [38211, 5], [39629, 5], [61514, 8], [819, 8], [211192, 8], [210252, 765], [210252, 29], [169467, 29], [90514, 7161], [256491, 8], [179457, 29], [139, 5], [224407, 5], [199114, 8], [38211, 39628], [39629, 39628], [145109, 145108], [42656, 23], [18781, 18782], [17, 30], [4, 16], [145109, 39628], [22, 23], [24, 40], [22, 37], [145109, 98092], [61514, 450], [203464, 6383], [612, 445], [23045, 445], [597, 445], [38211, 39630], [18781, 176], [1281, 683], [685, 315], [245484, 13805], [199114, 210429], [245484, 250634], [99, 176], [23045, 719], [64436, 719], [28197, 6], [242199, 160], [125752, 6], [139, 137], [139, 9], [60838, 719], [1281, 137], [819, 719], [17, 6], [612, 6], [98780, 9], [112, 182], [36996, 38210], [231143, 138], [42656, 138], [479, 784], [39629, 39631], [603, 147], [38211, 39631], [24, 42], [210252, 147], [106351, 687], [2772, 210], [45371, 687], [685, 687], [819, 687], [112, 20], [38211, 39629], [39629, 38211], [42656, 479], [597, 99], [98780, 70602], [70602, 98780], [630, 4], [46643, 99], [4, 17], [145109, 38211]], \"ipython\": true, \"error_msg\": \"\"}, e);\n",
       "                });\n",
       "            })();\n",
       "        "
      ]
     },
     "metadata": {},
     "output_type": "display_data"
    }
   ],
   "source": [
    "small_g.show()"
   ]
  },
  {
   "cell_type": "code",
   "execution_count": 9,
   "metadata": {
    "collapsed": true
   },
   "outputs": [],
   "source": [
    "import numpy as np\n",
    "from collections import Counter"
   ]
  },
  {
   "cell_type": "code",
   "execution_count": 10,
   "metadata": {
    "collapsed": false
   },
   "outputs": [],
   "source": [
    "power_verts = Counter(g.edges['__src_id'])"
   ]
  },
  {
   "cell_type": "code",
   "execution_count": 11,
   "metadata": {
    "collapsed": false
   },
   "outputs": [],
   "source": [
    "import matplotlib.pyplot as plt\n",
    "%matplotlib inline "
   ]
  },
  {
   "cell_type": "markdown",
   "metadata": {},
   "source": [
    "2.Распредление степеней вершин:"
   ]
  },
  {
   "cell_type": "code",
   "execution_count": 12,
   "metadata": {
    "collapsed": false
   },
   "outputs": [
    {
     "data": {
      "image/png": "[encoded data removed]",
      "text/plain": [
       "<matplotlib.figure.Figure at 0x7f1c1c2c42d0>"
      ]
     },
     "metadata": {},
     "output_type": "display_data"
    }
   ],
   "source": [
    "plt.figure(figsize=(15,5))\n",
    "plt.plot(np.log(power_verts.keys()), np.log(power_verts.values()))\n",
    "plt.show()"
   ]
  },
  {
   "cell_type": "markdown",
   "metadata": {
    "collapsed": false
   },
   "source": [
    "3.Плотность графа:"
   ]
  },
  {
   "cell_type": "code",
   "execution_count": 13,
   "metadata": {
    "collapsed": false
   },
   "outputs": [
    {
     "name": "stdout",
     "output_type": "stream",
     "text": [
      "2.01576770593e-05\n"
     ]
    }
   ],
   "source": [
    "p = float(vert_edgs['num_edges']) / (vert_edgs['num_vertices'] * (vert_edgs['num_vertices'] - 1))\n",
    "print p"
   ]
  },
  {
   "cell_type": "markdown",
   "metadata": {
    "collapsed": false
   },
   "source": [
    "4.Диаметр графа:"
   ]
  },
  {
   "cell_type": "code",
   "execution_count": 16,
   "metadata": {
    "collapsed": false
   },
   "outputs": [],
   "source": [
    "v = vert_edgs['num_vertices']\n",
    "\n",
    "import networkx as nx\n",
    "gr=nx.Graph()\n",
    "gr.add_nodes_from(np.arange(v))\n",
    "gr.add_edges_from(g.get_edges().to_numpy())\n",
    "\n",
    "vertex=np.random.choice(range(v), size=500, replace=False)\n",
    "diam = max(nx.eccentricity(gr, v=vertex).values())"
   ]
  },
  {
   "cell_type": "markdown",
   "metadata": {
    "collapsed": true
   },
   "source": [
    "5.Количество треугольников в графе:"
   ]
  },
  {
   "cell_type": "code",
   "execution_count": 19,
   "metadata": {
    "collapsed": false
   },
   "outputs": [
    {
     "data": {
      "text/html": [
       "<pre>Initializing vertex ids.</pre>"
      ],
      "text/plain": [
       "Initializing vertex ids."
      ]
     },
     "metadata": {},
     "output_type": "display_data"
    },
    {
     "data": {
      "text/html": [
       "<pre>Removing duplicate (bidirectional) edges.</pre>"
      ],
      "text/plain": [
       "Removing duplicate (bidirectional) edges."
      ]
     },
     "metadata": {},
     "output_type": "display_data"
    },
    {
     "data": {
      "text/html": [
       "<pre>Counting triangles...</pre>"
      ],
      "text/plain": [
       "Counting triangles..."
      ]
     },
     "metadata": {},
     "output_type": "display_data"
    },
    {
     "data": {
      "text/html": [
       "<pre>Finished in 2.3871 secs.</pre>"
      ],
      "text/plain": [
       "Finished in 2.3871 secs."
      ]
     },
     "metadata": {},
     "output_type": "display_data"
    },
    {
     "data": {
      "text/html": [
       "<pre>Total triangles in the graph : 717754</pre>"
      ],
      "text/plain": [
       "Total triangles in the graph : 717754"
      ]
     },
     "metadata": {},
     "output_type": "display_data"
    },
    {
     "name": "stdout",
     "output_type": "stream",
     "text": [
      "717754\n"
     ]
    }
   ],
   "source": [
    "res = gl.triangle_counting.create(g)\n",
    "total = res['triangle_count']['triangle_count'].sum() / 3\n",
    "print total"
   ]
  },
  {
   "cell_type": "markdown",
   "metadata": {},
   "source": [
    "6.Выводы:\n",
    "\n",
    "Судя из полученных данных граф разреженный, данные разбиты по кластерам, внутри которых данные более менее связные, в то время кк связи между кластерами слабые. "
   ]
  },
  {
   "cell_type": "markdown",
   "metadata": {},
   "source": [
    "----\n",
    "### 2. Генерация дополнительных данных - 20 Баллов\n",
    "\n",
    "Перед нами стоит задача создания модели классификации, которая в дальнейшем будет использоваться для повышения разнообразия блока рекомендаций. Для большинства моделей классификации требуется минимум 2 класса объектов - негативный и позитивный. Но у нас есть только граф, ребра которые в нем присутствуют это позитивные примеры. Получается, что у нас нет негативных примеров. \n",
    "\n",
    "Ответьте на 3 вопроса:\n",
    "\n",
    "1. Можем ли мы сами создать негативные примеры? Граф это описание связей между вершинами, если мы будем случайным образом выбирать две вершины и считать, что это ребро - негативный пример, имеет ли это смысл?\n",
    "2. Если мы решим сгенерировать негативные примеры, как должна быть устроена процедура генерации, чтобы обобщаяющая способность модели была наилучшей?\n",
    "3. Как зависит обобщающая способность модели от негативных примеров, которые мы ей покажем?"
   ]
  },
  {
   "cell_type": "markdown",
   "metadata": {},
   "source": [
    "1. Негативные примеры мы можем создать, просто генерировать случайно 2 вершины не имеет смысла - можем попасть на существующее ребро (позитивный пример). <br\\>\n",
    "2. Брать ребро с большей вероятностью, если текущая вершина внутри кластера.\n",
    "3. Обобщающая способность должна улучшиться, особенно если примеры будут не совсем рандомные, а все же нести информацию о связи объектов похожих типов."
   ]
  },
  {
   "cell_type": "markdown",
   "metadata": {},
   "source": [
    "------\n",
    "Создадим класс отрицательных примеров, сгенерировав его самым простым образом: берем две вершины, если ребро между ними отсутствует в графе, то это отрицательный пример.\n",
    "\n",
    "1. Попробуйте улучшить генерацию отрицательных примеров"
   ]
  },
  {
   "cell_type": "code",
   "execution_count": 8,
   "metadata": {
    "collapsed": false
   },
   "outputs": [
    {
     "name": "stdout",
     "output_type": "stream",
     "text": [
      "1384871\n"
     ]
    }
   ],
   "source": [
    "# read in existing edges\n",
    "graph_file = open('the_graph.csv')\n",
    "graph_file.readline() # first line is column names\n",
    "existing_edges = set()\n",
    "\n",
    "for x in graph_file:\n",
    "    start, end = x.split(',')\n",
    "    start, end = int(start), int(end)\n",
    "    existing_edges.add((start, end))\n",
    "    \n",
    "print len(existing_edges)"
   ]
  },
  {
   "cell_type": "code",
   "execution_count": 9,
   "metadata": {
    "collapsed": false
   },
   "outputs": [
    {
     "name": "stdout",
     "output_type": "stream",
     "text": [
      "1384836\n"
     ]
    }
   ],
   "source": [
    "# generating negative examples, so that class balance is 50/50 \n",
    "generated_nonexisting_edges = []\n",
    "counter = 0\n",
    "while True:\n",
    "    start = np.random.randint(0, vert_edgs['num_vertices'])\n",
    "    end = np.random.randint(0, vert_edgs['num_vertices'])\n",
    "    \n",
    "    if (start != end) & ((start, end) not in existing_edges):\n",
    "        generated_nonexisting_edges.append([start, end, 0])\n",
    "        \n",
    "    counter += 1\n",
    "    if counter == vert_edgs['num_edges']:\n",
    "        break\n",
    "\n",
    "print len(generated_nonexisting_edges)"
   ]
  },
  {
   "cell_type": "code",
   "execution_count": 10,
   "metadata": {
    "collapsed": false
   },
   "outputs": [],
   "source": [
    "# create SFrame with negative examples\n",
    "generated_nonexisting_edges = pd.DataFrame(data=generated_nonexisting_edges, columns=['src', 'dst', 'class'])\n",
    "generated_nonexisting_edges = gl.SFrame(data=generated_nonexisting_edges)"
   ]
  },
  {
   "cell_type": "code",
   "execution_count": 11,
   "metadata": {
    "collapsed": true
   },
   "outputs": [],
   "source": [
    "# add target function to the original dataset \n",
    "edges['class'] = [1]*edges.shape[0]"
   ]
  },
  {
   "cell_type": "code",
   "execution_count": 12,
   "metadata": {
    "collapsed": false
   },
   "outputs": [
    {
     "data": {
      "text/html": [
       "<div style=\"max-height:1000px;max-width:1500px;overflow:auto;\"><table frame=\"box\" rules=\"cols\">\n",
       "    <tr>\n",
       "        <th style=\"padding-left: 1em; padding-right: 1em; text-align: center\">src</th>\n",
       "        <th style=\"padding-left: 1em; padding-right: 1em; text-align: center\">dst</th>\n",
       "        <th style=\"padding-left: 1em; padding-right: 1em; text-align: center\">class</th>\n",
       "    </tr>\n",
       "    <tr>\n",
       "        <td style=\"padding-left: 1em; padding-right: 1em; text-align: center; vertical-align: top\">41898</td>\n",
       "        <td style=\"padding-left: 1em; padding-right: 1em; text-align: center; vertical-align: top\">41897</td>\n",
       "        <td style=\"padding-left: 1em; padding-right: 1em; text-align: center; vertical-align: top\">1</td>\n",
       "    </tr>\n",
       "    <tr>\n",
       "        <td style=\"padding-left: 1em; padding-right: 1em; text-align: center; vertical-align: top\">86369</td>\n",
       "        <td style=\"padding-left: 1em; padding-right: 1em; text-align: center; vertical-align: top\">4710</td>\n",
       "        <td style=\"padding-left: 1em; padding-right: 1em; text-align: center; vertical-align: top\">1</td>\n",
       "    </tr>\n",
       "    <tr>\n",
       "        <td style=\"padding-left: 1em; padding-right: 1em; text-align: center; vertical-align: top\">58560</td>\n",
       "        <td style=\"padding-left: 1em; padding-right: 1em; text-align: center; vertical-align: top\">33579</td>\n",
       "        <td style=\"padding-left: 1em; padding-right: 1em; text-align: center; vertical-align: top\">1</td>\n",
       "    </tr>\n",
       "    <tr>\n",
       "        <td style=\"padding-left: 1em; padding-right: 1em; text-align: center; vertical-align: top\">201922</td>\n",
       "        <td style=\"padding-left: 1em; padding-right: 1em; text-align: center; vertical-align: top\">154591</td>\n",
       "        <td style=\"padding-left: 1em; padding-right: 1em; text-align: center; vertical-align: top\">1</td>\n",
       "    </tr>\n",
       "    <tr>\n",
       "        <td style=\"padding-left: 1em; padding-right: 1em; text-align: center; vertical-align: top\">182984</td>\n",
       "        <td style=\"padding-left: 1em; padding-right: 1em; text-align: center; vertical-align: top\">155666</td>\n",
       "        <td style=\"padding-left: 1em; padding-right: 1em; text-align: center; vertical-align: top\">1</td>\n",
       "    </tr>\n",
       "    <tr>\n",
       "        <td style=\"padding-left: 1em; padding-right: 1em; text-align: center; vertical-align: top\">256013</td>\n",
       "        <td style=\"padding-left: 1em; padding-right: 1em; text-align: center; vertical-align: top\">256011</td>\n",
       "        <td style=\"padding-left: 1em; padding-right: 1em; text-align: center; vertical-align: top\">1</td>\n",
       "    </tr>\n",
       "    <tr>\n",
       "        <td style=\"padding-left: 1em; padding-right: 1em; text-align: center; vertical-align: top\">213111</td>\n",
       "        <td style=\"padding-left: 1em; padding-right: 1em; text-align: center; vertical-align: top\">43121</td>\n",
       "        <td style=\"padding-left: 1em; padding-right: 1em; text-align: center; vertical-align: top\">1</td>\n",
       "    </tr>\n",
       "    <tr>\n",
       "        <td style=\"padding-left: 1em; padding-right: 1em; text-align: center; vertical-align: top\">175870</td>\n",
       "        <td style=\"padding-left: 1em; padding-right: 1em; text-align: center; vertical-align: top\">140446</td>\n",
       "        <td style=\"padding-left: 1em; padding-right: 1em; text-align: center; vertical-align: top\">1</td>\n",
       "    </tr>\n",
       "    <tr>\n",
       "        <td style=\"padding-left: 1em; padding-right: 1em; text-align: center; vertical-align: top\">74789</td>\n",
       "        <td style=\"padding-left: 1em; padding-right: 1em; text-align: center; vertical-align: top\">96044</td>\n",
       "        <td style=\"padding-left: 1em; padding-right: 1em; text-align: center; vertical-align: top\">1</td>\n",
       "    </tr>\n",
       "    <tr>\n",
       "        <td style=\"padding-left: 1em; padding-right: 1em; text-align: center; vertical-align: top\">256177</td>\n",
       "        <td style=\"padding-left: 1em; padding-right: 1em; text-align: center; vertical-align: top\">254467</td>\n",
       "        <td style=\"padding-left: 1em; padding-right: 1em; text-align: center; vertical-align: top\">1</td>\n",
       "    </tr>\n",
       "</table>\n",
       "[10 rows x 3 columns]<br/>\n",
       "</div>"
      ],
      "text/plain": [
       "Columns:\n",
       "\tsrc\tint\n",
       "\tdst\tint\n",
       "\tclass\tint\n",
       "\n",
       "Rows: 10\n",
       "\n",
       "Data:\n",
       "+--------+--------+-------+\n",
       "|  src   |  dst   | class |\n",
       "+--------+--------+-------+\n",
       "| 41898  | 41897  |   1   |\n",
       "| 86369  |  4710  |   1   |\n",
       "| 58560  | 33579  |   1   |\n",
       "| 201922 | 154591 |   1   |\n",
       "| 182984 | 155666 |   1   |\n",
       "| 256013 | 256011 |   1   |\n",
       "| 213111 | 43121  |   1   |\n",
       "| 175870 | 140446 |   1   |\n",
       "| 74789  | 96044  |   1   |\n",
       "| 256177 | 254467 |   1   |\n",
       "+--------+--------+-------+\n",
       "[10 rows x 3 columns]"
      ]
     },
     "execution_count": 12,
     "metadata": {},
     "output_type": "execute_result"
    }
   ],
   "source": [
    "edges.head()"
   ]
  },
  {
   "cell_type": "code",
   "execution_count": 13,
   "metadata": {
    "collapsed": false
   },
   "outputs": [],
   "source": [
    "# add negative examples to the main data and shuffle\n",
    "edges = edges.append(generated_nonexisting_edges)\n",
    "edges = gl.cross_validation.shuffle(edges)"
   ]
  },
  {
   "cell_type": "code",
   "execution_count": 14,
   "metadata": {
    "collapsed": false
   },
   "outputs": [],
   "source": [
    "# update our graph g with fake edges\n",
    "g = gl.SGraph().add_edges(edges, src_field='src', dst_field='dst')"
   ]
  },
  {
   "cell_type": "code",
   "execution_count": 15,
   "metadata": {
    "collapsed": false
   },
   "outputs": [
    {
     "name": "stdout",
     "output_type": "stream",
     "text": [
      "Number of vertices = 262111\n",
      "Number of edges = 2769707\n"
     ]
    }
   ],
   "source": [
    "vert_edgs = g.summary()\n",
    "\n",
    "print 'Number of vertices = {0}'.format(vert_edgs['num_vertices'])\n",
    "print 'Number of edges = {0}'.format(vert_edgs['num_edges'])"
   ]
  },
  {
   "cell_type": "markdown",
   "metadata": {},
   "source": [
    "----\n",
    "### 3. Создание матрицы признаков для ребер - 30 Баллов\n",
    "\n",
    "Для создания модели классификации нам необходимы признаки, которые описывают каждое ребро. Вот базовый список того, что можно посчитать:\n",
    "\n",
    "Для вершин:\n",
    "\n",
    "1. Список и количество вершин, из которых ребра приходят в данную вершину\n",
    "2. Список и количество вершин, в которые ребра приходят из данной вершины\n",
    "3. Список и количество вершин связанных с данной вершиной\n",
    "4. Список и количество вершин, которые связанны с данной вершиной как входящими, так и исходящими ребрами\n",
    "\n",
    "Также можно добавить: вершины с которыми данная вершина образует треугольники, кластеризовать вершины и использовать кластер данной вершины и др.\n",
    "\n",
    "Придумайте дополнительные интересные признаки для вершин и вы получите дополнительный балл за домашнюю работу!"
   ]
  },
  {
   "cell_type": "code",
   "execution_count": 16,
   "metadata": {
    "collapsed": false
   },
   "outputs": [
    {
     "data": {
      "text/html": [
       "<div style=\"max-height:1000px;max-width:1500px;overflow:auto;\"><table frame=\"box\" rules=\"cols\">\n",
       "    <tr>\n",
       "        <th style=\"padding-left: 1em; padding-right: 1em; text-align: center\">id</th>\n",
       "    </tr>\n",
       "    <tr>\n",
       "        <td style=\"padding-left: 1em; padding-right: 1em; text-align: center; vertical-align: top\">5</td>\n",
       "    </tr>\n",
       "    <tr>\n",
       "        <td style=\"padding-left: 1em; padding-right: 1em; text-align: center; vertical-align: top\">7</td>\n",
       "    </tr>\n",
       "    <tr>\n",
       "        <td style=\"padding-left: 1em; padding-right: 1em; text-align: center; vertical-align: top\">8</td>\n",
       "    </tr>\n",
       "    <tr>\n",
       "        <td style=\"padding-left: 1em; padding-right: 1em; text-align: center; vertical-align: top\">10</td>\n",
       "    </tr>\n",
       "    <tr>\n",
       "        <td style=\"padding-left: 1em; padding-right: 1em; text-align: center; vertical-align: top\">27</td>\n",
       "    </tr>\n",
       "</table>\n",
       "[5 rows x 1 columns]<br/>\n",
       "</div>"
      ],
      "text/plain": [
       "Columns:\n",
       "\tid\tint\n",
       "\n",
       "Rows: 5\n",
       "\n",
       "Data:\n",
       "+----+\n",
       "| id |\n",
       "+----+\n",
       "| 5  |\n",
       "| 7  |\n",
       "| 8  |\n",
       "| 10 |\n",
       "| 27 |\n",
       "+----+\n",
       "[5 rows x 1 columns]"
      ]
     },
     "execution_count": 16,
     "metadata": {},
     "output_type": "execute_result"
    }
   ],
   "source": [
    "all_vertices = g.get_vertices()\n",
    "all_vertices.rename({\"__id\": \"id\"}) \n",
    "all_vertices.head(5)"
   ]
  },
  {
   "cell_type": "code",
   "execution_count": 17,
   "metadata": {
    "collapsed": false
   },
   "outputs": [
    {
     "data": {
      "text/html": [
       "<div style=\"max-height:1000px;max-width:1500px;overflow:auto;\"><table frame=\"box\" rules=\"cols\">\n",
       "    <tr>\n",
       "        <th style=\"padding-left: 1em; padding-right: 1em; text-align: center\">id</th>\n",
       "        <th style=\"padding-left: 1em; padding-right: 1em; text-align: center\">in_vertices</th>\n",
       "    </tr>\n",
       "    <tr>\n",
       "        <td style=\"padding-left: 1em; padding-right: 1em; text-align: center; vertical-align: top\">127950</td>\n",
       "        <td style=\"padding-left: 1em; padding-right: 1em; text-align: center; vertical-align: top\">[98108, 53896, 124528,<br>127952, 197465] ...</td>\n",
       "    </tr>\n",
       "    <tr>\n",
       "        <td style=\"padding-left: 1em; padding-right: 1em; text-align: center; vertical-align: top\">87629</td>\n",
       "        <td style=\"padding-left: 1em; padding-right: 1em; text-align: center; vertical-align: top\">[150527, 193189, 48118,<br>194312, 117244, 127101, ...</td>\n",
       "    </tr>\n",
       "    <tr>\n",
       "        <td style=\"padding-left: 1em; padding-right: 1em; text-align: center; vertical-align: top\">144280</td>\n",
       "        <td style=\"padding-left: 1em; padding-right: 1em; text-align: center; vertical-align: top\">[146299, 152259, 124943,<br>152258, 228453, 128314, ...</td>\n",
       "    </tr>\n",
       "    <tr>\n",
       "        <td style=\"padding-left: 1em; padding-right: 1em; text-align: center; vertical-align: top\">26439</td>\n",
       "        <td style=\"padding-left: 1em; padding-right: 1em; text-align: center; vertical-align: top\">[115331, 221658, 202409,<br>55543, 645, 88640, ...</td>\n",
       "    </tr>\n",
       "    <tr>\n",
       "        <td style=\"padding-left: 1em; padding-right: 1em; text-align: center; vertical-align: top\">120028</td>\n",
       "        <td style=\"padding-left: 1em; padding-right: 1em; text-align: center; vertical-align: top\">[141969, 92484, 110194,<br>164825, 93691, 110193, ...</td>\n",
       "    </tr>\n",
       "    <tr>\n",
       "        <td style=\"padding-left: 1em; padding-right: 1em; text-align: center; vertical-align: top\">171625</td>\n",
       "        <td style=\"padding-left: 1em; padding-right: 1em; text-align: center; vertical-align: top\">[173860, 130328, 80787,<br>171624, 217075, 60851, ...</td>\n",
       "    </tr>\n",
       "    <tr>\n",
       "        <td style=\"padding-left: 1em; padding-right: 1em; text-align: center; vertical-align: top\">159517</td>\n",
       "        <td style=\"padding-left: 1em; padding-right: 1em; text-align: center; vertical-align: top\">[192823, 148288, 148286,<br>9980, 190180, 129929, ...</td>\n",
       "    </tr>\n",
       "    <tr>\n",
       "        <td style=\"padding-left: 1em; padding-right: 1em; text-align: center; vertical-align: top\">69188</td>\n",
       "        <td style=\"padding-left: 1em; padding-right: 1em; text-align: center; vertical-align: top\">[70508, 29438, 127817,<br>35761, 3024, 103190, ...</td>\n",
       "    </tr>\n",
       "    <tr>\n",
       "        <td style=\"padding-left: 1em; padding-right: 1em; text-align: center; vertical-align: top\">199006</td>\n",
       "        <td style=\"padding-left: 1em; padding-right: 1em; text-align: center; vertical-align: top\">[186505, 203526, 29503,<br>149885, 180936, 180937] ...</td>\n",
       "    </tr>\n",
       "    <tr>\n",
       "        <td style=\"padding-left: 1em; padding-right: 1em; text-align: center; vertical-align: top\">122925</td>\n",
       "        <td style=\"padding-left: 1em; padding-right: 1em; text-align: center; vertical-align: top\">[83447, 155667, 143693,<br>223432, 79837, 57750, ...</td>\n",
       "    </tr>\n",
       "</table>\n",
       "[262111 rows x 2 columns]<br/>Note: Only the head of the SFrame is printed.<br/>You can use print_rows(num_rows=m, num_columns=n) to print more rows and columns.\n",
       "</div>"
      ],
      "text/plain": [
       "Columns:\n",
       "\tid\tint\n",
       "\tin_vertices\tlist\n",
       "\n",
       "Rows: 262111\n",
       "\n",
       "Data:\n",
       "+--------+-------------------------------+\n",
       "|   id   |          in_vertices          |\n",
       "+--------+-------------------------------+\n",
       "| 127950 | [98108, 53896, 124528, 127... |\n",
       "| 87629  | [150527, 193189, 48118, 19... |\n",
       "| 144280 | [146299, 152259, 124943, 1... |\n",
       "| 26439  | [115331, 221658, 202409, 5... |\n",
       "| 120028 | [141969, 92484, 110194, 16... |\n",
       "| 171625 | [173860, 130328, 80787, 17... |\n",
       "| 159517 | [192823, 148288, 148286, 9... |\n",
       "| 69188  | [70508, 29438, 127817, 357... |\n",
       "| 199006 | [186505, 203526, 29503, 14... |\n",
       "| 122925 | [83447, 155667, 143693, 22... |\n",
       "+--------+-------------------------------+\n",
       "[262111 rows x 2 columns]\n",
       "Note: Only the head of the SFrame is printed.\n",
       "You can use print_rows(num_rows=m, num_columns=n) to print more rows and columns."
      ]
     },
     "execution_count": 17,
     "metadata": {},
     "output_type": "execute_result"
    }
   ],
   "source": [
    "# calculating each vertices in and out connections\n",
    "out_vertices = edges.groupby(\"src\", {\"out_vertices\": gl.aggregate.CONCAT(\"dst\")})\n",
    "out_vertices.rename({\"src\": \"id\"})\n",
    "\n",
    "in_vertices = edges.groupby(\"dst\", {\"in_vertices\": gl.aggregate.CONCAT(\"src\")})\n",
    "in_vertices.rename({\"dst\": \"id\"})"
   ]
  },
  {
   "cell_type": "code",
   "execution_count": 18,
   "metadata": {
    "collapsed": false
   },
   "outputs": [
    {
     "data": {
      "text/html": [
       "<div style=\"max-height:1000px;max-width:1500px;overflow:auto;\"><table frame=\"box\" rules=\"cols\">\n",
       "    <tr>\n",
       "        <th style=\"padding-left: 1em; padding-right: 1em; text-align: center\">id</th>\n",
       "        <th style=\"padding-left: 1em; padding-right: 1em; text-align: center\">in_vertices</th>\n",
       "    </tr>\n",
       "    <tr>\n",
       "        <td style=\"padding-left: 1em; padding-right: 1em; text-align: center; vertical-align: top\">127950</td>\n",
       "        <td style=\"padding-left: 1em; padding-right: 1em; text-align: center; vertical-align: top\">[98108, 124528, 53896,<br>197465, 127952] ...</td>\n",
       "    </tr>\n",
       "    <tr>\n",
       "        <td style=\"padding-left: 1em; padding-right: 1em; text-align: center; vertical-align: top\">87629</td>\n",
       "        <td style=\"padding-left: 1em; padding-right: 1em; text-align: center; vertical-align: top\">[150527, 193189, 48118,<br>194312, 117244, 76237, ...</td>\n",
       "    </tr>\n",
       "    <tr>\n",
       "        <td style=\"padding-left: 1em; padding-right: 1em; text-align: center; vertical-align: top\">144280</td>\n",
       "        <td style=\"padding-left: 1em; padding-right: 1em; text-align: center; vertical-align: top\">[146299, 152259, 124943,<br>228453, 128314, 234732, ...</td>\n",
       "    </tr>\n",
       "    <tr>\n",
       "        <td style=\"padding-left: 1em; padding-right: 1em; text-align: center; vertical-align: top\">26439</td>\n",
       "        <td style=\"padding-left: 1em; padding-right: 1em; text-align: center; vertical-align: top\">[115331, 221658, 202409,<br>645, 55543, 252422, ...</td>\n",
       "    </tr>\n",
       "    <tr>\n",
       "        <td style=\"padding-left: 1em; padding-right: 1em; text-align: center; vertical-align: top\">120028</td>\n",
       "        <td style=\"padding-left: 1em; padding-right: 1em; text-align: center; vertical-align: top\">[141969, 92484, 110194,<br>93691, 164825, 120029, ...</td>\n",
       "    </tr>\n",
       "    <tr>\n",
       "        <td style=\"padding-left: 1em; padding-right: 1em; text-align: center; vertical-align: top\">171625</td>\n",
       "        <td style=\"padding-left: 1em; padding-right: 1em; text-align: center; vertical-align: top\">[130328, 173860, 80787,<br>171624, 60851, 217075, ...</td>\n",
       "    </tr>\n",
       "    <tr>\n",
       "        <td style=\"padding-left: 1em; padding-right: 1em; text-align: center; vertical-align: top\">159517</td>\n",
       "        <td style=\"padding-left: 1em; padding-right: 1em; text-align: center; vertical-align: top\">[192823, 9980, 148286,<br>148288, 190180, 129929, ...</td>\n",
       "    </tr>\n",
       "    <tr>\n",
       "        <td style=\"padding-left: 1em; padding-right: 1em; text-align: center; vertical-align: top\">69188</td>\n",
       "        <td style=\"padding-left: 1em; padding-right: 1em; text-align: center; vertical-align: top\">[70508, 29438, 127817,<br>35761, 3024, 72070, ...</td>\n",
       "    </tr>\n",
       "    <tr>\n",
       "        <td style=\"padding-left: 1em; padding-right: 1em; text-align: center; vertical-align: top\">199006</td>\n",
       "        <td style=\"padding-left: 1em; padding-right: 1em; text-align: center; vertical-align: top\">[186505, 203526, 149885,<br>29503, 180936, 180937] ...</td>\n",
       "    </tr>\n",
       "    <tr>\n",
       "        <td style=\"padding-left: 1em; padding-right: 1em; text-align: center; vertical-align: top\">122925</td>\n",
       "        <td style=\"padding-left: 1em; padding-right: 1em; text-align: center; vertical-align: top\">[83447, 155667, 223432,<br>143693, 79837, 20919, ...</td>\n",
       "    </tr>\n",
       "</table>\n",
       "[262111 rows x 2 columns]<br/>Note: Only the head of the SFrame is printed.<br/>You can use print_rows(num_rows=m, num_columns=n) to print more rows and columns.\n",
       "</div>"
      ],
      "text/plain": [
       "Columns:\n",
       "\tid\tint\n",
       "\tin_vertices\tlist\n",
       "\n",
       "Rows: 262111\n",
       "\n",
       "Data:\n",
       "+--------+-------------------------------+\n",
       "|   id   |          in_vertices          |\n",
       "+--------+-------------------------------+\n",
       "| 127950 | [98108, 124528, 53896, 197... |\n",
       "| 87629  | [150527, 193189, 48118, 19... |\n",
       "| 144280 | [146299, 152259, 124943, 2... |\n",
       "| 26439  | [115331, 221658, 202409, 6... |\n",
       "| 120028 | [141969, 92484, 110194, 93... |\n",
       "| 171625 | [130328, 173860, 80787, 17... |\n",
       "| 159517 | [192823, 9980, 148286, 148... |\n",
       "| 69188  | [70508, 29438, 127817, 357... |\n",
       "| 199006 | [186505, 203526, 149885, 2... |\n",
       "| 122925 | [83447, 155667, 223432, 14... |\n",
       "+--------+-------------------------------+\n",
       "[262111 rows x 2 columns]\n",
       "Note: Only the head of the SFrame is printed.\n",
       "You can use print_rows(num_rows=m, num_columns=n) to print more rows and columns."
      ]
     },
     "execution_count": 18,
     "metadata": {},
     "output_type": "execute_result"
    }
   ],
   "source": [
    "# calculating each vertices in and out connections\n",
    "out_vertices = edges.groupby(\"src\", {\"out_vertices\": gl.aggregate.CONCAT(\"dst\")})\n",
    "out_vertices.rename({\"src\": \"id\"})\n",
    "\n",
    "in_vertices = edges.groupby(\"dst\", {\"in_vertices\": gl.aggregate.CONCAT(\"src\")})\n",
    "in_vertices.rename({\"dst\": \"id\"})"
   ]
  },
  {
   "cell_type": "code",
   "execution_count": 19,
   "metadata": {
    "collapsed": false
   },
   "outputs": [
    {
     "data": {
      "text/html": [
       "<div style=\"max-height:1000px;max-width:1500px;overflow:auto;\"><table frame=\"box\" rules=\"cols\">\n",
       "    <tr>\n",
       "        <th style=\"padding-left: 1em; padding-right: 1em; text-align: center\">id</th>\n",
       "        <th style=\"padding-left: 1em; padding-right: 1em; text-align: center\">out_vertices</th>\n",
       "        <th style=\"padding-left: 1em; padding-right: 1em; text-align: center\">in_vertices</th>\n",
       "    </tr>\n",
       "    <tr>\n",
       "        <td style=\"padding-left: 1em; padding-right: 1em; text-align: center; vertical-align: top\">127950</td>\n",
       "        <td style=\"padding-left: 1em; padding-right: 1em; text-align: center; vertical-align: top\">[258571, 56758, 127952,<br>169407, 36117, 179833, ...</td>\n",
       "        <td style=\"padding-left: 1em; padding-right: 1em; text-align: center; vertical-align: top\">[98108, 124528, 53896,<br>197465, 127952] ...</td>\n",
       "    </tr>\n",
       "    <tr>\n",
       "        <td style=\"padding-left: 1em; padding-right: 1em; text-align: center; vertical-align: top\">87629</td>\n",
       "        <td style=\"padding-left: 1em; padding-right: 1em; text-align: center; vertical-align: top\">[150007, 6873, 117244,<br>123028, 105937, 137137, ...</td>\n",
       "        <td style=\"padding-left: 1em; padding-right: 1em; text-align: center; vertical-align: top\">[150527, 193189, 48118,<br>194312, 117244, 76237, ...</td>\n",
       "    </tr>\n",
       "    <tr>\n",
       "        <td style=\"padding-left: 1em; padding-right: 1em; text-align: center; vertical-align: top\">144280</td>\n",
       "        <td style=\"padding-left: 1em; padding-right: 1em; text-align: center; vertical-align: top\">[248624, 243671, 228566,<br>152259, 10677, 175964, ...</td>\n",
       "        <td style=\"padding-left: 1em; padding-right: 1em; text-align: center; vertical-align: top\">[146299, 152259, 124943,<br>228453, 128314, 234732, ...</td>\n",
       "    </tr>\n",
       "</table>\n",
       "[3 rows x 3 columns]<br/>\n",
       "</div>"
      ],
      "text/plain": [
       "Columns:\n",
       "\tid\tint\n",
       "\tout_vertices\tlist\n",
       "\tin_vertices\tlist\n",
       "\n",
       "Rows: 3\n",
       "\n",
       "Data:\n",
       "+--------+-------------------------------+-------------------------------+\n",
       "|   id   |          out_vertices         |          in_vertices          |\n",
       "+--------+-------------------------------+-------------------------------+\n",
       "| 127950 | [258571, 56758, 127952, 16... | [98108, 124528, 53896, 197... |\n",
       "| 87629  | [150007, 6873, 117244, 123... | [150527, 193189, 48118, 19... |\n",
       "| 144280 | [248624, 243671, 228566, 1... | [146299, 152259, 124943, 2... |\n",
       "+--------+-------------------------------+-------------------------------+\n",
       "[3 rows x 3 columns]"
      ]
     },
     "execution_count": 19,
     "metadata": {},
     "output_type": "execute_result"
    }
   ],
   "source": [
    "# join in and out connections with all_vertices\n",
    "all_vertices = all_vertices.join(out_vertices, on=\"id\", how=\"outer\")\n",
    "all_vertices = all_vertices.join(in_vertices, on=\"id\", how=\"outer\")\n",
    "\n",
    "# replace missing values with empty lists\n",
    "all_vertices = all_vertices.fillna('in_vertices',[])\n",
    "all_vertices = all_vertices.fillna('out_vertices',[])\n",
    "all_vertices.head(3)"
   ]
  },
  {
   "cell_type": "code",
   "execution_count": 20,
   "metadata": {
    "collapsed": true
   },
   "outputs": [],
   "source": [
    "#список как входящих так и исходящих вершин\n",
    "all_vertices['vertices'] = all_vertices['in_vertices', 'out_vertices'].apply(lambda x: \n",
    "                                                                           set(x['in_vertices'] + x['out_vertices']))\n",
    "#список вершин, являющихся и входящими и исходящими\n",
    "all_vertices['in_out_vertices'] = all_vertices['in_vertices', 'out_vertices'].apply(lambda x: \n",
    "                                                         list(set(x['in_vertices']) & set(x['out_vertices'])))"
   ]
  },
  {
   "cell_type": "markdown",
   "metadata": {},
   "source": [
    "Мы получили базовый набор данных - список входящих и исходящих вершин, для каждой вершины. Теперь найдем количества вершин для метрик 1 и 2. Метрики 3 и 4 вы посчитаете сами"
   ]
  },
  {
   "cell_type": "code",
   "execution_count": 21,
   "metadata": {
    "collapsed": true
   },
   "outputs": [],
   "source": [
    "# in_degree - number of users following each vertex\n",
    "all_vertices['in_degree'] = all_vertices[\"in_vertices\"].apply(lambda x: len(x) )\n",
    "\n",
    "# out_degree - number of users each vertex is following\n",
    "all_vertices['out_degree'] = all_vertices[\"out_vertices\"].apply(lambda x: len(x) )"
   ]
  },
  {
   "cell_type": "code",
   "execution_count": 22,
   "metadata": {
    "collapsed": false
   },
   "outputs": [],
   "source": [
    "all_vertices['degree'] = all_vertices['vertices'].apply(lambda x: len(x)) \n",
    "all_vertices['in_out_degree'] = all_vertices['in_out_vertices'].apply(lambda x: len(x)) "
   ]
  },
  {
   "cell_type": "code",
   "execution_count": 23,
   "metadata": {
    "collapsed": false
   },
   "outputs": [
    {
     "data": {
      "text/html": [
       "<div style=\"max-height:1000px;max-width:1500px;overflow:auto;\"><table frame=\"box\" rules=\"cols\">\n",
       "    <tr>\n",
       "        <th style=\"padding-left: 1em; padding-right: 1em; text-align: center\">id</th>\n",
       "        <th style=\"padding-left: 1em; padding-right: 1em; text-align: center\">out_vertices</th>\n",
       "        <th style=\"padding-left: 1em; padding-right: 1em; text-align: center\">in_vertices</th>\n",
       "        <th style=\"padding-left: 1em; padding-right: 1em; text-align: center\">vertices</th>\n",
       "    </tr>\n",
       "    <tr>\n",
       "        <td style=\"padding-left: 1em; padding-right: 1em; text-align: center; vertical-align: top\">127950</td>\n",
       "        <td style=\"padding-left: 1em; padding-right: 1em; text-align: center; vertical-align: top\">[258571, 56758, 127952,<br>169407, 36117, 179833, ...</td>\n",
       "        <td style=\"padding-left: 1em; padding-right: 1em; text-align: center; vertical-align: top\">[98108, 124528, 53896,<br>197465, 127952] ...</td>\n",
       "        <td style=\"padding-left: 1em; padding-right: 1em; text-align: center; vertical-align: top\">[127952.0, 44260.0,<br>53896.0, 258571.0, ...</td>\n",
       "    </tr>\n",
       "    <tr>\n",
       "        <td style=\"padding-left: 1em; padding-right: 1em; text-align: center; vertical-align: top\">87629</td>\n",
       "        <td style=\"padding-left: 1em; padding-right: 1em; text-align: center; vertical-align: top\">[150007, 6873, 117244,<br>123028, 105937, 137137, ...</td>\n",
       "        <td style=\"padding-left: 1em; padding-right: 1em; text-align: center; vertical-align: top\">[150527, 193189, 48118,<br>194312, 117244, 76237, ...</td>\n",
       "        <td style=\"padding-left: 1em; padding-right: 1em; text-align: center; vertical-align: top\">[215936.0, 166149.0,<br>183942.0, 183943.0, ...</td>\n",
       "    </tr>\n",
       "    <tr>\n",
       "        <td style=\"padding-left: 1em; padding-right: 1em; text-align: center; vertical-align: top\">144280</td>\n",
       "        <td style=\"padding-left: 1em; padding-right: 1em; text-align: center; vertical-align: top\">[248624, 243671, 228566,<br>152259, 10677, 175964, ...</td>\n",
       "        <td style=\"padding-left: 1em; padding-right: 1em; text-align: center; vertical-align: top\">[146299, 152259, 124943,<br>228453, 128314, 234732, ...</td>\n",
       "        <td style=\"padding-left: 1em; padding-right: 1em; text-align: center; vertical-align: top\">[25249.0, 152258.0,<br>152259.0, 22436.0, ...</td>\n",
       "    </tr>\n",
       "</table>\n",
       "<table frame=\"box\" rules=\"cols\">\n",
       "    <tr>\n",
       "        <th style=\"padding-left: 1em; padding-right: 1em; text-align: center\">in_out_vertices</th>\n",
       "        <th style=\"padding-left: 1em; padding-right: 1em; text-align: center\">in_degree</th>\n",
       "        <th style=\"padding-left: 1em; padding-right: 1em; text-align: center\">out_degree</th>\n",
       "        <th style=\"padding-left: 1em; padding-right: 1em; text-align: center\">degree</th>\n",
       "        <th style=\"padding-left: 1em; padding-right: 1em; text-align: center\">in_out_degree</th>\n",
       "    </tr>\n",
       "    <tr>\n",
       "        <td style=\"padding-left: 1em; padding-right: 1em; text-align: center; vertical-align: top\">[127952.0, 98108.0]</td>\n",
       "        <td style=\"padding-left: 1em; padding-right: 1em; text-align: center; vertical-align: top\">5</td>\n",
       "        <td style=\"padding-left: 1em; padding-right: 1em; text-align: center; vertical-align: top\">12</td>\n",
       "        <td style=\"padding-left: 1em; padding-right: 1em; text-align: center; vertical-align: top\">15</td>\n",
       "        <td style=\"padding-left: 1em; padding-right: 1em; text-align: center; vertical-align: top\">2</td>\n",
       "    </tr>\n",
       "    <tr>\n",
       "        <td style=\"padding-left: 1em; padding-right: 1em; text-align: center; vertical-align: top\">[137136.0, 105937.0,<br>117244.0, 127102.0, ...</td>\n",
       "        <td style=\"padding-left: 1em; padding-right: 1em; text-align: center; vertical-align: top\">24</td>\n",
       "        <td style=\"padding-left: 1em; padding-right: 1em; text-align: center; vertical-align: top\">10</td>\n",
       "        <td style=\"padding-left: 1em; padding-right: 1em; text-align: center; vertical-align: top\">29</td>\n",
       "        <td style=\"padding-left: 1em; padding-right: 1em; text-align: center; vertical-align: top\">5</td>\n",
       "    </tr>\n",
       "    <tr>\n",
       "        <td style=\"padding-left: 1em; padding-right: 1em; text-align: center; vertical-align: top\">[152258.0, 152259.0,<br>124943.0] ...</td>\n",
       "        <td style=\"padding-left: 1em; padding-right: 1em; text-align: center; vertical-align: top\">7</td>\n",
       "        <td style=\"padding-left: 1em; padding-right: 1em; text-align: center; vertical-align: top\">14</td>\n",
       "        <td style=\"padding-left: 1em; padding-right: 1em; text-align: center; vertical-align: top\">18</td>\n",
       "        <td style=\"padding-left: 1em; padding-right: 1em; text-align: center; vertical-align: top\">3</td>\n",
       "    </tr>\n",
       "</table>\n",
       "[3 rows x 9 columns]<br/>\n",
       "</div>"
      ],
      "text/plain": [
       "Columns:\n",
       "\tid\tint\n",
       "\tout_vertices\tlist\n",
       "\tin_vertices\tlist\n",
       "\tvertices\tarray\n",
       "\tin_out_vertices\tarray\n",
       "\tin_degree\tint\n",
       "\tout_degree\tint\n",
       "\tdegree\tint\n",
       "\tin_out_degree\tint\n",
       "\n",
       "Rows: 3\n",
       "\n",
       "Data:\n",
       "+--------+-------------------------------+-------------------------------+\n",
       "|   id   |          out_vertices         |          in_vertices          |\n",
       "+--------+-------------------------------+-------------------------------+\n",
       "| 127950 | [258571, 56758, 127952, 16... | [98108, 124528, 53896, 197... |\n",
       "| 87629  | [150007, 6873, 117244, 123... | [150527, 193189, 48118, 19... |\n",
       "| 144280 | [248624, 243671, 228566, 1... | [146299, 152259, 124943, 2... |\n",
       "+--------+-------------------------------+-------------------------------+\n",
       "+-------------------------------+--------------------------------+-----------+\n",
       "|            vertices           |        in_out_vertices         | in_degree |\n",
       "+-------------------------------+--------------------------------+-----------+\n",
       "| [127952.0, 44260.0, 53896.... |      [127952.0, 98108.0]       |     5     |\n",
       "| [215936.0, 166149.0, 18394... | [137136.0, 105937.0, 11724...  |     24    |\n",
       "| [25249.0, 152258.0, 152259... | [152258.0, 152259.0, 124943.0] |     7     |\n",
       "+-------------------------------+--------------------------------+-----------+\n",
       "+------------+--------+---------------+\n",
       "| out_degree | degree | in_out_degree |\n",
       "+------------+--------+---------------+\n",
       "|     12     |   15   |       2       |\n",
       "|     10     |   29   |       5       |\n",
       "|     14     |   18   |       3       |\n",
       "+------------+--------+---------------+\n",
       "[3 rows x 9 columns]"
      ]
     },
     "execution_count": 23,
     "metadata": {},
     "output_type": "execute_result"
    }
   ],
   "source": [
    "all_vertices.head(3)"
   ]
  },
  {
   "cell_type": "markdown",
   "metadata": {},
   "source": [
    "Мы получили характеристики для каждой вершины графа. Так как у нас задача предсказания наличия ребра, мы должны составить описание каждого ребра, используя метрики вершин. После составления характеристик ребер, мы можем перейти к генерации свойств ребер, взяв за основу метрики вершин ребра. Пример метрик для ребер, которые мы можем найти:\n",
    "\n",
    "1. Общие друзья вершин ребра\n",
    "2. Общее количество друзей вершин ребра\n",
    "3. Коэффициенты Жаккара, Пирсона, Адамик - Адара, косинусная мера\n",
    "\n",
    "Данные метрики находятся для каждого списка вершин, пунктов 1 - 4"
   ]
  },
  {
   "cell_type": "code",
   "execution_count": 24,
   "metadata": {
    "collapsed": false
   },
   "outputs": [
    {
     "data": {
      "text/html": [
       "<div style=\"max-height:1000px;max-width:1500px;overflow:auto;\"><table frame=\"box\" rules=\"cols\">\n",
       "    <tr>\n",
       "        <th style=\"padding-left: 1em; padding-right: 1em; text-align: center\">id</th>\n",
       "        <th style=\"padding-left: 1em; padding-right: 1em; text-align: center\">out_vertices</th>\n",
       "        <th style=\"padding-left: 1em; padding-right: 1em; text-align: center\">in_vertices</th>\n",
       "        <th style=\"padding-left: 1em; padding-right: 1em; text-align: center\">vertices</th>\n",
       "    </tr>\n",
       "    <tr>\n",
       "        <td style=\"padding-left: 1em; padding-right: 1em; text-align: center; vertical-align: top\">127950</td>\n",
       "        <td style=\"padding-left: 1em; padding-right: 1em; text-align: center; vertical-align: top\">[258571, 56758, 127952,<br>169407, 36117, 179833, ...</td>\n",
       "        <td style=\"padding-left: 1em; padding-right: 1em; text-align: center; vertical-align: top\">[98108, 124528, 53896,<br>197465, 127952] ...</td>\n",
       "        <td style=\"padding-left: 1em; padding-right: 1em; text-align: center; vertical-align: top\">[127952.0, 44260.0,<br>53896.0, 258571.0, ...</td>\n",
       "    </tr>\n",
       "    <tr>\n",
       "        <td style=\"padding-left: 1em; padding-right: 1em; text-align: center; vertical-align: top\">87629</td>\n",
       "        <td style=\"padding-left: 1em; padding-right: 1em; text-align: center; vertical-align: top\">[150007, 6873, 117244,<br>123028, 105937, 137137, ...</td>\n",
       "        <td style=\"padding-left: 1em; padding-right: 1em; text-align: center; vertical-align: top\">[150527, 193189, 48118,<br>194312, 117244, 76237, ...</td>\n",
       "        <td style=\"padding-left: 1em; padding-right: 1em; text-align: center; vertical-align: top\">[215936.0, 166149.0,<br>183942.0, 183943.0, ...</td>\n",
       "    </tr>\n",
       "    <tr>\n",
       "        <td style=\"padding-left: 1em; padding-right: 1em; text-align: center; vertical-align: top\">144280</td>\n",
       "        <td style=\"padding-left: 1em; padding-right: 1em; text-align: center; vertical-align: top\">[248624, 243671, 228566,<br>152259, 10677, 175964, ...</td>\n",
       "        <td style=\"padding-left: 1em; padding-right: 1em; text-align: center; vertical-align: top\">[146299, 152259, 124943,<br>228453, 128314, 234732, ...</td>\n",
       "        <td style=\"padding-left: 1em; padding-right: 1em; text-align: center; vertical-align: top\">[25249.0, 152258.0,<br>152259.0, 22436.0, ...</td>\n",
       "    </tr>\n",
       "    <tr>\n",
       "        <td style=\"padding-left: 1em; padding-right: 1em; text-align: center; vertical-align: top\">26439</td>\n",
       "        <td style=\"padding-left: 1em; padding-right: 1em; text-align: center; vertical-align: top\">[24442, 68590, 107391,<br>16901, 85092, 26437, ...</td>\n",
       "        <td style=\"padding-left: 1em; padding-right: 1em; text-align: center; vertical-align: top\">[115331, 221658, 202409,<br>645, 55543, 252422, ...</td>\n",
       "        <td style=\"padding-left: 1em; padding-right: 1em; text-align: center; vertical-align: top\">[115331.0, 645.0,<br>252422.0, 50447.0, ...</td>\n",
       "    </tr>\n",
       "    <tr>\n",
       "        <td style=\"padding-left: 1em; padding-right: 1em; text-align: center; vertical-align: top\">120028</td>\n",
       "        <td style=\"padding-left: 1em; padding-right: 1em; text-align: center; vertical-align: top\">[8849, 110194, 120029,<br>84025, 84175, 175089, ...</td>\n",
       "        <td style=\"padding-left: 1em; padding-right: 1em; text-align: center; vertical-align: top\">[141969, 92484, 110194,<br>93691, 164825, 120029, ...</td>\n",
       "        <td style=\"padding-left: 1em; padding-right: 1em; text-align: center; vertical-align: top\">[35062.0, 175089.0,<br>92484.0, 222821.0, ...</td>\n",
       "    </tr>\n",
       "    <tr>\n",
       "        <td style=\"padding-left: 1em; padding-right: 1em; text-align: center; vertical-align: top\">171625</td>\n",
       "        <td style=\"padding-left: 1em; padding-right: 1em; text-align: center; vertical-align: top\">[221158, 124545, 109161,<br>154933, 18637, 130328, ...</td>\n",
       "        <td style=\"padding-left: 1em; padding-right: 1em; text-align: center; vertical-align: top\">[130328, 173860, 80787,<br>171624, 60851, 217075, ...</td>\n",
       "        <td style=\"padding-left: 1em; padding-right: 1em; text-align: center; vertical-align: top\">[9857.0, 173860.0,<br>236965.0, 221158.0, ...</td>\n",
       "    </tr>\n",
       "    <tr>\n",
       "        <td style=\"padding-left: 1em; padding-right: 1em; text-align: center; vertical-align: top\">159517</td>\n",
       "        <td style=\"padding-left: 1em; padding-right: 1em; text-align: center; vertical-align: top\">[29284, 58549, 50052,<br>35330, 148286, 103192, ...</td>\n",
       "        <td style=\"padding-left: 1em; padding-right: 1em; text-align: center; vertical-align: top\">[192823, 9980, 148286,<br>148288, 190180, 129929, ...</td>\n",
       "        <td style=\"padding-left: 1em; padding-right: 1em; text-align: center; vertical-align: top\">[148288.0, 35330.0,<br>75659.0, 190180.0, ...</td>\n",
       "    </tr>\n",
       "    <tr>\n",
       "        <td style=\"padding-left: 1em; padding-right: 1em; text-align: center; vertical-align: top\">69188</td>\n",
       "        <td style=\"padding-left: 1em; padding-right: 1em; text-align: center; vertical-align: top\">[11116, 40659, 229854,<br>97596, 103190, 35761, ...</td>\n",
       "        <td style=\"padding-left: 1em; padding-right: 1em; text-align: center; vertical-align: top\">[70508, 29438, 127817,<br>35761, 3024, 72070, ...</td>\n",
       "        <td style=\"padding-left: 1em; padding-right: 1em; text-align: center; vertical-align: top\">[70971.0, 87525.0,<br>72070.0, 127817.0, ...</td>\n",
       "    </tr>\n",
       "    <tr>\n",
       "        <td style=\"padding-left: 1em; padding-right: 1em; text-align: center; vertical-align: top\">199006</td>\n",
       "        <td style=\"padding-left: 1em; padding-right: 1em; text-align: center; vertical-align: top\">[150417, 203526, 164209,<br>186504, 13003, 202823, ...</td>\n",
       "        <td style=\"padding-left: 1em; padding-right: 1em; text-align: center; vertical-align: top\">[186505, 203526, 149885,<br>29503, 180936, 180937] ...</td>\n",
       "        <td style=\"padding-left: 1em; padding-right: 1em; text-align: center; vertical-align: top\">[151458.0, 203526.0,<br>164209.0, 180936.0, ...</td>\n",
       "    </tr>\n",
       "    <tr>\n",
       "        <td style=\"padding-left: 1em; padding-right: 1em; text-align: center; vertical-align: top\">122925</td>\n",
       "        <td style=\"padding-left: 1em; padding-right: 1em; text-align: center; vertical-align: top\">[45400, 191555, 57750,<br>17442, 55304, 102263, ...</td>\n",
       "        <td style=\"padding-left: 1em; padding-right: 1em; text-align: center; vertical-align: top\">[83447, 155667, 223432,<br>143693, 79837, 20919, ...</td>\n",
       "        <td style=\"padding-left: 1em; padding-right: 1em; text-align: center; vertical-align: top\">[55304.0, 55305.0,<br>116683.0, 155667.0, ...</td>\n",
       "    </tr>\n",
       "</table>\n",
       "<table frame=\"box\" rules=\"cols\">\n",
       "    <tr>\n",
       "        <th style=\"padding-left: 1em; padding-right: 1em; text-align: center\">in_out_vertices</th>\n",
       "        <th style=\"padding-left: 1em; padding-right: 1em; text-align: center\">in_degree</th>\n",
       "        <th style=\"padding-left: 1em; padding-right: 1em; text-align: center\">out_degree</th>\n",
       "        <th style=\"padding-left: 1em; padding-right: 1em; text-align: center\">degree</th>\n",
       "        <th style=\"padding-left: 1em; padding-right: 1em; text-align: center\">in_out_degree</th>\n",
       "    </tr>\n",
       "    <tr>\n",
       "        <td style=\"padding-left: 1em; padding-right: 1em; text-align: center; vertical-align: top\">[127952.0, 98108.0]</td>\n",
       "        <td style=\"padding-left: 1em; padding-right: 1em; text-align: center; vertical-align: top\">5</td>\n",
       "        <td style=\"padding-left: 1em; padding-right: 1em; text-align: center; vertical-align: top\">12</td>\n",
       "        <td style=\"padding-left: 1em; padding-right: 1em; text-align: center; vertical-align: top\">15</td>\n",
       "        <td style=\"padding-left: 1em; padding-right: 1em; text-align: center; vertical-align: top\">2</td>\n",
       "    </tr>\n",
       "    <tr>\n",
       "        <td style=\"padding-left: 1em; padding-right: 1em; text-align: center; vertical-align: top\">[137136.0, 105937.0,<br>117244.0, 127102.0, ...</td>\n",
       "        <td style=\"padding-left: 1em; padding-right: 1em; text-align: center; vertical-align: top\">24</td>\n",
       "        <td style=\"padding-left: 1em; padding-right: 1em; text-align: center; vertical-align: top\">10</td>\n",
       "        <td style=\"padding-left: 1em; padding-right: 1em; text-align: center; vertical-align: top\">29</td>\n",
       "        <td style=\"padding-left: 1em; padding-right: 1em; text-align: center; vertical-align: top\">5</td>\n",
       "    </tr>\n",
       "    <tr>\n",
       "        <td style=\"padding-left: 1em; padding-right: 1em; text-align: center; vertical-align: top\">[152258.0, 152259.0,<br>124943.0] ...</td>\n",
       "        <td style=\"padding-left: 1em; padding-right: 1em; text-align: center; vertical-align: top\">7</td>\n",
       "        <td style=\"padding-left: 1em; padding-right: 1em; text-align: center; vertical-align: top\">14</td>\n",
       "        <td style=\"padding-left: 1em; padding-right: 1em; text-align: center; vertical-align: top\">18</td>\n",
       "        <td style=\"padding-left: 1em; padding-right: 1em; text-align: center; vertical-align: top\">3</td>\n",
       "    </tr>\n",
       "    <tr>\n",
       "        <td style=\"padding-left: 1em; padding-right: 1em; text-align: center; vertical-align: top\">[34277.0, 21710.0]</td>\n",
       "        <td style=\"padding-left: 1em; padding-right: 1em; text-align: center; vertical-align: top\">16</td>\n",
       "        <td style=\"padding-left: 1em; padding-right: 1em; text-align: center; vertical-align: top\">14</td>\n",
       "        <td style=\"padding-left: 1em; padding-right: 1em; text-align: center; vertical-align: top\">28</td>\n",
       "        <td style=\"padding-left: 1em; padding-right: 1em; text-align: center; vertical-align: top\">2</td>\n",
       "    </tr>\n",
       "    <tr>\n",
       "        <td style=\"padding-left: 1em; padding-right: 1em; text-align: center; vertical-align: top\">[110193.0, 110194.0,<br>120029.0, 141969.0] ...</td>\n",
       "        <td style=\"padding-left: 1em; padding-right: 1em; text-align: center; vertical-align: top\">12</td>\n",
       "        <td style=\"padding-left: 1em; padding-right: 1em; text-align: center; vertical-align: top\">8</td>\n",
       "        <td style=\"padding-left: 1em; padding-right: 1em; text-align: center; vertical-align: top\">16</td>\n",
       "        <td style=\"padding-left: 1em; padding-right: 1em; text-align: center; vertical-align: top\">4</td>\n",
       "    </tr>\n",
       "    <tr>\n",
       "        <td style=\"padding-left: 1em; padding-right: 1em; text-align: center; vertical-align: top\">[171624.0, 130328.0,<br>130329.0] ...</td>\n",
       "        <td style=\"padding-left: 1em; padding-right: 1em; text-align: center; vertical-align: top\">9</td>\n",
       "        <td style=\"padding-left: 1em; padding-right: 1em; text-align: center; vertical-align: top\">14</td>\n",
       "        <td style=\"padding-left: 1em; padding-right: 1em; text-align: center; vertical-align: top\">20</td>\n",
       "        <td style=\"padding-left: 1em; padding-right: 1em; text-align: center; vertical-align: top\">3</td>\n",
       "    </tr>\n",
       "    <tr>\n",
       "        <td style=\"padding-left: 1em; padding-right: 1em; text-align: center; vertical-align: top\">[148288.0, 148286.0]</td>\n",
       "        <td style=\"padding-left: 1em; padding-right: 1em; text-align: center; vertical-align: top\">8</td>\n",
       "        <td style=\"padding-left: 1em; padding-right: 1em; text-align: center; vertical-align: top\">11</td>\n",
       "        <td style=\"padding-left: 1em; padding-right: 1em; text-align: center; vertical-align: top\">17</td>\n",
       "        <td style=\"padding-left: 1em; padding-right: 1em; text-align: center; vertical-align: top\">2</td>\n",
       "    </tr>\n",
       "    <tr>\n",
       "        <td style=\"padding-left: 1em; padding-right: 1em; text-align: center; vertical-align: top\">[35761.0, 40659.0,<br>103190.0] ...</td>\n",
       "        <td style=\"padding-left: 1em; padding-right: 1em; text-align: center; vertical-align: top\">12</td>\n",
       "        <td style=\"padding-left: 1em; padding-right: 1em; text-align: center; vertical-align: top\">11</td>\n",
       "        <td style=\"padding-left: 1em; padding-right: 1em; text-align: center; vertical-align: top\">20</td>\n",
       "        <td style=\"padding-left: 1em; padding-right: 1em; text-align: center; vertical-align: top\">3</td>\n",
       "    </tr>\n",
       "    <tr>\n",
       "        <td style=\"padding-left: 1em; padding-right: 1em; text-align: center; vertical-align: top\">[186505.0, 203526.0,<br>180937.0] ...</td>\n",
       "        <td style=\"padding-left: 1em; padding-right: 1em; text-align: center; vertical-align: top\">6</td>\n",
       "        <td style=\"padding-left: 1em; padding-right: 1em; text-align: center; vertical-align: top\">13</td>\n",
       "        <td style=\"padding-left: 1em; padding-right: 1em; text-align: center; vertical-align: top\">16</td>\n",
       "        <td style=\"padding-left: 1em; padding-right: 1em; text-align: center; vertical-align: top\">3</td>\n",
       "    </tr>\n",
       "    <tr>\n",
       "        <td style=\"padding-left: 1em; padding-right: 1em; text-align: center; vertical-align: top\">[116683.0, 57750.0]</td>\n",
       "        <td style=\"padding-left: 1em; padding-right: 1em; text-align: center; vertical-align: top\">13</td>\n",
       "        <td style=\"padding-left: 1em; padding-right: 1em; text-align: center; vertical-align: top\">11</td>\n",
       "        <td style=\"padding-left: 1em; padding-right: 1em; text-align: center; vertical-align: top\">22</td>\n",
       "        <td style=\"padding-left: 1em; padding-right: 1em; text-align: center; vertical-align: top\">2</td>\n",
       "    </tr>\n",
       "</table>\n",
       "[262111 rows x 9 columns]<br/>Note: Only the head of the SFrame is printed.<br/>You can use print_rows(num_rows=m, num_columns=n) to print more rows and columns.\n",
       "</div>"
      ],
      "text/plain": [
       "Columns:\n",
       "\tid\tint\n",
       "\tout_vertices\tlist\n",
       "\tin_vertices\tlist\n",
       "\tvertices\tarray\n",
       "\tin_out_vertices\tarray\n",
       "\tin_degree\tint\n",
       "\tout_degree\tint\n",
       "\tdegree\tint\n",
       "\tin_out_degree\tint\n",
       "\n",
       "Rows: 262111\n",
       "\n",
       "Data:\n",
       "+--------+-------------------------------+-------------------------------+\n",
       "|   id   |          out_vertices         |          in_vertices          |\n",
       "+--------+-------------------------------+-------------------------------+\n",
       "| 127950 | [258571, 56758, 127952, 16... | [98108, 124528, 53896, 197... |\n",
       "| 87629  | [150007, 6873, 117244, 123... | [150527, 193189, 48118, 19... |\n",
       "| 144280 | [248624, 243671, 228566, 1... | [146299, 152259, 124943, 2... |\n",
       "| 26439  | [24442, 68590, 107391, 169... | [115331, 221658, 202409, 6... |\n",
       "| 120028 | [8849, 110194, 120029, 840... | [141969, 92484, 110194, 93... |\n",
       "| 171625 | [221158, 124545, 109161, 1... | [130328, 173860, 80787, 17... |\n",
       "| 159517 | [29284, 58549, 50052, 3533... | [192823, 9980, 148286, 148... |\n",
       "| 69188  | [11116, 40659, 229854, 975... | [70508, 29438, 127817, 357... |\n",
       "| 199006 | [150417, 203526, 164209, 1... | [186505, 203526, 149885, 2... |\n",
       "| 122925 | [45400, 191555, 57750, 174... | [83447, 155667, 223432, 14... |\n",
       "+--------+-------------------------------+-------------------------------+\n",
       "+-------------------------------+--------------------------------+-----------+\n",
       "|            vertices           |        in_out_vertices         | in_degree |\n",
       "+-------------------------------+--------------------------------+-----------+\n",
       "| [127952.0, 44260.0, 53896.... |      [127952.0, 98108.0]       |     5     |\n",
       "| [215936.0, 166149.0, 18394... | [137136.0, 105937.0, 11724...  |     24    |\n",
       "| [25249.0, 152258.0, 152259... | [152258.0, 152259.0, 124943.0] |     7     |\n",
       "| [115331.0, 645.0, 252422.0... |       [34277.0, 21710.0]       |     16    |\n",
       "| [35062.0, 175089.0, 92484.... | [110193.0, 110194.0, 12002...  |     12    |\n",
       "| [9857.0, 173860.0, 236965.... | [171624.0, 130328.0, 130329.0] |     9     |\n",
       "| [148288.0, 35330.0, 75659.... |      [148288.0, 148286.0]      |     8     |\n",
       "| [70971.0, 87525.0, 72070.0... |  [35761.0, 40659.0, 103190.0]  |     12    |\n",
       "| [151458.0, 203526.0, 16420... | [186505.0, 203526.0, 180937.0] |     6     |\n",
       "| [55304.0, 55305.0, 116683.... |      [116683.0, 57750.0]       |     13    |\n",
       "+-------------------------------+--------------------------------+-----------+\n",
       "+------------+--------+---------------+\n",
       "| out_degree | degree | in_out_degree |\n",
       "+------------+--------+---------------+\n",
       "|     12     |   15   |       2       |\n",
       "|     10     |   29   |       5       |\n",
       "|     14     |   18   |       3       |\n",
       "|     14     |   28   |       2       |\n",
       "|     8      |   16   |       4       |\n",
       "|     14     |   20   |       3       |\n",
       "|     11     |   17   |       2       |\n",
       "|     11     |   20   |       3       |\n",
       "|     13     |   16   |       3       |\n",
       "|     11     |   22   |       2       |\n",
       "+------------+--------+---------------+\n",
       "[262111 rows x 9 columns]\n",
       "Note: Only the head of the SFrame is printed.\n",
       "You can use print_rows(num_rows=m, num_columns=n) to print more rows and columns."
      ]
     },
     "execution_count": 24,
     "metadata": {},
     "output_type": "execute_result"
    }
   ],
   "source": [
    "all_vertices"
   ]
  },
  {
   "cell_type": "code",
   "execution_count": 25,
   "metadata": {
    "collapsed": false
   },
   "outputs": [
    {
     "data": {
      "text/html": [
       "<div style=\"max-height:1000px;max-width:1500px;overflow:auto;\"><table frame=\"box\" rules=\"cols\">\n",
       "    <tr>\n",
       "        <th style=\"padding-left: 1em; padding-right: 1em; text-align: center\">src</th>\n",
       "        <th style=\"padding-left: 1em; padding-right: 1em; text-align: center\">dst</th>\n",
       "        <th style=\"padding-left: 1em; padding-right: 1em; text-align: center\">class</th>\n",
       "    </tr>\n",
       "    <tr>\n",
       "        <td style=\"padding-left: 1em; padding-right: 1em; text-align: center; vertical-align: top\">258530</td>\n",
       "        <td style=\"padding-left: 1em; padding-right: 1em; text-align: center; vertical-align: top\">258529</td>\n",
       "        <td style=\"padding-left: 1em; padding-right: 1em; text-align: center; vertical-align: top\">1</td>\n",
       "    </tr>\n",
       "    <tr>\n",
       "        <td style=\"padding-left: 1em; padding-right: 1em; text-align: center; vertical-align: top\">20709</td>\n",
       "        <td style=\"padding-left: 1em; padding-right: 1em; text-align: center; vertical-align: top\">250796</td>\n",
       "        <td style=\"padding-left: 1em; padding-right: 1em; text-align: center; vertical-align: top\">0</td>\n",
       "    </tr>\n",
       "    <tr>\n",
       "        <td style=\"padding-left: 1em; padding-right: 1em; text-align: center; vertical-align: top\">492</td>\n",
       "        <td style=\"padding-left: 1em; padding-right: 1em; text-align: center; vertical-align: top\">183431</td>\n",
       "        <td style=\"padding-left: 1em; padding-right: 1em; text-align: center; vertical-align: top\">0</td>\n",
       "    </tr>\n",
       "    <tr>\n",
       "        <td style=\"padding-left: 1em; padding-right: 1em; text-align: center; vertical-align: top\">200162</td>\n",
       "        <td style=\"padding-left: 1em; padding-right: 1em; text-align: center; vertical-align: top\">151679</td>\n",
       "        <td style=\"padding-left: 1em; padding-right: 1em; text-align: center; vertical-align: top\">1</td>\n",
       "    </tr>\n",
       "    <tr>\n",
       "        <td style=\"padding-left: 1em; padding-right: 1em; text-align: center; vertical-align: top\">64498</td>\n",
       "        <td style=\"padding-left: 1em; padding-right: 1em; text-align: center; vertical-align: top\">163950</td>\n",
       "        <td style=\"padding-left: 1em; padding-right: 1em; text-align: center; vertical-align: top\">0</td>\n",
       "    </tr>\n",
       "    <tr>\n",
       "        <td style=\"padding-left: 1em; padding-right: 1em; text-align: center; vertical-align: top\">72957</td>\n",
       "        <td style=\"padding-left: 1em; padding-right: 1em; text-align: center; vertical-align: top\">74549</td>\n",
       "        <td style=\"padding-left: 1em; padding-right: 1em; text-align: center; vertical-align: top\">1</td>\n",
       "    </tr>\n",
       "    <tr>\n",
       "        <td style=\"padding-left: 1em; padding-right: 1em; text-align: center; vertical-align: top\">133326</td>\n",
       "        <td style=\"padding-left: 1em; padding-right: 1em; text-align: center; vertical-align: top\">110868</td>\n",
       "        <td style=\"padding-left: 1em; padding-right: 1em; text-align: center; vertical-align: top\">0</td>\n",
       "    </tr>\n",
       "    <tr>\n",
       "        <td style=\"padding-left: 1em; padding-right: 1em; text-align: center; vertical-align: top\">251714</td>\n",
       "        <td style=\"padding-left: 1em; padding-right: 1em; text-align: center; vertical-align: top\">105236</td>\n",
       "        <td style=\"padding-left: 1em; padding-right: 1em; text-align: center; vertical-align: top\">0</td>\n",
       "    </tr>\n",
       "    <tr>\n",
       "        <td style=\"padding-left: 1em; padding-right: 1em; text-align: center; vertical-align: top\">220484</td>\n",
       "        <td style=\"padding-left: 1em; padding-right: 1em; text-align: center; vertical-align: top\">179593</td>\n",
       "        <td style=\"padding-left: 1em; padding-right: 1em; text-align: center; vertical-align: top\">1</td>\n",
       "    </tr>\n",
       "    <tr>\n",
       "        <td style=\"padding-left: 1em; padding-right: 1em; text-align: center; vertical-align: top\">90268</td>\n",
       "        <td style=\"padding-left: 1em; padding-right: 1em; text-align: center; vertical-align: top\">68604</td>\n",
       "        <td style=\"padding-left: 1em; padding-right: 1em; text-align: center; vertical-align: top\">1</td>\n",
       "    </tr>\n",
       "</table>\n",
       "[2769707 rows x 3 columns]<br/>Note: Only the head of the SFrame is printed.<br/>You can use print_rows(num_rows=m, num_columns=n) to print more rows and columns.\n",
       "</div>"
      ],
      "text/plain": [
       "Columns:\n",
       "\tsrc\tint\n",
       "\tdst\tint\n",
       "\tclass\tint\n",
       "\n",
       "Rows: 2769707\n",
       "\n",
       "Data:\n",
       "+--------+--------+-------+\n",
       "|  src   |  dst   | class |\n",
       "+--------+--------+-------+\n",
       "| 258530 | 258529 |   1   |\n",
       "| 20709  | 250796 |   0   |\n",
       "|  492   | 183431 |   0   |\n",
       "| 200162 | 151679 |   1   |\n",
       "| 64498  | 163950 |   0   |\n",
       "| 72957  | 74549  |   1   |\n",
       "| 133326 | 110868 |   0   |\n",
       "| 251714 | 105236 |   0   |\n",
       "| 220484 | 179593 |   1   |\n",
       "| 90268  | 68604  |   1   |\n",
       "+--------+--------+-------+\n",
       "[2769707 rows x 3 columns]\n",
       "Note: Only the head of the SFrame is printed.\n",
       "You can use print_rows(num_rows=m, num_columns=n) to print more rows and columns."
      ]
     },
     "execution_count": 25,
     "metadata": {},
     "output_type": "execute_result"
    }
   ],
   "source": [
    "edges"
   ]
  },
  {
   "cell_type": "code",
   "execution_count": 26,
   "metadata": {
    "collapsed": false
   },
   "outputs": [
    {
     "data": {
      "text/html": [
       "<div style=\"max-height:1000px;max-width:1500px;overflow:auto;\"><table frame=\"box\" rules=\"cols\">\n",
       "    <tr>\n",
       "        <th style=\"padding-left: 1em; padding-right: 1em; text-align: center\">src</th>\n",
       "        <th style=\"padding-left: 1em; padding-right: 1em; text-align: center\">dst</th>\n",
       "        <th style=\"padding-left: 1em; padding-right: 1em; text-align: center\">class</th>\n",
       "        <th style=\"padding-left: 1em; padding-right: 1em; text-align: center\">src_out_vertices</th>\n",
       "        <th style=\"padding-left: 1em; padding-right: 1em; text-align: center\">src_in_vertices</th>\n",
       "        <th style=\"padding-left: 1em; padding-right: 1em; text-align: center\">src_vertices</th>\n",
       "    </tr>\n",
       "    <tr>\n",
       "        <td style=\"padding-left: 1em; padding-right: 1em; text-align: center; vertical-align: top\">258530</td>\n",
       "        <td style=\"padding-left: 1em; padding-right: 1em; text-align: center; vertical-align: top\">258529</td>\n",
       "        <td style=\"padding-left: 1em; padding-right: 1em; text-align: center; vertical-align: top\">1</td>\n",
       "        <td style=\"padding-left: 1em; padding-right: 1em; text-align: center; vertical-align: top\">[258529, 164966, 135813,<br>259852, 44771, 55034, ...</td>\n",
       "        <td style=\"padding-left: 1em; padding-right: 1em; text-align: center; vertical-align: top\">[258529, 151565, 258531,<br>48891, 255741, 59921, ...</td>\n",
       "        <td style=\"padding-left: 1em; padding-right: 1em; text-align: center; vertical-align: top\">[47808.0, 258529.0,<br>162146.0, 258531.0, ...</td>\n",
       "    </tr>\n",
       "    <tr>\n",
       "        <td style=\"padding-left: 1em; padding-right: 1em; text-align: center; vertical-align: top\">20709</td>\n",
       "        <td style=\"padding-left: 1em; padding-right: 1em; text-align: center; vertical-align: top\">250796</td>\n",
       "        <td style=\"padding-left: 1em; padding-right: 1em; text-align: center; vertical-align: top\">0</td>\n",
       "        <td style=\"padding-left: 1em; padding-right: 1em; text-align: center; vertical-align: top\">[250796, 143232, 227033,<br>99159, 250, 251, 1739, ...</td>\n",
       "        <td style=\"padding-left: 1em; padding-right: 1em; text-align: center; vertical-align: top\">[197562, 18944, 30744,<br>221323] ...</td>\n",
       "        <td style=\"padding-left: 1em; padding-right: 1em; text-align: center; vertical-align: top\">[18944.0, 143232.0,<br>38018.0, 1739.0, ...</td>\n",
       "    </tr>\n",
       "    <tr>\n",
       "        <td style=\"padding-left: 1em; padding-right: 1em; text-align: center; vertical-align: top\">492</td>\n",
       "        <td style=\"padding-left: 1em; padding-right: 1em; text-align: center; vertical-align: top\">183431</td>\n",
       "        <td style=\"padding-left: 1em; padding-right: 1em; text-align: center; vertical-align: top\">0</td>\n",
       "        <td style=\"padding-left: 1em; padding-right: 1em; text-align: center; vertical-align: top\">[183431, 74964, 1211,<br>229852, 80400, 661, ...</td>\n",
       "        <td style=\"padding-left: 1em; padding-right: 1em; text-align: center; vertical-align: top\">[79295, 1712, 1208,<br>69080, 1493, 2854, 4036, ...</td>\n",
       "        <td style=\"padding-left: 1em; padding-right: 1em; text-align: center; vertical-align: top\">[227970.0, 183431.0,<br>80400.0, 12051.0, 661.0, ...</td>\n",
       "    </tr>\n",
       "</table>\n",
       "<table frame=\"box\" rules=\"cols\">\n",
       "    <tr>\n",
       "        <th style=\"padding-left: 1em; padding-right: 1em; text-align: center\">src_in_out_vertices</th>\n",
       "        <th style=\"padding-left: 1em; padding-right: 1em; text-align: center\">src_in_degree</th>\n",
       "        <th style=\"padding-left: 1em; padding-right: 1em; text-align: center\">src_out_degree</th>\n",
       "        <th style=\"padding-left: 1em; padding-right: 1em; text-align: center\">src_degree</th>\n",
       "        <th style=\"padding-left: 1em; padding-right: 1em; text-align: center\">src_in_out_degree</th>\n",
       "        <th style=\"padding-left: 1em; padding-right: 1em; text-align: center\">dst_out_vertices</th>\n",
       "    </tr>\n",
       "    <tr>\n",
       "        <td style=\"padding-left: 1em; padding-right: 1em; text-align: center; vertical-align: top\">[258529.0, 255741.0]</td>\n",
       "        <td style=\"padding-left: 1em; padding-right: 1em; text-align: center; vertical-align: top\">8</td>\n",
       "        <td style=\"padding-left: 1em; padding-right: 1em; text-align: center; vertical-align: top\">9</td>\n",
       "        <td style=\"padding-left: 1em; padding-right: 1em; text-align: center; vertical-align: top\">15</td>\n",
       "        <td style=\"padding-left: 1em; padding-right: 1em; text-align: center; vertical-align: top\">2</td>\n",
       "        <td style=\"padding-left: 1em; padding-right: 1em; text-align: center; vertical-align: top\">[24578, 232530, 258530,<br>47808, 207374, 98582, ...</td>\n",
       "    </tr>\n",
       "    <tr>\n",
       "        <td style=\"padding-left: 1em; padding-right: 1em; text-align: center; vertical-align: top\">[]</td>\n",
       "        <td style=\"padding-left: 1em; padding-right: 1em; text-align: center; vertical-align: top\">4</td>\n",
       "        <td style=\"padding-left: 1em; padding-right: 1em; text-align: center; vertical-align: top\">9</td>\n",
       "        <td style=\"padding-left: 1em; padding-right: 1em; text-align: center; vertical-align: top\">13</td>\n",
       "        <td style=\"padding-left: 1em; padding-right: 1em; text-align: center; vertical-align: top\">0</td>\n",
       "        <td style=\"padding-left: 1em; padding-right: 1em; text-align: center; vertical-align: top\">[114629, 240720, 3013,<br>16020, 231183, 139770, ...</td>\n",
       "    </tr>\n",
       "    <tr>\n",
       "        <td style=\"padding-left: 1em; padding-right: 1em; text-align: center; vertical-align: top\">[1210.0, 1211.0, 661.0]</td>\n",
       "        <td style=\"padding-left: 1em; padding-right: 1em; text-align: center; vertical-align: top\">20</td>\n",
       "        <td style=\"padding-left: 1em; padding-right: 1em; text-align: center; vertical-align: top\">11</td>\n",
       "        <td style=\"padding-left: 1em; padding-right: 1em; text-align: center; vertical-align: top\">28</td>\n",
       "        <td style=\"padding-left: 1em; padding-right: 1em; text-align: center; vertical-align: top\">3</td>\n",
       "        <td style=\"padding-left: 1em; padding-right: 1em; text-align: center; vertical-align: top\">[60986, 143438, 232442,<br>67907, 116315, 214741, ...</td>\n",
       "    </tr>\n",
       "</table>\n",
       "<table frame=\"box\" rules=\"cols\">\n",
       "    <tr>\n",
       "        <th style=\"padding-left: 1em; padding-right: 1em; text-align: center\">dst_in_vertices</th>\n",
       "        <th style=\"padding-left: 1em; padding-right: 1em; text-align: center\">dst_vertices</th>\n",
       "        <th style=\"padding-left: 1em; padding-right: 1em; text-align: center\">dst_in_out_vertices</th>\n",
       "        <th style=\"padding-left: 1em; padding-right: 1em; text-align: center\">dst_in_degree</th>\n",
       "        <th style=\"padding-left: 1em; padding-right: 1em; text-align: center\">dst_out_degree</th>\n",
       "        <th style=\"padding-left: 1em; padding-right: 1em; text-align: center\">dst_degree</th>\n",
       "    </tr>\n",
       "    <tr>\n",
       "        <td style=\"padding-left: 1em; padding-right: 1em; text-align: center; vertical-align: top\">[126735, 258530, 258531,<br>135005, 255741, 251494, ...</td>\n",
       "        <td style=\"padding-left: 1em; padding-right: 1em; text-align: center; vertical-align: top\">[47808.0, 258530.0,<br>258531.0, 251494.0, ...</td>\n",
       "        <td style=\"padding-left: 1em; padding-right: 1em; text-align: center; vertical-align: top\">[258530.0, 255741.0]</td>\n",
       "        <td style=\"padding-left: 1em; padding-right: 1em; text-align: center; vertical-align: top\">10</td>\n",
       "        <td style=\"padding-left: 1em; padding-right: 1em; text-align: center; vertical-align: top\">10</td>\n",
       "        <td style=\"padding-left: 1em; padding-right: 1em; text-align: center; vertical-align: top\">18</td>\n",
       "    </tr>\n",
       "    <tr>\n",
       "        <td style=\"padding-left: 1em; padding-right: 1em; text-align: center; vertical-align: top\">[20709, 219569, 206231,<br>251230, 250795, 243775, ...</td>\n",
       "        <td style=\"padding-left: 1em; padding-right: 1em; text-align: center; vertical-align: top\">[37825.0, 3013.0,<br>20709.0, 189781.0, ...</td>\n",
       "        <td style=\"padding-left: 1em; padding-right: 1em; text-align: center; vertical-align: top\">[250795.0, 251230.0,<br>243775.0] ...</td>\n",
       "        <td style=\"padding-left: 1em; padding-right: 1em; text-align: center; vertical-align: top\">7</td>\n",
       "        <td style=\"padding-left: 1em; padding-right: 1em; text-align: center; vertical-align: top\">17</td>\n",
       "        <td style=\"padding-left: 1em; padding-right: 1em; text-align: center; vertical-align: top\">21</td>\n",
       "    </tr>\n",
       "    <tr>\n",
       "        <td style=\"padding-left: 1em; padding-right: 1em; text-align: center; vertical-align: top\">[492, 214740, 214739,<br>255813, 53861, 214741, ...</td>\n",
       "        <td style=\"padding-left: 1em; padding-right: 1em; text-align: center; vertical-align: top\">[67907.0, 255813.0,<br>492.0, 143438.0, 5081 ...</td>\n",
       "        <td style=\"padding-left: 1em; padding-right: 1em; text-align: center; vertical-align: top\">[214739.0, 214740.0,<br>214741.0] ...</td>\n",
       "        <td style=\"padding-left: 1em; padding-right: 1em; text-align: center; vertical-align: top\">9</td>\n",
       "        <td style=\"padding-left: 1em; padding-right: 1em; text-align: center; vertical-align: top\">9</td>\n",
       "        <td style=\"padding-left: 1em; padding-right: 1em; text-align: center; vertical-align: top\">15</td>\n",
       "    </tr>\n",
       "</table>\n",
       "<table frame=\"box\" rules=\"cols\">\n",
       "    <tr>\n",
       "        <th style=\"padding-left: 1em; padding-right: 1em; text-align: center\">dst_in_out_degree</th>\n",
       "    </tr>\n",
       "    <tr>\n",
       "        <td style=\"padding-left: 1em; padding-right: 1em; text-align: center; vertical-align: top\">2</td>\n",
       "    </tr>\n",
       "    <tr>\n",
       "        <td style=\"padding-left: 1em; padding-right: 1em; text-align: center; vertical-align: top\">3</td>\n",
       "    </tr>\n",
       "    <tr>\n",
       "        <td style=\"padding-left: 1em; padding-right: 1em; text-align: center; vertical-align: top\">3</td>\n",
       "    </tr>\n",
       "</table>\n",
       "[3 rows x 19 columns]<br/>\n",
       "</div>"
      ],
      "text/plain": [
       "Columns:\n",
       "\tsrc\tint\n",
       "\tdst\tint\n",
       "\tclass\tint\n",
       "\tsrc_out_vertices\tlist\n",
       "\tsrc_in_vertices\tlist\n",
       "\tsrc_vertices\tarray\n",
       "\tsrc_in_out_vertices\tarray\n",
       "\tsrc_in_degree\tint\n",
       "\tsrc_out_degree\tint\n",
       "\tsrc_degree\tint\n",
       "\tsrc_in_out_degree\tint\n",
       "\tdst_out_vertices\tlist\n",
       "\tdst_in_vertices\tlist\n",
       "\tdst_vertices\tarray\n",
       "\tdst_in_out_vertices\tarray\n",
       "\tdst_in_degree\tint\n",
       "\tdst_out_degree\tint\n",
       "\tdst_degree\tint\n",
       "\tdst_in_out_degree\tint\n",
       "\n",
       "Rows: 3\n",
       "\n",
       "Data:\n",
       "+--------+--------+-------+-------------------------------+\n",
       "|  src   |  dst   | class |        src_out_vertices       |\n",
       "+--------+--------+-------+-------------------------------+\n",
       "| 258530 | 258529 |   1   | [258529, 164966, 135813, 2... |\n",
       "| 20709  | 250796 |   0   | [250796, 143232, 227033, 9... |\n",
       "|  492   | 183431 |   0   | [183431, 74964, 1211, 2298... |\n",
       "+--------+--------+-------+-------------------------------+\n",
       "+--------------------------------+-------------------------------+\n",
       "|        src_in_vertices         |          src_vertices         |\n",
       "+--------------------------------+-------------------------------+\n",
       "| [258529, 151565, 258531, 4...  | [47808.0, 258529.0, 162146... |\n",
       "| [197562, 18944, 30744, 221323] | [18944.0, 143232.0, 38018.... |\n",
       "| [79295, 1712, 1208, 69080,...  | [227970.0, 183431.0, 80400... |\n",
       "+--------------------------------+-------------------------------+\n",
       "+-------------------------+---------------+----------------+------------+-------------------+\n",
       "|   src_in_out_vertices   | src_in_degree | src_out_degree | src_degree | src_in_out_degree |\n",
       "+-------------------------+---------------+----------------+------------+-------------------+\n",
       "|   [258529.0, 255741.0]  |       8       |       9        |     15     |         2         |\n",
       "|            []           |       4       |       9        |     13     |         0         |\n",
       "| [1210.0, 1211.0, 661.0] |       20      |       11       |     28     |         3         |\n",
       "+-------------------------+---------------+----------------+------------+-------------------+\n",
       "+-------------------------------+-------------------------------+\n",
       "|        dst_out_vertices       |        dst_in_vertices        |\n",
       "+-------------------------------+-------------------------------+\n",
       "| [24578, 232530, 258530, 47... | [126735, 258530, 258531, 1... |\n",
       "| [114629, 240720, 3013, 160... | [20709, 219569, 206231, 25... |\n",
       "| [60986, 143438, 232442, 67... | [492, 214740, 214739, 2558... |\n",
       "+-------------------------------+-------------------------------+\n",
       "+-------------------------------+--------------------------------+---------------+\n",
       "|          dst_vertices         |      dst_in_out_vertices       | dst_in_degree |\n",
       "+-------------------------------+--------------------------------+---------------+\n",
       "| [47808.0, 258530.0, 258531... |      [258530.0, 255741.0]      |       10      |\n",
       "| [37825.0, 3013.0, 20709.0,... | [250795.0, 251230.0, 243775.0] |       7       |\n",
       "| [67907.0, 255813.0, 492.0,... | [214739.0, 214740.0, 214741.0] |       9       |\n",
       "+-------------------------------+--------------------------------+---------------+\n",
       "+----------------+------------+-------------------+\n",
       "| dst_out_degree | dst_degree | dst_in_out_degree |\n",
       "+----------------+------------+-------------------+\n",
       "|       10       |     18     |         2         |\n",
       "|       17       |     21     |         3         |\n",
       "|       9        |     15     |         3         |\n",
       "+----------------+------------+-------------------+\n",
       "[3 rows x 19 columns]"
      ]
     },
     "execution_count": 26,
     "metadata": {},
     "output_type": "execute_result"
    }
   ],
   "source": [
    "edges = edges.join(all_vertices, on={\"src\": \"id\"}, how=\"right\")\n",
    "edges.rename({\"in_vertices\": \"src_in_vertices\", \"out_vertices\": \"src_out_vertices\",\n",
    "                  \"in_degree\": \"src_in_degree\", \"out_degree\": \"src_out_degree\",\n",
    "              \"vertices\": \"src_vertices\", \"in_out_vertices\": \"src_in_out_vertices\",\n",
    "                  \"degree\": \"src_degree\", \"in_out_degree\": \"src_in_out_degree\"\n",
    "                 })\n",
    "\n",
    "edges = edges.join(all_vertices, on={\"dst\": \"id\"}, how=\"right\")\n",
    "edges.rename({\"in_vertices\": \"dst_in_vertices\", \"out_vertices\": \"dst_out_vertices\",\n",
    "                  \"in_degree\": \"dst_in_degree\", \"out_degree\": \"dst_out_degree\",\n",
    "              \"vertices\": \"dst_vertices\", \"in_out_vertices\": \"dst_in_out_vertices\",\n",
    "                  \"degree\": \"dst_degree\", \"in_out_degree\": \"dst_in_out_degree\"\n",
    "             })\n",
    "\n",
    "edges.head(3)"
   ]
  },
  {
   "cell_type": "markdown",
   "metadata": {},
   "source": [
    "Найдем пункт 1 - общих друзей для списков вершин из пункта 1. Пункты 2 и 3 вы посчитаете самостоятельно"
   ]
  },
  {
   "cell_type": "code",
   "execution_count": 27,
   "metadata": {
    "collapsed": true
   },
   "outputs": [],
   "source": [
    "def common_friends(u, v, u_neighbors, v_neighbors):\n",
    "    u_neighbors = set(u_neighbors)\n",
    "    if v in u_neighbors:\n",
    "            u_neighbors.remove(v)\n",
    "\n",
    "    v_neighbors = set(v_neighbors)\n",
    "    if u in v_neighbors:\n",
    "        v_neighbors.remove(u)\n",
    "        \n",
    "    return len(u_neighbors & v_neighbors)"
   ]
  },
  {
   "cell_type": "code",
   "execution_count": 28,
   "metadata": {
    "collapsed": true
   },
   "outputs": [],
   "source": [
    "def jaccard(u, v, u_neighbors, v_neighbors):\n",
    "    a = float(common_friends(u, v, u_neighbors, v_neighbors)) \n",
    "    b = len(set(u_neighbors + v_neighbors))\n",
    "    if b == 0:\n",
    "        b = 1\n",
    "    return a/b "
   ]
  },
  {
   "cell_type": "code",
   "execution_count": 29,
   "metadata": {
    "collapsed": false
   },
   "outputs": [],
   "source": [
    "edges['common_in_vertices'] = (edges[['src','dst', 'src_in_vertices', 'dst_in_vertices']]\n",
    "                               .apply(lambda x: common_friends(x['src'], x['dst'],x['src_in_vertices'], x['dst_in_vertices'])))"
   ]
  },
  {
   "cell_type": "code",
   "execution_count": 30,
   "metadata": {
    "collapsed": false
   },
   "outputs": [],
   "source": [
    "edges['common_out_vertices'] = (edges[['src','dst', 'src_out_vertices', 'dst_out_vertices']]\n",
    "                               .apply(lambda x: common_friends(x['src'], x['dst'],x['src_out_vertices'], x['dst_out_vertices'])))"
   ]
  },
  {
   "cell_type": "code",
   "execution_count": 31,
   "metadata": {
    "collapsed": true
   },
   "outputs": [],
   "source": [
    "edges['common_vertices'] = (edges[['src','dst', 'src_vertices', 'dst_vertices']]\n",
    "                               .apply(lambda x: common_friends(x['src'], x['dst'],x['src_vertices'], x['dst_vertices'])))"
   ]
  },
  {
   "cell_type": "code",
   "execution_count": 32,
   "metadata": {
    "collapsed": false
   },
   "outputs": [],
   "source": [
    "edges['Jaccard'] = (edges[['src','dst', 'src_vertices', 'dst_vertices']]\n",
    "                               .apply(lambda x: jaccard(x['src'], x['dst'], x['src_vertices'], x['dst_vertices'])))"
   ]
  },
  {
   "cell_type": "code",
   "execution_count": 33,
   "metadata": {
    "collapsed": false
   },
   "outputs": [],
   "source": [
    "edges['Jaccard_in'] = (edges[['src','dst', 'src_in_vertices', 'dst_in_vertices']]\n",
    "                               .apply(lambda x: jaccard(x['src'], x['dst'], x['src_in_vertices'], x['dst_in_vertices'])))"
   ]
  },
  {
   "cell_type": "code",
   "execution_count": 34,
   "metadata": {
    "collapsed": true
   },
   "outputs": [],
   "source": [
    "edges['Jaccard_out'] = (edges[['src','dst', 'src_out_vertices', 'dst_out_vertices']]\n",
    "                               .apply(lambda x: jaccard(x['src'], x['dst'], x['src_out_vertices'], x['dst_out_vertices'])))"
   ]
  },
  {
   "cell_type": "code",
   "execution_count": 35,
   "metadata": {
    "collapsed": false
   },
   "outputs": [],
   "source": [
    "def adamic(u, v, u_neighbors, v_neighbors):\n",
    "    u_neighbors = set(u_neighbors)\n",
    "    if v in u_neighbors:\n",
    "            u_neighbors.remove(v)\n",
    "\n",
    "    v_neighbors = set(v_neighbors)\n",
    "    if u in v_neighbors:\n",
    "        v_neighbors.remove(u)\n",
    "    friends = (u_neighbors & v_neighbors)\n",
    "    \n",
    "    s = 0\n",
    "    for friend in friends:\n",
    "        s += 1 / np.log(all_vertices[all_vertices['id'] == int(friend)][degree])\n",
    "    return s"
   ]
  },
  {
   "cell_type": "code",
   "execution_count": 36,
   "metadata": {
    "collapsed": true
   },
   "outputs": [],
   "source": [
    "edges['Adamic'] = (edges[['src','dst', 'src_vertices', 'dst_vertices']]\n",
    "                               .apply(lambda x: jaccard(x['src'], x['dst'], x['src_vertices'], x['dst_vertices'])))"
   ]
  },
  {
   "cell_type": "markdown",
   "metadata": {},
   "source": [
    "Результатом пункта 3 является матрица признаков. Теперь мы готовы занятся настройкой моделей. Главная ваша задача в пункте 3 - подготовить как можно больше качественных признаков, которые могли бы использоваться для настройки модели машинного обучения."
   ]
  },
  {
   "cell_type": "markdown",
   "metadata": {},
   "source": [
    "----\n",
    "### 4. Настройка модели и валидация качества модели - 20 Баллов\n",
    "\n",
    "Исключим подозрительные ребра из рассмотрения, а затем разобьем датасет на 2 части, для обучения и проверки результатов. Настроим базовую модель классификации - логистическую регрессию.\n",
    "Для улучшения качества модели вам предстоит выполнить следующие пункты:\n",
    "\n",
    "1. Кросс - валидация для настройки гиперпараметров модели и регуляризации\n",
    "2. Подбор модели машинного обучения (случайный лес, бустинг, нейронная сеть и т.д.)"
   ]
  },
  {
   "cell_type": "code",
   "execution_count": 37,
   "metadata": {
    "collapsed": false
   },
   "outputs": [
    {
     "name": "stdout",
     "output_type": "stream",
     "text": [
      "(299994, 3)\n"
     ]
    }
   ],
   "source": [
    "susp = gl.SFrame.read_csv('suspicions.csv', delimiter=',', verbose=False)\n",
    "print susp.shape"
   ]
  },
  {
   "cell_type": "code",
   "execution_count": 38,
   "metadata": {
    "collapsed": false
   },
   "outputs": [
    {
     "name": "stdout",
     "output_type": "stream",
     "text": [
      "(2769707, 26)\n",
      "(2769707, 27)\n"
     ]
    }
   ],
   "source": [
    "print edges.shape\n",
    "edges = edges.join(susp, on=['src', 'dst'], how='left')\n",
    "print edges.shape"
   ]
  },
  {
   "cell_type": "code",
   "execution_count": 39,
   "metadata": {
    "collapsed": false
   },
   "outputs": [],
   "source": [
    "clean_edges = edges[edges['edge_id'] == None]\n",
    "susp_edges = edges[edges['edge_id'] != None]"
   ]
  },
  {
   "cell_type": "code",
   "execution_count": 40,
   "metadata": {
    "collapsed": false
   },
   "outputs": [
    {
     "data": {
      "text/html": [
       "<div style=\"max-height:1000px;max-width:1500px;overflow:auto;\"><table frame=\"box\" rules=\"cols\">\n",
       "    <tr>\n",
       "        <th style=\"padding-left: 1em; padding-right: 1em; text-align: center\">src</th>\n",
       "        <th style=\"padding-left: 1em; padding-right: 1em; text-align: center\">dst</th>\n",
       "        <th style=\"padding-left: 1em; padding-right: 1em; text-align: center\">class</th>\n",
       "        <th style=\"padding-left: 1em; padding-right: 1em; text-align: center\">src_out_vertices</th>\n",
       "        <th style=\"padding-left: 1em; padding-right: 1em; text-align: center\">src_in_vertices</th>\n",
       "        <th style=\"padding-left: 1em; padding-right: 1em; text-align: center\">src_vertices</th>\n",
       "    </tr>\n",
       "    <tr>\n",
       "        <td style=\"padding-left: 1em; padding-right: 1em; text-align: center; vertical-align: top\">258530</td>\n",
       "        <td style=\"padding-left: 1em; padding-right: 1em; text-align: center; vertical-align: top\">258529</td>\n",
       "        <td style=\"padding-left: 1em; padding-right: 1em; text-align: center; vertical-align: top\">1</td>\n",
       "        <td style=\"padding-left: 1em; padding-right: 1em; text-align: center; vertical-align: top\">[258529, 164966, 135813,<br>259852, 44771, 55034, ...</td>\n",
       "        <td style=\"padding-left: 1em; padding-right: 1em; text-align: center; vertical-align: top\">[258529, 151565, 258531,<br>48891, 255741, 59921, ...</td>\n",
       "        <td style=\"padding-left: 1em; padding-right: 1em; text-align: center; vertical-align: top\">[47808.0, 258529.0,<br>162146.0, 258531.0, ...</td>\n",
       "    </tr>\n",
       "    <tr>\n",
       "        <td style=\"padding-left: 1em; padding-right: 1em; text-align: center; vertical-align: top\">20709</td>\n",
       "        <td style=\"padding-left: 1em; padding-right: 1em; text-align: center; vertical-align: top\">250796</td>\n",
       "        <td style=\"padding-left: 1em; padding-right: 1em; text-align: center; vertical-align: top\">0</td>\n",
       "        <td style=\"padding-left: 1em; padding-right: 1em; text-align: center; vertical-align: top\">[250796, 143232, 227033,<br>99159, 250, 251, 1739, ...</td>\n",
       "        <td style=\"padding-left: 1em; padding-right: 1em; text-align: center; vertical-align: top\">[197562, 18944, 30744,<br>221323] ...</td>\n",
       "        <td style=\"padding-left: 1em; padding-right: 1em; text-align: center; vertical-align: top\">[18944.0, 143232.0,<br>38018.0, 1739.0, ...</td>\n",
       "    </tr>\n",
       "    <tr>\n",
       "        <td style=\"padding-left: 1em; padding-right: 1em; text-align: center; vertical-align: top\">492</td>\n",
       "        <td style=\"padding-left: 1em; padding-right: 1em; text-align: center; vertical-align: top\">183431</td>\n",
       "        <td style=\"padding-left: 1em; padding-right: 1em; text-align: center; vertical-align: top\">0</td>\n",
       "        <td style=\"padding-left: 1em; padding-right: 1em; text-align: center; vertical-align: top\">[183431, 74964, 1211,<br>229852, 80400, 661, ...</td>\n",
       "        <td style=\"padding-left: 1em; padding-right: 1em; text-align: center; vertical-align: top\">[79295, 1712, 1208,<br>69080, 1493, 2854, 4036, ...</td>\n",
       "        <td style=\"padding-left: 1em; padding-right: 1em; text-align: center; vertical-align: top\">[227970.0, 183431.0,<br>80400.0, 12051.0, 661.0, ...</td>\n",
       "    </tr>\n",
       "    <tr>\n",
       "        <td style=\"padding-left: 1em; padding-right: 1em; text-align: center; vertical-align: top\">64498</td>\n",
       "        <td style=\"padding-left: 1em; padding-right: 1em; text-align: center; vertical-align: top\">163950</td>\n",
       "        <td style=\"padding-left: 1em; padding-right: 1em; text-align: center; vertical-align: top\">0</td>\n",
       "        <td style=\"padding-left: 1em; padding-right: 1em; text-align: center; vertical-align: top\">[163950, 90068, 61018,<br>64733, 62244, 28959, ...</td>\n",
       "        <td style=\"padding-left: 1em; padding-right: 1em; text-align: center; vertical-align: top\">[246309, 7719, 61014,<br>41546, 200133, 62244, ...</td>\n",
       "        <td style=\"padding-left: 1em; padding-right: 1em; text-align: center; vertical-align: top\">[189568.0, 136203.0,<br>87184.0, 28959.0, ...</td>\n",
       "    </tr>\n",
       "    <tr>\n",
       "        <td style=\"padding-left: 1em; padding-right: 1em; text-align: center; vertical-align: top\">72957</td>\n",
       "        <td style=\"padding-left: 1em; padding-right: 1em; text-align: center; vertical-align: top\">74549</td>\n",
       "        <td style=\"padding-left: 1em; padding-right: 1em; text-align: center; vertical-align: top\">1</td>\n",
       "        <td style=\"padding-left: 1em; padding-right: 1em; text-align: center; vertical-align: top\">[74549, 74551, 74553,<br>160188, 74552, 188082, ...</td>\n",
       "        <td style=\"padding-left: 1em; padding-right: 1em; text-align: center; vertical-align: top\">[74549, 146701, 53829,<br>79074, 55748, 6423, ...</td>\n",
       "        <td style=\"padding-left: 1em; padding-right: 1em; text-align: center; vertical-align: top\">[79074.0, 55748.0,<br>53829.0, 74551.0, ...</td>\n",
       "    </tr>\n",
       "    <tr>\n",
       "        <td style=\"padding-left: 1em; padding-right: 1em; text-align: center; vertical-align: top\">133326</td>\n",
       "        <td style=\"padding-left: 1em; padding-right: 1em; text-align: center; vertical-align: top\">110868</td>\n",
       "        <td style=\"padding-left: 1em; padding-right: 1em; text-align: center; vertical-align: top\">0</td>\n",
       "        <td style=\"padding-left: 1em; padding-right: 1em; text-align: center; vertical-align: top\">[110868, 80207, 166079,<br>112131, 148085, 159453, ...</td>\n",
       "        <td style=\"padding-left: 1em; padding-right: 1em; text-align: center; vertical-align: top\">[133327, 148085, 81936,<br>75070, 112130, 150350, ...</td>\n",
       "        <td style=\"padding-left: 1em; padding-right: 1em; text-align: center; vertical-align: top\">[112129.0, 112130.0,<br>112131.0, 220804.0, ...</td>\n",
       "    </tr>\n",
       "    <tr>\n",
       "        <td style=\"padding-left: 1em; padding-right: 1em; text-align: center; vertical-align: top\">251714</td>\n",
       "        <td style=\"padding-left: 1em; padding-right: 1em; text-align: center; vertical-align: top\">105236</td>\n",
       "        <td style=\"padding-left: 1em; padding-right: 1em; text-align: center; vertical-align: top\">0</td>\n",
       "        <td style=\"padding-left: 1em; padding-right: 1em; text-align: center; vertical-align: top\">[105236, 253713, 251715,<br>62177, 49205, 248813, ...</td>\n",
       "        <td style=\"padding-left: 1em; padding-right: 1em; text-align: center; vertical-align: top\">[66095, 251715, 1992,<br>241472, 86351, 59933] ...</td>\n",
       "        <td style=\"padding-left: 1em; padding-right: 1em; text-align: center; vertical-align: top\">[241472.0, 62177.0,<br>251715.0, 262013.0, ...</td>\n",
       "    </tr>\n",
       "    <tr>\n",
       "        <td style=\"padding-left: 1em; padding-right: 1em; text-align: center; vertical-align: top\">220484</td>\n",
       "        <td style=\"padding-left: 1em; padding-right: 1em; text-align: center; vertical-align: top\">179593</td>\n",
       "        <td style=\"padding-left: 1em; padding-right: 1em; text-align: center; vertical-align: top\">1</td>\n",
       "        <td style=\"padding-left: 1em; padding-right: 1em; text-align: center; vertical-align: top\">[179593, 112006, 240571,<br>240572, 179594, 97339, ...</td>\n",
       "        <td style=\"padding-left: 1em; padding-right: 1em; text-align: center; vertical-align: top\">[115503, 41400, 68621,<br>149627, 117541, 84494, ...</td>\n",
       "        <td style=\"padding-left: 1em; padding-right: 1em; text-align: center; vertical-align: top\">[213890.0, 240571.0,<br>191480.0, 117541.0, ...</td>\n",
       "    </tr>\n",
       "    <tr>\n",
       "        <td style=\"padding-left: 1em; padding-right: 1em; text-align: center; vertical-align: top\">90268</td>\n",
       "        <td style=\"padding-left: 1em; padding-right: 1em; text-align: center; vertical-align: top\">68604</td>\n",
       "        <td style=\"padding-left: 1em; padding-right: 1em; text-align: center; vertical-align: top\">1</td>\n",
       "        <td style=\"padding-left: 1em; padding-right: 1em; text-align: center; vertical-align: top\">[68604, 99954, 239910,<br>99955, 99953, 221512, ...</td>\n",
       "        <td style=\"padding-left: 1em; padding-right: 1em; text-align: center; vertical-align: top\">[187700, 28156, 99955,<br>99953, 193947, 68604, ...</td>\n",
       "        <td style=\"padding-left: 1em; padding-right: 1em; text-align: center; vertical-align: top\">[221512.0, 41660.0,<br>239910.0, 63175.0, ...</td>\n",
       "    </tr>\n",
       "    <tr>\n",
       "        <td style=\"padding-left: 1em; padding-right: 1em; text-align: center; vertical-align: top\">190825</td>\n",
       "        <td style=\"padding-left: 1em; padding-right: 1em; text-align: center; vertical-align: top\">181959</td>\n",
       "        <td style=\"padding-left: 1em; padding-right: 1em; text-align: center; vertical-align: top\">0</td>\n",
       "        <td style=\"padding-left: 1em; padding-right: 1em; text-align: center; vertical-align: top\">[181959, 83728, 54313,<br>152242, 170317, 174034, ...</td>\n",
       "        <td style=\"padding-left: 1em; padding-right: 1em; text-align: center; vertical-align: top\">[101527, 168757, 88549,<br>261209, 231785, 194867, ...</td>\n",
       "        <td style=\"padding-left: 1em; padding-right: 1em; text-align: center; vertical-align: top\">[40577.0, 228623.0,<br>83728.0, 55572.0, ...</td>\n",
       "    </tr>\n",
       "</table>\n",
       "<table frame=\"box\" rules=\"cols\">\n",
       "    <tr>\n",
       "        <th style=\"padding-left: 1em; padding-right: 1em; text-align: center\">src_in_out_vertices</th>\n",
       "        <th style=\"padding-left: 1em; padding-right: 1em; text-align: center\">src_in_degree</th>\n",
       "        <th style=\"padding-left: 1em; padding-right: 1em; text-align: center\">src_out_degree</th>\n",
       "        <th style=\"padding-left: 1em; padding-right: 1em; text-align: center\">src_degree</th>\n",
       "        <th style=\"padding-left: 1em; padding-right: 1em; text-align: center\">src_in_out_degree</th>\n",
       "        <th style=\"padding-left: 1em; padding-right: 1em; text-align: center\">dst_out_vertices</th>\n",
       "    </tr>\n",
       "    <tr>\n",
       "        <td style=\"padding-left: 1em; padding-right: 1em; text-align: center; vertical-align: top\">[258529.0, 255741.0]</td>\n",
       "        <td style=\"padding-left: 1em; padding-right: 1em; text-align: center; vertical-align: top\">8</td>\n",
       "        <td style=\"padding-left: 1em; padding-right: 1em; text-align: center; vertical-align: top\">9</td>\n",
       "        <td style=\"padding-left: 1em; padding-right: 1em; text-align: center; vertical-align: top\">15</td>\n",
       "        <td style=\"padding-left: 1em; padding-right: 1em; text-align: center; vertical-align: top\">2</td>\n",
       "        <td style=\"padding-left: 1em; padding-right: 1em; text-align: center; vertical-align: top\">[24578, 232530, 258530,<br>47808, 207374, 98582, ...</td>\n",
       "    </tr>\n",
       "    <tr>\n",
       "        <td style=\"padding-left: 1em; padding-right: 1em; text-align: center; vertical-align: top\">[]</td>\n",
       "        <td style=\"padding-left: 1em; padding-right: 1em; text-align: center; vertical-align: top\">4</td>\n",
       "        <td style=\"padding-left: 1em; padding-right: 1em; text-align: center; vertical-align: top\">9</td>\n",
       "        <td style=\"padding-left: 1em; padding-right: 1em; text-align: center; vertical-align: top\">13</td>\n",
       "        <td style=\"padding-left: 1em; padding-right: 1em; text-align: center; vertical-align: top\">0</td>\n",
       "        <td style=\"padding-left: 1em; padding-right: 1em; text-align: center; vertical-align: top\">[114629, 240720, 3013,<br>16020, 231183, 139770, ...</td>\n",
       "    </tr>\n",
       "    <tr>\n",
       "        <td style=\"padding-left: 1em; padding-right: 1em; text-align: center; vertical-align: top\">[1210.0, 1211.0, 661.0]</td>\n",
       "        <td style=\"padding-left: 1em; padding-right: 1em; text-align: center; vertical-align: top\">20</td>\n",
       "        <td style=\"padding-left: 1em; padding-right: 1em; text-align: center; vertical-align: top\">11</td>\n",
       "        <td style=\"padding-left: 1em; padding-right: 1em; text-align: center; vertical-align: top\">28</td>\n",
       "        <td style=\"padding-left: 1em; padding-right: 1em; text-align: center; vertical-align: top\">3</td>\n",
       "        <td style=\"padding-left: 1em; padding-right: 1em; text-align: center; vertical-align: top\">[60986, 143438, 232442,<br>67907, 116315, 214741, ...</td>\n",
       "    </tr>\n",
       "    <tr>\n",
       "        <td style=\"padding-left: 1em; padding-right: 1em; text-align: center; vertical-align: top\">[61018.0, 62244.0]</td>\n",
       "        <td style=\"padding-left: 1em; padding-right: 1em; text-align: center; vertical-align: top\">15</td>\n",
       "        <td style=\"padding-left: 1em; padding-right: 1em; text-align: center; vertical-align: top\">10</td>\n",
       "        <td style=\"padding-left: 1em; padding-right: 1em; text-align: center; vertical-align: top\">23</td>\n",
       "        <td style=\"padding-left: 1em; padding-right: 1em; text-align: center; vertical-align: top\">2</td>\n",
       "        <td style=\"padding-left: 1em; padding-right: 1em; text-align: center; vertical-align: top\">[165722, 211290, 165721,<br>197265, 114833, 182393, ...</td>\n",
       "    </tr>\n",
       "    <tr>\n",
       "        <td style=\"padding-left: 1em; padding-right: 1em; text-align: center; vertical-align: top\">[74549.0]</td>\n",
       "        <td style=\"padding-left: 1em; padding-right: 1em; text-align: center; vertical-align: top\">7</td>\n",
       "        <td style=\"padding-left: 1em; padding-right: 1em; text-align: center; vertical-align: top\">8</td>\n",
       "        <td style=\"padding-left: 1em; padding-right: 1em; text-align: center; vertical-align: top\">14</td>\n",
       "        <td style=\"padding-left: 1em; padding-right: 1em; text-align: center; vertical-align: top\">1</td>\n",
       "        <td style=\"padding-left: 1em; padding-right: 1em; text-align: center; vertical-align: top\">[77598, 100624, 78290,<br>72957, 77600, 77599, ...</td>\n",
       "    </tr>\n",
       "    <tr>\n",
       "        <td style=\"padding-left: 1em; padding-right: 1em; text-align: center; vertical-align: top\">[159453.0, 112131.0,<br>148085.0, 133327.0] ...</td>\n",
       "        <td style=\"padding-left: 1em; padding-right: 1em; text-align: center; vertical-align: top\">11</td>\n",
       "        <td style=\"padding-left: 1em; padding-right: 1em; text-align: center; vertical-align: top\">12</td>\n",
       "        <td style=\"padding-left: 1em; padding-right: 1em; text-align: center; vertical-align: top\">19</td>\n",
       "        <td style=\"padding-left: 1em; padding-right: 1em; text-align: center; vertical-align: top\">4</td>\n",
       "        <td style=\"padding-left: 1em; padding-right: 1em; text-align: center; vertical-align: top\">[110869, 180191, 15726,<br>125394, 65638, 35905, ...</td>\n",
       "    </tr>\n",
       "    <tr>\n",
       "        <td style=\"padding-left: 1em; padding-right: 1em; text-align: center; vertical-align: top\">[241472.0, 251715.0]</td>\n",
       "        <td style=\"padding-left: 1em; padding-right: 1em; text-align: center; vertical-align: top\">6</td>\n",
       "        <td style=\"padding-left: 1em; padding-right: 1em; text-align: center; vertical-align: top\">8</td>\n",
       "        <td style=\"padding-left: 1em; padding-right: 1em; text-align: center; vertical-align: top\">12</td>\n",
       "        <td style=\"padding-left: 1em; padding-right: 1em; text-align: center; vertical-align: top\">2</td>\n",
       "        <td style=\"padding-left: 1em; padding-right: 1em; text-align: center; vertical-align: top\">[57915, 89264, 61010,<br>62477, 86503, 168190, ...</td>\n",
       "    </tr>\n",
       "    <tr>\n",
       "        <td style=\"padding-left: 1em; padding-right: 1em; text-align: center; vertical-align: top\">[213890.0]</td>\n",
       "        <td style=\"padding-left: 1em; padding-right: 1em; text-align: center; vertical-align: top\">8</td>\n",
       "        <td style=\"padding-left: 1em; padding-right: 1em; text-align: center; vertical-align: top\">14</td>\n",
       "        <td style=\"padding-left: 1em; padding-right: 1em; text-align: center; vertical-align: top\">21</td>\n",
       "        <td style=\"padding-left: 1em; padding-right: 1em; text-align: center; vertical-align: top\">1</td>\n",
       "        <td style=\"padding-left: 1em; padding-right: 1em; text-align: center; vertical-align: top\">[88351, 179596, 203615,<br>15997, 203616, 125318, ...</td>\n",
       "    </tr>\n",
       "    <tr>\n",
       "        <td style=\"padding-left: 1em; padding-right: 1em; text-align: center; vertical-align: top\">[99953.0, 99954.0,<br>99955.0, 68604.0] ...</td>\n",
       "        <td style=\"padding-left: 1em; padding-right: 1em; text-align: center; vertical-align: top\">10</td>\n",
       "        <td style=\"padding-left: 1em; padding-right: 1em; text-align: center; vertical-align: top\">8</td>\n",
       "        <td style=\"padding-left: 1em; padding-right: 1em; text-align: center; vertical-align: top\">14</td>\n",
       "        <td style=\"padding-left: 1em; padding-right: 1em; text-align: center; vertical-align: top\">4</td>\n",
       "        <td style=\"padding-left: 1em; padding-right: 1em; text-align: center; vertical-align: top\">[201251, 68024, 90268,<br>68603, 68605, 61093, ...</td>\n",
       "    </tr>\n",
       "    <tr>\n",
       "        <td style=\"padding-left: 1em; padding-right: 1em; text-align: center; vertical-align: top\">[152240.0]</td>\n",
       "        <td style=\"padding-left: 1em; padding-right: 1em; text-align: center; vertical-align: top\">8</td>\n",
       "        <td style=\"padding-left: 1em; padding-right: 1em; text-align: center; vertical-align: top\">15</td>\n",
       "        <td style=\"padding-left: 1em; padding-right: 1em; text-align: center; vertical-align: top\">22</td>\n",
       "        <td style=\"padding-left: 1em; padding-right: 1em; text-align: center; vertical-align: top\">1</td>\n",
       "        <td style=\"padding-left: 1em; padding-right: 1em; text-align: center; vertical-align: top\">[87142, 189384, 189385,<br>133252, 189228, 121934, ...</td>\n",
       "    </tr>\n",
       "</table>\n",
       "<table frame=\"box\" rules=\"cols\">\n",
       "    <tr>\n",
       "        <th style=\"padding-left: 1em; padding-right: 1em; text-align: center\">dst_in_vertices</th>\n",
       "        <th style=\"padding-left: 1em; padding-right: 1em; text-align: center\">dst_vertices</th>\n",
       "        <th style=\"padding-left: 1em; padding-right: 1em; text-align: center\">dst_in_out_vertices</th>\n",
       "        <th style=\"padding-left: 1em; padding-right: 1em; text-align: center\">dst_in_degree</th>\n",
       "        <th style=\"padding-left: 1em; padding-right: 1em; text-align: center\">dst_out_degree</th>\n",
       "    </tr>\n",
       "    <tr>\n",
       "        <td style=\"padding-left: 1em; padding-right: 1em; text-align: center; vertical-align: top\">[126735, 258530, 258531,<br>135005, 255741, 251494, ...</td>\n",
       "        <td style=\"padding-left: 1em; padding-right: 1em; text-align: center; vertical-align: top\">[47808.0, 258530.0,<br>258531.0, 251494.0, ...</td>\n",
       "        <td style=\"padding-left: 1em; padding-right: 1em; text-align: center; vertical-align: top\">[258530.0, 255741.0]</td>\n",
       "        <td style=\"padding-left: 1em; padding-right: 1em; text-align: center; vertical-align: top\">10</td>\n",
       "        <td style=\"padding-left: 1em; padding-right: 1em; text-align: center; vertical-align: top\">10</td>\n",
       "    </tr>\n",
       "    <tr>\n",
       "        <td style=\"padding-left: 1em; padding-right: 1em; text-align: center; vertical-align: top\">[20709, 219569, 206231,<br>251230, 250795, 243775, ...</td>\n",
       "        <td style=\"padding-left: 1em; padding-right: 1em; text-align: center; vertical-align: top\">[37825.0, 3013.0,<br>20709.0, 189781.0, ...</td>\n",
       "        <td style=\"padding-left: 1em; padding-right: 1em; text-align: center; vertical-align: top\">[250795.0, 251230.0,<br>243775.0] ...</td>\n",
       "        <td style=\"padding-left: 1em; padding-right: 1em; text-align: center; vertical-align: top\">7</td>\n",
       "        <td style=\"padding-left: 1em; padding-right: 1em; text-align: center; vertical-align: top\">17</td>\n",
       "    </tr>\n",
       "    <tr>\n",
       "        <td style=\"padding-left: 1em; padding-right: 1em; text-align: center; vertical-align: top\">[492, 214740, 214739,<br>255813, 53861, 214741, ...</td>\n",
       "        <td style=\"padding-left: 1em; padding-right: 1em; text-align: center; vertical-align: top\">[67907.0, 255813.0,<br>492.0, 143438.0, 5081 ...</td>\n",
       "        <td style=\"padding-left: 1em; padding-right: 1em; text-align: center; vertical-align: top\">[214739.0, 214740.0,<br>214741.0] ...</td>\n",
       "        <td style=\"padding-left: 1em; padding-right: 1em; text-align: center; vertical-align: top\">9</td>\n",
       "        <td style=\"padding-left: 1em; padding-right: 1em; text-align: center; vertical-align: top\">9</td>\n",
       "    </tr>\n",
       "    <tr>\n",
       "        <td style=\"padding-left: 1em; padding-right: 1em; text-align: center; vertical-align: top\">[64498, 74243, 89079,<br>165722, 114833, 165721, ...</td>\n",
       "        <td style=\"padding-left: 1em; padding-right: 1em; text-align: center; vertical-align: top\">[243161.0, 74243.0,<br>182393.0, 197265.0, ...</td>\n",
       "        <td style=\"padding-left: 1em; padding-right: 1em; text-align: center; vertical-align: top\">[114833.0, 165722.0,<br>163949.0, 165721.0] ...</td>\n",
       "        <td style=\"padding-left: 1em; padding-right: 1em; text-align: center; vertical-align: top\">11</td>\n",
       "        <td style=\"padding-left: 1em; padding-right: 1em; text-align: center; vertical-align: top\">10</td>\n",
       "    </tr>\n",
       "    <tr>\n",
       "        <td style=\"padding-left: 1em; padding-right: 1em; text-align: center; vertical-align: top\">[72957, 77597, 52229,<br>77598, 42693, 88673, ...</td>\n",
       "        <td style=\"padding-left: 1em; padding-right: 1em; text-align: center; vertical-align: top\">[77600.0, 88673.0,<br>210075.0, 106692.0, ...</td>\n",
       "        <td style=\"padding-left: 1em; padding-right: 1em; text-align: center; vertical-align: top\">[77597.0, 77598.0,<br>72957.0] ...</td>\n",
       "        <td style=\"padding-left: 1em; padding-right: 1em; text-align: center; vertical-align: top\">10</td>\n",
       "        <td style=\"padding-left: 1em; padding-right: 1em; text-align: center; vertical-align: top\">8</td>\n",
       "    </tr>\n",
       "    <tr>\n",
       "        <td style=\"padding-left: 1em; padding-right: 1em; text-align: center; vertical-align: top\">[133326, 124732, 152665,<br>110869, 65638, 110871, ...</td>\n",
       "        <td style=\"padding-left: 1em; padding-right: 1em; text-align: center; vertical-align: top\">[76065.0, 240985.0,<br>132260.0, 166117.0, ...</td>\n",
       "        <td style=\"padding-left: 1em; padding-right: 1em; text-align: center; vertical-align: top\">[125394.0, 110869.0,<br>65638.0] ...</td>\n",
       "        <td style=\"padding-left: 1em; padding-right: 1em; text-align: center; vertical-align: top\">14</td>\n",
       "        <td style=\"padding-left: 1em; padding-right: 1em; text-align: center; vertical-align: top\">8</td>\n",
       "    </tr>\n",
       "    <tr>\n",
       "        <td style=\"padding-left: 1em; padding-right: 1em; text-align: center; vertical-align: top\">[251714, 51477, 129869,<br>98427, 129678, 125795, ...</td>\n",
       "        <td style=\"padding-left: 1em; padding-right: 1em; text-align: center; vertical-align: top\">[38278.0, 62477.0,<br>129678.0, 45711.0, ...</td>\n",
       "        <td style=\"padding-left: 1em; padding-right: 1em; text-align: center; vertical-align: top\">[98427.0]</td>\n",
       "        <td style=\"padding-left: 1em; padding-right: 1em; text-align: center; vertical-align: top\">13</td>\n",
       "        <td style=\"padding-left: 1em; padding-right: 1em; text-align: center; vertical-align: top\">12</td>\n",
       "    </tr>\n",
       "    <tr>\n",
       "        <td style=\"padding-left: 1em; padding-right: 1em; text-align: center; vertical-align: top\">[220484, 223334, 213891,<br>235631, 213890, 179595, ...</td>\n",
       "        <td style=\"padding-left: 1em; padding-right: 1em; text-align: center; vertical-align: top\">[213890.0, 213891.0,<br>125318.0, 179594.0, ...</td>\n",
       "        <td style=\"padding-left: 1em; padding-right: 1em; text-align: center; vertical-align: top\">[203616.0, 179594.0,<br>179596.0, 125318.0, ...</td>\n",
       "        <td style=\"padding-left: 1em; padding-right: 1em; text-align: center; vertical-align: top\">24</td>\n",
       "        <td style=\"padding-left: 1em; padding-right: 1em; text-align: center; vertical-align: top\">8</td>\n",
       "    </tr>\n",
       "    <tr>\n",
       "        <td style=\"padding-left: 1em; padding-right: 1em; text-align: center; vertical-align: top\">[90268, 139249, 68605,<br>164233, 36196, 251124, ...</td>\n",
       "        <td style=\"padding-left: 1em; padding-right: 1em; text-align: center; vertical-align: top\">[79744.0, 201251.0,<br>36196.0, 61093.0, ...</td>\n",
       "        <td style=\"padding-left: 1em; padding-right: 1em; text-align: center; vertical-align: top\">[68024.0, 68603.0,<br>90268.0, 68605.0] ...</td>\n",
       "        <td style=\"padding-left: 1em; padding-right: 1em; text-align: center; vertical-align: top\">13</td>\n",
       "        <td style=\"padding-left: 1em; padding-right: 1em; text-align: center; vertical-align: top\">10</td>\n",
       "    </tr>\n",
       "    <tr>\n",
       "        <td style=\"padding-left: 1em; padding-right: 1em; text-align: center; vertical-align: top\">[190825, 176843, 242636,<br>133403, 119094, 189384, ...</td>\n",
       "        <td style=\"padding-left: 1em; padding-right: 1em; text-align: center; vertical-align: top\">[192043.0, 35931.0,<br>133252.0, 118678.0, ...</td>\n",
       "        <td style=\"padding-left: 1em; padding-right: 1em; text-align: center; vertical-align: top\">[189384.0, 189385.0,<br>133252.0, 189228.0] ...</td>\n",
       "        <td style=\"padding-left: 1em; padding-right: 1em; text-align: center; vertical-align: top\">13</td>\n",
       "        <td style=\"padding-left: 1em; padding-right: 1em; text-align: center; vertical-align: top\">9</td>\n",
       "    </tr>\n",
       "</table>\n",
       "<table frame=\"box\" rules=\"cols\">\n",
       "    <tr>\n",
       "        <th style=\"padding-left: 1em; padding-right: 1em; text-align: center\">dst_degree</th>\n",
       "        <th style=\"padding-left: 1em; padding-right: 1em; text-align: center\">dst_in_out_degree</th>\n",
       "        <th style=\"padding-left: 1em; padding-right: 1em; text-align: center\">common_in_vertices</th>\n",
       "        <th style=\"padding-left: 1em; padding-right: 1em; text-align: center\">common_out_vertices</th>\n",
       "        <th style=\"padding-left: 1em; padding-right: 1em; text-align: center\">common_vertices</th>\n",
       "        <th style=\"padding-left: 1em; padding-right: 1em; text-align: center\">Jaccard</th>\n",
       "    </tr>\n",
       "    <tr>\n",
       "        <td style=\"padding-left: 1em; padding-right: 1em; text-align: center; vertical-align: top\">18</td>\n",
       "        <td style=\"padding-left: 1em; padding-right: 1em; text-align: center; vertical-align: top\">2</td>\n",
       "        <td style=\"padding-left: 1em; padding-right: 1em; text-align: center; vertical-align: top\">2</td>\n",
       "        <td style=\"padding-left: 1em; padding-right: 1em; text-align: center; vertical-align: top\">2</td>\n",
       "        <td style=\"padding-left: 1em; padding-right: 1em; text-align: center; vertical-align: top\">3</td>\n",
       "        <td style=\"padding-left: 1em; padding-right: 1em; text-align: center; vertical-align: top\">0.1</td>\n",
       "    </tr>\n",
       "    <tr>\n",
       "        <td style=\"padding-left: 1em; padding-right: 1em; text-align: center; vertical-align: top\">21</td>\n",
       "        <td style=\"padding-left: 1em; padding-right: 1em; text-align: center; vertical-align: top\">3</td>\n",
       "        <td style=\"padding-left: 1em; padding-right: 1em; text-align: center; vertical-align: top\">0</td>\n",
       "        <td style=\"padding-left: 1em; padding-right: 1em; text-align: center; vertical-align: top\">0</td>\n",
       "        <td style=\"padding-left: 1em; padding-right: 1em; text-align: center; vertical-align: top\">0</td>\n",
       "        <td style=\"padding-left: 1em; padding-right: 1em; text-align: center; vertical-align: top\">0.0</td>\n",
       "    </tr>\n",
       "    <tr>\n",
       "        <td style=\"padding-left: 1em; padding-right: 1em; text-align: center; vertical-align: top\">15</td>\n",
       "        <td style=\"padding-left: 1em; padding-right: 1em; text-align: center; vertical-align: top\">3</td>\n",
       "        <td style=\"padding-left: 1em; padding-right: 1em; text-align: center; vertical-align: top\">0</td>\n",
       "        <td style=\"padding-left: 1em; padding-right: 1em; text-align: center; vertical-align: top\">0</td>\n",
       "        <td style=\"padding-left: 1em; padding-right: 1em; text-align: center; vertical-align: top\">0</td>\n",
       "        <td style=\"padding-left: 1em; padding-right: 1em; text-align: center; vertical-align: top\">0.0</td>\n",
       "    </tr>\n",
       "    <tr>\n",
       "        <td style=\"padding-left: 1em; padding-right: 1em; text-align: center; vertical-align: top\">17</td>\n",
       "        <td style=\"padding-left: 1em; padding-right: 1em; text-align: center; vertical-align: top\">4</td>\n",
       "        <td style=\"padding-left: 1em; padding-right: 1em; text-align: center; vertical-align: top\">0</td>\n",
       "        <td style=\"padding-left: 1em; padding-right: 1em; text-align: center; vertical-align: top\">0</td>\n",
       "        <td style=\"padding-left: 1em; padding-right: 1em; text-align: center; vertical-align: top\">0</td>\n",
       "        <td style=\"padding-left: 1em; padding-right: 1em; text-align: center; vertical-align: top\">0.0</td>\n",
       "    </tr>\n",
       "    <tr>\n",
       "        <td style=\"padding-left: 1em; padding-right: 1em; text-align: center; vertical-align: top\">15</td>\n",
       "        <td style=\"padding-left: 1em; padding-right: 1em; text-align: center; vertical-align: top\">3</td>\n",
       "        <td style=\"padding-left: 1em; padding-right: 1em; text-align: center; vertical-align: top\">0</td>\n",
       "        <td style=\"padding-left: 1em; padding-right: 1em; text-align: center; vertical-align: top\">0</td>\n",
       "        <td style=\"padding-left: 1em; padding-right: 1em; text-align: center; vertical-align: top\">0</td>\n",
       "        <td style=\"padding-left: 1em; padding-right: 1em; text-align: center; vertical-align: top\">0.0</td>\n",
       "    </tr>\n",
       "    <tr>\n",
       "        <td style=\"padding-left: 1em; padding-right: 1em; text-align: center; vertical-align: top\">19</td>\n",
       "        <td style=\"padding-left: 1em; padding-right: 1em; text-align: center; vertical-align: top\">3</td>\n",
       "        <td style=\"padding-left: 1em; padding-right: 1em; text-align: center; vertical-align: top\">0</td>\n",
       "        <td style=\"padding-left: 1em; padding-right: 1em; text-align: center; vertical-align: top\">0</td>\n",
       "        <td style=\"padding-left: 1em; padding-right: 1em; text-align: center; vertical-align: top\">0</td>\n",
       "        <td style=\"padding-left: 1em; padding-right: 1em; text-align: center; vertical-align: top\">0.0</td>\n",
       "    </tr>\n",
       "    <tr>\n",
       "        <td style=\"padding-left: 1em; padding-right: 1em; text-align: center; vertical-align: top\">24</td>\n",
       "        <td style=\"padding-left: 1em; padding-right: 1em; text-align: center; vertical-align: top\">1</td>\n",
       "        <td style=\"padding-left: 1em; padding-right: 1em; text-align: center; vertical-align: top\">0</td>\n",
       "        <td style=\"padding-left: 1em; padding-right: 1em; text-align: center; vertical-align: top\">0</td>\n",
       "        <td style=\"padding-left: 1em; padding-right: 1em; text-align: center; vertical-align: top\">0</td>\n",
       "        <td style=\"padding-left: 1em; padding-right: 1em; text-align: center; vertical-align: top\">0.0</td>\n",
       "    </tr>\n",
       "    <tr>\n",
       "        <td style=\"padding-left: 1em; padding-right: 1em; text-align: center; vertical-align: top\">27</td>\n",
       "        <td style=\"padding-left: 1em; padding-right: 1em; text-align: center; vertical-align: top\">5</td>\n",
       "        <td style=\"padding-left: 1em; padding-right: 1em; text-align: center; vertical-align: top\">1</td>\n",
       "        <td style=\"padding-left: 1em; padding-right: 1em; text-align: center; vertical-align: top\">1</td>\n",
       "        <td style=\"padding-left: 1em; padding-right: 1em; text-align: center; vertical-align: top\">4</td>\n",
       "        <td style=\"padding-left: 1em; padding-right: 1em; text-align: center; vertical-align: top\">0.0909090909091</td>\n",
       "    </tr>\n",
       "    <tr>\n",
       "        <td style=\"padding-left: 1em; padding-right: 1em; text-align: center; vertical-align: top\">19</td>\n",
       "        <td style=\"padding-left: 1em; padding-right: 1em; text-align: center; vertical-align: top\">4</td>\n",
       "        <td style=\"padding-left: 1em; padding-right: 1em; text-align: center; vertical-align: top\">0</td>\n",
       "        <td style=\"padding-left: 1em; padding-right: 1em; text-align: center; vertical-align: top\">0</td>\n",
       "        <td style=\"padding-left: 1em; padding-right: 1em; text-align: center; vertical-align: top\">0</td>\n",
       "        <td style=\"padding-left: 1em; padding-right: 1em; text-align: center; vertical-align: top\">0.0</td>\n",
       "    </tr>\n",
       "    <tr>\n",
       "        <td style=\"padding-left: 1em; padding-right: 1em; text-align: center; vertical-align: top\">18</td>\n",
       "        <td style=\"padding-left: 1em; padding-right: 1em; text-align: center; vertical-align: top\">4</td>\n",
       "        <td style=\"padding-left: 1em; padding-right: 1em; text-align: center; vertical-align: top\">0</td>\n",
       "        <td style=\"padding-left: 1em; padding-right: 1em; text-align: center; vertical-align: top\">0</td>\n",
       "        <td style=\"padding-left: 1em; padding-right: 1em; text-align: center; vertical-align: top\">0</td>\n",
       "        <td style=\"padding-left: 1em; padding-right: 1em; text-align: center; vertical-align: top\">0.0</td>\n",
       "    </tr>\n",
       "</table>\n",
       "<table frame=\"box\" rules=\"cols\">\n",
       "    <tr>\n",
       "        <th style=\"padding-left: 1em; padding-right: 1em; text-align: center\">Jaccard_in</th>\n",
       "        <th style=\"padding-left: 1em; padding-right: 1em; text-align: center\">Jaccard_out</th>\n",
       "        <th style=\"padding-left: 1em; padding-right: 1em; text-align: center\">Adamic</th>\n",
       "    </tr>\n",
       "    <tr>\n",
       "        <td style=\"padding-left: 1em; padding-right: 1em; text-align: center; vertical-align: top\">0.125</td>\n",
       "        <td style=\"padding-left: 1em; padding-right: 1em; text-align: center; vertical-align: top\">0.117647058824</td>\n",
       "        <td style=\"padding-left: 1em; padding-right: 1em; text-align: center; vertical-align: top\">0.1</td>\n",
       "    </tr>\n",
       "    <tr>\n",
       "        <td style=\"padding-left: 1em; padding-right: 1em; text-align: center; vertical-align: top\">0.0</td>\n",
       "        <td style=\"padding-left: 1em; padding-right: 1em; text-align: center; vertical-align: top\">0.0</td>\n",
       "        <td style=\"padding-left: 1em; padding-right: 1em; text-align: center; vertical-align: top\">0.0</td>\n",
       "    </tr>\n",
       "    <tr>\n",
       "        <td style=\"padding-left: 1em; padding-right: 1em; text-align: center; vertical-align: top\">0.0</td>\n",
       "        <td style=\"padding-left: 1em; padding-right: 1em; text-align: center; vertical-align: top\">0.0</td>\n",
       "        <td style=\"padding-left: 1em; padding-right: 1em; text-align: center; vertical-align: top\">0.0</td>\n",
       "    </tr>\n",
       "    <tr>\n",
       "        <td style=\"padding-left: 1em; padding-right: 1em; text-align: center; vertical-align: top\">0.0</td>\n",
       "        <td style=\"padding-left: 1em; padding-right: 1em; text-align: center; vertical-align: top\">0.0</td>\n",
       "        <td style=\"padding-left: 1em; padding-right: 1em; text-align: center; vertical-align: top\">0.0</td>\n",
       "    </tr>\n",
       "    <tr>\n",
       "        <td style=\"padding-left: 1em; padding-right: 1em; text-align: center; vertical-align: top\">0.0</td>\n",
       "        <td style=\"padding-left: 1em; padding-right: 1em; text-align: center; vertical-align: top\">0.0</td>\n",
       "        <td style=\"padding-left: 1em; padding-right: 1em; text-align: center; vertical-align: top\">0.0</td>\n",
       "    </tr>\n",
       "    <tr>\n",
       "        <td style=\"padding-left: 1em; padding-right: 1em; text-align: center; vertical-align: top\">0.0</td>\n",
       "        <td style=\"padding-left: 1em; padding-right: 1em; text-align: center; vertical-align: top\">0.0</td>\n",
       "        <td style=\"padding-left: 1em; padding-right: 1em; text-align: center; vertical-align: top\">0.0</td>\n",
       "    </tr>\n",
       "    <tr>\n",
       "        <td style=\"padding-left: 1em; padding-right: 1em; text-align: center; vertical-align: top\">0.0</td>\n",
       "        <td style=\"padding-left: 1em; padding-right: 1em; text-align: center; vertical-align: top\">0.0</td>\n",
       "        <td style=\"padding-left: 1em; padding-right: 1em; text-align: center; vertical-align: top\">0.0</td>\n",
       "    </tr>\n",
       "    <tr>\n",
       "        <td style=\"padding-left: 1em; padding-right: 1em; text-align: center; vertical-align: top\">0.0322580645161</td>\n",
       "        <td style=\"padding-left: 1em; padding-right: 1em; text-align: center; vertical-align: top\">0.047619047619</td>\n",
       "        <td style=\"padding-left: 1em; padding-right: 1em; text-align: center; vertical-align: top\">0.0909090909091</td>\n",
       "    </tr>\n",
       "    <tr>\n",
       "        <td style=\"padding-left: 1em; padding-right: 1em; text-align: center; vertical-align: top\">0.0</td>\n",
       "        <td style=\"padding-left: 1em; padding-right: 1em; text-align: center; vertical-align: top\">0.0</td>\n",
       "        <td style=\"padding-left: 1em; padding-right: 1em; text-align: center; vertical-align: top\">0.0</td>\n",
       "    </tr>\n",
       "    <tr>\n",
       "        <td style=\"padding-left: 1em; padding-right: 1em; text-align: center; vertical-align: top\">0.0</td>\n",
       "        <td style=\"padding-left: 1em; padding-right: 1em; text-align: center; vertical-align: top\">0.0</td>\n",
       "        <td style=\"padding-left: 1em; padding-right: 1em; text-align: center; vertical-align: top\">0.0</td>\n",
       "    </tr>\n",
       "</table>\n",
       "[? rows x 26 columns]<br/>Note: Only the head of the SFrame is printed. This SFrame is lazily evaluated.<br/>You can use sf.materialize() to force materialization.\n",
       "</div>"
      ],
      "text/plain": [
       "Columns:\n",
       "\tsrc\tint\n",
       "\tdst\tint\n",
       "\tclass\tint\n",
       "\tsrc_out_vertices\tlist\n",
       "\tsrc_in_vertices\tlist\n",
       "\tsrc_vertices\tarray\n",
       "\tsrc_in_out_vertices\tarray\n",
       "\tsrc_in_degree\tint\n",
       "\tsrc_out_degree\tint\n",
       "\tsrc_degree\tint\n",
       "\tsrc_in_out_degree\tint\n",
       "\tdst_out_vertices\tlist\n",
       "\tdst_in_vertices\tlist\n",
       "\tdst_vertices\tarray\n",
       "\tdst_in_out_vertices\tarray\n",
       "\tdst_in_degree\tint\n",
       "\tdst_out_degree\tint\n",
       "\tdst_degree\tint\n",
       "\tdst_in_out_degree\tint\n",
       "\tcommon_in_vertices\tint\n",
       "\tcommon_out_vertices\tint\n",
       "\tcommon_vertices\tint\n",
       "\tJaccard\tfloat\n",
       "\tJaccard_in\tfloat\n",
       "\tJaccard_out\tfloat\n",
       "\tAdamic\tfloat\n",
       "\n",
       "Rows: Unknown\n",
       "\n",
       "Data:\n",
       "+--------+--------+-------+-------------------------------+\n",
       "|  src   |  dst   | class |        src_out_vertices       |\n",
       "+--------+--------+-------+-------------------------------+\n",
       "| 258530 | 258529 |   1   | [258529, 164966, 135813, 2... |\n",
       "| 20709  | 250796 |   0   | [250796, 143232, 227033, 9... |\n",
       "|  492   | 183431 |   0   | [183431, 74964, 1211, 2298... |\n",
       "| 64498  | 163950 |   0   | [163950, 90068, 61018, 647... |\n",
       "| 72957  | 74549  |   1   | [74549, 74551, 74553, 1601... |\n",
       "| 133326 | 110868 |   0   | [110868, 80207, 166079, 11... |\n",
       "| 251714 | 105236 |   0   | [105236, 253713, 251715, 6... |\n",
       "| 220484 | 179593 |   1   | [179593, 112006, 240571, 2... |\n",
       "| 90268  | 68604  |   1   | [68604, 99954, 239910, 999... |\n",
       "| 190825 | 181959 |   0   | [181959, 83728, 54313, 152... |\n",
       "+--------+--------+-------+-------------------------------+\n",
       "+--------------------------------+-------------------------------+\n",
       "|        src_in_vertices         |          src_vertices         |\n",
       "+--------------------------------+-------------------------------+\n",
       "| [258529, 151565, 258531, 4...  | [47808.0, 258529.0, 162146... |\n",
       "| [197562, 18944, 30744, 221323] | [18944.0, 143232.0, 38018.... |\n",
       "| [79295, 1712, 1208, 69080,...  | [227970.0, 183431.0, 80400... |\n",
       "| [246309, 7719, 61014, 4154...  | [189568.0, 136203.0, 87184... |\n",
       "| [74549, 146701, 53829, 790...  | [79074.0, 55748.0, 53829.0... |\n",
       "| [133327, 148085, 81936, 75...  | [112129.0, 112130.0, 11213... |\n",
       "| [66095, 251715, 1992, 2414...  | [241472.0, 62177.0, 251715... |\n",
       "| [115503, 41400, 68621, 149...  | [213890.0, 240571.0, 19148... |\n",
       "| [187700, 28156, 99955, 999...  | [221512.0, 41660.0, 239910... |\n",
       "| [101527, 168757, 88549, 26...  | [40577.0, 228623.0, 83728.... |\n",
       "+--------------------------------+-------------------------------+\n",
       "+-------------------------------+---------------+----------------+------------+\n",
       "|      src_in_out_vertices      | src_in_degree | src_out_degree | src_degree |\n",
       "+-------------------------------+---------------+----------------+------------+\n",
       "|      [258529.0, 255741.0]     |       8       |       9        |     15     |\n",
       "|               []              |       4       |       9        |     13     |\n",
       "|    [1210.0, 1211.0, 661.0]    |       20      |       11       |     28     |\n",
       "|       [61018.0, 62244.0]      |       15      |       10       |     23     |\n",
       "|           [74549.0]           |       7       |       8        |     14     |\n",
       "| [159453.0, 112131.0, 14808... |       11      |       12       |     19     |\n",
       "|      [241472.0, 251715.0]     |       6       |       8        |     12     |\n",
       "|           [213890.0]          |       8       |       14       |     21     |\n",
       "| [99953.0, 99954.0, 99955.0... |       10      |       8        |     14     |\n",
       "|           [152240.0]          |       8       |       15       |     22     |\n",
       "+-------------------------------+---------------+----------------+------------+\n",
       "+-------------------+-------------------------------+\n",
       "| src_in_out_degree |        dst_out_vertices       |\n",
       "+-------------------+-------------------------------+\n",
       "|         2         | [24578, 232530, 258530, 47... |\n",
       "|         0         | [114629, 240720, 3013, 160... |\n",
       "|         3         | [60986, 143438, 232442, 67... |\n",
       "|         2         | [165722, 211290, 165721, 1... |\n",
       "|         1         | [77598, 100624, 78290, 729... |\n",
       "|         4         | [110869, 180191, 15726, 12... |\n",
       "|         2         | [57915, 89264, 61010, 6247... |\n",
       "|         1         | [88351, 179596, 203615, 15... |\n",
       "|         4         | [201251, 68024, 90268, 686... |\n",
       "|         1         | [87142, 189384, 189385, 13... |\n",
       "+-------------------+-------------------------------+\n",
       "+-------------------------------+-------------------------------+\n",
       "|        dst_in_vertices        |          dst_vertices         |\n",
       "+-------------------------------+-------------------------------+\n",
       "| [126735, 258530, 258531, 1... | [47808.0, 258530.0, 258531... |\n",
       "| [20709, 219569, 206231, 25... | [37825.0, 3013.0, 20709.0,... |\n",
       "| [492, 214740, 214739, 2558... | [67907.0, 255813.0, 492.0,... |\n",
       "| [64498, 74243, 89079, 1657... | [243161.0, 74243.0, 182393... |\n",
       "| [72957, 77597, 52229, 7759... | [77600.0, 88673.0, 210075.... |\n",
       "| [133326, 124732, 152665, 1... | [76065.0, 240985.0, 132260... |\n",
       "| [251714, 51477, 129869, 98... | [38278.0, 62477.0, 129678.... |\n",
       "| [220484, 223334, 213891, 2... | [213890.0, 213891.0, 12531... |\n",
       "| [90268, 139249, 68605, 164... | [79744.0, 201251.0, 36196.... |\n",
       "| [190825, 176843, 242636, 1... | [192043.0, 35931.0, 133252... |\n",
       "+-------------------------------+-------------------------------+\n",
       "+--------------------------------+---------------+----------------+------------+\n",
       "|      dst_in_out_vertices       | dst_in_degree | dst_out_degree | dst_degree |\n",
       "+--------------------------------+---------------+----------------+------------+\n",
       "|      [258530.0, 255741.0]      |       10      |       10       |     18     |\n",
       "| [250795.0, 251230.0, 243775.0] |       7       |       17       |     21     |\n",
       "| [214739.0, 214740.0, 214741.0] |       9       |       9        |     15     |\n",
       "| [114833.0, 165722.0, 16394...  |       11      |       10       |     17     |\n",
       "|  [77597.0, 77598.0, 72957.0]   |       10      |       8        |     15     |\n",
       "| [125394.0, 110869.0, 65638.0]  |       14      |       8        |     19     |\n",
       "|           [98427.0]            |       13      |       12       |     24     |\n",
       "| [203616.0, 179594.0, 17959...  |       24      |       8        |     27     |\n",
       "| [68024.0, 68603.0, 90268.0...  |       13      |       10       |     19     |\n",
       "| [189384.0, 189385.0, 13325...  |       13      |       9        |     18     |\n",
       "+--------------------------------+---------------+----------------+------------+\n",
       "+-------------------+--------------------+-----+\n",
       "| dst_in_out_degree | common_in_vertices | ... |\n",
       "+-------------------+--------------------+-----+\n",
       "|         2         |         2          | ... |\n",
       "|         3         |         0          | ... |\n",
       "|         3         |         0          | ... |\n",
       "|         4         |         0          | ... |\n",
       "|         3         |         0          | ... |\n",
       "|         3         |         0          | ... |\n",
       "|         1         |         0          | ... |\n",
       "|         5         |         1          | ... |\n",
       "|         4         |         0          | ... |\n",
       "|         4         |         0          | ... |\n",
       "+-------------------+--------------------+-----+\n",
       "[? rows x 26 columns]\n",
       "Note: Only the head of the SFrame is printed. This SFrame is lazily evaluated.\n",
       "You can use sf.materialize() to force materialization."
      ]
     },
     "execution_count": 40,
     "metadata": {},
     "output_type": "execute_result"
    }
   ],
   "source": [
    "clean_edges.remove_column('edge_id')"
   ]
  },
  {
   "cell_type": "code",
   "execution_count": 41,
   "metadata": {
    "collapsed": true
   },
   "outputs": [],
   "source": [
    "# split on train and test\n",
    "test, train = clean_edges.random_split(0.2)"
   ]
  },
  {
   "cell_type": "code",
   "execution_count": 42,
   "metadata": {
    "collapsed": false
   },
   "outputs": [
    {
     "name": "stdout",
     "output_type": "stream",
     "text": [
      "(494310, 26) (1975403, 26)\n"
     ]
    }
   ],
   "source": [
    "print test.shape, train.shape"
   ]
  },
  {
   "cell_type": "code",
   "execution_count": 43,
   "metadata": {
    "collapsed": false
   },
   "outputs": [
    {
     "name": "stdout",
     "output_type": "stream",
     "text": [
      "['src', 'dst', 'src_out_vertices', 'src_in_vertices', 'src_in_degree', 'src_out_degree', 'src_degree', 'src_in_out_degree', 'dst_out_vertices', 'dst_in_vertices', 'dst_in_degree', 'dst_out_degree', 'dst_degree', 'dst_in_out_degree', 'common_in_vertices', 'common_out_vertices', 'common_vertices', 'Jaccard', 'Jaccard_in', 'Jaccard_out', 'Adamic']\n"
     ]
    }
   ],
   "source": [
    "features = clean_edges.column_names()\n",
    "features.remove('class')\n",
    "features.remove('src_vertices')\n",
    "features.remove('dst_vertices')\n",
    "features.remove('src_in_out_vertices')\n",
    "features.remove('dst_in_out_vertices')\n",
    "print features"
   ]
  },
  {
   "cell_type": "code",
   "execution_count": 52,
   "metadata": {
    "collapsed": false,
    "scrolled": true
   },
   "outputs": [
    {
     "data": {
      "text/html": [
       "<pre>Logistic regression:</pre>"
      ],
      "text/plain": [
       "Logistic regression:"
      ]
     },
     "metadata": {},
     "output_type": "display_data"
    },
    {
     "data": {
      "text/html": [
       "<pre>--------------------------------------------------------</pre>"
      ],
      "text/plain": [
       "--------------------------------------------------------"
      ]
     },
     "metadata": {},
     "output_type": "display_data"
    },
    {
     "data": {
      "text/html": [
       "<pre>Number of examples          : 1878037</pre>"
      ],
      "text/plain": [
       "Number of examples          : 1878037"
      ]
     },
     "metadata": {},
     "output_type": "display_data"
    },
    {
     "data": {
      "text/html": [
       "<pre>Number of classes           : 2</pre>"
      ],
      "text/plain": [
       "Number of classes           : 2"
      ]
     },
     "metadata": {},
     "output_type": "display_data"
    },
    {
     "data": {
      "text/html": [
       "<pre>Number of feature columns   : 21</pre>"
      ],
      "text/plain": [
       "Number of feature columns   : 21"
      ]
     },
     "metadata": {},
     "output_type": "display_data"
    },
    {
     "data": {
      "text/html": [
       "<pre>Number of unpacked features : 21</pre>"
      ],
      "text/plain": [
       "Number of unpacked features : 21"
      ]
     },
     "metadata": {},
     "output_type": "display_data"
    },
    {
     "data": {
      "text/html": [
       "<pre>Number of coefficients    : 1048432</pre>"
      ],
      "text/plain": [
       "Number of coefficients    : 1048432"
      ]
     },
     "metadata": {},
     "output_type": "display_data"
    },
    {
     "data": {
      "text/html": [
       "<pre>Starting L-BFGS</pre>"
      ],
      "text/plain": [
       "Starting L-BFGS"
      ]
     },
     "metadata": {},
     "output_type": "display_data"
    },
    {
     "data": {
      "text/html": [
       "<pre>--------------------------------------------------------</pre>"
      ],
      "text/plain": [
       "--------------------------------------------------------"
      ]
     },
     "metadata": {},
     "output_type": "display_data"
    },
    {
     "data": {
      "text/html": [
       "<pre>+-----------+----------+-----------+--------------+-------------------+---------------------+</pre>"
      ],
      "text/plain": [
       "+-----------+----------+-----------+--------------+-------------------+---------------------+"
      ]
     },
     "metadata": {},
     "output_type": "display_data"
    },
    {
     "data": {
      "text/html": [
       "<pre>| Iteration | Passes   | Step size | Elapsed Time | Training-accuracy | Validation-accuracy |</pre>"
      ],
      "text/plain": [
       "| Iteration | Passes   | Step size | Elapsed Time | Training-accuracy | Validation-accuracy |"
      ]
     },
     "metadata": {},
     "output_type": "display_data"
    },
    {
     "data": {
      "text/html": [
       "<pre>+-----------+----------+-----------+--------------+-------------------+---------------------+</pre>"
      ],
      "text/plain": [
       "+-----------+----------+-----------+--------------+-------------------+---------------------+"
      ]
     },
     "metadata": {},
     "output_type": "display_data"
    },
    {
     "data": {
      "text/html": [
       "<pre>| 1         | 3        | 0.000001  | 5.520632     | 0.771582          | 0.742844            |</pre>"
      ],
      "text/plain": [
       "| 1         | 3        | 0.000001  | 5.520632     | 0.771582          | 0.742844            |"
      ]
     },
     "metadata": {},
     "output_type": "display_data"
    },
    {
     "data": {
      "text/html": [
       "<pre>| 2         | 5        | 1.000000  | 9.775784     | 0.866330          | 0.804008            |</pre>"
      ],
      "text/plain": [
       "| 2         | 5        | 1.000000  | 9.775784     | 0.866330          | 0.804008            |"
      ]
     },
     "metadata": {},
     "output_type": "display_data"
    },
    {
     "data": {
      "text/html": [
       "<pre>| 3         | 6        | 1.000000  | 12.406850    | 0.892214          | 0.847187            |</pre>"
      ],
      "text/plain": [
       "| 3         | 6        | 1.000000  | 12.406850    | 0.892214          | 0.847187            |"
      ]
     },
     "metadata": {},
     "output_type": "display_data"
    },
    {
     "data": {
      "text/html": [
       "<pre>| 4         | 7        | 1.000000  | 15.449722    | 0.896987          | 0.858210            |</pre>"
      ],
      "text/plain": [
       "| 4         | 7        | 1.000000  | 15.449722    | 0.896987          | 0.858210            |"
      ]
     },
     "metadata": {},
     "output_type": "display_data"
    },
    {
     "data": {
      "text/html": [
       "<pre>| 5         | 8        | 1.000000  | 18.319879    | 0.909648          | 0.869386            |</pre>"
      ],
      "text/plain": [
       "| 5         | 8        | 1.000000  | 18.319879    | 0.909648          | 0.869386            |"
      ]
     },
     "metadata": {},
     "output_type": "display_data"
    },
    {
     "data": {
      "text/html": [
       "<pre>| 6         | 9        | 1.000000  | 20.835240    | 0.883765          | 0.810105            |</pre>"
      ],
      "text/plain": [
       "| 6         | 9        | 1.000000  | 20.835240    | 0.883765          | 0.810105            |"
      ]
     },
     "metadata": {},
     "output_type": "display_data"
    },
    {
     "data": {
      "text/html": [
       "<pre>| 7         | 11       | 1.000000  | 24.956821    | 0.937133          | 0.881876            |</pre>"
      ],
      "text/plain": [
       "| 7         | 11       | 1.000000  | 24.956821    | 0.937133          | 0.881876            |"
      ]
     },
     "metadata": {},
     "output_type": "display_data"
    },
    {
     "data": {
      "text/html": [
       "<pre>| 8         | 12       | 1.000000  | 27.705951    | 0.937180          | 0.883097            |</pre>"
      ],
      "text/plain": [
       "| 8         | 12       | 1.000000  | 27.705951    | 0.937180          | 0.883097            |"
      ]
     },
     "metadata": {},
     "output_type": "display_data"
    },
    {
     "data": {
      "text/html": [
       "<pre>| 9         | 13       | 1.000000  | 30.792479    | 0.942088          | 0.886599            |</pre>"
      ],
      "text/plain": [
       "| 9         | 13       | 1.000000  | 30.792479    | 0.942088          | 0.886599            |"
      ]
     },
     "metadata": {},
     "output_type": "display_data"
    },
    {
     "data": {
      "text/html": [
       "<pre>| 10        | 14       | 1.000000  | 33.658884    | 0.951717          | 0.888237            |</pre>"
      ],
      "text/plain": [
       "| 10        | 14       | 1.000000  | 33.658884    | 0.951717          | 0.888237            |"
      ]
     },
     "metadata": {},
     "output_type": "display_data"
    },
    {
     "data": {
      "text/html": [
       "<pre>| 11        | 15       | 1.000000  | 36.673894    | 0.954345          | 0.878191            |</pre>"
      ],
      "text/plain": [
       "| 11        | 15       | 1.000000  | 36.673894    | 0.954345          | 0.878191            |"
      ]
     },
     "metadata": {},
     "output_type": "display_data"
    },
    {
     "data": {
      "text/html": [
       "<pre>+-----------+----------+-----------+--------------+-------------------+---------------------+</pre>"
      ],
      "text/plain": [
       "+-----------+----------+-----------+--------------+-------------------+---------------------+"
      ]
     },
     "metadata": {},
     "output_type": "display_data"
    },
    {
     "data": {
      "text/html": [
       "<pre>TERMINATED: Iteration limit reached.</pre>"
      ],
      "text/plain": [
       "TERMINATED: Iteration limit reached."
      ]
     },
     "metadata": {},
     "output_type": "display_data"
    },
    {
     "data": {
      "text/html": [
       "<pre>This model may not be optimal. To improve it, consider increasing `max_iterations`.</pre>"
      ],
      "text/plain": [
       "This model may not be optimal. To improve it, consider increasing `max_iterations`."
      ]
     },
     "metadata": {},
     "output_type": "display_data"
    },
    {
     "name": "stdout",
     "output_type": "stream",
     "text": [
      "PROGRESS: Creating a validation set from 5 percent of training data. This may take a while.\n",
      "          You can set ``validation_set=None`` to disable validation tracking.\n",
      "\n",
      "{'f1_score': 0.8577075287274115, 'auc': 0.9350187123096846, 'recall': 0.830771717544913, 'precision': 0.886448529049426, 'log_loss': 0.3539572557191507, 'roc_curve': Columns:\n",
      "\tthreshold\tfloat\n",
      "\tfpr\tfloat\n",
      "\ttpr\tfloat\n",
      "\tp\tint\n",
      "\tn\tint\n",
      "\n",
      "Rows: 100001\n",
      "\n",
      "Data:\n",
      "+-----------+----------------+----------------+--------+--------+\n",
      "| threshold |      fpr       |      tpr       |   p    |   n    |\n",
      "+-----------+----------------+----------------+--------+--------+\n",
      "|    0.0    |      1.0       |      1.0       | 216530 | 276906 |\n",
      "|   1e-05   | 0.995467776068 | 0.999621299589 | 216530 | 276906 |\n",
      "|   2e-05   | 0.991654207565 |  0.9993996213  | 216530 | 276906 |\n",
      "|   3e-05   | 0.988082598427 | 0.999270308964 | 216530 | 276906 |\n",
      "|   4e-05   | 0.984875734004 | 0.999164088117 | 216530 | 276906 |\n",
      "|   5e-05   | 0.981733873589 | 0.999039394079 | 216530 | 276906 |\n",
      "|   6e-05   | 0.978812304537 | 0.998965501316 | 216530 | 276906 |\n",
      "|   7e-05   | 0.975959350827 | 0.998840807278 | 216530 | 276906 |\n",
      "|   8e-05   | 0.973167789791 | 0.998702258348 | 216530 | 276906 |\n",
      "|   9e-05   | 0.970542350112 | 0.998568327714 | 216530 | 276906 |\n",
      "+-----------+----------------+----------------+--------+--------+\n",
      "[100001 rows x 5 columns]\n",
      "Note: Only the head of the SFrame is printed.\n",
      "You can use print_rows(num_rows=m, num_columns=n) to print more rows and columns., 'confusion_matrix': Columns:\n",
      "\ttarget_label\tint\n",
      "\tpredicted_label\tint\n",
      "\tcount\tint\n",
      "\n",
      "Rows: 4\n",
      "\n",
      "Data:\n",
      "+--------------+-----------------+--------+\n",
      "| target_label | predicted_label | count  |\n",
      "+--------------+-----------------+--------+\n",
      "|      0       |        1        | 23043  |\n",
      "|      0       |        0        | 253863 |\n",
      "|      1       |        1        | 179887 |\n",
      "|      1       |        0        | 36643  |\n",
      "+--------------+-----------------+--------+\n",
      "[4 rows x 3 columns]\n",
      ", 'accuracy': 0.8790400376137939}\n"
     ]
    }
   ],
   "source": [
    "# fit basic classification model - LR\n",
    "model = gl.classifier.logistic_classifier.create(train, \n",
    "                                                 target=\"class\", \n",
    "                                                 features=features) \n",
    "results = model.evaluate(test)\n",
    "print results"
   ]
  },
  {
   "cell_type": "markdown",
   "metadata": {},
   "source": [
    "accuracy: 0.8790400376137939"
   ]
  },
  {
   "cell_type": "code",
   "execution_count": 45,
   "metadata": {
    "collapsed": false,
    "scrolled": true
   },
   "outputs": [
    {
     "data": {
      "text/html": [
       "<pre>Boosted trees classifier:</pre>"
      ],
      "text/plain": [
       "Boosted trees classifier:"
      ]
     },
     "metadata": {},
     "output_type": "display_data"
    },
    {
     "data": {
      "text/html": [
       "<pre>--------------------------------------------------------</pre>"
      ],
      "text/plain": [
       "--------------------------------------------------------"
      ]
     },
     "metadata": {},
     "output_type": "display_data"
    },
    {
     "data": {
      "text/html": [
       "<pre>Number of examples          : 1876741</pre>"
      ],
      "text/plain": [
       "Number of examples          : 1876741"
      ]
     },
     "metadata": {},
     "output_type": "display_data"
    },
    {
     "data": {
      "text/html": [
       "<pre>Number of classes           : 2</pre>"
      ],
      "text/plain": [
       "Number of classes           : 2"
      ]
     },
     "metadata": {},
     "output_type": "display_data"
    },
    {
     "data": {
      "text/html": [
       "<pre>Number of feature columns   : 21</pre>"
      ],
      "text/plain": [
       "Number of feature columns   : 21"
      ]
     },
     "metadata": {},
     "output_type": "display_data"
    },
    {
     "data": {
      "text/html": [
       "<pre>Number of unpacked features : 21</pre>"
      ],
      "text/plain": [
       "Number of unpacked features : 21"
      ]
     },
     "metadata": {},
     "output_type": "display_data"
    },
    {
     "data": {
      "text/html": [
       "<pre>+-----------+--------------+-------------------+---------------------+-------------------+---------------------+</pre>"
      ],
      "text/plain": [
       "+-----------+--------------+-------------------+---------------------+-------------------+---------------------+"
      ]
     },
     "metadata": {},
     "output_type": "display_data"
    },
    {
     "data": {
      "text/html": [
       "<pre>| Iteration | Elapsed Time | Training-accuracy | Validation-accuracy | Training-log_loss | Validation-log_loss |</pre>"
      ],
      "text/plain": [
       "| Iteration | Elapsed Time | Training-accuracy | Validation-accuracy | Training-log_loss | Validation-log_loss |"
      ]
     },
     "metadata": {},
     "output_type": "display_data"
    },
    {
     "data": {
      "text/html": [
       "<pre>+-----------+--------------+-------------------+---------------------+-------------------+---------------------+</pre>"
      ],
      "text/plain": [
       "+-----------+--------------+-------------------+---------------------+-------------------+---------------------+"
      ]
     },
     "metadata": {},
     "output_type": "display_data"
    },
    {
     "data": {
      "text/html": [
       "<pre>| 1         | 10.629409    | 0.937974          | 0.938416            | 0.618156          | 0.618087            |</pre>"
      ],
      "text/plain": [
       "| 1         | 10.629409    | 0.937974          | 0.938416            | 0.618156          | 0.618087            |"
      ]
     },
     "metadata": {},
     "output_type": "display_data"
    },
    {
     "data": {
      "text/html": [
       "<pre>| 2         | 21.066254    | 0.938101          | 0.938619            | 0.556839          | 0.556707            |</pre>"
      ],
      "text/plain": [
       "| 2         | 21.066254    | 0.938101          | 0.938619            | 0.556839          | 0.556707            |"
      ]
     },
     "metadata": {},
     "output_type": "display_data"
    },
    {
     "data": {
      "text/html": [
       "<pre>| 3         | 31.485066    | 0.938227          | 0.938781            | 0.505707          | 0.505465            |</pre>"
      ],
      "text/plain": [
       "| 3         | 31.485066    | 0.938227          | 0.938781            | 0.505707          | 0.505465            |"
      ]
     },
     "metadata": {},
     "output_type": "display_data"
    },
    {
     "data": {
      "text/html": [
       "<pre>| 4         | 41.649146    | 0.938249          | 0.938963            | 0.462660          | 0.462385            |</pre>"
      ],
      "text/plain": [
       "| 4         | 41.649146    | 0.938249          | 0.938963            | 0.462660          | 0.462385            |"
      ]
     },
     "metadata": {},
     "output_type": "display_data"
    },
    {
     "data": {
      "text/html": [
       "<pre>| 5         | 51.686694    | 0.938249          | 0.938973            | 0.426161          | 0.425808            |</pre>"
      ],
      "text/plain": [
       "| 5         | 51.686694    | 0.938249          | 0.938973            | 0.426161          | 0.425808            |"
      ]
     },
     "metadata": {},
     "output_type": "display_data"
    },
    {
     "data": {
      "text/html": [
       "<pre>| 6         | 62.137952    | 0.938301          | 0.938984            | 0.395061          | 0.394671            |</pre>"
      ],
      "text/plain": [
       "| 6         | 62.137952    | 0.938301          | 0.938984            | 0.395061          | 0.394671            |"
      ]
     },
     "metadata": {},
     "output_type": "display_data"
    },
    {
     "data": {
      "text/html": [
       "<pre>| 7         | 72.798764    | 0.938335          | 0.939125            | 0.367988          | 0.367555            |</pre>"
      ],
      "text/plain": [
       "| 7         | 72.798764    | 0.938335          | 0.939125            | 0.367988          | 0.367555            |"
      ]
     },
     "metadata": {},
     "output_type": "display_data"
    },
    {
     "data": {
      "text/html": [
       "<pre>| 8         | 83.180891    | 0.938363          | 0.939095            | 0.344862          | 0.344408            |</pre>"
      ],
      "text/plain": [
       "| 8         | 83.180891    | 0.938363          | 0.939095            | 0.344862          | 0.344408            |"
      ]
     },
     "metadata": {},
     "output_type": "display_data"
    },
    {
     "data": {
      "text/html": [
       "<pre>| 9         | 93.819276    | 0.938421          | 0.939186            | 0.324553          | 0.324071            |</pre>"
      ],
      "text/plain": [
       "| 9         | 93.819276    | 0.938421          | 0.939186            | 0.324553          | 0.324071            |"
      ]
     },
     "metadata": {},
     "output_type": "display_data"
    },
    {
     "data": {
      "text/html": [
       "<pre>| 10        | 104.036775   | 0.938533          | 0.939409            | 0.307050          | 0.306532            |</pre>"
      ],
      "text/plain": [
       "| 10        | 104.036775   | 0.938533          | 0.939409            | 0.307050          | 0.306532            |"
      ]
     },
     "metadata": {},
     "output_type": "display_data"
    },
    {
     "data": {
      "text/html": [
       "<pre>| 11        | 114.387059   | 0.938551          | 0.939369            | 0.291857          | 0.291304            |</pre>"
      ],
      "text/plain": [
       "| 11        | 114.387059   | 0.938551          | 0.939369            | 0.291857          | 0.291304            |"
      ]
     },
     "metadata": {},
     "output_type": "display_data"
    },
    {
     "data": {
      "text/html": [
       "<pre>| 12        | 124.916717   | 0.938587          | 0.939399            | 0.278497          | 0.277914            |</pre>"
      ],
      "text/plain": [
       "| 12        | 124.916717   | 0.938587          | 0.939399            | 0.278497          | 0.277914            |"
      ]
     },
     "metadata": {},
     "output_type": "display_data"
    },
    {
     "data": {
      "text/html": [
       "<pre>| 13        | 135.161087   | 0.938596          | 0.939460            | 0.266877          | 0.266258            |</pre>"
      ],
      "text/plain": [
       "| 13        | 135.161087   | 0.938596          | 0.939460            | 0.266877          | 0.266258            |"
      ]
     },
     "metadata": {},
     "output_type": "display_data"
    },
    {
     "data": {
      "text/html": [
       "<pre>| 14        | 145.629158   | 0.938638          | 0.939470            | 0.256601          | 0.255959            |</pre>"
      ],
      "text/plain": [
       "| 14        | 145.629158   | 0.938638          | 0.939470            | 0.256601          | 0.255959            |"
      ]
     },
     "metadata": {},
     "output_type": "display_data"
    },
    {
     "data": {
      "text/html": [
       "<pre>| 15        | 156.260509   | 0.938718          | 0.939592            | 0.247204          | 0.246521            |</pre>"
      ],
      "text/plain": [
       "| 15        | 156.260509   | 0.938718          | 0.939592            | 0.247204          | 0.246521            |"
      ]
     },
     "metadata": {},
     "output_type": "display_data"
    },
    {
     "data": {
      "text/html": [
       "<pre>| 16        | 166.930267   | 0.938774          | 0.939612            | 0.239277          | 0.238580            |</pre>"
      ],
      "text/plain": [
       "| 16        | 166.930267   | 0.938774          | 0.939612            | 0.239277          | 0.238580            |"
      ]
     },
     "metadata": {},
     "output_type": "display_data"
    },
    {
     "data": {
      "text/html": [
       "<pre>| 17        | 177.454578   | 0.938821          | 0.939663            | 0.232279          | 0.231603            |</pre>"
      ],
      "text/plain": [
       "| 17        | 177.454578   | 0.938821          | 0.939663            | 0.232279          | 0.231603            |"
      ]
     },
     "metadata": {},
     "output_type": "display_data"
    },
    {
     "data": {
      "text/html": [
       "<pre>| 18        | 188.117252   | 0.938838          | 0.939693            | 0.226093          | 0.225401            |</pre>"
      ],
      "text/plain": [
       "| 18        | 188.117252   | 0.938838          | 0.939693            | 0.226093          | 0.225401            |"
      ]
     },
     "metadata": {},
     "output_type": "display_data"
    },
    {
     "data": {
      "text/html": [
       "<pre>| 19        | 198.566946   | 0.938880          | 0.939683            | 0.220705          | 0.220001            |</pre>"
      ],
      "text/plain": [
       "| 19        | 198.566946   | 0.938880          | 0.939683            | 0.220705          | 0.220001            |"
      ]
     },
     "metadata": {},
     "output_type": "display_data"
    },
    {
     "data": {
      "text/html": [
       "<pre>| 20        | 209.149167   | 0.938890          | 0.939653            | 0.215842          | 0.215143            |</pre>"
      ],
      "text/plain": [
       "| 20        | 209.149167   | 0.938890          | 0.939653            | 0.215842          | 0.215143            |"
      ]
     },
     "metadata": {},
     "output_type": "display_data"
    },
    {
     "data": {
      "text/html": [
       "<pre>| 21        | 219.615265   | 0.938927          | 0.939794            | 0.211421          | 0.210718            |</pre>"
      ],
      "text/plain": [
       "| 21        | 219.615265   | 0.938927          | 0.939794            | 0.211421          | 0.210718            |"
      ]
     },
     "metadata": {},
     "output_type": "display_data"
    },
    {
     "data": {
      "text/html": [
       "<pre>| 22        | 230.279174   | 0.938883          | 0.939713            | 0.207648          | 0.206935            |</pre>"
      ],
      "text/plain": [
       "| 22        | 230.279174   | 0.938883          | 0.939713            | 0.207648          | 0.206935            |"
      ]
     },
     "metadata": {},
     "output_type": "display_data"
    },
    {
     "data": {
      "text/html": [
       "<pre>| 23        | 240.975948   | 0.938892          | 0.939693            | 0.204317          | 0.203593            |</pre>"
      ],
      "text/plain": [
       "| 23        | 240.975948   | 0.938892          | 0.939693            | 0.204317          | 0.203593            |"
      ]
     },
     "metadata": {},
     "output_type": "display_data"
    },
    {
     "data": {
      "text/html": [
       "<pre>| 24        | 251.674219   | 0.938949          | 0.939754            | 0.200767          | 0.200030            |</pre>"
      ],
      "text/plain": [
       "| 24        | 251.674219   | 0.938949          | 0.939754            | 0.200767          | 0.200030            |"
      ]
     },
     "metadata": {},
     "output_type": "display_data"
    },
    {
     "data": {
      "text/html": [
       "<pre>| 25        | 262.374218   | 0.938960          | 0.939764            | 0.198132          | 0.197411            |</pre>"
      ],
      "text/plain": [
       "| 25        | 262.374218   | 0.938960          | 0.939764            | 0.198132          | 0.197411            |"
      ]
     },
     "metadata": {},
     "output_type": "display_data"
    },
    {
     "data": {
      "text/html": [
       "<pre>| 26        | 273.053142   | 0.939008          | 0.939865            | 0.195079          | 0.194335            |</pre>"
      ],
      "text/plain": [
       "| 26        | 273.053142   | 0.939008          | 0.939865            | 0.195079          | 0.194335            |"
      ]
     },
     "metadata": {},
     "output_type": "display_data"
    },
    {
     "data": {
      "text/html": [
       "<pre>| 27        | 283.514139   | 0.939018          | 0.939815            | 0.192801          | 0.192060            |</pre>"
      ],
      "text/plain": [
       "| 27        | 283.514139   | 0.939018          | 0.939815            | 0.192801          | 0.192060            |"
      ]
     },
     "metadata": {},
     "output_type": "display_data"
    },
    {
     "data": {
      "text/html": [
       "<pre>| 28        | 294.409627   | 0.939030          | 0.939774            | 0.190511          | 0.189788            |</pre>"
      ],
      "text/plain": [
       "| 28        | 294.409627   | 0.939030          | 0.939774            | 0.190511          | 0.189788            |"
      ]
     },
     "metadata": {},
     "output_type": "display_data"
    },
    {
     "data": {
      "text/html": [
       "<pre>| 29        | 305.438733   | 0.939043          | 0.939754            | 0.188477          | 0.187744            |</pre>"
      ],
      "text/plain": [
       "| 29        | 305.438733   | 0.939043          | 0.939754            | 0.188477          | 0.187744            |"
      ]
     },
     "metadata": {},
     "output_type": "display_data"
    },
    {
     "data": {
      "text/html": [
       "<pre>| 30        | 315.820394   | 0.939072          | 0.939805            | 0.186533          | 0.185820            |</pre>"
      ],
      "text/plain": [
       "| 30        | 315.820394   | 0.939072          | 0.939805            | 0.186533          | 0.185820            |"
      ]
     },
     "metadata": {},
     "output_type": "display_data"
    },
    {
     "data": {
      "text/html": [
       "<pre>| 31        | 326.491043   | 0.939105          | 0.939805            | 0.184704          | 0.184008            |</pre>"
      ],
      "text/plain": [
       "| 31        | 326.491043   | 0.939105          | 0.939805            | 0.184704          | 0.184008            |"
      ]
     },
     "metadata": {},
     "output_type": "display_data"
    },
    {
     "data": {
      "text/html": [
       "<pre>| 32        | 337.244344   | 0.939113          | 0.939774            | 0.183018          | 0.182325            |</pre>"
      ],
      "text/plain": [
       "| 32        | 337.244344   | 0.939113          | 0.939774            | 0.183018          | 0.182325            |"
      ]
     },
     "metadata": {},
     "output_type": "display_data"
    },
    {
     "data": {
      "text/html": [
       "<pre>| 33        | 347.970823   | 0.939107          | 0.939774            | 0.181545          | 0.180838            |</pre>"
      ],
      "text/plain": [
       "| 33        | 347.970823   | 0.939107          | 0.939774            | 0.181545          | 0.180838            |"
      ]
     },
     "metadata": {},
     "output_type": "display_data"
    },
    {
     "data": {
      "text/html": [
       "<pre>| 34        | 358.627449   | 0.939141          | 0.939815            | 0.180311          | 0.179609            |</pre>"
      ],
      "text/plain": [
       "| 34        | 358.627449   | 0.939141          | 0.939815            | 0.180311          | 0.179609            |"
      ]
     },
     "metadata": {},
     "output_type": "display_data"
    },
    {
     "data": {
      "text/html": [
       "<pre>| 35        | 369.091952   | 0.939149          | 0.939835            | 0.179460          | 0.178775            |</pre>"
      ],
      "text/plain": [
       "| 35        | 369.091952   | 0.939149          | 0.939835            | 0.179460          | 0.178775            |"
      ]
     },
     "metadata": {},
     "output_type": "display_data"
    },
    {
     "data": {
      "text/html": [
       "<pre>| 36        | 379.903383   | 0.939164          | 0.939825            | 0.177955          | 0.177262            |</pre>"
      ],
      "text/plain": [
       "| 36        | 379.903383   | 0.939164          | 0.939825            | 0.177955          | 0.177262            |"
      ]
     },
     "metadata": {},
     "output_type": "display_data"
    },
    {
     "data": {
      "text/html": [
       "<pre>| 37        | 390.571424   | 0.939176          | 0.939835            | 0.177230          | 0.176532            |</pre>"
      ],
      "text/plain": [
       "| 37        | 390.571424   | 0.939176          | 0.939835            | 0.177230          | 0.176532            |"
      ]
     },
     "metadata": {},
     "output_type": "display_data"
    },
    {
     "data": {
      "text/html": [
       "<pre>| 38        | 401.095657   | 0.939179          | 0.939825            | 0.176009          | 0.175293            |</pre>"
      ],
      "text/plain": [
       "| 38        | 401.095657   | 0.939179          | 0.939825            | 0.176009          | 0.175293            |"
      ]
     },
     "metadata": {},
     "output_type": "display_data"
    },
    {
     "data": {
      "text/html": [
       "<pre>| 39        | 412.062532   | 0.939189          | 0.939855            | 0.175350          | 0.174663            |</pre>"
      ],
      "text/plain": [
       "| 39        | 412.062532   | 0.939189          | 0.939855            | 0.175350          | 0.174663            |"
      ]
     },
     "metadata": {},
     "output_type": "display_data"
    },
    {
     "data": {
      "text/html": [
       "<pre>| 40        | 422.649650   | 0.939223          | 0.939916            | 0.174304          | 0.173655            |</pre>"
      ],
      "text/plain": [
       "| 40        | 422.649650   | 0.939223          | 0.939916            | 0.174304          | 0.173655            |"
      ]
     },
     "metadata": {},
     "output_type": "display_data"
    },
    {
     "data": {
      "text/html": [
       "<pre>| 41        | 433.344094   | 0.939233          | 0.939886            | 0.173369          | 0.172714            |</pre>"
      ],
      "text/plain": [
       "| 41        | 433.344094   | 0.939233          | 0.939886            | 0.173369          | 0.172714            |"
      ]
     },
     "metadata": {},
     "output_type": "display_data"
    },
    {
     "data": {
      "text/html": [
       "<pre>| 42        | 444.048000   | 0.939244          | 0.939916            | 0.172929          | 0.172265            |</pre>"
      ],
      "text/plain": [
       "| 42        | 444.048000   | 0.939244          | 0.939916            | 0.172929          | 0.172265            |"
      ]
     },
     "metadata": {},
     "output_type": "display_data"
    },
    {
     "data": {
      "text/html": [
       "<pre>| 43        | 454.600669   | 0.939262          | 0.939926            | 0.172168          | 0.171497            |</pre>"
      ],
      "text/plain": [
       "| 43        | 454.600669   | 0.939262          | 0.939926            | 0.172168          | 0.171497            |"
      ]
     },
     "metadata": {},
     "output_type": "display_data"
    },
    {
     "data": {
      "text/html": [
       "<pre>| 44        | 465.210607   | 0.939280          | 0.939967            | 0.171678          | 0.170990            |</pre>"
      ],
      "text/plain": [
       "| 44        | 465.210607   | 0.939280          | 0.939967            | 0.171678          | 0.170990            |"
      ]
     },
     "metadata": {},
     "output_type": "display_data"
    },
    {
     "data": {
      "text/html": [
       "<pre>| 45        | 475.575953   | 0.939288          | 0.939926            | 0.171056          | 0.170371            |</pre>"
      ],
      "text/plain": [
       "| 45        | 475.575953   | 0.939288          | 0.939926            | 0.171056          | 0.170371            |"
      ]
     },
     "metadata": {},
     "output_type": "display_data"
    },
    {
     "data": {
      "text/html": [
       "<pre>| 46        | 485.845198   | 0.939296          | 0.939967            | 0.170489          | 0.169800            |</pre>"
      ],
      "text/plain": [
       "| 46        | 485.845198   | 0.939296          | 0.939967            | 0.170489          | 0.169800            |"
      ]
     },
     "metadata": {},
     "output_type": "display_data"
    },
    {
     "data": {
      "text/html": [
       "<pre>| 47        | 496.469891   | 0.939292          | 0.939957            | 0.170255          | 0.169572            |</pre>"
      ],
      "text/plain": [
       "| 47        | 496.469891   | 0.939292          | 0.939957            | 0.170255          | 0.169572            |"
      ]
     },
     "metadata": {},
     "output_type": "display_data"
    },
    {
     "data": {
      "text/html": [
       "<pre>| 48        | 506.864550   | 0.939306          | 0.939967            | 0.169915          | 0.169243            |</pre>"
      ],
      "text/plain": [
       "| 48        | 506.864550   | 0.939306          | 0.939967            | 0.169915          | 0.169243            |"
      ]
     },
     "metadata": {},
     "output_type": "display_data"
    },
    {
     "data": {
      "text/html": [
       "<pre>| 49        | 517.326492   | 0.939304          | 0.939946            | 0.169464          | 0.168796            |</pre>"
      ],
      "text/plain": [
       "| 49        | 517.326492   | 0.939304          | 0.939946            | 0.169464          | 0.168796            |"
      ]
     },
     "metadata": {},
     "output_type": "display_data"
    },
    {
     "data": {
      "text/html": [
       "<pre>| 50        | 527.879799   | 0.939318          | 0.939967            | 0.169003          | 0.168343            |</pre>"
      ],
      "text/plain": [
       "| 50        | 527.879799   | 0.939318          | 0.939967            | 0.169003          | 0.168343            |"
      ]
     },
     "metadata": {},
     "output_type": "display_data"
    },
    {
     "data": {
      "text/html": [
       "<pre>| 51        | 538.409175   | 0.939354          | 0.939886            | 0.168394          | 0.167756            |</pre>"
      ],
      "text/plain": [
       "| 51        | 538.409175   | 0.939354          | 0.939886            | 0.168394          | 0.167756            |"
      ]
     },
     "metadata": {},
     "output_type": "display_data"
    },
    {
     "data": {
      "text/html": [
       "<pre>| 52        | 548.818661   | 0.939385          | 0.939997            | 0.167999          | 0.167371            |</pre>"
      ],
      "text/plain": [
       "| 52        | 548.818661   | 0.939385          | 0.939997            | 0.167999          | 0.167371            |"
      ]
     },
     "metadata": {},
     "output_type": "display_data"
    },
    {
     "data": {
      "text/html": [
       "<pre>| 53        | 559.230705   | 0.939395          | 0.940028            | 0.167431          | 0.166822            |</pre>"
      ],
      "text/plain": [
       "| 53        | 559.230705   | 0.939395          | 0.940028            | 0.167431          | 0.166822            |"
      ]
     },
     "metadata": {},
     "output_type": "display_data"
    },
    {
     "data": {
      "text/html": [
       "<pre>| 54        | 569.701544   | 0.939422          | 0.940038            | 0.167221          | 0.166610            |</pre>"
      ],
      "text/plain": [
       "| 54        | 569.701544   | 0.939422          | 0.940038            | 0.167221          | 0.166610            |"
      ]
     },
     "metadata": {},
     "output_type": "display_data"
    },
    {
     "data": {
      "text/html": [
       "<pre>| 55        | 579.938678   | 0.939431          | 0.940068            | 0.167108          | 0.166498            |</pre>"
      ],
      "text/plain": [
       "| 55        | 579.938678   | 0.939431          | 0.940068            | 0.167108          | 0.166498            |"
      ]
     },
     "metadata": {},
     "output_type": "display_data"
    },
    {
     "data": {
      "text/html": [
       "<pre>| 56        | 590.281548   | 0.939442          | 0.940058            | 0.166976          | 0.166362            |</pre>"
      ],
      "text/plain": [
       "| 56        | 590.281548   | 0.939442          | 0.940058            | 0.166976          | 0.166362            |"
      ]
     },
     "metadata": {},
     "output_type": "display_data"
    },
    {
     "data": {
      "text/html": [
       "<pre>| 57        | 600.818857   | 0.939462          | 0.940048            | 0.166771          | 0.166178            |</pre>"
      ],
      "text/plain": [
       "| 57        | 600.818857   | 0.939462          | 0.940048            | 0.166771          | 0.166178            |"
      ]
     },
     "metadata": {},
     "output_type": "display_data"
    },
    {
     "data": {
      "text/html": [
       "<pre>| 58        | 611.041955   | 0.939467          | 0.940078            | 0.166213          | 0.165620            |</pre>"
      ],
      "text/plain": [
       "| 58        | 611.041955   | 0.939467          | 0.940078            | 0.166213          | 0.165620            |"
      ]
     },
     "metadata": {},
     "output_type": "display_data"
    },
    {
     "data": {
      "text/html": [
       "<pre>| 59        | 621.885252   | 0.939479          | 0.940048            | 0.165769          | 0.165187            |</pre>"
      ],
      "text/plain": [
       "| 59        | 621.885252   | 0.939479          | 0.940048            | 0.165769          | 0.165187            |"
      ]
     },
     "metadata": {},
     "output_type": "display_data"
    },
    {
     "data": {
      "text/html": [
       "<pre>| 60        | 632.252212   | 0.939507          | 0.940099            | 0.165546          | 0.164973            |</pre>"
      ],
      "text/plain": [
       "| 60        | 632.252212   | 0.939507          | 0.940099            | 0.165546          | 0.164973            |"
      ]
     },
     "metadata": {},
     "output_type": "display_data"
    },
    {
     "data": {
      "text/html": [
       "<pre>| 61        | 642.624797   | 0.939512          | 0.940099            | 0.165464          | 0.164881            |</pre>"
      ],
      "text/plain": [
       "| 61        | 642.624797   | 0.939512          | 0.940099            | 0.165464          | 0.164881            |"
      ]
     },
     "metadata": {},
     "output_type": "display_data"
    },
    {
     "data": {
      "text/html": [
       "<pre>| 62        | 652.830473   | 0.939517          | 0.940119            | 0.165082          | 0.164523            |</pre>"
      ],
      "text/plain": [
       "| 62        | 652.830473   | 0.939517          | 0.940119            | 0.165082          | 0.164523            |"
      ]
     },
     "metadata": {},
     "output_type": "display_data"
    },
    {
     "data": {
      "text/html": [
       "<pre>| 63        | 663.480708   | 0.939558          | 0.940200            | 0.164963          | 0.164411            |</pre>"
      ],
      "text/plain": [
       "| 63        | 663.480708   | 0.939558          | 0.940200            | 0.164963          | 0.164411            |"
      ]
     },
     "metadata": {},
     "output_type": "display_data"
    },
    {
     "data": {
      "text/html": [
       "<pre>| 64        | 674.381791   | 0.939572          | 0.940230            | 0.164679          | 0.164136            |</pre>"
      ],
      "text/plain": [
       "| 64        | 674.381791   | 0.939572          | 0.940230            | 0.164679          | 0.164136            |"
      ]
     },
     "metadata": {},
     "output_type": "display_data"
    },
    {
     "data": {
      "text/html": [
       "<pre>| 65        | 685.167880   | 0.939591          | 0.940230            | 0.164505          | 0.163957            |</pre>"
      ],
      "text/plain": [
       "| 65        | 685.167880   | 0.939591          | 0.940230            | 0.164505          | 0.163957            |"
      ]
     },
     "metadata": {},
     "output_type": "display_data"
    },
    {
     "data": {
      "text/html": [
       "<pre>| 66        | 695.423662   | 0.939593          | 0.940149            | 0.164430          | 0.163891            |</pre>"
      ],
      "text/plain": [
       "| 66        | 695.423662   | 0.939593          | 0.940149            | 0.164430          | 0.163891            |"
      ]
     },
     "metadata": {},
     "output_type": "display_data"
    },
    {
     "data": {
      "text/html": [
       "<pre>| 67        | 706.208008   | 0.939613          | 0.940200            | 0.164114          | 0.163583            |</pre>"
      ],
      "text/plain": [
       "| 67        | 706.208008   | 0.939613          | 0.940200            | 0.164114          | 0.163583            |"
      ]
     },
     "metadata": {},
     "output_type": "display_data"
    },
    {
     "data": {
      "text/html": [
       "<pre>| 68        | 717.057409   | 0.939626          | 0.940200            | 0.164028          | 0.163489            |</pre>"
      ],
      "text/plain": [
       "| 68        | 717.057409   | 0.939626          | 0.940200            | 0.164028          | 0.163489            |"
      ]
     },
     "metadata": {},
     "output_type": "display_data"
    },
    {
     "data": {
      "text/html": [
       "<pre>| 69        | 727.621410   | 0.939651          | 0.940230            | 0.163899          | 0.163366            |</pre>"
      ],
      "text/plain": [
       "| 69        | 727.621410   | 0.939651          | 0.940230            | 0.163899          | 0.163366            |"
      ]
     },
     "metadata": {},
     "output_type": "display_data"
    },
    {
     "data": {
      "text/html": [
       "<pre>| 70        | 738.250761   | 0.939651          | 0.940190            | 0.163832          | 0.163307            |</pre>"
      ],
      "text/plain": [
       "| 70        | 738.250761   | 0.939651          | 0.940190            | 0.163832          | 0.163307            |"
      ]
     },
     "metadata": {},
     "output_type": "display_data"
    },
    {
     "data": {
      "text/html": [
       "<pre>| 71        | 748.624514   | 0.939673          | 0.940200            | 0.163718          | 0.163192            |</pre>"
      ],
      "text/plain": [
       "| 71        | 748.624514   | 0.939673          | 0.940200            | 0.163718          | 0.163192            |"
      ]
     },
     "metadata": {},
     "output_type": "display_data"
    },
    {
     "data": {
      "text/html": [
       "<pre>| 72        | 759.125784   | 0.939709          | 0.940311            | 0.163528          | 0.163018            |</pre>"
      ],
      "text/plain": [
       "| 72        | 759.125784   | 0.939709          | 0.940311            | 0.163528          | 0.163018            |"
      ]
     },
     "metadata": {},
     "output_type": "display_data"
    },
    {
     "data": {
      "text/html": [
       "<pre>| 73        | 769.896974   | 0.939727          | 0.940301            | 0.163337          | 0.162827            |</pre>"
      ],
      "text/plain": [
       "| 73        | 769.896974   | 0.939727          | 0.940301            | 0.163337          | 0.162827            |"
      ]
     },
     "metadata": {},
     "output_type": "display_data"
    },
    {
     "data": {
      "text/html": [
       "<pre>| 74        | 780.571629   | 0.939750          | 0.940342            | 0.163143          | 0.162631            |</pre>"
      ],
      "text/plain": [
       "| 74        | 780.571629   | 0.939750          | 0.940342            | 0.163143          | 0.162631            |"
      ]
     },
     "metadata": {},
     "output_type": "display_data"
    },
    {
     "data": {
      "text/html": [
       "<pre>| 75        | 791.146588   | 0.939773          | 0.940332            | 0.162909          | 0.162404            |</pre>"
      ],
      "text/plain": [
       "| 75        | 791.146588   | 0.939773          | 0.940332            | 0.162909          | 0.162404            |"
      ]
     },
     "metadata": {},
     "output_type": "display_data"
    },
    {
     "data": {
      "text/html": [
       "<pre>| 76        | 801.338163   | 0.939775          | 0.940332            | 0.162879          | 0.162374            |</pre>"
      ],
      "text/plain": [
       "| 76        | 801.338163   | 0.939775          | 0.940332            | 0.162879          | 0.162374            |"
      ]
     },
     "metadata": {},
     "output_type": "display_data"
    },
    {
     "data": {
      "text/html": [
       "<pre>| 77        | 811.872411   | 0.939821          | 0.940301            | 0.162330          | 0.161829            |</pre>"
      ],
      "text/plain": [
       "| 77        | 811.872411   | 0.939821          | 0.940301            | 0.162330          | 0.161829            |"
      ]
     },
     "metadata": {},
     "output_type": "display_data"
    },
    {
     "data": {
      "text/html": [
       "<pre>| 78        | 822.438674   | 0.939836          | 0.940291            | 0.162233          | 0.161740            |</pre>"
      ],
      "text/plain": [
       "| 78        | 822.438674   | 0.939836          | 0.940291            | 0.162233          | 0.161740            |"
      ]
     },
     "metadata": {},
     "output_type": "display_data"
    },
    {
     "data": {
      "text/html": [
       "<pre>| 79        | 832.970127   | 0.939869          | 0.940271            | 0.162111          | 0.161624            |</pre>"
      ],
      "text/plain": [
       "| 79        | 832.970127   | 0.939869          | 0.940271            | 0.162111          | 0.161624            |"
      ]
     },
     "metadata": {},
     "output_type": "display_data"
    },
    {
     "data": {
      "text/html": [
       "<pre>| 80        | 843.292609   | 0.939876          | 0.940281            | 0.161967          | 0.161500            |</pre>"
      ],
      "text/plain": [
       "| 80        | 843.292609   | 0.939876          | 0.940281            | 0.161967          | 0.161500            |"
      ]
     },
     "metadata": {},
     "output_type": "display_data"
    },
    {
     "data": {
      "text/html": [
       "<pre>| 81        | 853.663096   | 0.939879          | 0.940281            | 0.161947          | 0.161487            |</pre>"
      ],
      "text/plain": [
       "| 81        | 853.663096   | 0.939879          | 0.940281            | 0.161947          | 0.161487            |"
      ]
     },
     "metadata": {},
     "output_type": "display_data"
    },
    {
     "data": {
      "text/html": [
       "<pre>| 82        | 864.368884   | 0.939880          | 0.940281            | 0.161917          | 0.161464            |</pre>"
      ],
      "text/plain": [
       "| 82        | 864.368884   | 0.939880          | 0.940281            | 0.161917          | 0.161464            |"
      ]
     },
     "metadata": {},
     "output_type": "display_data"
    },
    {
     "data": {
      "text/html": [
       "<pre>| 83        | 874.451546   | 0.939881          | 0.940281            | 0.161884          | 0.161438            |</pre>"
      ],
      "text/plain": [
       "| 83        | 874.451546   | 0.939881          | 0.940281            | 0.161884          | 0.161438            |"
      ]
     },
     "metadata": {},
     "output_type": "display_data"
    },
    {
     "data": {
      "text/html": [
       "<pre>| 84        | 884.574814   | 0.939889          | 0.940281            | 0.161631          | 0.161193            |</pre>"
      ],
      "text/plain": [
       "| 84        | 884.574814   | 0.939889          | 0.940281            | 0.161631          | 0.161193            |"
      ]
     },
     "metadata": {},
     "output_type": "display_data"
    },
    {
     "data": {
      "text/html": [
       "<pre>| 85        | 894.932720   | 0.939944          | 0.940301            | 0.161457          | 0.161034            |</pre>"
      ],
      "text/plain": [
       "| 85        | 894.932720   | 0.939944          | 0.940301            | 0.161457          | 0.161034            |"
      ]
     },
     "metadata": {},
     "output_type": "display_data"
    },
    {
     "data": {
      "text/html": [
       "<pre>| 86        | 905.592378   | 0.939944          | 0.940301            | 0.161430          | 0.161015            |</pre>"
      ],
      "text/plain": [
       "| 86        | 905.592378   | 0.939944          | 0.940301            | 0.161430          | 0.161015            |"
      ]
     },
     "metadata": {},
     "output_type": "display_data"
    },
    {
     "data": {
      "text/html": [
       "<pre>| 87        | 915.986151   | 0.939985          | 0.940372            | 0.161031          | 0.160616            |</pre>"
      ],
      "text/plain": [
       "| 87        | 915.986151   | 0.939985          | 0.940372            | 0.161031          | 0.160616            |"
      ]
     },
     "metadata": {},
     "output_type": "display_data"
    },
    {
     "data": {
      "text/html": [
       "<pre>| 88        | 926.410884   | 0.940013          | 0.940433            | 0.160897          | 0.160477            |</pre>"
      ],
      "text/plain": [
       "| 88        | 926.410884   | 0.940013          | 0.940433            | 0.160897          | 0.160477            |"
      ]
     },
     "metadata": {},
     "output_type": "display_data"
    },
    {
     "data": {
      "text/html": [
       "<pre>| 89        | 936.692930   | 0.940087          | 0.940524            | 0.160467          | 0.160084            |</pre>"
      ],
      "text/plain": [
       "| 89        | 936.692930   | 0.940087          | 0.940524            | 0.160467          | 0.160084            |"
      ]
     },
     "metadata": {},
     "output_type": "display_data"
    },
    {
     "data": {
      "text/html": [
       "<pre>| 90        | 947.046872   | 0.940088          | 0.940544            | 0.160450          | 0.160080            |</pre>"
      ],
      "text/plain": [
       "| 90        | 947.046872   | 0.940088          | 0.940544            | 0.160450          | 0.160080            |"
      ]
     },
     "metadata": {},
     "output_type": "display_data"
    },
    {
     "data": {
      "text/html": [
       "<pre>| 91        | 957.280858   | 0.940092          | 0.940544            | 0.160430          | 0.160077            |</pre>"
      ],
      "text/plain": [
       "| 91        | 957.280858   | 0.940092          | 0.940544            | 0.160430          | 0.160077            |"
      ]
     },
     "metadata": {},
     "output_type": "display_data"
    },
    {
     "data": {
      "text/html": [
       "<pre>| 92        | 967.539240   | 0.940145          | 0.940595            | 0.160314          | 0.159974            |</pre>"
      ],
      "text/plain": [
       "| 92        | 967.539240   | 0.940145          | 0.940595            | 0.160314          | 0.159974            |"
      ]
     },
     "metadata": {},
     "output_type": "display_data"
    },
    {
     "data": {
      "text/html": [
       "<pre>| 93        | 977.747099   | 0.940166          | 0.940636            | 0.160033          | 0.159704            |</pre>"
      ],
      "text/plain": [
       "| 93        | 977.747099   | 0.940166          | 0.940636            | 0.160033          | 0.159704            |"
      ]
     },
     "metadata": {},
     "output_type": "display_data"
    },
    {
     "data": {
      "text/html": [
       "<pre>| 94        | 987.917197   | 0.940278          | 0.940666            | 0.159754          | 0.159432            |</pre>"
      ],
      "text/plain": [
       "| 94        | 987.917197   | 0.940278          | 0.940666            | 0.159754          | 0.159432            |"
      ]
     },
     "metadata": {},
     "output_type": "display_data"
    },
    {
     "data": {
      "text/html": [
       "<pre>| 95        | 998.224215   | 0.940296          | 0.940697            | 0.159706          | 0.159385            |</pre>"
      ],
      "text/plain": [
       "| 95        | 998.224215   | 0.940296          | 0.940697            | 0.159706          | 0.159385            |"
      ]
     },
     "metadata": {},
     "output_type": "display_data"
    },
    {
     "data": {
      "text/html": [
       "<pre>| 96        | 1009.022769  | 0.940298          | 0.940697            | 0.159692          | 0.159377            |</pre>"
      ],
      "text/plain": [
       "| 96        | 1009.022769  | 0.940298          | 0.940697            | 0.159692          | 0.159377            |"
      ]
     },
     "metadata": {},
     "output_type": "display_data"
    },
    {
     "data": {
      "text/html": [
       "<pre>| 97        | 1019.290235  | 0.940298          | 0.940686            | 0.159677          | 0.159371            |</pre>"
      ],
      "text/plain": [
       "| 97        | 1019.290235  | 0.940298          | 0.940686            | 0.159677          | 0.159371            |"
      ]
     },
     "metadata": {},
     "output_type": "display_data"
    },
    {
     "data": {
      "text/html": [
       "<pre>| 98        | 1029.655998  | 0.940298          | 0.940666            | 0.159662          | 0.159370            |</pre>"
      ],
      "text/plain": [
       "| 98        | 1029.655998  | 0.940298          | 0.940666            | 0.159662          | 0.159370            |"
      ]
     },
     "metadata": {},
     "output_type": "display_data"
    },
    {
     "data": {
      "text/html": [
       "<pre>| 99        | 1039.919823  | 0.940300          | 0.940666            | 0.159647          | 0.159356            |</pre>"
      ],
      "text/plain": [
       "| 99        | 1039.919823  | 0.940300          | 0.940666            | 0.159647          | 0.159356            |"
      ]
     },
     "metadata": {},
     "output_type": "display_data"
    },
    {
     "data": {
      "text/html": [
       "<pre>| 100       | 1050.252056  | 0.940306          | 0.940666            | 0.159629          | 0.159343            |</pre>"
      ],
      "text/plain": [
       "| 100       | 1050.252056  | 0.940306          | 0.940666            | 0.159629          | 0.159343            |"
      ]
     },
     "metadata": {},
     "output_type": "display_data"
    },
    {
     "data": {
      "text/html": [
       "<pre>| 101       | 1060.573620  | 0.940309          | 0.940676            | 0.159613          | 0.159330            |</pre>"
      ],
      "text/plain": [
       "| 101       | 1060.573620  | 0.940309          | 0.940676            | 0.159613          | 0.159330            |"
      ]
     },
     "metadata": {},
     "output_type": "display_data"
    },
    {
     "data": {
      "text/html": [
       "<pre>| 102       | 1071.036108  | 0.940307          | 0.940676            | 0.159596          | 0.159320            |</pre>"
      ],
      "text/plain": [
       "| 102       | 1071.036108  | 0.940307          | 0.940676            | 0.159596          | 0.159320            |"
      ]
     },
     "metadata": {},
     "output_type": "display_data"
    },
    {
     "data": {
      "text/html": [
       "<pre>| 103       | 1081.718293  | 0.940332          | 0.940717            | 0.159554          | 0.159281            |</pre>"
      ],
      "text/plain": [
       "| 103       | 1081.718293  | 0.940332          | 0.940717            | 0.159554          | 0.159281            |"
      ]
     },
     "metadata": {},
     "output_type": "display_data"
    },
    {
     "data": {
      "text/html": [
       "<pre>| 104       | 1092.276872  | 0.940388          | 0.940737            | 0.159456          | 0.159191            |</pre>"
      ],
      "text/plain": [
       "| 104       | 1092.276872  | 0.940388          | 0.940737            | 0.159456          | 0.159191            |"
      ]
     },
     "metadata": {},
     "output_type": "display_data"
    },
    {
     "data": {
      "text/html": [
       "<pre>| 105       | 1102.551165  | 0.940394          | 0.940747            | 0.159436          | 0.159183            |</pre>"
      ],
      "text/plain": [
       "| 105       | 1102.551165  | 0.940394          | 0.940747            | 0.159436          | 0.159183            |"
      ]
     },
     "metadata": {},
     "output_type": "display_data"
    },
    {
     "data": {
      "text/html": [
       "<pre>| 106       | 1113.366767  | 0.940390          | 0.940747            | 0.159418          | 0.159175            |</pre>"
      ],
      "text/plain": [
       "| 106       | 1113.366767  | 0.940390          | 0.940747            | 0.159418          | 0.159175            |"
      ]
     },
     "metadata": {},
     "output_type": "display_data"
    },
    {
     "data": {
      "text/html": [
       "<pre>| 107       | 1123.644744  | 0.940387          | 0.940747            | 0.159402          | 0.159164            |</pre>"
      ],
      "text/plain": [
       "| 107       | 1123.644744  | 0.940387          | 0.940747            | 0.159402          | 0.159164            |"
      ]
     },
     "metadata": {},
     "output_type": "display_data"
    },
    {
     "data": {
      "text/html": [
       "<pre>| 108       | 1133.742150  | 0.940390          | 0.940757            | 0.159388          | 0.159162            |</pre>"
      ],
      "text/plain": [
       "| 108       | 1133.742150  | 0.940390          | 0.940757            | 0.159388          | 0.159162            |"
      ]
     },
     "metadata": {},
     "output_type": "display_data"
    },
    {
     "data": {
      "text/html": [
       "<pre>| 109       | 1143.795643  | 0.940398          | 0.940757            | 0.159372          | 0.159158            |</pre>"
      ],
      "text/plain": [
       "| 109       | 1143.795643  | 0.940398          | 0.940757            | 0.159372          | 0.159158            |"
      ]
     },
     "metadata": {},
     "output_type": "display_data"
    },
    {
     "data": {
      "text/html": [
       "<pre>| 110       | 1154.380532  | 0.940405          | 0.940757            | 0.159351          | 0.159151            |</pre>"
      ],
      "text/plain": [
       "| 110       | 1154.380532  | 0.940405          | 0.940757            | 0.159351          | 0.159151            |"
      ]
     },
     "metadata": {},
     "output_type": "display_data"
    },
    {
     "data": {
      "text/html": [
       "<pre>| 111       | 1164.966979  | 0.940405          | 0.940767            | 0.159335          | 0.159143            |</pre>"
      ],
      "text/plain": [
       "| 111       | 1164.966979  | 0.940405          | 0.940767            | 0.159335          | 0.159143            |"
      ]
     },
     "metadata": {},
     "output_type": "display_data"
    },
    {
     "data": {
      "text/html": [
       "<pre>| 112       | 1175.573439  | 0.940411          | 0.940767            | 0.159322          | 0.159140            |</pre>"
      ],
      "text/plain": [
       "| 112       | 1175.573439  | 0.940411          | 0.940767            | 0.159322          | 0.159140            |"
      ]
     },
     "metadata": {},
     "output_type": "display_data"
    },
    {
     "data": {
      "text/html": [
       "<pre>| 113       | 1185.763291  | 0.940417          | 0.940788            | 0.159309          | 0.159128            |</pre>"
      ],
      "text/plain": [
       "| 113       | 1185.763291  | 0.940417          | 0.940788            | 0.159309          | 0.159128            |"
      ]
     },
     "metadata": {},
     "output_type": "display_data"
    },
    {
     "data": {
      "text/html": [
       "<pre>| 114       | 1196.147721  | 0.940424          | 0.940808            | 0.159275          | 0.159096            |</pre>"
      ],
      "text/plain": [
       "| 114       | 1196.147721  | 0.940424          | 0.940808            | 0.159275          | 0.159096            |"
      ]
     },
     "metadata": {},
     "output_type": "display_data"
    },
    {
     "data": {
      "text/html": [
       "<pre>| 115       | 1206.578986  | 0.940426          | 0.940818            | 0.159258          | 0.159100            |</pre>"
      ],
      "text/plain": [
       "| 115       | 1206.578986  | 0.940426          | 0.940818            | 0.159258          | 0.159100            |"
      ]
     },
     "metadata": {},
     "output_type": "display_data"
    },
    {
     "data": {
      "text/html": [
       "<pre>| 116       | 1217.164380  | 0.940475          | 0.940960            | 0.159187          | 0.159031            |</pre>"
      ],
      "text/plain": [
       "| 116       | 1217.164380  | 0.940475          | 0.940960            | 0.159187          | 0.159031            |"
      ]
     },
     "metadata": {},
     "output_type": "display_data"
    },
    {
     "data": {
      "text/html": [
       "<pre>| 117       | 1227.629047  | 0.940479          | 0.940950            | 0.159173          | 0.159032            |</pre>"
      ],
      "text/plain": [
       "| 117       | 1227.629047  | 0.940479          | 0.940950            | 0.159173          | 0.159032            |"
      ]
     },
     "metadata": {},
     "output_type": "display_data"
    },
    {
     "data": {
      "text/html": [
       "<pre>| 118       | 1237.864189  | 0.940481          | 0.940940            | 0.159153          | 0.159019            |</pre>"
      ],
      "text/plain": [
       "| 118       | 1237.864189  | 0.940481          | 0.940940            | 0.159153          | 0.159019            |"
      ]
     },
     "metadata": {},
     "output_type": "display_data"
    },
    {
     "data": {
      "text/html": [
       "<pre>| 119       | 1248.124363  | 0.940483          | 0.940950            | 0.159141          | 0.159018            |</pre>"
      ],
      "text/plain": [
       "| 119       | 1248.124363  | 0.940483          | 0.940950            | 0.159141          | 0.159018            |"
      ]
     },
     "metadata": {},
     "output_type": "display_data"
    },
    {
     "data": {
      "text/html": [
       "<pre>| 120       | 1258.479126  | 0.940486          | 0.940950            | 0.159125          | 0.159021            |</pre>"
      ],
      "text/plain": [
       "| 120       | 1258.479126  | 0.940486          | 0.940950            | 0.159125          | 0.159021            |"
      ]
     },
     "metadata": {},
     "output_type": "display_data"
    },
    {
     "data": {
      "text/html": [
       "<pre>| 121       | 1268.666120  | 0.940486          | 0.940940            | 0.159114          | 0.159018            |</pre>"
      ],
      "text/plain": [
       "| 121       | 1268.666120  | 0.940486          | 0.940940            | 0.159114          | 0.159018            |"
      ]
     },
     "metadata": {},
     "output_type": "display_data"
    },
    {
     "data": {
      "text/html": [
       "<pre>| 122       | 1278.909665  | 0.940493          | 0.940940            | 0.159099          | 0.159010            |</pre>"
      ],
      "text/plain": [
       "| 122       | 1278.909665  | 0.940493          | 0.940940            | 0.159099          | 0.159010            |"
      ]
     },
     "metadata": {},
     "output_type": "display_data"
    },
    {
     "data": {
      "text/html": [
       "<pre>| 123       | 1288.940180  | 0.940493          | 0.940940            | 0.159088          | 0.159003            |</pre>"
      ],
      "text/plain": [
       "| 123       | 1288.940180  | 0.940493          | 0.940940            | 0.159088          | 0.159003            |"
      ]
     },
     "metadata": {},
     "output_type": "display_data"
    },
    {
     "data": {
      "text/html": [
       "<pre>| 124       | 1299.449418  | 0.940515          | 0.940950            | 0.159045          | 0.158969            |</pre>"
      ],
      "text/plain": [
       "| 124       | 1299.449418  | 0.940515          | 0.940950            | 0.159045          | 0.158969            |"
      ]
     },
     "metadata": {},
     "output_type": "display_data"
    },
    {
     "data": {
      "text/html": [
       "<pre>| 125       | 1310.258509  | 0.940518          | 0.940950            | 0.159033          | 0.158967            |</pre>"
      ],
      "text/plain": [
       "| 125       | 1310.258509  | 0.940518          | 0.940950            | 0.159033          | 0.158967            |"
      ]
     },
     "metadata": {},
     "output_type": "display_data"
    },
    {
     "data": {
      "text/html": [
       "<pre>| 126       | 1320.859739  | 0.940519          | 0.940950            | 0.159019          | 0.158959            |</pre>"
      ],
      "text/plain": [
       "| 126       | 1320.859739  | 0.940519          | 0.940950            | 0.159019          | 0.158959            |"
      ]
     },
     "metadata": {},
     "output_type": "display_data"
    },
    {
     "data": {
      "text/html": [
       "<pre>| 127       | 1331.130345  | 0.940520          | 0.940940            | 0.159008          | 0.158955            |</pre>"
      ],
      "text/plain": [
       "| 127       | 1331.130345  | 0.940520          | 0.940940            | 0.159008          | 0.158955            |"
      ]
     },
     "metadata": {},
     "output_type": "display_data"
    },
    {
     "data": {
      "text/html": [
       "<pre>| 128       | 1342.054061  | 0.940521          | 0.940940            | 0.158996          | 0.158950            |</pre>"
      ],
      "text/plain": [
       "| 128       | 1342.054061  | 0.940521          | 0.940940            | 0.158996          | 0.158950            |"
      ]
     },
     "metadata": {},
     "output_type": "display_data"
    },
    {
     "data": {
      "text/html": [
       "<pre>| 129       | 1352.421511  | 0.940522          | 0.940940            | 0.158985          | 0.158948            |</pre>"
      ],
      "text/plain": [
       "| 129       | 1352.421511  | 0.940522          | 0.940940            | 0.158985          | 0.158948            |"
      ]
     },
     "metadata": {},
     "output_type": "display_data"
    },
    {
     "data": {
      "text/html": [
       "<pre>| 130       | 1362.556888  | 0.940529          | 0.940930            | 0.158971          | 0.158947            |</pre>"
      ],
      "text/plain": [
       "| 130       | 1362.556888  | 0.940529          | 0.940930            | 0.158971          | 0.158947            |"
      ]
     },
     "metadata": {},
     "output_type": "display_data"
    },
    {
     "data": {
      "text/html": [
       "<pre>| 131       | 1373.153694  | 0.940534          | 0.940909            | 0.158938          | 0.158921            |</pre>"
      ],
      "text/plain": [
       "| 131       | 1373.153694  | 0.940534          | 0.940909            | 0.158938          | 0.158921            |"
      ]
     },
     "metadata": {},
     "output_type": "display_data"
    },
    {
     "data": {
      "text/html": [
       "<pre>| 132       | 1383.675004  | 0.940569          | 0.940889            | 0.158591          | 0.158604            |</pre>"
      ],
      "text/plain": [
       "| 132       | 1383.675004  | 0.940569          | 0.940889            | 0.158591          | 0.158604            |"
      ]
     },
     "metadata": {},
     "output_type": "display_data"
    },
    {
     "data": {
      "text/html": [
       "<pre>| 133       | 1393.922137  | 0.940568          | 0.940889            | 0.158577          | 0.158599            |</pre>"
      ],
      "text/plain": [
       "| 133       | 1393.922137  | 0.940568          | 0.940889            | 0.158577          | 0.158599            |"
      ]
     },
     "metadata": {},
     "output_type": "display_data"
    },
    {
     "data": {
      "text/html": [
       "<pre>| 134       | 1404.314595  | 0.940574          | 0.940869            | 0.158563          | 0.158590            |</pre>"
      ],
      "text/plain": [
       "| 134       | 1404.314595  | 0.940574          | 0.940869            | 0.158563          | 0.158590            |"
      ]
     },
     "metadata": {},
     "output_type": "display_data"
    },
    {
     "data": {
      "text/html": [
       "<pre>| 135       | 1414.537088  | 0.940577          | 0.940869            | 0.158549          | 0.158589            |</pre>"
      ],
      "text/plain": [
       "| 135       | 1414.537088  | 0.940577          | 0.940869            | 0.158549          | 0.158589            |"
      ]
     },
     "metadata": {},
     "output_type": "display_data"
    },
    {
     "data": {
      "text/html": [
       "<pre>| 136       | 1424.793523  | 0.940579          | 0.940869            | 0.158537          | 0.158585            |</pre>"
      ],
      "text/plain": [
       "| 136       | 1424.793523  | 0.940579          | 0.940869            | 0.158537          | 0.158585            |"
      ]
     },
     "metadata": {},
     "output_type": "display_data"
    },
    {
     "data": {
      "text/html": [
       "<pre>| 137       | 1435.475697  | 0.940582          | 0.940869            | 0.158525          | 0.158583            |</pre>"
      ],
      "text/plain": [
       "| 137       | 1435.475697  | 0.940582          | 0.940869            | 0.158525          | 0.158583            |"
      ]
     },
     "metadata": {},
     "output_type": "display_data"
    },
    {
     "data": {
      "text/html": [
       "<pre>| 138       | 1445.816939  | 0.940586          | 0.940869            | 0.158514          | 0.158579            |</pre>"
      ],
      "text/plain": [
       "| 138       | 1445.816939  | 0.940586          | 0.940869            | 0.158514          | 0.158579            |"
      ]
     },
     "metadata": {},
     "output_type": "display_data"
    },
    {
     "data": {
      "text/html": [
       "<pre>| 139       | 1456.544774  | 0.940591          | 0.940859            | 0.158503          | 0.158582            |</pre>"
      ],
      "text/plain": [
       "| 139       | 1456.544774  | 0.940591          | 0.940859            | 0.158503          | 0.158582            |"
      ]
     },
     "metadata": {},
     "output_type": "display_data"
    },
    {
     "data": {
      "text/html": [
       "<pre>| 140       | 1466.895536  | 0.940595          | 0.940859            | 0.158491          | 0.158581            |</pre>"
      ],
      "text/plain": [
       "| 140       | 1466.895536  | 0.940595          | 0.940859            | 0.158491          | 0.158581            |"
      ]
     },
     "metadata": {},
     "output_type": "display_data"
    },
    {
     "data": {
      "text/html": [
       "<pre>| 141       | 1477.650278  | 0.940594          | 0.940869            | 0.158479          | 0.158578            |</pre>"
      ],
      "text/plain": [
       "| 141       | 1477.650278  | 0.940594          | 0.940869            | 0.158479          | 0.158578            |"
      ]
     },
     "metadata": {},
     "output_type": "display_data"
    },
    {
     "data": {
      "text/html": [
       "<pre>| 142       | 1488.308637  | 0.940600          | 0.940859            | 0.158467          | 0.158574            |</pre>"
      ],
      "text/plain": [
       "| 142       | 1488.308637  | 0.940600          | 0.940859            | 0.158467          | 0.158574            |"
      ]
     },
     "metadata": {},
     "output_type": "display_data"
    },
    {
     "data": {
      "text/html": [
       "<pre>| 143       | 1498.891180  | 0.940602          | 0.940859            | 0.158458          | 0.158575            |</pre>"
      ],
      "text/plain": [
       "| 143       | 1498.891180  | 0.940602          | 0.940859            | 0.158458          | 0.158575            |"
      ]
     },
     "metadata": {},
     "output_type": "display_data"
    },
    {
     "data": {
      "text/html": [
       "<pre>| 144       | 1509.550532  | 0.940602          | 0.940869            | 0.158446          | 0.158567            |</pre>"
      ],
      "text/plain": [
       "| 144       | 1509.550532  | 0.940602          | 0.940869            | 0.158446          | 0.158567            |"
      ]
     },
     "metadata": {},
     "output_type": "display_data"
    },
    {
     "data": {
      "text/html": [
       "<pre>| 145       | 1520.289169  | 0.940605          | 0.940879            | 0.158433          | 0.158564            |</pre>"
      ],
      "text/plain": [
       "| 145       | 1520.289169  | 0.940605          | 0.940879            | 0.158433          | 0.158564            |"
      ]
     },
     "metadata": {},
     "output_type": "display_data"
    },
    {
     "data": {
      "text/html": [
       "<pre>| 146       | 1530.804070  | 0.940607          | 0.940879            | 0.158423          | 0.158562            |</pre>"
      ],
      "text/plain": [
       "| 146       | 1530.804070  | 0.940607          | 0.940879            | 0.158423          | 0.158562            |"
      ]
     },
     "metadata": {},
     "output_type": "display_data"
    },
    {
     "data": {
      "text/html": [
       "<pre>| 147       | 1541.319139  | 0.940613          | 0.940879            | 0.158405          | 0.158544            |</pre>"
      ],
      "text/plain": [
       "| 147       | 1541.319139  | 0.940613          | 0.940879            | 0.158405          | 0.158544            |"
      ]
     },
     "metadata": {},
     "output_type": "display_data"
    },
    {
     "data": {
      "text/html": [
       "<pre>| 148       | 1551.795271  | 0.940614          | 0.940879            | 0.158393          | 0.158539            |</pre>"
      ],
      "text/plain": [
       "| 148       | 1551.795271  | 0.940614          | 0.940879            | 0.158393          | 0.158539            |"
      ]
     },
     "metadata": {},
     "output_type": "display_data"
    },
    {
     "data": {
      "text/html": [
       "<pre>| 149       | 1562.071615  | 0.940617          | 0.940889            | 0.158382          | 0.158533            |</pre>"
      ],
      "text/plain": [
       "| 149       | 1562.071615  | 0.940617          | 0.940889            | 0.158382          | 0.158533            |"
      ]
     },
     "metadata": {},
     "output_type": "display_data"
    },
    {
     "data": {
      "text/html": [
       "<pre>| 150       | 1572.697829  | 0.940622          | 0.940889            | 0.158371          | 0.158529            |</pre>"
      ],
      "text/plain": [
       "| 150       | 1572.697829  | 0.940622          | 0.940889            | 0.158371          | 0.158529            |"
      ]
     },
     "metadata": {},
     "output_type": "display_data"
    },
    {
     "data": {
      "text/html": [
       "<pre>+-----------+--------------+-------------------+---------------------+-------------------+---------------------+</pre>"
      ],
      "text/plain": [
       "+-----------+--------------+-------------------+---------------------+-------------------+---------------------+"
      ]
     },
     "metadata": {},
     "output_type": "display_data"
    },
    {
     "name": "stdout",
     "output_type": "stream",
     "text": [
      "PROGRESS: Creating a validation set from 5 percent of training data. This may take a while.\n",
      "          You can set ``validation_set=None`` to disable validation tracking.\n",
      "\n",
      "{'f1_score': 0.9275518237966462, 'auc': 0.9770657752883193, 'recall': 0.8733504618246448, 'precision': 0.9889259645464025, 'log_loss': 0.16025414361454463, 'roc_curve': Columns:\n",
      "\tthreshold\tfloat\n",
      "\tfpr\tfloat\n",
      "\ttpr\tfloat\n",
      "\tp\tint\n",
      "\tn\tint\n",
      "\n",
      "Rows: 100001\n",
      "\n",
      "Data:\n",
      "+-----------+----------------+-----+--------+--------+\n",
      "| threshold |      fpr       | tpr |   p    |   n    |\n",
      "+-----------+----------------+-----+--------+--------+\n",
      "|    0.0    |      1.0       | 1.0 | 217182 | 277128 |\n",
      "|   1e-05   |      1.0       | 1.0 | 217182 | 277128 |\n",
      "|   2e-05   |      1.0       | 1.0 | 217182 | 277128 |\n",
      "|   3e-05   |      1.0       | 1.0 | 217182 | 277128 |\n",
      "|   4e-05   |      1.0       | 1.0 | 217182 | 277128 |\n",
      "|   5e-05   |      1.0       | 1.0 | 217182 | 277128 |\n",
      "|   6e-05   |      1.0       | 1.0 | 217182 | 277128 |\n",
      "|   7e-05   |      1.0       | 1.0 | 217182 | 277128 |\n",
      "|   8e-05   |      1.0       | 1.0 | 217182 | 277128 |\n",
      "|   9e-05   | 0.999996391559 | 1.0 | 217182 | 277128 |\n",
      "+-----------+----------------+-----+--------+--------+\n",
      "[100001 rows x 5 columns]\n",
      "Note: Only the head of the SFrame is printed.\n",
      "You can use print_rows(num_rows=m, num_columns=n) to print more rows and columns., 'confusion_matrix': Columns:\n",
      "\ttarget_label\tint\n",
      "\tpredicted_label\tint\n",
      "\tcount\tint\n",
      "\n",
      "Rows: 4\n",
      "\n",
      "Data:\n",
      "+--------------+-----------------+--------+\n",
      "| target_label | predicted_label | count  |\n",
      "+--------------+-----------------+--------+\n",
      "|      0       |        1        |  2124  |\n",
      "|      1       |        0        | 27506  |\n",
      "|      1       |        1        | 189676 |\n",
      "|      0       |        0        | 275004 |\n",
      "+--------------+-----------------+--------+\n",
      "[4 rows x 3 columns]\n",
      ", 'accuracy': 0.9400578584289211}\n"
     ]
    }
   ],
   "source": [
    "model = gl.boosted_trees_classifier.create(train, target=\"class\", features=features, step_size=0.1, max_iterations=150) \n",
    "results = model.evaluate(test)\n",
    "print results"
   ]
  },
  {
   "cell_type": "markdown",
   "metadata": {},
   "source": [
    "----\n",
    "### 5. Отправка результатов в контест на Kaggle - 20 Баллов\n",
    "\n",
    "\n",
    "Завершая домашнюю работу, нам небходимо предсказать вероятности наличия ребер, для заданного списка ребер. Результат отправлется в контест на kaggle.com в формате: edge_id - probability"
   ]
  },
  {
   "cell_type": "code",
   "execution_count": 49,
   "metadata": {
    "collapsed": true
   },
   "outputs": [],
   "source": [
    "predicted = model.predict(susp_edges, output_type='probability')"
   ]
  },
  {
   "cell_type": "code",
   "execution_count": 50,
   "metadata": {
    "collapsed": false
   },
   "outputs": [],
   "source": [
    "susp_edges['probability'] = predicted"
   ]
  },
  {
   "cell_type": "code",
   "execution_count": 51,
   "metadata": {
    "collapsed": false
   },
   "outputs": [],
   "source": [
    "result = susp_edges['edge_id', 'probability']"
   ]
  },
  {
   "cell_type": "code",
   "execution_count": 52,
   "metadata": {
    "collapsed": false
   },
   "outputs": [],
   "source": [
    "result.save('result.csv', format='csv')"
   ]
  },
  {
   "cell_type": "markdown",
   "metadata": {},
   "source": [
    "----"
   ]
  },
  {
   "cell_type": "markdown",
   "metadata": {},
   "source": [
    "----\n",
    "### Не модифицируйте данный код, он для проверки вашего ноутбука"
   ]
  },
  {
   "cell_type": "code",
   "execution_count": null,
   "metadata": {
    "collapsed": true
   },
   "outputs": [],
   "source": [
    "# from sklearn.metrics import roc_curve, auc\n",
    "# import matplotlib.pyplot as plt\n",
    "\n",
    "# %matplotlib inline"
   ]
  },
  {
   "cell_type": "code",
   "execution_count": null,
   "metadata": {
    "collapsed": false
   },
   "outputs": [],
   "source": [
    "# labeled = pd.read_csv('labeled_suspicions.csv')\n",
    "# print labeled.shape\n",
    "\n",
    "# res = labeled.merge(result.to_dataframe(), on='edge_id', how='inner')\n",
    "# res = res[['class', 'probability']]\n",
    "# print res.shape"
   ]
  },
  {
   "cell_type": "code",
   "execution_count": null,
   "metadata": {
    "collapsed": false
   },
   "outputs": [],
   "source": [
    "# fpr, tpr, _ = roc_curve(res['class'], res['probability'])\n",
    "# roc_auc = auc(fpr, tpr)\n",
    "\n",
    "# plt.figure(figsize=(15, 10))\n",
    "# lw = 2\n",
    "# plt.plot(fpr, tpr, color='darkorange', lw=lw, label='ROC curve (area = %0.2f)' % roc_auc)\n",
    "# plt.plot([0, 1], [0, 1], color='navy', lw=lw, linestyle='--')\n",
    "# plt.xlim([0.0, 1.0])\n",
    "# plt.ylim([0.0, 1.05])\n",
    "# plt.xlabel('False Positive Rate')\n",
    "# plt.ylabel('True Positive Rate')\n",
    "# plt.title('Receiver operating characteristic example')\n",
    "# plt.legend(loc=\"lower right\")\n",
    "# plt.show()"
   ]
  },
  {
   "cell_type": "code",
   "execution_count": null,
   "metadata": {
    "collapsed": true
   },
   "outputs": [],
   "source": []
  },
  {
   "cell_type": "code",
   "execution_count": null,
   "metadata": {
    "collapsed": true
   },
   "outputs": [],
   "source": []
  }
 ],
 "metadata": {
  "kernelspec": {
   "display_name": "Python 2",
   "language": "python",
   "name": "python2"
  },
  "language_info": {
   "codemirror_mode": {
    "name": "ipython",
    "version": 2
   },
   "file_extension": ".py",
   "mimetype": "text/x-python",
   "name": "python",
   "nbconvert_exporter": "python",
   "pygments_lexer": "ipython2",
   "version": "2.7.10"
  }
 },
 "nbformat": 4,
 "nbformat_minor": 0
}
