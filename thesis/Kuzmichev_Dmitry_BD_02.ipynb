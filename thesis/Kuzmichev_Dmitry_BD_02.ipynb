{
 "cells": [
  {
   "cell_type": "markdown",
   "metadata": {},
   "source": [
    "# Лабораторная работа 2. Композиции алгоритмов. Ранжирование.\n",
    "\n",
    "Результат лабораторной работы − отчет. Мы предпочитаем принимать отчеты в формате ноутбуков IPython (ipynb-файл). Постарайтесь сделать ваш отчет интересным рассказом, последовательно отвечающим на вопросы из заданий. Помимо ответов на вопросы, в отчете так же должен быть код, однако чем меньше кода, тем лучше всем: нам − меньше проверять, вам — проще найти ошибку или дополнить эксперимент. При проверке оценивается четкость ответов на вопросы, аккуратность отчета и кода.\n",
    "\n",
    "### Оценивание и штрафы\n",
    "Каждая из задач имеет определенную «стоимость» (указана в скобках около задачи). Максимально допустимая оценка за работу — 10 баллов. Сдавать задание после указанного срока сдачи нельзя. «Похожие» решения считаются плагиатом и все задействованные студенты (в том числе те, у кого списали) не могут получить за него больше 0 баллов и понижают карму (подробнее о плагиате см. на странице курса). Если вы нашли решение какого-то из заданий в открытом источнике, необходимо прислать ссылку на этот источник (скорее всего вы будете не единственным, кто это нашел, поэтому чтобы исключить подозрение в плагиате, нам необходима ссылка на источник).\n",
    "\n",
    "### Правила сдачи\n",
    "Выполненную работу следует отправить в систему Anytask. Более подробно о системе можно почитать на странице курса. Название отправляемого файла должно иметь следующий формат: Surname_Name_Group_NN.ipynb, где NN — номер лабораторной работы. Например, Kozlova_Anna_CS_02.ipynb."
   ]
  },
  {
   "cell_type": "markdown",
   "metadata": {},
   "source": [
    "## Bias-Variance decomposition. Композиции алгоритмов\n",
    "\n",
    "![](http://scott.fortmann-roe.com/docs/docs/BiasVariance/biasvariance.png)\n",
    "\n",
    "Рассмотрим задачу регрессии со среднеквадратичной функцией потерь, а также некоторый алгорим $a$. Тогда качество алгоритма $a$ может быть записано следующим образом:\n",
    "\n",
    "$$Q(a) = \\mathbb{E}_{X^l} \\mathbb{E}_{x,y}(a(x) - y)^2$$\n",
    "\n",
    "где первое матожидание вычисляется по всевозможным обучающим выборкам $X^l$. К сожалению, на реальных данных эта формула неприменима из-за невозможности сгенерировать необходимые для оценки данные. Поэтому проведем приближенный численный эксперимент с эмпирическими оценками матожиданий.\n",
    "\n",
    "Обозначим вектор истинных меток тестовой выборки за $y \\in \\mathbb{R}^{l}$. С помощью бутстраппинга можно просемплировать из обучающей выборки $N$ новых выборок того же размера, тем самым \"имитируя\" пространство всевозможных обучающих выборок, после чего обучить на каждой выбранный алгоритм. Векторы прогнозов для объектов из тестовой выборки для каждой модели обозначим за $\\hat{y}_i \\in \\mathbb{R}^{l}, i \\in \\{1, .., N\\}$. Тогда средний квадрат ошибки по всем моделям на тестовой выборке запишется как\n",
    "\n",
    "$$error=\\frac{1}{N}\\sum_{i=1}^{N}MSE(y,\\hat{y}_i)$$\n",
    "\n",
    "Обозначим среднее предсказание за $$\\overline{y} = \\frac{1}{N}\\sum_{i=1}^{N} \\hat{y}_i$$\n",
    "\n",
    "Тогда квадрат отклонения среднего предсказания и разброс прогнозов относительно среднего предсказания всех моделей на тестовой выборке от истинных меток запишутся следующим образом, соответственно:\n",
    "\n",
    "$$bias^2 = MSE(y, \\overline y)$$\n",
    "\n",
    "$$variance = \\frac{1}{N}\\sum_{i=1}^N MSE(\\hat{y}_i, \\overline y)$$\n"
   ]
  },
  {
   "cell_type": "markdown",
   "metadata": {},
   "source": [
    "Для начала рассмотрим в качестве алгоритма решающее дерево. Как известно, при увеличении высоты дерева алгоритм может быть сильно чувствителен к составу обучающей выборки. Чтобы подтвердить эти предположения, проведите следующие эксперименты."
   ]
  },
  {
   "cell_type": "markdown",
   "metadata": {},
   "source": [
    "Загрузите [набор данных](http://archive.ics.uci.edu/ml/datasets/BlogFeedback). Каждый объект — пост в блоге. Он описывается различными признаками: длина текста поста, наличие наиболее частотных слов, день недели, количество комментариев за последние 24 часа и т.п., а так же целевым признаком — количеством комментариев к посту. Полный список признаков и описание находятся на странице датасета. \n",
    "\n",
    "Разбейте данные из файла **blogData_train.csv** на обучающую и тестовую выборки в пропорциях 1 к 4 соответственно. Обратите внимание, что обучающая выборка меньше тестовой. Такая большая тестовая выборка позволит сделать измерение качества моделей достаточно достоверным. "
   ]
  },
  {
   "cell_type": "code",
   "execution_count": 1,
   "metadata": {
    "collapsed": false
   },
   "outputs": [
    {
     "name": "stderr",
     "output_type": "stream",
     "text": [
      "/usr/local/lib/python2.7/dist-packages/sklearn/cross_validation.py:44: DeprecationWarning: This module was deprecated in version 0.18 in favor of the model_selection module into which all the refactored classes and functions are moved. Also note that the interface of the new CV iterators are different from that of this module. This module will be removed in 0.20.\n",
      "  \"This module will be removed in 0.20.\", DeprecationWarning)\n"
     ]
    }
   ],
   "source": [
    "import pandas as pd\n",
    "from sklearn.cross_validation import train_test_split\n",
    "from sklearn.tree import DecisionTreeRegressor\n",
    "from sklearn.metrics import mean_squared_error\n",
    "import numpy as np\n",
    "from matplotlib import pyplot as plt\n",
    "from numpy.random import randint\n",
    "import xgboost as xgb\n",
    "% matplotlib inline"
   ]
  },
  {
   "cell_type": "code",
   "execution_count": 9,
   "metadata": {
    "collapsed": false
   },
   "outputs": [],
   "source": [
    "data = pd.read_csv('/home/dmitry/Downloads/data/shad/lab2/BlogFeedback/blogData_train.csv', header=None)"
   ]
  },
  {
   "cell_type": "code",
   "execution_count": 13,
   "metadata": {
    "collapsed": false
   },
   "outputs": [],
   "source": [
    "X = data.drop(280, axis=1)\n",
    "y = data[280]"
   ]
  },
  {
   "cell_type": "code",
   "execution_count": 18,
   "metadata": {
    "collapsed": true
   },
   "outputs": [],
   "source": [
    "X_train, X_val, y_train, y_val = train_test_split(X, y, test_size=0.2)"
   ]
  },
  {
   "cell_type": "markdown",
   "metadata": {
    "collapsed": true
   },
   "source": [
    "**(1 балл)** Постройте графики зависимости $error$, $bias^2$ и $variance$ от глубины решающего дерева (от 1 до 15 включительно) для $N=100$. "
   ]
  },
  {
   "cell_type": "code",
   "execution_count": 62,
   "metadata": {
    "collapsed": false
   },
   "outputs": [
    {
     "name": "stdout",
     "output_type": "stream",
     "text": [
      "depth = 1 N = 100 error = 1007.90584862 bias^2 = 1004.050959 variance = 3.8548896245\n",
      "depth = 2 N = 100 error = 841.286099693 bias^2 = 784.385088139 variance = 56.9010115543\n",
      "depth = 3 N = 100 error = 766.571345562 bias^2 = 688.059034149 variance = 78.5123114132\n",
      "depth = 4 N = 100 error = 763.867941191 bias^2 = 653.791997994 variance = 110.075943197\n",
      "depth = 5 N = 100 error = 799.639672088 bias^2 = 639.759806376 variance = 159.879865712\n",
      "depth = 6 N = 100 error = 857.476495818 bias^2 = 634.469646611 variance = 223.006849207\n",
      "depth = 7 N = 100 error = 921.996180264 bias^2 = 628.701651218 variance = 293.294529046\n",
      "depth = 8 N = 100 error = 973.537215369 bias^2 = 626.987742852 variance = 346.549472517\n",
      "depth = 9 N = 100 error = 1036.84799492 bias^2 = 629.479652014 variance = 407.36834291\n",
      "depth = 10 N = 100 error = 1094.30054391 bias^2 = 637.454524688 variance = 456.846019227\n",
      "depth = 11 N = 100 error = 1116.8840911 bias^2 = 633.836497414 variance = 483.047593682\n",
      "depth = 12 N = 100 error = 1161.98532637 bias^2 = 628.739119357 variance = 533.24620701\n",
      "depth = 13 N = 100 error = 1155.03253909 bias^2 = 621.296877905 variance = 533.735661183\n",
      "depth = 14 N = 100 error = 1169.50829733 bias^2 = 633.046377265 variance = 536.461920061\n",
      "depth = 15 N = 100 error = 1200.95723258 bias^2 = 641.748863281 variance = 559.208369294\n"
     ]
    }
   ],
   "source": [
    "N = 100\n",
    "\n",
    "list_errors = []\n",
    "list_bias_sqr = []\n",
    "list_variances = []\n",
    "for depth in range(1, 16):\n",
    "    y_pred = np.zeros((N, len(X_val)))\n",
    "    error = 0\n",
    "    for it in range(N):\n",
    "        rand_idx = randint(0, len(X_train), len(X_train))\n",
    "        X_train_sample = X_train.iloc[rand_idx]\n",
    "        y_train_sample = y_train.iloc[rand_idx]\n",
    "        assert X_train_sample.shape == X_train.shape and y_train_sample.shape == y_train.shape\n",
    "        tree = DecisionTreeRegressor(max_depth=depth, random_state=0)\n",
    "        tree.fit(X_train_sample, y_train_sample)\n",
    "        y_pred[it, :] = tree.predict(X_val)\n",
    "        error += mean_squared_error(y_val, y_pred[it, :])\n",
    "    y_mean = np.mean(y_pred, axis=0)\n",
    "    assert len(y_mean) == len(X_val)\n",
    "    error /= N\n",
    "    bias_sqr = mean_squared_error(y_val, y_mean)\n",
    "    variance = np.mean(np.apply_along_axis(lambda x: mean_squared_error(x, y_mean), 1, y_pred))\n",
    "    print(\"depth = {} N = {} error = {} bias^2 = {} variance = {}\".format(depth, N, error, bias_sqr, variance))\n",
    "    list_errors.append(error)\n",
    "    list_bias_sqr.append(bias_sqr)\n",
    "    list_variances.append(variance)"
   ]
  },
  {
   "cell_type": "code",
   "execution_count": 75,
   "metadata": {
    "collapsed": true
   },
   "outputs": [],
   "source": [
    "def build_plots(ax, list_errors, list_bias_sqr, list_variances):\n",
    "    plt.figure(figsize=(15, 5))\n",
    "    plt.subplot(1, 3, 1)\n",
    "    plt.plot(ax, list_errors)\n",
    "    plt.title('error')\n",
    "    plt.subplot(1, 3, 2)\n",
    "    plt.plot(ax, list_bias_sqr)\n",
    "    plt.title('bias^2')\n",
    "    plt.subplot(1, 3, 3)\n",
    "    plt.plot(ax, list_variances)\n",
    "    plt.title('variance')"
   ]
  },
  {
   "cell_type": "code",
   "execution_count": 76,
   "metadata": {
    "collapsed": false
   },
   "outputs": [
    {
     "data": {
      "image/png": "[encoded data removed]",
      "text/plain": [
       "<matplotlib.figure.Figure at 0x7fb02190dd90>"
      ]
     },
     "metadata": {},
     "output_type": "display_data"
    }
   ],
   "source": [
    "build_plots(range(1, 16), list_errors, list_bias_sqr, list_variances)"
   ]
  },
  {
   "cell_type": "markdown",
   "metadata": {},
   "source": [
    "**(1 балл)** Являются ли какие-то из полученных графиков монотонными? А должны ли они быть монотонными, если бы гипотетически эксперименты были проведены на всевозможных выборках? Почему? Убедитесь численно, что верно bias-variance разложение ошибки: $$error = bias^2 + variance$$"
   ]
  },
  {
   "cell_type": "markdown",
   "metadata": {},
   "source": [
    "Полученные графики не являются монотонными из-за того, что мы аппроксимируем искомые значения. Если бы эксперименты проводились для всевозможных выборок, то тогда $bias^2$ убывал бы с ростом сложности модели (т.е. с увеличением глубины дерева), $variance$ монотонно возрастал бы. Соответствующий график приведен выше в теоретической секции.\n",
    "\n",
    "$bias$ показывает, насколько отличается наше среднее предсказание от правильного, если модель достаточно сложная, то она сможет обучиться достаточно хорошо \"в среднем\" за счет большей гибкости.\n",
    "\n",
    "$variance$ показывает разброс предсказанных значений для разных выборок, чем сложнее модель, тем больше будет зависеть от конкретной обучающей выборки.\n",
    "\n",
    "Выведем таблицу с разностью $error$ и $bias^2+variance$ для рассмотренных глубин. Заметим, что разность эта очень мала как абсолютно, так и относительно."
   ]
  },
  {
   "cell_type": "code",
   "execution_count": 90,
   "metadata": {
    "collapsed": false
   },
   "outputs": [
    {
     "data": {
      "text/html": [
       "<div>\n",
       "<table border=\"1\" class=\"dataframe\">\n",
       "  <thead>\n",
       "    <tr style=\"text-align: right;\">\n",
       "      <th></th>\n",
       "      <th>depth</th>\n",
       "      <th>difference</th>\n",
       "      <th>relative difference (to error)</th>\n",
       "    </tr>\n",
       "  </thead>\n",
       "  <tbody>\n",
       "    <tr>\n",
       "      <th>0</th>\n",
       "      <td>1</td>\n",
       "      <td>-8.970602e-14</td>\n",
       "      <td>8.900238e-17</td>\n",
       "    </tr>\n",
       "    <tr>\n",
       "      <th>1</th>\n",
       "      <td>2</td>\n",
       "      <td>-1.776357e-13</td>\n",
       "      <td>2.111478e-16</td>\n",
       "    </tr>\n",
       "    <tr>\n",
       "      <th>2</th>\n",
       "      <td>3</td>\n",
       "      <td>4.263256e-14</td>\n",
       "      <td>5.561461e-17</td>\n",
       "    </tr>\n",
       "    <tr>\n",
       "      <th>3</th>\n",
       "      <td>4</td>\n",
       "      <td>-1.705303e-13</td>\n",
       "      <td>2.232457e-16</td>\n",
       "    </tr>\n",
       "    <tr>\n",
       "      <th>4</th>\n",
       "      <td>5</td>\n",
       "      <td>8.526513e-14</td>\n",
       "      <td>1.066294e-16</td>\n",
       "    </tr>\n",
       "    <tr>\n",
       "      <th>5</th>\n",
       "      <td>6</td>\n",
       "      <td>4.547474e-13</td>\n",
       "      <td>5.303321e-16</td>\n",
       "    </tr>\n",
       "    <tr>\n",
       "      <th>6</th>\n",
       "      <td>7</td>\n",
       "      <td>3.410605e-13</td>\n",
       "      <td>3.699153e-16</td>\n",
       "    </tr>\n",
       "    <tr>\n",
       "      <th>7</th>\n",
       "      <td>8</td>\n",
       "      <td>-3.979039e-13</td>\n",
       "      <td>4.087198e-16</td>\n",
       "    </tr>\n",
       "    <tr>\n",
       "      <th>8</th>\n",
       "      <td>9</td>\n",
       "      <td>-4.547474e-13</td>\n",
       "      <td>4.385863e-16</td>\n",
       "    </tr>\n",
       "    <tr>\n",
       "      <th>9</th>\n",
       "      <td>10</td>\n",
       "      <td>2.842171e-13</td>\n",
       "      <td>2.597249e-16</td>\n",
       "    </tr>\n",
       "    <tr>\n",
       "      <th>10</th>\n",
       "      <td>11</td>\n",
       "      <td>-2.842171e-13</td>\n",
       "      <td>2.544732e-16</td>\n",
       "    </tr>\n",
       "    <tr>\n",
       "      <th>11</th>\n",
       "      <td>12</td>\n",
       "      <td>2.273737e-13</td>\n",
       "      <td>1.956769e-16</td>\n",
       "    </tr>\n",
       "    <tr>\n",
       "      <th>12</th>\n",
       "      <td>13</td>\n",
       "      <td>-1.136868e-13</td>\n",
       "      <td>9.842739e-17</td>\n",
       "    </tr>\n",
       "    <tr>\n",
       "      <th>13</th>\n",
       "      <td>14</td>\n",
       "      <td>0.000000e+00</td>\n",
       "      <td>0.000000e+00</td>\n",
       "    </tr>\n",
       "    <tr>\n",
       "      <th>14</th>\n",
       "      <td>15</td>\n",
       "      <td>-2.273737e-13</td>\n",
       "      <td>1.893270e-16</td>\n",
       "    </tr>\n",
       "  </tbody>\n",
       "</table>\n",
       "</div>"
      ],
      "text/plain": [
       "    depth    difference  relative difference (to error)\n",
       "0       1 -8.970602e-14                    8.900238e-17\n",
       "1       2 -1.776357e-13                    2.111478e-16\n",
       "2       3  4.263256e-14                    5.561461e-17\n",
       "3       4 -1.705303e-13                    2.232457e-16\n",
       "4       5  8.526513e-14                    1.066294e-16\n",
       "5       6  4.547474e-13                    5.303321e-16\n",
       "6       7  3.410605e-13                    3.699153e-16\n",
       "7       8 -3.979039e-13                    4.087198e-16\n",
       "8       9 -4.547474e-13                    4.385863e-16\n",
       "9      10  2.842171e-13                    2.597249e-16\n",
       "10     11 -2.842171e-13                    2.544732e-16\n",
       "11     12  2.273737e-13                    1.956769e-16\n",
       "12     13 -1.136868e-13                    9.842739e-17\n",
       "13     14  0.000000e+00                    0.000000e+00\n",
       "14     15 -2.273737e-13                    1.893270e-16"
      ]
     },
     "execution_count": 90,
     "metadata": {},
     "output_type": "execute_result"
    }
   ],
   "source": [
    "df = pd.DataFrame()\n",
    "diffs = []\n",
    "for j in range(len(list_errors)):\n",
    "    diffs.append(list_errors[j] - list_bias_sqr[j] - list_variances[j])\n",
    "df['depth'] = range(1, 16)\n",
    "df['difference'] = diffs\n",
    "df['relative difference (to error)'] = np.abs(diffs) / list_errors\n",
    "df"
   ]
  },
  {
   "cell_type": "markdown",
   "metadata": {
    "collapsed": true
   },
   "source": [
    "## Композиции алгоритмов\n",
    "\n",
    "Несмотря на описанный выше недостаток решающих деревьев, объединение их в композиции позволяет существенно улучшить качество предсказания. Рассмотрим несколько способов построения композиций.\n",
    "\n",
    "### Bagging + RSM\n",
    "\n",
    "![](https://sites.google.com/site/rajhansgondane2506/_/rsrc/1467898300734/publications/rrftrain.jpg?height=215&width=320)\n",
    "\n",
    "Один из способов объединения алгоритмов в композиции — обучение каждого отдельного алгоритма на некоторой подвыборке из исходной выборки ([bagging](https://en.wikipedia.org/wiki/Bootstrap_aggregating)) и подмножестве исходных признаков ([RSM](https://en.wikipedia.org/wiki/Random_subspace_method)). В sklearn этот тип композиции реализован в классе [BaggingRegressor](http://scikit-learn.org/stable/modules/generated/sklearn.ensemble.BaggingRegressor.html) (для случая регресии). Подобный подход также есть в реализации [RandomForest](http://scikit-learn.org/stable/modules/generated/sklearn.ensemble.RandomForestRegressor.html)."
   ]
  },
  {
   "cell_type": "markdown",
   "metadata": {},
   "source": [
    "### Градиентный бустинг\n",
    "\n",
    "В случае бустинга композиция алгоритмов строится последовательно. Каждый следующий базовый алгоритм акцентируется на тех объектах, на которых обученная ранее композиция допускала ошибку.\n",
    "\n",
    "На данный момент одной из самых широко распространенных реализаций бустинга является библиотека [XGBoost](https://github.com/dmlc/xgboost). В ней большое внимание уделяется регуляризации и скорости, нежели в других реализациях бустинга (например,  [GradientBoostingRegressor](http://scikit-learn.org/stable/modules/generated/sklearn.ensemble.GradientBoostingRegressor.html) из sklearn). Кроме того, XGBoost позволяет оптимизировать различные функции потерь, а также более гибок, засчет большого числа параметров."
   ]
  },
  {
   "cell_type": "markdown",
   "metadata": {},
   "source": [
    "XGBoost строит композицию из $K$ базовых алгоритмов $b_k$:\n",
    "\n",
    "$$ \\hat{y}_i = \\hat{y}_i^{K} = \\sum_{k=1}^{K} b_k(x_i) = \\hat{y}_i^{\\left(K - 1\\right)} + b_K(x_i), $$\n",
    "\n",
    "минимизируя следующий функционал:\n",
    "\n",
    "$$ Obj = \\sum_{i=1}^N \\mathcal{L}(y_i, \\hat{y}_i ) + \\sum_{k=1}^{K} \\Omega(b_k),$$\n",
    "\n",
    "где\n",
    " - $N$ — размер обучающей выборки;\n",
    " - $x_i, y_i, \\hat{y}_i$ — i-ый объект, правильный ответ и предсказание модели для него;\n",
    " - $\\hat{y}_i^{t}$ — предсказание композиции из $t$ уже обученных базовых алгоритмов для i-го объекта;\n",
    " - $\\Omega$ — регуляризатор;\n",
    " - $\\mathcal{L}(y_i, \\hat{y}_i)$ — функция потерь.\n",
    "\n",
    "Функционал, оптимизируемый на $t$-ой итерации:\n",
    "\n",
    "$$ Obj^{(t)} = \\sum_{i=1}^N \\mathcal{L}\\left(y_i, \\hat{y}_i^{(t-1)} + b_t(x_i)\\right) + \\Omega(b_t).$$\n",
    "\n",
    "В случае бустинга над решающими деревьями регуляризатор имеет следующий вид:\n",
    "\n",
    "$$ \\Omega(b_t) = \\gamma T + \\frac{1}{2}\\lambda\\sum_{j=1}^{T}w_j^2 + \\alpha\\sum_{j=1}^{T}w_j,$$\n",
    "\n",
    "где \n",
    " - $T$ — количество листьев в дереве;\n",
    " - $w_j$ — веса в листьях дерева;\n",
    " - $\\lambda, \\alpha, \\gamma$ — гиперпараметры.\n",
    "\n",
    "Данный регуляризатор подобран эвристически и хорошо показывает себя на практике. \n",
    "\n",
    "Раскладывая в ряд Тейлора выражение $\\mathcal{L}\\left(y_i, \\hat{y}_i^{\\left(t-1\\right)} + b_t(x_i)\\right)$ до второго порядка, получаем:\n",
    "\n",
    "$$ Obj^{(t)} = \\sum_{i=1}^N\\left[\\mathcal{L}(y_i, \\hat{y}_i^{\\left(t-1\\right)}) + g_{i}b_{t}(x_i) + \\frac{1}{2}h_{i}b_{t}^2(x_i)\\right] + \\Omega(b_t),$$\n",
    "\n",
    "где $g_i = \\partial_{\\hat{y}_i^{(t-1)}} \\mathcal{L}(y_i, \\hat{y_i}^{(t-1)})$, $h_i = \\partial_{\\hat{y}_i^{(t-1)}}^2 \\mathcal{L}(y_i, \\hat{y}_i^{(t-1)}) $ — градиент и гессиан оптимизируемой функции потерь.\n",
    "\n",
    "Приводя теперь подобные слагаемые и отбрасывая слагаемое $ \\mathcal{L}(y_i, \\hat{y}_i^{(t-1)}) $, не зависящее от $ b_t(x_i)$ (а следовательно, не влияющее на точку минимума функционала), получаем формулу:\n",
    "$$ Obj^{(t)} \\simeq \\sum_{j=1}^{T}\\left[\\sum_{i \\in I_j} g_i w_j + \\frac{1}{2}\\sum_{i \\in I_j} (h_i + \\lambda)w_j^2\\right] + \\gamma T$$\n",
    "$$ = \\sum_{j=1}^{T}\\left[G_jw_j + \\frac{1}{2}(H_j + \\lambda)w_j^2\\right] + \\gamma T, $$\n",
    "\n",
    "где \n",
    " - $ I_j $ - множество объектов обучающей выборки, попавших в $j$-ый лист дерева;\n",
    " - $ G_j = \\sum_{i \\in I_j} g_i$;\n",
    " - $ H_j = \\sum_{i \\in I_j} h_i$.\n",
    " \n",
    "Теперь, имея заданную структуру дерева, можно аналитически вычислить оптимальные значения для весов:\n",
    "$$ w_j^* = -\\frac{G_j}{H_j + \\lambda}.$$\n",
    "\n",
    "Значение функционала при этом будет равно:\n",
    "\n",
    "$$ Obj = -\\frac{1}{2}\\sum_{j=1}^T \\frac{G_j^2}{H_j + \\lambda} + \\gamma T .$$\n",
    "\n",
    "Осталось только построить дерево оптимальной структуры. Это можно делать известными методами построения решающих деревьев, проводя разбиения таким образом, чтобы максимизировать gain, определенный как уменьшение $Obj$ в момент этого разбиения. Для уже построенного дерева по формулам $ w_j^* $ вычисляются оптимальные значения в листьях."
   ]
  },
  {
   "cell_type": "markdown",
   "metadata": {},
   "source": [
    "В XGBoost реализовано несколько различных функций потерь, что позволяет решать задачи классификации (бинарной и мультиклассовой), регрессии и ранжирования. Вот некоторые из них:\n",
    "\n",
    "- reg:linear — линейная регрессия\n",
    "- reg:logistic — логистическая регрессия\n",
    "- binary:logistic — логистическая регрессия\n",
    "- multi:softmax — softmax функция потерь для многоклассовой классификации\n",
    "- rank:pairwise — минимизация pairwise-функции потерь для задачи ранжирования"
   ]
  },
  {
   "cell_type": "markdown",
   "metadata": {},
   "source": [
    "**(1 балл)** Проведите аналогичный эксперимент с bias-variance разложением для градиентного бустинга для количество алгоритмов 1, 5, 10, 25 и 50, используя в качестве базовых алгоритмов решающие деревья. Пример использования библиотеки можно найти в туториале с [семинара про XGBoost](https://nbviewer.jupyter.org/urls/dl.dropbox.com/s/b1lm8e763tsxly5/xgboost_tutorial.ipynb). Обратите внимание, что данная библиотека имеет два интерфейса (стандартный и аналог sklearn), названия параметров в которых могут отличаться."
   ]
  },
  {
   "cell_type": "code",
   "execution_count": 79,
   "metadata": {
    "collapsed": false
   },
   "outputs": [
    {
     "name": "stdout",
     "output_type": "stream",
     "text": [
      "n_estim = 1 N = 100 error = 973.493255419 bias^2 = 958.255523836 variance = 15.2377315838\n",
      "n_estim = 5 N = 100 error = 675.49422701 bias^2 = 623.287967036 variance = 52.2062599744\n",
      "n_estim = 10 N = 100 error = 685.751610387 bias^2 = 617.046308501 variance = 68.7053018862\n",
      "n_estim = 25 N = 100 error = 707.507303396 bias^2 = 623.501363758 variance = 84.0059396382\n",
      "n_estim = 50 N = 100 error = 724.916952132 bias^2 = 629.917311072 variance = 94.9996410598\n"
     ]
    }
   ],
   "source": [
    "xgb_lst_bais_sqr = []\n",
    "xgb_lst_variances = []\n",
    "xgb_lst_errors = []\n",
    "estim_lst = [1, 5, 10, 25, 50]\n",
    "xgtest = xgb.DMatrix(X_val, label=y_val)\n",
    "\n",
    "param = {}\n",
    "param['booster'] = 'gbtree'\n",
    "param['objective'] = 'reg:linear'\n",
    "param[\"eval_metric\"] = 'rmse'\n",
    "param['silent'] = 1\n",
    "param['nthread'] = 4\n",
    "N = 100\n",
    "\n",
    "xgb_list_errors = []\n",
    "xgb_list_bias_sqr = []\n",
    "xgb_list_variances = []\n",
    "\n",
    "for n_estim in estim_lst:\n",
    "    y_pred = np.zeros((N, len(X_val)))\n",
    "    error = 0\n",
    "    for it in range(N):\n",
    "        rand_idx = randint(0, len(X_train), len(X_train))\n",
    "        X_train_sample = X_train.iloc[rand_idx]\n",
    "        y_train_sample = y_train.iloc[rand_idx]\n",
    "        \n",
    "        xgtrain = xgb.DMatrix(X_train_sample, label=y_train_sample)\n",
    "\n",
    "        bst = xgb.train(param, xgtrain, n_estim)\n",
    "        y_pred[it, :] = bst.predict(xgtest)\n",
    "        error += mean_squared_error(y_val, y_pred[it, :])\n",
    "        \n",
    "    y_mean = np.mean(y_pred, axis=0)\n",
    "    assert len(y_mean) == len(X_val)\n",
    "    error /= N\n",
    "    bias_sqr = mean_squared_error(y_val, y_mean)\n",
    "    variance = np.mean(np.apply_along_axis(lambda x: mean_squared_error(x, y_mean), 1, y_pred))\n",
    "    print(\"n_estim = {} N = {} error = {} bias^2 = {} variance = {}\".format(n_estim, N, error, bias_sqr, variance))\n",
    "    xgb_list_errors.append(error)\n",
    "    xgb_list_bias_sqr.append(bias_sqr)\n",
    "    xgb_list_variances.append(variance)"
   ]
  },
  {
   "cell_type": "code",
   "execution_count": 92,
   "metadata": {
    "collapsed": false
   },
   "outputs": [
    {
     "data": {
      "image/png": "[encoded data removed]",
      "text/plain": [
       "<matplotlib.figure.Figure at 0x7fb021466dd0>"
      ]
     },
     "metadata": {},
     "output_type": "display_data"
    }
   ],
   "source": [
    "#Графики для XGBoost\n",
    "build_plots(estim_lst, xgb_list_errors, xgb_list_bias_sqr, xgb_list_variances)"
   ]
  },
  {
   "cell_type": "code",
   "execution_count": 93,
   "metadata": {
    "collapsed": false
   },
   "outputs": [
    {
     "data": {
      "image/png": "[encoded data removed]",
      "text/plain": [
       "<matplotlib.figure.Figure at 0x7fb02120cd10>"
      ]
     },
     "metadata": {},
     "output_type": "display_data"
    }
   ],
   "source": [
    "#Графики для DecisionTree\n",
    "build_plots(range(1, 16), list_errors, list_bias_sqr, list_variances)"
   ]
  },
  {
   "cell_type": "markdown",
   "metadata": {},
   "source": [
    "**(0.5 балла)** Отличаются ли графики в рассмотренных моделях (решающее дерево, градиентный бустинг на решающих деревьях)  между собой? На какую компоненту из разложения ошибки влияет объединение алгоритмов в рассмотренный тип композиции?"
   ]
  },
  {
   "cell_type": "markdown",
   "metadata": {
    "collapsed": true
   },
   "source": [
    "Выше приведены графики для обеих моделей. Во-первых, ошибка $error$ у XGBoost растет с переобучением не так резко, как у решающего дерева. Во-вторых, $bias^2$ в обоих случаях находится примерно на одном уровне, а вот $variance$ значительно больше у решающего дерева. Т.е. таким образом мы эспериментально подтвердили, что композиция уменьшает $variance$, но не $bias$."
   ]
  },
  {
   "cell_type": "markdown",
   "metadata": {},
   "source": [
    "## Поисковое ранжирование\n",
    "\n",
    "![](http://i.imgur.com/2QnD2nF.jpg)\n",
    "\n",
    "Задачу поискового ранжирования можно описать следующим образом: имеется множество документов $d \\in D$ и множество запросов $q \\in Q$. Требуется оценить *степень релевантности* документа по отношению к запросу: $(q, d) \\mapsto r$, относительно которой будет производиться ранжирование. Для восстановления этой зависимости используются методы машинного обучения. Обычно используется три типа:\n",
    " - признаки запроса $q$, например: мешок слов текста запроса, его длина, ...\n",
    " - документа $d$, например: значение PageRank, мешок слов, доменное имя, ...\n",
    " - пары $(q, d)$, например: число вхождений фразы из запроса $q$ в документе $d$, ...\n",
    "\n",
    "Одна из отличительных особенностей задачи ранжирования от классических задач машинного обучения заключается в том, что качество результата зависит не от предсказанных оценок релевантности, а от порядка следования документов в рамках конкретного запроса, т.е. важно не абсолютное значение релевантности (его достаточно трудно формализовать в виде числа), а то, более или менее релевантен документ, относительно других документов.\n",
    "\n",
    "### Оценка качества\n",
    "\n",
    "Для оценивания качества ранжирования найденных документов в поиске используются асессорские оценки. Само оценивание происходит на скрытых от обучения запросах $Queries$. Для этого традиционно используется метрика *DCG* ([Discounted Cumulative Gain](https://en.wikipedia.org/wiki/Discounted_cumulative_gain)) и ее нормализованный вариант — *nDCG*, всегда принимающий значения от 0 до 1.\n",
    "Для одного запроса DCG считается следующим образом:\n",
    "$$ DCG = \\sum_{i=1}^P\\frac{(2^{rel_i} - 1)}{\\log_2(i+1)}, $$\n",
    "\n",
    "где $P$ — число документов в поисковой выдаче, $rel_i$ — релевантность (асессорская оценка) документа, находящегося на i-той позиции.\n",
    "\n",
    "*IDCG* — идеальное (наибольшее из возможных) значение *DCG*, может быть получено путем ранжирования документов по убыванию асессорских оценок.\n",
    "\n",
    "Итоговая формула для расчета *nDCG*:\n",
    "\n",
    "$$nDCG = \\frac{DCG}{IDCG} \\in [0, 1].$$\n",
    "\n",
    "Чтобы оценить значение *nDCG* на выборке $Queries$ ($nDCG_{Queries}$) размера $N$, необходимо усреднить значение *nDCG* по всем запросам  выборки:\n",
    "$$nDCG_{Queries} = \\frac{1}{N}\\sum_{q \\in Queries}nDCG(q).$$\n",
    "\n",
    "Пример реализации метрик ранжирование на python можно найти [здесь](https://gist.github.com/mblondel/7337391)."
   ]
  },
  {
   "cell_type": "markdown",
   "metadata": {},
   "source": [
    "Загрузите данные конкурса [Интернет-математика 2009](http://imat2009.yandex.ru/datasets). Там же находится описание данных. Разбейте обучающую выборку на обучение и контроль в соотношении 70 / 30. Обратите внимание на формат данных: разбивать необходимо множество запросов, а не строчки датасета."
   ]
  },
  {
   "cell_type": "code",
   "execution_count": 2,
   "metadata": {
    "collapsed": false
   },
   "outputs": [
    {
     "name": "stderr",
     "output_type": "stream",
     "text": [
      "/usr/local/lib/python2.7/dist-packages/sklearn/grid_search.py:43: DeprecationWarning: This module was deprecated in version 0.18 in favor of the model_selection module into which all the refactored classes and functions are moved. This module will be removed in 0.20.\n",
      "  DeprecationWarning)\n"
     ]
    }
   ],
   "source": [
    "import re\n",
    "from sklearn.grid_search import GridSearchCV\n",
    "from sklearn.linear_model import Lasso"
   ]
  },
  {
   "cell_type": "code",
   "execution_count": 22,
   "metadata": {
    "collapsed": false
   },
   "outputs": [],
   "source": [
    "f = open('/home/dmitry/Downloads/data/shad/lab2/imat2009-datasets/imat2009_learning.txt')\n",
    "#df = pd.DataFrame(columns = ['relevance'] + range(1, 246))\n",
    "i = 0\n",
    "table = []\n",
    "query_id = []\n",
    "for l in f:\n",
    "    lst = re.split(\"[: ]\", l)\n",
    "    part = [0] * 246\n",
    "    part[0] = float(lst[0])\n",
    "    for j in range(1, len(lst) - 2, 2):\n",
    "        part[int(lst[j])] = float(lst[j + 1])\n",
    "    #df.loc[i] = part\n",
    "    query_id.append(int(lst[-1]))\n",
    "    table.append(part)\n",
    "    i += 1\n",
    "df = pd.DataFrame(table, columns = ['relevance'] + range(1, 246))"
   ]
  },
  {
   "cell_type": "code",
   "execution_count": 44,
   "metadata": {
    "collapsed": true
   },
   "outputs": [],
   "source": [
    "df['query_id'] = query_id\n",
    "X_train, X_val, y_train, y_val = train_test_split(df.drop('relevance', axis=1), df['relevance'], test_size=0.3)\n",
    "train_query_id = X_train['query_id']\n",
    "X_train = X_train.drop('query_id', axis=1)\n",
    "X_val = X_val.drop('query_id', axis=1)"
   ]
  },
  {
   "cell_type": "markdown",
   "metadata": {
    "collapsed": true
   },
   "source": [
    "Далее рассмотрим несколько подходов предсказания релевантности. Для оценивания качества моделей используйте метрику nDCG на контроле. В случае подбора гиперпараметров используйте кросс-валидацию по 5 блокам.\n",
    "\n",
    "**(1 балл)** [Point-wise](https://en.wikipedia.org/wiki/Learning_to_rank#Pointwise_approach) подход. В этом случае значение функции потерь определяется по одному объекту, например, как в случае регрессии. Воспользовавшись известными вам техниками построения линейной регрессии, обучите модель, предсказывающую оценку асессора."
   ]
  },
  {
   "cell_type": "code",
   "execution_count": 8,
   "metadata": {
    "collapsed": false
   },
   "outputs": [],
   "source": [
    "def dcg_score(y_true, y_score, k=10):\n",
    "    order = np.argsort(y_score)[::-1]\n",
    "    y_true = np.take(y_true, order[:k])\n",
    "    gains = 2 ** y_true - 1\n",
    "    discounts = np.log2(np.arange(len(y_true)) + 2)\n",
    "    return np.sum(gains / discounts)\n",
    "\n",
    "def ndcg_score(regr, X, y_true, k=10):\n",
    "    y_score = regr.predict(X)\n",
    "    best = dcg_score(y_true, y_true, k)\n",
    "    actual = dcg_score(y_true, y_score, k)\n",
    "    return actual / best"
   ]
  },
  {
   "cell_type": "code",
   "execution_count": 136,
   "metadata": {
    "collapsed": false
   },
   "outputs": [
    {
     "name": "stdout",
     "output_type": "stream",
     "text": [
      "Lasso(alpha=1.0000000000000001e-05, copy_X=True, fit_intercept=True,\n",
      "   max_iter=1000, normalize=True, positive=False, precompute=False,\n",
      "   random_state=None, selection='cyclic', tol=0.0001, warm_start=False) {'alpha': 1.0000000000000001e-05} 0.811412315185\n"
     ]
    }
   ],
   "source": [
    "params = {'alpha': np.linspace(1e-5, 1e-4, 4)}\n",
    "gs = GridSearchCV(Lasso(normalize=True), params, scoring=ndcg_score, refit=True, cv=5, n_jobs=4)\n",
    "gs.fit(X_train, y_train)\n",
    "print gs.best_estimator_, gs.best_params_, gs.best_score_"
   ]
  },
  {
   "cell_type": "markdown",
   "metadata": {},
   "source": [
    "**(1 балл)** [Pair-wise](https://en.wikipedia.org/wiki/Learning_to_rank#Pairwise_approach) подход. Здесь функция потерь вычисляется по паре объектов. Постройте ранжирующую модель при помощи [SVMlight](http://www.cs.cornell.edu/people/tj/svm_light/svm_rank.html), реализующий [Ranking SVM](https://en.wikipedia.org/wiki/Ranking_SVM)."
   ]
  },
  {
   "cell_type": "code",
   "execution_count": 214,
   "metadata": {
    "collapsed": false
   },
   "outputs": [
    {
     "name": "stdout",
     "output_type": "stream",
     "text": [
      "Reading training examples...done\n",
      "Training set properties: 245 features, 1 rankings, 68103 examples\n",
      "NOTE: Adjusted stopping criterion relative to maximum loss: eps=1659268557.424500\n",
      "Iter 1: .*(NumConst=1, SV=1, CEps=1678572137.0000, QPEps=29.3874)\n",
      "Iter 2: .(NumConst=1, SV=1, CEps=1655040249.2999, QPEps=29.3874)\n",
      "Final epsilon on KKT-Conditions: 1655040249.29986\n",
      "Upper bound on duality gap: 33100804985.99715\n",
      "Dual objective value: dval=0.55931\n",
      "Primal objective value: pval=33100804986.55646\n",
      "Total number of constraints in final working set: 1 (of 1)\n",
      "Number of iterations: 2\n",
      "Number of calls to 'find_most_violated_constraint': 2\n",
      "Number of SV: 1 \n",
      "Norm of weight vector: |w|=1.05764\n",
      "Value of slack variable (on working set): xi=3.04986\n",
      "Value of slack variable (global): xi=1655040249.29986\n",
      "Norm of longest difference vector: ||Psi(x,y)-Psi(x,ybar)||=1587085952.37762\n",
      "Runtime in cpu-seconds: 51.03\n",
      "Compacting linear model...done\n",
      "Writing learned model...done\n"
     ]
    }
   ],
   "source": [
    "!./svm_rank_learn -c 20.0  -e 0.9885 train_set.txt model.dat"
   ]
  },
  {
   "cell_type": "code",
   "execution_count": 215,
   "metadata": {
    "collapsed": false
   },
   "outputs": [
    {
     "name": "stdout",
     "output_type": "stream",
     "text": [
      "Reading model...done.\n",
      "Reading test examples...done.\n",
      "Classifying test examples...done\n",
      "Runtime (without IO) in cpu-seconds: 0.02\n",
      "Average loss on test set: 0.3447\n",
      "Zero/one-error on test set: 100.00% (0 correct, 1 incorrect, 1 total)\n",
      "NOTE: The loss reported above is the fraction of swapped pairs averaged over\n",
      "      all rankings. The zero/one-error is fraction of perfectly correct\n",
      "      rankings!\n",
      "Total Num Swappedpairs  : 107303504\n",
      "Avg Swappedpairs Percent:  34.47\n"
     ]
    }
   ],
   "source": [
    "!./svm_rank_classify val_set.txt model.dat predictions"
   ]
  },
  {
   "cell_type": "markdown",
   "metadata": {},
   "source": [
    "###  Ранжируем с XGBoost\n",
    "\n",
    "XGBoost имеет несколько функций потерь для решения задачи ранжирования:\n",
    "1. **reg:linear** — эта функция потерь нужна для решения задачи регрессии, тем не менее, ее можно использовать в качестве ранжирующей point-wise модели.\n",
    "2. **rank:pairwise** — в качестве pairwise модели в XGBoost реализован [RankNet](http://research.microsoft.com/en-us/um/people/cburges/papers/ICML_ranking.pdf), в котором минимизируется гладкий функционал качества ранжирования: $$ Obj = \\sum_{i \\prec j} \\mathcal{L}\\left(a(x_j) - a(x_i)\\right) \\rightarrow min $$ $$ \\mathcal{L}(M) = log(1 + e^{-M}), $$ где $ a(x) $ - функция ранжирования. Суммирование ведется по всем парам объектов, для которых определено отношение порядка, например, для пар документов, показанных по одному запросу. Таким образом функция потерь штрафует за то, что пара объектов неправильно упорядочена.\n",
    "3. **rank:map, rank:ndcg** — реализация [LambdaRank](http://research.microsoft.com/en-us/um/people/cburges/papers/lambdarank.pdf) для двух метрик: [MAP](https://www.kaggle.com/wiki/MeanAveragePrecision) и **nDCG**. Известно, что для того, чтобы оптимизировать негладкий функционал, такой как **nDCG**,  нужно домножить градиент функционала $ Obj(a) $ на значение $\\Delta NDCG_{ij} $ — изменение значения функционала качества при замене $x_i$ на $ x_j$.  Поскольку для вычисления метрик необходимы все объекты выборки, то эти две ранжирующие функции потерь являются представителями класса [list-wise](https://en.wikipedia.org/wiki/Learning_to_rank#Listwise_approach) моделей."
   ]
  },
  {
   "cell_type": "markdown",
   "metadata": {},
   "source": [
    "**(1 балл)** Обучите модели **rank:pairwise** и **rank:ndcg**, в качестве метрики оценки качества (*eval_metric*) используя *nDCG*, а в качестве бустера решающее дерево. Рассмотрите различные [параметры](https://github.com/dmlc/xgboost/blob/master/doc/parameter.md) бустера: *eta*, *gamma*, *tree_method*. Какие параметры сильнее всего влияют на качество?"
   ]
  },
  {
   "cell_type": "markdown",
   "metadata": {},
   "source": [
    "### Eta\n",
    "\n",
    "в случае rank:ndcg не влияет, иначе влияет незначительно, а именно при изменении $eta$ качество на валидации колеблется от 0.944 до 0.952"
   ]
  },
  {
   "cell_type": "code",
   "execution_count": 14,
   "metadata": {
    "collapsed": false
   },
   "outputs": [
    {
     "name": "stdout",
     "output_type": "stream",
     "text": [
      "obj = rank:pairwise eta = 0.1\n",
      "[0]\ttrain-:0.916004\tval-:0.90246\n",
      "[99]\ttrain-:0.951829\tval-:0.944584\n",
      "obj = rank:pairwise eta = 0.2\n",
      "[0]\ttrain-:0.916004\tval-:0.90246\n",
      "[99]\ttrain-:0.957989\tval-:0.948802\n",
      "obj = rank:pairwise eta = 0.3\n",
      "[0]\ttrain-:0.916004\tval-:0.90246\n",
      "[99]\ttrain-:0.960581\tval-:0.9471\n",
      "obj = rank:pairwise eta = 0.4\n",
      "[0]\ttrain-:0.916004\tval-:0.90246\n",
      "[99]\ttrain-:0.962094\tval-:0.947203\n",
      "obj = rank:pairwise eta = 0.5\n",
      "[0]\ttrain-:0.916004\tval-:0.90246\n",
      "[99]\ttrain-:0.963869\tval-:0.952257\n",
      "obj = rank:pairwise eta = 0.6\n",
      "[0]\ttrain-:0.916004\tval-:0.90246\n",
      "[99]\ttrain-:0.964057\tval-:0.947245\n",
      "obj = rank:pairwise eta = 0.7\n",
      "[0]\ttrain-:0.916004\tval-:0.90246\n",
      "[99]\ttrain-:0.967674\tval-:0.951548\n",
      "obj = rank:pairwise eta = 0.8\n",
      "[0]\ttrain-:0.916004\tval-:0.90246\n",
      "[99]\ttrain-:0.966026\tval-:0.945138\n",
      "obj = rank:pairwise eta = 0.9\n",
      "[0]\ttrain-:0.916004\tval-:0.90246\n",
      "[99]\ttrain-:0.967236\tval-:0.947689\n",
      "obj = rank:pairwise eta = 1.0\n",
      "[0]\ttrain-:0.916004\tval-:0.90246\n",
      "[99]\ttrain-:0.966995\tval-:0.946994\n",
      "obj = rank:ndcg eta = 0.1\n",
      "[0]\ttrain-:0.854691\tval-:0.835376\n",
      "[99]\ttrain-:0.854691\tval-:0.835376\n",
      "obj = rank:ndcg eta = 0.2\n",
      "[0]\ttrain-:0.854691\tval-:0.835376\n",
      "[99]\ttrain-:0.854691\tval-:0.835376\n",
      "obj = rank:ndcg eta = 0.3\n",
      "[0]\ttrain-:0.854691\tval-:0.835376\n",
      "[99]\ttrain-:0.854691\tval-:0.835376\n",
      "obj = rank:ndcg eta = 0.4\n",
      "[0]\ttrain-:0.854691\tval-:0.835376\n",
      "[99]\ttrain-:0.854691\tval-:0.835376\n",
      "obj = rank:ndcg eta = 0.5\n",
      "[0]\ttrain-:0.854691\tval-:0.835376\n",
      "[99]\ttrain-:0.854691\tval-:0.835376\n",
      "obj = rank:ndcg eta = 0.6\n",
      "[0]\ttrain-:0.854691\tval-:0.835376\n",
      "[99]\ttrain-:0.854691\tval-:0.835376\n",
      "obj = rank:ndcg eta = 0.7\n",
      "[0]\ttrain-:0.854691\tval-:0.835376\n",
      "[99]\ttrain-:0.854691\tval-:0.835376\n",
      "obj = rank:ndcg eta = 0.8\n",
      "[0]\ttrain-:0.854691\tval-:0.835376\n",
      "[99]\ttrain-:0.854691\tval-:0.835376\n",
      "obj = rank:ndcg eta = 0.9\n",
      "[0]\ttrain-:0.854691\tval-:0.835376\n",
      "[99]\ttrain-:0.854691\tval-:0.835376\n",
      "obj = rank:ndcg eta = 1.0\n",
      "[0]\ttrain-:0.854691\tval-:0.835376\n",
      "[99]\ttrain-:0.854691\tval-:0.835376\n"
     ]
    }
   ],
   "source": [
    "xgtrain = xgb.DMatrix(X_train, label=y_train)\n",
    "xgtest = xgb.DMatrix(X_val, label=y_val)\n",
    "param = {}\n",
    "param['silent'] = 0\n",
    "param['booster'] = 'gbtree'\n",
    "evals = [(xgtrain, 'train'), (xgtest, 'val')]\n",
    "n_iter = 100\n",
    "for obj in ['rank:pairwise', 'rank:ndcg']:\n",
    "    for eta in np.linspace(0.1, 1, 10):\n",
    "        param['objective'] = obj\n",
    "        param[\"eval_metric\"] = 'ndcg'\n",
    "        param['eta'] = eta\n",
    "        print \"obj = {} eta = {}\".format(obj, eta)\n",
    "        bst = xgb.train(param, xgtrain, n_iter, evals = evals, verbose_eval=n_iter-1)"
   ]
  },
  {
   "cell_type": "markdown",
   "metadata": {},
   "source": [
    "### gamma\n",
    "\n",
    "в случае 'rank:ndcg' - не влияет, в случае 'rank:pairwise' влияет существенно - при плохих значених параметра $gamma$, например, $1000$, score на валидации становится на $6$ процентов меньше, чем при оптимальных"
   ]
  },
  {
   "cell_type": "code",
   "execution_count": 16,
   "metadata": {
    "collapsed": false
   },
   "outputs": [
    {
     "name": "stdout",
     "output_type": "stream",
     "text": [
      "obj = rank:pairwise gamma = 0\n",
      "[0]\ttrain-:0.916004\tval-:0.90246\n",
      "[99]\ttrain-:0.966995\tval-:0.946994\n",
      "obj = rank:pairwise gamma = 1\n",
      "[0]\ttrain-:0.916004\tval-:0.90246\n",
      "[99]\ttrain-:0.968216\tval-:0.948247\n",
      "obj = rank:pairwise gamma = 10\n",
      "[0]\ttrain-:0.916\tval-:0.902459\n",
      "[99]\ttrain-:0.958749\tval-:0.94582\n",
      "obj = rank:pairwise gamma = 50\n",
      "[0]\ttrain-:0.910193\tval-:0.896648\n",
      "[99]\ttrain-:0.938865\tval-:0.930674\n",
      "obj = rank:pairwise gamma = 100\n",
      "[0]\ttrain-:0.910588\tval-:0.895649\n",
      "[99]\ttrain-:0.929481\tval-:0.919865\n",
      "obj = rank:pairwise gamma = 500\n",
      "[0]\ttrain-:0.890848\tval-:0.875225\n",
      "[99]\ttrain-:0.909402\tval-:0.896253\n",
      "obj = rank:pairwise gamma = 1000\n",
      "[0]\ttrain-:0.889857\tval-:0.874143\n",
      "[99]\ttrain-:0.896715\tval-:0.882369\n",
      "obj = rank:ndcg gamma = 0\n",
      "[0]\ttrain-:0.854691\tval-:0.835376\n",
      "[99]\ttrain-:0.854691\tval-:0.835376\n",
      "obj = rank:ndcg gamma = 1\n",
      "[0]\ttrain-:0.854691\tval-:0.835376\n",
      "[99]\ttrain-:0.854691\tval-:0.835376\n",
      "obj = rank:ndcg gamma = 10\n",
      "[0]\ttrain-:0.854691\tval-:0.835376\n",
      "[99]\ttrain-:0.854691\tval-:0.835376\n",
      "obj = rank:ndcg gamma = 50\n",
      "[0]\ttrain-:0.854691\tval-:0.835376\n",
      "[99]\ttrain-:0.854691\tval-:0.835376\n",
      "obj = rank:ndcg gamma = 100\n",
      "[0]\ttrain-:0.854691\tval-:0.835376\n",
      "[99]\ttrain-:0.854691\tval-:0.835376\n",
      "obj = rank:ndcg gamma = 500\n",
      "[0]\ttrain-:0.854691\tval-:0.835376\n",
      "[99]\ttrain-:0.854691\tval-:0.835376\n",
      "obj = rank:ndcg gamma = 1000\n",
      "[0]\ttrain-:0.854691\tval-:0.835376\n",
      "[99]\ttrain-:0.854691\tval-:0.835376\n"
     ]
    }
   ],
   "source": [
    "for obj in ['rank:pairwise', 'rank:ndcg']:\n",
    "    for gamma in [0, 1, 10, 50, 100, 500, 1000]:\n",
    "        param['objective'] = obj\n",
    "        param[\"eval_metric\"] = 'ndcg'\n",
    "        param['gamma'] = gamma\n",
    "        print \"obj = {} gamma = {}\".format(obj, gamma)\n",
    "        bst = xgb.train(param, xgtrain, n_iter, evals = evals, verbose_eval=n_iter-1)"
   ]
  },
  {
   "cell_type": "markdown",
   "metadata": {},
   "source": [
    "### tree_method\n",
    "\n",
    "Не влияет ни в том, ни в другом случае"
   ]
  },
  {
   "cell_type": "code",
   "execution_count": 18,
   "metadata": {
    "collapsed": false
   },
   "outputs": [
    {
     "name": "stdout",
     "output_type": "stream",
     "text": [
      "obj = rank:pairwise tree_method = exact\n",
      "[0]\ttrain-:0.889857\tval-:0.874143\n",
      "[99]\ttrain-:0.896715\tval-:0.882369\n",
      "obj = rank:pairwise tree_method = approx\n",
      "[0]\ttrain-:0.889857\tval-:0.874143\n",
      "[99]\ttrain-:0.896715\tval-:0.882369\n",
      "obj = rank:ndcg tree_method = exact\n",
      "[0]\ttrain-:0.854691\tval-:0.835376\n",
      "[99]\ttrain-:0.854691\tval-:0.835376\n",
      "obj = rank:ndcg tree_method = approx\n",
      "[0]\ttrain-:0.854691\tval-:0.835376\n",
      "[99]\ttrain-:0.854691\tval-:0.835376\n"
     ]
    }
   ],
   "source": [
    "for obj in ['rank:pairwise', 'rank:ndcg']:\n",
    "    for tree_method in ['exact', 'approx']:\n",
    "        param['objective'] = obj\n",
    "        param[\"eval_metric\"] = 'ndcg'\n",
    "        param['tree_method'] = tree_method\n",
    "        print \"obj = {} tree_method = {}\".format(obj, tree_method)\n",
    "        bst = xgb.train(param, xgtrain, n_iter, evals = evals, verbose_eval=n_iter-1)"
   ]
  },
  {
   "cell_type": "markdown",
   "metadata": {},
   "source": [
    "#### Пользовательская функция потерь\n",
    "\n",
    "Библиотека XGBoost позволяет использовать пользовательские функции потерь. Для этого необходимо реализовать функцию, принимающую на вход вектор предсказанных значений и обучающую выборку, и возвращающую градиент и гессиан, посчитанный по входным данным.\n",
    "\n",
    "Важно отметить, что XGBoost использует диагональную аппроксимацию гессиана, таким образом все недиагональные элементы считаются малозначимыми и приравниваются нулю, поэтому и градиент, и гессиан являются векторами длины размера обучающей выборки.\n",
    "\n",
    "**(2.5 балла)** Реализуйте экспоненциальную функцию потерь для XGBoost:\n",
    "$$ Obj = \\sum_{i \\prec j} \\mathcal{L}\\left(a(x_j) - a(x_i)\\right) \\rightarrow min $$ $$ \\mathcal{L}(M) = e^{-M} $$\n",
    "\n",
    "Обучите модель с помощью данной функции потерь, настройте параметры.\n",
    "\n",
    "** Производная по $a_i$ равна $e^{a_i}\\sum_{i \\prec j} e^{-a_j} -e^{-a_i}\\sum_{j \\prec i} e^{a_j}$. **\n",
    "\n",
    "**Вторая производная по $a_i$ равна $e^{a_i}\\sum_{i \\prec j} e^{-a_j} + e^{-a_i}\\sum_{j \\prec i} e^{a_j}$. **"
   ]
  },
  {
   "cell_type": "markdown",
   "metadata": {},
   "source": [
    "**Комментарии к реализации**\n",
    "\n",
    "В случае ранжирования XGBoost'у необходимо знать о разбиении всех объектов на группы. В нашем случае в одну группу будут входить документы, соответствующие одному запросу. Функция, считающая градиент и гессиан по данным, должна знать данное разбиение датасета. Однако питоновский интерфейс класса *DMatrix* (в котором хранится датасет) не дает возможности получить это разбиение. В этом случае нужно реализовать функцию потерь в качестве функтора, конструктор которого принимает разбиение на группы в качестве параметра.\n",
    "\n",
    "В туториале с семинара есть [пример](https://nbviewer.jupyter.org/urls/dl.dropbox.com/s/b1lm8e763tsxly5/xgboost_tutorial.ipynb#Кастомные-функции-потерь-/-метрики-качества) реализации функции потерь."
   ]
  },
  {
   "cell_type": "code",
   "execution_count": 127,
   "metadata": {
    "collapsed": false
   },
   "outputs": [],
   "source": [
    "import math\n",
    "def my_comp(labels):\n",
    "    def compare(x, y):\n",
    "        return 1 if labels[x] > labels[y] else (-1 if labels[x] < labels[y] else 0)\n",
    "    return compare\n",
    "        \n",
    "class ExponentialPairwiseLoss(object):\n",
    "    def __init__(self, query_id):\n",
    "        self.queries = {}\n",
    "        for j in range(len(query_id)):\n",
    "            if query_id[j] in self.queries:\n",
    "                self.queries[query_id[j]].append(j)\n",
    "            else:\n",
    "                self.queries[query_id[j]] = [j]\n",
    "                        \n",
    "    def __call__(self, preds, dtrain):\n",
    "        grad = np.zeros(len(preds))\n",
    "        gess = np.zeros(len(preds))\n",
    "        labels = dtrain.get_label()\n",
    "        for query_id in self.queries:\n",
    "            order = sorted(self.queries[query_id], cmp=my_comp(labels))\n",
    "            s = 0\n",
    "            idx = len(order) - 1\n",
    "            while idx >= 0:\n",
    "                i = order[idx]\n",
    "                grad[i] = gess[i] = math.exp(preds[i]) * s\n",
    "                s += math.exp(-preds[i])\n",
    "                idx -= 1\n",
    "            \n",
    "            s = 0\n",
    "            for idx in range(len(order)):\n",
    "                i = order[idx]\n",
    "                grad[i] += -math.exp(-preds[i]) * s\n",
    "                gess[i] += math.exp(-preds[i]) * s\n",
    "                s += math.exp(preds[i])\n",
    "        return grad, gess"
   ]
  },
  {
   "cell_type": "code",
   "execution_count": 130,
   "metadata": {
    "collapsed": false
   },
   "outputs": [
    {
     "name": "stdout",
     "output_type": "stream",
     "text": [
      "[0]\ttrain-:0.919535\tval-:0.911277\n",
      "[10]\ttrain-:0.952237\tval-:0.946039\n",
      "[20]\ttrain-:0.955008\tval-:0.948522\n",
      "[30]\ttrain-:0.95773\tval-:0.950438\n",
      "[40]\ttrain-:0.958782\tval-:0.950869\n",
      "[50]\ttrain-:0.959912\tval-:0.951316\n",
      "[60]\ttrain-:0.961997\tval-:0.952752\n",
      "[70]\ttrain-:0.962641\tval-:0.952885\n",
      "[80]\ttrain-:0.963435\tval-:0.953139\n",
      "[90]\ttrain-:0.964526\tval-:0.953669\n"
     ]
    }
   ],
   "source": [
    "param = {}\n",
    "param['silent'] = 0\n",
    "param['booster'] = 'gbtree'\n",
    "evals = [(xgtrain, 'train'), (xgtest, 'val')]\n",
    "n_iter = 100\n",
    "epl = ExponentialPairwiseLoss(train_query_id.values.tolist())\n",
    "#param['objective'] = epl\n",
    "param[\"eval_metric\"] = 'ndcg'\n",
    "bst = xgb.train(param, xgtrain, n_iter, evals = evals, verbose_eval=10, obj = epl)"
   ]
  },
  {
   "cell_type": "markdown",
   "metadata": {},
   "source": [
    "### Подбор оптимальных параметров eta и gamma для obj=ExponentialPairwiseLoss\n",
    "\n",
    "замечаем, что от параметра $eta$ результат зависит слабо. Оптимальные найденные параметры: $eta=0.3, gamma=5$, для них получаем на валидации $0.9537$"
   ]
  },
  {
   "cell_type": "code",
   "execution_count": 133,
   "metadata": {
    "collapsed": false
   },
   "outputs": [
    {
     "name": "stdout",
     "output_type": "stream",
     "text": [
      "ExponentialPairwiseLoss eta = 0.1 gamma = 0.0\n",
      "[0]\ttrain-:0.919535\tval-:0.911277\n",
      "[99]\ttrain-:0.959468\tval-:0.952311\n",
      "ExponentialPairwiseLoss eta = 0.1 gamma = 2.5\n",
      "[0]\ttrain-:0.919535\tval-:0.911277\n",
      "[99]\ttrain-:0.959976\tval-:0.95295\n",
      "ExponentialPairwiseLoss eta = 0.1 gamma = 5.0\n",
      "[0]\ttrain-:0.919519\tval-:0.911241\n",
      "[99]\ttrain-:0.960184\tval-:0.953022\n",
      "ExponentialPairwiseLoss eta = 0.1 gamma = 7.5\n",
      "[0]\ttrain-:0.919519\tval-:0.911241\n",
      "[99]\ttrain-:0.960379\tval-:0.952974\n",
      "ExponentialPairwiseLoss eta = 0.1 gamma = 10.0\n",
      "[0]\ttrain-:0.919519\tval-:0.911241\n",
      "[99]\ttrain-:0.960028\tval-:0.952934\n",
      "ExponentialPairwiseLoss eta = 0.3 gamma = 0.0\n",
      "[0]\ttrain-:0.919535\tval-:0.911277\n",
      "[99]\ttrain-:0.965203\tval-:0.953473\n",
      "ExponentialPairwiseLoss eta = 0.3 gamma = 2.5\n",
      "[0]\ttrain-:0.919535\tval-:0.911277\n",
      "[99]\ttrain-:0.964485\tval-:0.953264\n",
      "ExponentialPairwiseLoss eta = 0.3 gamma = 5.0\n",
      "[0]\ttrain-:0.919519\tval-:0.911241\n",
      "[99]\ttrain-:0.965002\tval-:0.953747\n",
      "ExponentialPairwiseLoss eta = 0.3 gamma = 7.5\n",
      "[0]\ttrain-:0.919519\tval-:0.911241\n",
      "[99]\ttrain-:0.964378\tval-:0.9533\n",
      "ExponentialPairwiseLoss eta = 0.3 gamma = 10.0\n",
      "[0]\ttrain-:0.919519\tval-:0.911241\n",
      "[99]\ttrain-:0.964217\tval-:0.953248\n",
      "ExponentialPairwiseLoss eta = 0.5 gamma = 0.0\n",
      "[0]\ttrain-:0.919535\tval-:0.911277\n",
      "[99]\ttrain-:0.966329\tval-:0.951764\n",
      "ExponentialPairwiseLoss eta = 0.5 gamma = 2.5\n",
      "[0]\ttrain-:0.919535\tval-:0.911277\n",
      "[99]\ttrain-:0.965616\tval-:0.951964\n",
      "ExponentialPairwiseLoss eta = 0.5 gamma = 5.0\n",
      "[0]\ttrain-:0.919519\tval-:0.911241\n",
      "[99]\ttrain-:0.966706\tval-:0.952045\n",
      "ExponentialPairwiseLoss eta = 0.5 gamma = 7.5\n",
      "[0]\ttrain-:0.919519\tval-:0.911241\n",
      "[99]\ttrain-:0.966283\tval-:0.951567\n",
      "ExponentialPairwiseLoss eta = 0.5 gamma = 10.0\n",
      "[0]\ttrain-:0.919519\tval-:0.911241\n",
      "[99]\ttrain-:0.966083\tval-:0.948757\n",
      "ExponentialPairwiseLoss eta = 0.7 gamma = 0.0\n",
      "[0]\ttrain-:0.919535\tval-:0.911277\n",
      "[99]\ttrain-:0.966813\tval-:0.949785\n",
      "ExponentialPairwiseLoss eta = 0.7 gamma = 2.5\n",
      "[0]\ttrain-:0.919535\tval-:0.911277\n",
      "[99]\ttrain-:0.966493\tval-:0.949162\n",
      "ExponentialPairwiseLoss eta = 0.7 gamma = 5.0\n",
      "[0]\ttrain-:0.919519\tval-:0.911241\n",
      "[99]\ttrain-:0.966562\tval-:0.948724\n",
      "ExponentialPairwiseLoss eta = 0.7 gamma = 7.5\n",
      "[0]\ttrain-:0.919519\tval-:0.911241\n",
      "[99]\ttrain-:0.965878\tval-:0.948625\n",
      "ExponentialPairwiseLoss eta = 0.7 gamma = 10.0\n",
      "[0]\ttrain-:0.919519\tval-:0.911241\n",
      "[99]\ttrain-:0.966377\tval-:0.949172\n",
      "ExponentialPairwiseLoss eta = 0.9 gamma = 0.0\n",
      "[0]\ttrain-:0.919535\tval-:0.911277\n",
      "[99]\ttrain-:0.966745\tval-:0.945895\n",
      "ExponentialPairwiseLoss eta = 0.9 gamma = 2.5\n",
      "[0]\ttrain-:0.919535\tval-:0.911277\n",
      "[99]\ttrain-:0.967183\tval-:0.945017\n",
      "ExponentialPairwiseLoss eta = 0.9 gamma = 5.0\n",
      "[0]\ttrain-:0.919519\tval-:0.911241\n",
      "[99]\ttrain-:0.965531\tval-:0.946653\n",
      "ExponentialPairwiseLoss eta = 0.9 gamma = 7.5\n",
      "[0]\ttrain-:0.919519\tval-:0.911241\n",
      "[99]\ttrain-:0.965572\tval-:0.945308\n",
      "ExponentialPairwiseLoss eta = 0.9 gamma = 10.0\n",
      "[0]\ttrain-:0.919519\tval-:0.911241\n",
      "[99]\ttrain-:0.965589\tval-:0.944699\n"
     ]
    }
   ],
   "source": [
    "param = {}\n",
    "param['silent'] = 0\n",
    "param['booster'] = 'gbtree'\n",
    "param['eval_metric'] = 'ndcg'\n",
    "for eta in np.linspace(0.1, 0.9, 5):\n",
    "    for gamma in np.linspace(0, 10, 5):\n",
    "        param['eta'] = eta\n",
    "        param['gamma'] = gamma\n",
    "        print \"ExponentialPairwiseLoss eta = {} gamma = {}\".format(eta, gamma)\n",
    "        bst = xgb.train(param, xgtrain, n_iter, evals = evals, verbose_eval=n_iter - 1, obj = epl)"
   ]
  },
  {
   "cell_type": "markdown",
   "metadata": {},
   "source": [
    "### Подбор оптимальных параметров eta и gamma для objective='rank:pairwise'\n",
    "\n",
    "Оптимальные найденные значения: $eta=0.5, gamma=0$, для них качество на валидации равно $0.952$"
   ]
  },
  {
   "cell_type": "code",
   "execution_count": 135,
   "metadata": {
    "collapsed": false
   },
   "outputs": [
    {
     "name": "stdout",
     "output_type": "stream",
     "text": [
      "rank:pairwise eta = 0.1 gamma = 0.0\n",
      "[0]\ttrain-:0.916004\tval-:0.90246\n",
      "[99]\ttrain-:0.951829\tval-:0.944584\n",
      "rank:pairwise eta = 0.1 gamma = 3.33333333333\n",
      "[0]\ttrain-:0.916004\tval-:0.90246\n",
      "[99]\ttrain-:0.948877\tval-:0.941393\n",
      "rank:pairwise eta = 0.1 gamma = 6.66666666667\n",
      "[0]\ttrain-:0.916004\tval-:0.90246\n",
      "[99]\ttrain-:0.948716\tval-:0.941442\n",
      "rank:pairwise eta = 0.1 gamma = 10.0\n",
      "[0]\ttrain-:0.916\tval-:0.902459\n",
      "[99]\ttrain-:0.948121\tval-:0.941489\n",
      "rank:pairwise eta = 0.5 gamma = 0.0\n",
      "[0]\ttrain-:0.916004\tval-:0.90246\n",
      "[99]\ttrain-:0.963869\tval-:0.952257\n",
      "rank:pairwise eta = 0.5 gamma = 3.33333333333\n",
      "[0]\ttrain-:0.916004\tval-:0.90246\n",
      "[99]\ttrain-:0.96288\tval-:0.949955\n",
      "rank:pairwise eta = 0.5 gamma = 6.66666666667\n",
      "[0]\ttrain-:0.916004\tval-:0.90246\n",
      "[99]\ttrain-:0.961365\tval-:0.948758\n",
      "rank:pairwise eta = 0.5 gamma = 10.0\n",
      "[0]\ttrain-:0.916\tval-:0.902459\n",
      "[99]\ttrain-:0.956573\tval-:0.944848\n",
      "rank:pairwise eta = 0.9 gamma = 0.0\n",
      "[0]\ttrain-:0.916004\tval-:0.90246\n",
      "[99]\ttrain-:0.967236\tval-:0.947689\n",
      "rank:pairwise eta = 0.9 gamma = 3.33333333333\n",
      "[0]\ttrain-:0.916004\tval-:0.90246\n",
      "[99]\ttrain-:0.96582\tval-:0.945017\n",
      "rank:pairwise eta = 0.9 gamma = 6.66666666667\n",
      "[0]\ttrain-:0.916004\tval-:0.90246\n",
      "[99]\ttrain-:0.962518\tval-:0.946778\n",
      "rank:pairwise eta = 0.9 gamma = 10.0\n",
      "[0]\ttrain-:0.916\tval-:0.902459\n",
      "[99]\ttrain-:0.959247\tval-:0.945675\n"
     ]
    }
   ],
   "source": [
    "param['objective'] = 'rank:pairwise'\n",
    "for eta in np.linspace(0.1, 0.9, 3):\n",
    "    for gamma in np.linspace(0, 10, 4):\n",
    "        param['eta'] = eta\n",
    "        param['gamma'] = gamma\n",
    "        print \"rank:pairwise eta = {} gamma = {}\".format(eta, gamma)\n",
    "        bst = xgb.train(param, xgtrain, n_iter, evals = evals, verbose_eval=n_iter - 1)"
   ]
  },
  {
   "cell_type": "markdown",
   "metadata": {},
   "source": [
    "**(1 балл)** Сравните построенные модели с точки зрения метрики nDCG на контроле и проанализируйте полученные результаты:\n",
    "  - какая модель работает лучше всего для данной задачи?\n",
    "  \n",
    "  **модель с экспоненциальной функцией потерь. Конкретно, она обгоняет модель с objective='rank:pairwise' на незначительную величину 0.001 (0.953-0.952), а линейную модель на 0.14**\n",
    "  - в чем достоинства/недостатки каждой? \n",
    "  \n",
    "  ** $\\mathcal{L}(M) = log(1 + e^{-M}) $ - функция ошибки на одной паре для 'rank:pairwise', $ \\mathcal{L}(M) = e^{-M} $ - экспоненциальная. Сравнивая эти две формулы, приходим к выводу, что первая из них штрафует за ошибки ранжирования мягче, чем вторая. Ниже приведен график для обеих функций от M. Недостаток обоих этих вариантов в том, что обучение требует достаточно много времени. rank:ndcg не дает достойного качества. **\n",
    "  \n",
    "  **Что касается линейной модели, то она хороша тем, что быстро обучается, однако проигрывает по качеству. Ranking SVM обучается излишне долго по сравнению со всеми упомянутыми моделями. **\n",
    "  \n",
    "  - сравните модели между собой: \n",
    "   - получается ли сравнимое качество линейного point-wise подхода с остальными моделями? **нет, оно существенно ниже (0.81 против 0.95 у xgboost)**\n",
    "   - согласуются ли результаты для *Ranking SVM* и *rank:pairwise*?\n",
    "   - заметна ли разница в качестве при использовании бустинга с разными функциями потерь? **Разница получилась незначительной между 'rank:pairwise' и экспоненциальной функцией потерь, однако 'rank:ndcg' проигрывает им обоим существенно (0.83 против 0.95)**"
   ]
  },
  {
   "cell_type": "code",
   "execution_count": 142,
   "metadata": {
    "collapsed": false
   },
   "outputs": [
    {
     "data": {
      "text/plain": [
       "<matplotlib.legend.Legend at 0x7fbf4c3d8b90>"
      ]
     },
     "execution_count": 142,
     "metadata": {},
     "output_type": "execute_result"
    },
    {
     "data": {
      "image/png": "[encoded data removed]",
      "text/plain": [
       "<matplotlib.figure.Figure at 0x7fbf4c7bd090>"
      ]
     },
     "metadata": {},
     "output_type": "display_data"
    }
   ],
   "source": [
    "rng = np.linspace(-2, 2, 10000)\n",
    "L1 = np.log(1 + np.exp(-rng))\n",
    "L2 = np.exp(-rng)\n",
    "plt.plot(rng, L1, label='log(1+e^(-M))')\n",
    "plt.plot(rng, L2, label='e^(-M)')\n",
    "plt.legend()"
   ]
  },
  {
   "cell_type": "code",
   "execution_count": null,
   "metadata": {
    "collapsed": true
   },
   "outputs": [],
   "source": []
  }
 ],
 "metadata": {
  "kernelspec": {
   "display_name": "Python 2",
   "language": "python",
   "name": "python2"
  },
  "language_info": {
   "codemirror_mode": {
    "name": "ipython",
    "version": 2
   },
   "file_extension": ".py",
   "mimetype": "text/x-python",
   "name": "python",
   "nbconvert_exporter": "python",
   "pygments_lexer": "ipython2",
   "version": "2.7.10"
  }
 },
 "nbformat": 4,
 "nbformat_minor": 0
}
