{
 "cells": [
  {
   "cell_type": "markdown",
   "metadata": {},
   "source": [
    "<h1 align=\"center\">Оценка качества моделей и отбор признаков</h1>"
   ]
  },
  {
   "cell_type": "markdown",
   "metadata": {},
   "source": [
    "МФТИ ФИВТ: Курс Машинное Обучение (осень, 2016), Зухба Анастасия, a__l@mail.ru"
   ]
  },
  {
   "cell_type": "markdown",
   "metadata": {},
   "source": [
    "<h1 align=\"center\">Organization Info</h1> "
   ]
  },
  {
   "cell_type": "markdown",
   "metadata": {},
   "source": [
    "**Дополнительный материал для выполнения дз**:\n",
    "\n",
    "\n",
    "\n",
    "**Оформление дз**: \n",
    "- Присылайте выполненное задание на почту ``ml.course.mipt@gmail.com``\n",
    "- Укажите тему письма в следующем формате ``ML2016_fall <номер_группы> <фамилия>``, к примеру -- ``ML2016_fall 401 ivanov``\n",
    "- Выполненное дз сохраните в файл ``<фамилия>_<группа>_task<номер>.ipnb``, к примеру -- ``ivanov_401_task1.ipnb``\n",
    "\n",
    "**Вопросы**:\n",
    "- Присылайте вопросы на почту ``ml.course.mipt@gmail.com``\n",
    "- Укажите тему письма в следующем формате ``ML2016_fall Question <Содержание вопроса>``\n",
    "\n",
    "--------\n",
    "- **PS1**: Мы используем автоматические фильтры, и просто не найдем ваше дз, если вы не аккуратно его подпишите.\n",
    "- **PS2**: Напоминаем, что дедлайны жесткие, письма пришедшие после автоматически удаляются =( чтобы соблазна не было "
   ]
  },
  {
   "cell_type": "markdown",
   "metadata": {},
   "source": [
    "<h1 align=\"center\">Check Questions</h1> "
   ]
  },
  {
   "cell_type": "markdown",
   "metadata": {},
   "source": [
    "Ответе на вопросы своими словами (загугленный материал надо пересказать), ответ обоснуйте (напишите и ОБЪЯСНИТЕ формулки если потребуется), если не выходит, то вернитесь к лекции дополнительным материалам:\n",
    "\n",
    "**Вопрос 1**: В каких ситуациях полезно использовать AUC-ROC?\n",
    "\n",
    "Когда количество классов сбалансированное, для оценки общего качества модели.\n",
    "\n",
    "**Вопрос 2**: Когда использование precision/recall предпочтительнее, чем AUC-ROC?\n",
    "\n",
    "Когда количество классов не сбалансированное.\n",
    "\n",
    "**Вопрос 3**: Для чего используются внутренние критерии, а для чего внешние?\n",
    "\n",
    "По внутренним критериям оценивается качество модели на обучающей выборке (сложность, логичность), по вннешним - на контрольной выборке.\n",
    "\n",
    "**Вопрос 4**: Чем эмпирические критерии отличаются от аналитических?\n",
    "\n",
    "Эмпирические критерии оценивают качество на некоторых разбиениях на тестовую и контрольную выборку. Аналитичские - на обучающей выборке без разбиений, но но со штрафом за сложность модели.\n",
    "\n",
    "**Вопрос 5**: Что такое критерий регуляризации?\n",
    "\n",
    "Внутренний критерий с добавленным штрафом за сложность модели"
   ]
  },
  {
   "cell_type": "markdown",
   "metadata": {
    "collapsed": true
   },
   "source": [
    "# Определение спама по тексту электронного письма"
   ]
  },
  {
   "cell_type": "markdown",
   "metadata": {
    "collapsed": true
   },
   "source": [
    "Попробуем при помощи моделей машинного обучения построить алгоритм, отделяющий спам от нормальной почты. Для экспериментов воспользуемся небольшим набором данных с UCI. Объекты в датасете соответствуют письмам, которые описаны признаками на основе текста письма, спам — положительный пример для классификации, хорошее письмо — отрицательный пример."
   ]
  },
  {
   "cell_type": "code",
   "execution_count": 1,
   "metadata": {
    "collapsed": false
   },
   "outputs": [
    {
     "name": "stdout",
     "output_type": "stream",
     "text": [
      "Populating the interactive namespace from numpy and matplotlib\n"
     ]
    }
   ],
   "source": [
    "%pylab inline"
   ]
  },
  {
   "cell_type": "markdown",
   "metadata": {
    "collapsed": true
   },
   "source": [
    "Загрузка датасета Spambase"
   ]
  },
  {
   "cell_type": "code",
   "execution_count": 2,
   "metadata": {
    "collapsed": false
   },
   "outputs": [
    {
     "data": {
      "text/html": [
       "<div>\n",
       "<table border=\"1\" class=\"dataframe\">\n",
       "  <thead>\n",
       "    <tr style=\"text-align: right;\">\n",
       "      <th></th>\n",
       "      <th>word_freq_make</th>\n",
       "      <th>word_freq_address</th>\n",
       "      <th>word_freq_all</th>\n",
       "      <th>word_freq_3d</th>\n",
       "      <th>word_freq_our</th>\n",
       "      <th>word_freq_over</th>\n",
       "      <th>word_freq_remove</th>\n",
       "      <th>word_freq_internet</th>\n",
       "      <th>word_freq_order</th>\n",
       "      <th>word_freq_mail</th>\n",
       "      <th>...</th>\n",
       "      <th>char_freq_;</th>\n",
       "      <th>char_freq_(</th>\n",
       "      <th>char_freq_[</th>\n",
       "      <th>char_freq_!</th>\n",
       "      <th>char_freq_$</th>\n",
       "      <th>char_freq_#</th>\n",
       "      <th>capital_run_length_average</th>\n",
       "      <th>capital_run_length_longest</th>\n",
       "      <th>capital_run_length_total</th>\n",
       "      <th>spam</th>\n",
       "    </tr>\n",
       "  </thead>\n",
       "  <tbody>\n",
       "    <tr>\n",
       "      <th>0</th>\n",
       "      <td>0.00</td>\n",
       "      <td>0.64</td>\n",
       "      <td>0.64</td>\n",
       "      <td>0.0</td>\n",
       "      <td>0.32</td>\n",
       "      <td>0.00</td>\n",
       "      <td>0.00</td>\n",
       "      <td>0.00</td>\n",
       "      <td>0.00</td>\n",
       "      <td>0.00</td>\n",
       "      <td>...</td>\n",
       "      <td>0.00</td>\n",
       "      <td>0.000</td>\n",
       "      <td>0.0</td>\n",
       "      <td>0.778</td>\n",
       "      <td>0.000</td>\n",
       "      <td>0.000</td>\n",
       "      <td>3.756</td>\n",
       "      <td>61</td>\n",
       "      <td>278</td>\n",
       "      <td>1</td>\n",
       "    </tr>\n",
       "    <tr>\n",
       "      <th>1</th>\n",
       "      <td>0.21</td>\n",
       "      <td>0.28</td>\n",
       "      <td>0.50</td>\n",
       "      <td>0.0</td>\n",
       "      <td>0.14</td>\n",
       "      <td>0.28</td>\n",
       "      <td>0.21</td>\n",
       "      <td>0.07</td>\n",
       "      <td>0.00</td>\n",
       "      <td>0.94</td>\n",
       "      <td>...</td>\n",
       "      <td>0.00</td>\n",
       "      <td>0.132</td>\n",
       "      <td>0.0</td>\n",
       "      <td>0.372</td>\n",
       "      <td>0.180</td>\n",
       "      <td>0.048</td>\n",
       "      <td>5.114</td>\n",
       "      <td>101</td>\n",
       "      <td>1028</td>\n",
       "      <td>1</td>\n",
       "    </tr>\n",
       "    <tr>\n",
       "      <th>2</th>\n",
       "      <td>0.06</td>\n",
       "      <td>0.00</td>\n",
       "      <td>0.71</td>\n",
       "      <td>0.0</td>\n",
       "      <td>1.23</td>\n",
       "      <td>0.19</td>\n",
       "      <td>0.19</td>\n",
       "      <td>0.12</td>\n",
       "      <td>0.64</td>\n",
       "      <td>0.25</td>\n",
       "      <td>...</td>\n",
       "      <td>0.01</td>\n",
       "      <td>0.143</td>\n",
       "      <td>0.0</td>\n",
       "      <td>0.276</td>\n",
       "      <td>0.184</td>\n",
       "      <td>0.010</td>\n",
       "      <td>9.821</td>\n",
       "      <td>485</td>\n",
       "      <td>2259</td>\n",
       "      <td>1</td>\n",
       "    </tr>\n",
       "    <tr>\n",
       "      <th>3</th>\n",
       "      <td>0.00</td>\n",
       "      <td>0.00</td>\n",
       "      <td>0.00</td>\n",
       "      <td>0.0</td>\n",
       "      <td>0.63</td>\n",
       "      <td>0.00</td>\n",
       "      <td>0.31</td>\n",
       "      <td>0.63</td>\n",
       "      <td>0.31</td>\n",
       "      <td>0.63</td>\n",
       "      <td>...</td>\n",
       "      <td>0.00</td>\n",
       "      <td>0.137</td>\n",
       "      <td>0.0</td>\n",
       "      <td>0.137</td>\n",
       "      <td>0.000</td>\n",
       "      <td>0.000</td>\n",
       "      <td>3.537</td>\n",
       "      <td>40</td>\n",
       "      <td>191</td>\n",
       "      <td>1</td>\n",
       "    </tr>\n",
       "    <tr>\n",
       "      <th>4</th>\n",
       "      <td>0.00</td>\n",
       "      <td>0.00</td>\n",
       "      <td>0.00</td>\n",
       "      <td>0.0</td>\n",
       "      <td>0.63</td>\n",
       "      <td>0.00</td>\n",
       "      <td>0.31</td>\n",
       "      <td>0.63</td>\n",
       "      <td>0.31</td>\n",
       "      <td>0.63</td>\n",
       "      <td>...</td>\n",
       "      <td>0.00</td>\n",
       "      <td>0.135</td>\n",
       "      <td>0.0</td>\n",
       "      <td>0.135</td>\n",
       "      <td>0.000</td>\n",
       "      <td>0.000</td>\n",
       "      <td>3.537</td>\n",
       "      <td>40</td>\n",
       "      <td>191</td>\n",
       "      <td>1</td>\n",
       "    </tr>\n",
       "  </tbody>\n",
       "</table>\n",
       "<p>5 rows × 58 columns</p>\n",
       "</div>"
      ],
      "text/plain": [
       "   word_freq_make  word_freq_address  word_freq_all  word_freq_3d  \\\n",
       "0            0.00               0.64           0.64           0.0   \n",
       "1            0.21               0.28           0.50           0.0   \n",
       "2            0.06               0.00           0.71           0.0   \n",
       "3            0.00               0.00           0.00           0.0   \n",
       "4            0.00               0.00           0.00           0.0   \n",
       "\n",
       "   word_freq_our  word_freq_over  word_freq_remove  word_freq_internet  \\\n",
       "0           0.32            0.00              0.00                0.00   \n",
       "1           0.14            0.28              0.21                0.07   \n",
       "2           1.23            0.19              0.19                0.12   \n",
       "3           0.63            0.00              0.31                0.63   \n",
       "4           0.63            0.00              0.31                0.63   \n",
       "\n",
       "   word_freq_order  word_freq_mail  ...   char_freq_;  char_freq_(  \\\n",
       "0             0.00            0.00  ...          0.00        0.000   \n",
       "1             0.00            0.94  ...          0.00        0.132   \n",
       "2             0.64            0.25  ...          0.01        0.143   \n",
       "3             0.31            0.63  ...          0.00        0.137   \n",
       "4             0.31            0.63  ...          0.00        0.135   \n",
       "\n",
       "   char_freq_[  char_freq_!  char_freq_$  char_freq_#  \\\n",
       "0          0.0        0.778        0.000        0.000   \n",
       "1          0.0        0.372        0.180        0.048   \n",
       "2          0.0        0.276        0.184        0.010   \n",
       "3          0.0        0.137        0.000        0.000   \n",
       "4          0.0        0.135        0.000        0.000   \n",
       "\n",
       "   capital_run_length_average  capital_run_length_longest  \\\n",
       "0                       3.756                          61   \n",
       "1                       5.114                         101   \n",
       "2                       9.821                         485   \n",
       "3                       3.537                          40   \n",
       "4                       3.537                          40   \n",
       "\n",
       "   capital_run_length_total  spam  \n",
       "0                       278     1  \n",
       "1                      1028     1  \n",
       "2                      2259     1  \n",
       "3                       191     1  \n",
       "4                       191     1  \n",
       "\n",
       "[5 rows x 58 columns]"
      ]
     },
     "execution_count": 2,
     "metadata": {},
     "output_type": "execute_result"
    }
   ],
   "source": [
    "import pandas\n",
    "import urllib2\n",
    "\n",
    "SPAMBASE_NAMES_URL = 'https://archive.ics.uci.edu/ml/machine-learning-databases/spambase/spambase.names'\n",
    "SPAMBASE_DATA_URL = 'https://archive.ics.uci.edu/ml/machine-learning-databases/spambase/spambase.data'\n",
    "\n",
    "feature_names = [\n",
    "    line.strip().split(':')[0] \n",
    "    for line in urllib2.urlopen(SPAMBASE_NAMES_URL).readlines()[33:]\n",
    "]\n",
    "spam_data = pandas.read_csv(SPAMBASE_DATA_URL, header=None, names=(feature_names + ['spam']))\n",
    " \n",
    "X, y = spam_data.ix[:, :-1].values, spam_data.ix[:, -1].values\n",
    " \n",
    "spam_data.head()"
   ]
  },
  {
   "cell_type": "markdown",
   "metadata": {
    "collapsed": true
   },
   "source": [
    "**Задание**\n",
    "- Сколько примеров писем в датасете? 4600\n",
    "- Какова доля плохих писем? 2788\n",
    "- Какие характерные группы признаков представлены в наборе? Частота некоторых слов и символов, длина слов и текста "
   ]
  },
  {
   "cell_type": "code",
   "execution_count": 10,
   "metadata": {
    "collapsed": false
   },
   "outputs": [
    {
     "name": "stdout",
     "output_type": "stream",
     "text": [
      "4601\n",
      "2788\n",
      "Index([u'word_freq_make', u'word_freq_address', u'word_freq_all',\n",
      "       u'word_freq_3d', u'word_freq_our', u'word_freq_over',\n",
      "       u'word_freq_remove', u'word_freq_internet', u'word_freq_order',\n",
      "       u'word_freq_mail', u'word_freq_receive', u'word_freq_will',\n",
      "       u'word_freq_people', u'word_freq_report', u'word_freq_addresses',\n",
      "       u'word_freq_free', u'word_freq_business', u'word_freq_email',\n",
      "       u'word_freq_you', u'word_freq_credit', u'word_freq_your',\n",
      "       u'word_freq_font', u'word_freq_000', u'word_freq_money',\n",
      "       u'word_freq_hp', u'word_freq_hpl', u'word_freq_george',\n",
      "       u'word_freq_650', u'word_freq_lab', u'word_freq_labs',\n",
      "       u'word_freq_telnet', u'word_freq_857', u'word_freq_data',\n",
      "       u'word_freq_415', u'word_freq_85', u'word_freq_technology',\n",
      "       u'word_freq_1999', u'word_freq_parts', u'word_freq_pm',\n",
      "       u'word_freq_direct', u'word_freq_cs', u'word_freq_meeting',\n",
      "       u'word_freq_original', u'word_freq_project', u'word_freq_re',\n",
      "       u'word_freq_edu', u'word_freq_table', u'word_freq_conference',\n",
      "       u'char_freq_;', u'char_freq_(', u'char_freq_[', u'char_freq_!',\n",
      "       u'char_freq_$', u'char_freq_#', u'capital_run_length_average',\n",
      "       u'capital_run_length_longest', u'capital_run_length_total', u'spam'],\n",
      "      dtype='object')\n"
     ]
    }
   ],
   "source": [
    "print spam_data.shape[0]\n",
    "print spam_data[spam_data['spam'] == 0].shape[0]\n",
    "print spam_data.columns"
   ]
  },
  {
   "cell_type": "markdown",
   "metadata": {},
   "source": [
    "### Обучение классификатора и оценка его качества"
   ]
  },
  {
   "cell_type": "markdown",
   "metadata": {
    "collapsed": true
   },
   "source": [
    "Обучение и оценка качества модели производится на независимых множествах примеров. Как правило, имеющующиеся примеры разбивают на два подмножества: обучение (train) и контроль (test). Выбор пропорции разбиения — компромисс: большой размер обучения ведет к более богатым информацией и качественным алгоритмам, большой размер контрольной выборки ведет к менее шумной оценке качества.\n",
    "\n",
    "Для оценки качества классификации рассматривают матрицу ошибок: строчки соответствуют истинному классу, столбцы — предсказанному классификатором, ячейки содержат число примеров тестовой выборки.\n",
    "\n",
    "<img src=\"confusion_matrix.png\">"
   ]
  },
  {
   "cell_type": "markdown",
   "metadata": {
    "collapsed": true
   },
   "source": [
    "Диагональ матрицы ошибок содержит правильно классифицированные положительные (TP) и отрицательные (TN) примеры. False Positive (FP) — ошибки I рода (ложное срабатывание, положили в спам хорошее письмо), False Negative (FN) — ошибки II рода (не отфильтровали спам). Ошибки I и II рода могут иметь различную стоимость.\n",
    "\n",
    "Часто рассматриваются следующие метрики качества бинарной классификации:\n",
    "\n",
    "- Accuracy = (TP + TN) / (TP + TN + FP + FN) — доля правильных ответов\n",
    "- Precision = TP / (TP + FP) — точность, доля спама среди писем, классифицированных как спам\n",
    "- Recall = TP / (TP + FN) — полнота, доля спама, которая была отфильтрована\n",
    "- F1 = 2TP / (2TP + FP + FN) — среднее гармоническое между точностью и полнотой"
   ]
  },
  {
   "cell_type": "markdown",
   "metadata": {
    "collapsed": true
   },
   "source": [
    "**Задание**\n",
    "- Разбейте набор примеров на две непересекающиеся подвыборки следующим образом: train — первые 3000 примеров (≈65%), test — все остальные примеры.\n",
    "- Обучите решающее дерево на train. Классифицируйте примеры из test. Посчитайте метрики качества классификации, описанные выше: Accuracy, Precision, Recall, F1. Рекомендованные параметры решающего дерева: разбиение по критерию gini, максимальная глубина: 7.\n",
    "- Какие есть недостатки у получившейся оценки качества на подвыборке test? Как можно сделать оценку качества более информативной?  \n",
    "**Тестовая выборка состояла только из экземпляров одного класса. Нужно перемешать выборку.**\n",
    "- Повторите эксперимент, перемешав случайно объекты исходной выборки перед разбиением.\n",
    "- Какие признаки оказались наиболее важными для определения спама? Воспользуйтесь оценками важности признаков, полученых при построении решающего дерева.\n",
    "- Какое качество дает лучшая константная модель (определяющая класс определенно и вне зависимости от признаков)?\n",
    "- Обучите модель KNN и оцените ее качество на test. Рекомендованные параметры: K=10, евклидова метрика в качестве расстояния.\n",
    "- Обучите модель KNN, предварительно приведя значения признаков к одинаковому масштабу. Оцените качество полученной модели на test. Дает ли подобное преобразование признаков прирост качества для модели KNN? Проделайте тот же эксперимент с решающим деревом. Почему масштабирование признаков не влияет на качество решающего дерева, но повышает качество классификации модели KNN?\n",
    "- Сравните все обученные модели по всем метрикам.\n"
   ]
  },
  {
   "cell_type": "code",
   "execution_count": 38,
   "metadata": {
    "collapsed": true
   },
   "outputs": [],
   "source": [
    "from sklearn.cross_validation import train_test_split\n",
    "from sklearn import metrics\n",
    "import matplotlib.pyplot as plt"
   ]
  },
  {
   "cell_type": "code",
   "execution_count": 91,
   "metadata": {
    "collapsed": false
   },
   "outputs": [],
   "source": [
    "score = spam_data.spam\n",
    "data = spam_data.drop('spam', 1)\n",
    "X_train, X_test, y_train, y_test = data[:3000], data[3000:], score[:3000], score[3000:]"
   ]
  },
  {
   "cell_type": "code",
   "execution_count": 92,
   "metadata": {
    "collapsed": false
   },
   "outputs": [
    {
     "name": "stdout",
     "output_type": "stream",
     "text": [
      "Accuracy:  0.770143660212\n",
      "Precision:  0.0\n",
      "Recall:  0.0\n",
      "F1:  0.0\n"
     ]
    }
   ],
   "source": [
    "from sklearn import tree\n",
    "clf = tree.DecisionTreeClassifier(max_depth=7, criterion='gini')\n",
    "clf.fit(X_train, y_train)\n",
    "pred = clf.predict(X_test)\n",
    "print 'Accuracy: ', metrics.accuracy_score(pred, y_test)\n",
    "print 'Precision: ', metrics.precision_score(pred, y_test)\n",
    "print 'Recall: ', metrics.recall_score(pred, y_test)\n",
    "print 'F1: ', metrics.f1_score(pred, y_test)"
   ]
  },
  {
   "cell_type": "code",
   "execution_count": 63,
   "metadata": {
    "collapsed": true
   },
   "outputs": [],
   "source": [
    "X_train, X_test, y_train, y_test = train_test_split(data, score, train_size=3000)"
   ]
  },
  {
   "cell_type": "code",
   "execution_count": 42,
   "metadata": {
    "collapsed": false
   },
   "outputs": [
    {
     "name": "stdout",
     "output_type": "stream",
     "text": [
      "Accuracy:  0.909431605247\n",
      "Precision:  0.869905956113\n",
      "Recall:  0.899513776337\n",
      "F1:  0.884462151394\n"
     ]
    }
   ],
   "source": [
    "from sklearn import tree\n",
    "clf = tree.DecisionTreeClassifier(max_depth=7, criterion='gini')\n",
    "clf.fit(X_train, y_train)\n",
    "pred = clf.predict(X_test)\n",
    "print 'Accuracy: ', metrics.accuracy_score(pred, y_test)\n",
    "print 'Precision: ', metrics.precision_score(pred, y_test)\n",
    "print 'Recall: ', metrics.recall_score(pred, y_test)\n",
    "print 'F1: ', metrics.f1_score(pred, y_test)"
   ]
  },
  {
   "cell_type": "code",
   "execution_count": 55,
   "metadata": {
    "collapsed": false
   },
   "outputs": [
    {
     "name": "stdout",
     "output_type": "stream",
     "text": [
      "word_freq_remove 0.132936679982\n",
      "word_freq_free 0.0459734203774\n",
      "word_freq_money 0.0169507245583\n",
      "word_freq_hpl 0.0524095271406\n",
      "word_freq_george 0.0148850216961\n",
      "word_freq_edu 0.0359376580163\n",
      "char_freq_! 0.427749728372\n",
      "char_freq_$ 0.0457556913314\n",
      "capital_run_length_total 0.117019364475\n"
     ]
    }
   ],
   "source": [
    "most_inportant = sort(clf.feature_importances_)[:-10:-1]\n",
    "for col in xrange(len(data.columns)):\n",
    "    if clf.feature_importances_[col] in most_inportant:\n",
    "        print data.columns[col],  clf.feature_importances_[col]"
   ]
  },
  {
   "cell_type": "code",
   "execution_count": 66,
   "metadata": {
    "collapsed": false
   },
   "outputs": [
    {
     "name": "stdout",
     "output_type": "stream",
     "text": [
      "Constant classifier accuracy:\n",
      "Accuracy:  0.605955227125\n",
      "Precision:  0.0\n",
      "Recall:  0.0\n",
      "F1:  0.0\n"
     ]
    }
   ],
   "source": [
    "print 'Constant classifier accuracy:'\n",
    "print 'Accuracy: ', metrics.accuracy_score(score, np.zeros(score.shape[0]))\n",
    "print 'Precision: ', metrics.precision_score(score, np.zeros(score.shape[0]))\n",
    "print 'Recall: ', metrics.recall_score(score, np.zeros(score.shape[0]))\n",
    "print 'F1: ', metrics.f1_score(score, np.zeros(score.shape[0]))"
   ]
  },
  {
   "cell_type": "code",
   "execution_count": 64,
   "metadata": {
    "collapsed": false
   },
   "outputs": [
    {
     "name": "stdout",
     "output_type": "stream",
     "text": [
      "Accuracy:  0.786383510306\n",
      "Precision:  0.67868338558\n",
      "Recall:  0.759649122807\n",
      "F1:  0.716887417219\n"
     ]
    }
   ],
   "source": [
    "from sklearn.neighbors import KNeighborsClassifier\n",
    "clf = KNeighborsClassifier(n_neighbors=10, metric='euclidean')\n",
    "clf.fit(X_train, y_train)\n",
    "pred = clf.predict(X_test)\n",
    "print 'Accuracy: ', metrics.accuracy_score(pred, y_test)\n",
    "print 'Precision: ', metrics.precision_score(pred, y_test)\n",
    "print 'Recall: ', metrics.recall_score(pred, y_test)\n",
    "print 'F1: ', metrics.f1_score(pred, y_test)"
   ]
  },
  {
   "cell_type": "code",
   "execution_count": 70,
   "metadata": {
    "collapsed": false
   },
   "outputs": [
    {
     "name": "stdout",
     "output_type": "stream",
     "text": [
      "Accuracy:  0.903165735568\n",
      "Precision:  0.820261437908\n",
      "Recall:  0.916058394161\n",
      "F1:  0.865517241379\n"
     ]
    }
   ],
   "source": [
    "from sklearn import preprocessing\n",
    "spam_scaled = preprocessing.scale(data)\n",
    "X_train, X_test, y_train, y_test = train_test_split(spam_scaled, score, test_size=0.35)\n",
    "clf = KNeighborsClassifier(n_neighbors=10, metric='euclidean')\n",
    "clf.fit(X_train, y_train)\n",
    "pred = clf.predict(X_test)\n",
    "print 'Accuracy: ', metrics.accuracy_score(pred, y_test)\n",
    "print 'Precision: ', metrics.precision_score(pred, y_test)\n",
    "print 'Recall: ', metrics.recall_score(pred, y_test)\n",
    "print 'F1: ', metrics.f1_score(pred, y_test)"
   ]
  },
  {
   "cell_type": "code",
   "execution_count": 138,
   "metadata": {
    "collapsed": false
   },
   "outputs": [
    {
     "name": "stdout",
     "output_type": "stream",
     "text": [
      "Accuracy:  0.917551530294\n",
      "Precision:  0.87216828479\n",
      "Recall:  0.910472972973\n",
      "F1:  0.890909090909\n"
     ]
    }
   ],
   "source": [
    "from sklearn.tree import DecisionTreeClassifier\n",
    "clf = DecisionTreeClassifier(max_depth=7, criterion='gini')\n",
    "clf.fit(X_train, y_train)\n",
    "pred = clf.predict(X_test)\n",
    "print 'Accuracy: ', metrics.accuracy_score(pred, y_test)\n",
    "print 'Precision: ', metrics.precision_score(pred, y_test)\n",
    "print 'Recall: ', metrics.recall_score(pred, y_test)\n",
    "print 'F1: ', metrics.f1_score(pred, y_test)"
   ]
  },
  {
   "cell_type": "markdown",
   "metadata": {},
   "source": [
    "### Выводы"
   ]
  },
  {
   "cell_type": "markdown",
   "metadata": {},
   "source": [
    "При использовании масштабирования качество KNN существенно увеличилось, качество DecisionTree немного уменьшилось.\n",
    "\n",
    "Это связано с тем, что KNN использует расстояние меджу признаками, поэтому на немасштабированных данных будут неверно определяться наиважные признаки.\n",
    "\n",
    "DecisionTree использует относительное расположение, поэтому масштабирование ничего не даетю"
   ]
  },
  {
   "cell_type": "markdown",
   "metadata": {
    "collapsed": true
   },
   "source": [
    "В итоге должны быть построены и сравнены между собой следующие модели:\n",
    "\n",
    "1) Константная модель\n",
    "2) Решающее дерево\n",
    "3) KNN\n",
    "4) KNN с масштабированием признаков"
   ]
  },
  {
   "cell_type": "markdown",
   "metadata": {},
   "source": [
    "**По полученным данным видно, что лучше всего работает решающее дерево, далее масштабированный knn, потом обычный knn, и хуже всего, очевидно, константная модель**"
   ]
  },
  {
   "cell_type": "markdown",
   "metadata": {
    "collapsed": true
   },
   "source": [
    "### Выбор порога классификации"
   ]
  },
  {
   "cell_type": "markdown",
   "metadata": {
    "collapsed": true
   },
   "source": [
    "Многие модели классификации получают оценку принадлежности положительному классу $y'(x)\\in R$. Затем принимают решение о классе объекта путем сравнения оценки с порогом: $y(x)=+1$, если $y'(x)<\\theta$, $y(x)=−1$, если $y'(x)\\geq\\theta$\n",
    "\n",
    "Матрица ошибок и все производные от нее метрики (Accuracy, Precision, Recall, etc.) зависят от порога $\\theta$.\n",
    "\n",
    "\n",
    "<img src=\"binary_threshold.png\">\n",
    "\n",
    "Для того чтобы видеть изменения метрик при всех значениях порога классификации, рассматривают координатную плоскость, по осям которой отложены значения метрик, а качество работы классификатора представлено в виде кривой — траектории изменения соответствующих метрик при варьировании порога:\n",
    "\n",
    "<img src=\"roc_trajectory.png\">\n",
    "\n",
    "Наиболее распространены ROC-кривые (плоскость TP-vs-FP) и Precision/Recall кривые. Аббревиатура ROC (Receiver Operating Characteristic) была унаследована из инженерного дела.\n",
    "\n",
    "<img src=\"roc_and_pr_curves.png\">\n",
    "\n",
    "В случае, если необходимо сравнить качество классификаторов вне зависимости от порога, применяют интегральные числовые метрики, например AUC-ROC (Area Under ROC) — площадь под ROC-кривой классификатора. AUC-ROC идеально работающего классификатора равно 1. Идеальный случайный классификатор в среднем имеет AUC-ROC=0.5.\n",
    "\n"
   ]
  },
  {
   "cell_type": "markdown",
   "metadata": {},
   "source": [
    "**Задача 1**\n",
    "\n",
    " Определите функционал «доля дефектных пар» для задачи бинарной классификации. Как данный функционал связан с AUC-ROC?\n",
    "\n",
    "доля дефектных пар = $\\frac{1}{l(l-1)} \\sum_{i=0}^m \\sum_{j=0}^n I_{p(x_j) > p(x_i)}$, где\n",
    "\n",
    "$X^l$ - выборка, \n",
    "$m$ - количество объектов из класса 0,\n",
    "$n$ - количество объектов из класса 1,\n",
    "$p(x_i)$ - вероятность того, что $x_i$ принадлежит классу 1, ответ нашего классификатора,\n",
    "\n",
    "ROC-AUC = $\\frac{1}{mn} \\sum_{i=0}^m \\sum_{j=0}^n I_{p(x_i) > p(x_j)} $\n",
    "\n",
    "значит доля дефектных пар $= \\frac{ROC-AUC*mn}{l(l-1)} $"
   ]
  },
  {
   "cell_type": "markdown",
   "metadata": {
    "collapsed": true
   },
   "source": [
    "**Задача 2**\n",
    "\n",
    "Приведите пример целевого вектора $y_1, \\ldots , y_l$ и ответов алгоритма $b(x_1),\\ldots,b(x_l)$, для которых AUC-ROC будет равен 0.5.\n",
    "\n",
    "$y = (1,0,1,0)$\n",
    "\n",
    "$b = (1,1,1,1)$"
   ]
  },
  {
   "cell_type": "markdown",
   "metadata": {
    "collapsed": true
   },
   "source": [
    "**Задание**\n",
    "\n",
    " Верно ли, что классификаторы из предыдущей части действуют путем сравнения некоторой оценки принадлежности положительному классу с порогом? ** да**. В KNN оценкой принадлежности является *количество соседей с классом 1* делить на k,  порог = 0.5. В дереве сравниваем с порогом 0.5 в каждом листе. \n",
    "\n",
    " \n",
    " Что это за оценки принадлежности? **Вероятность принадлежности классу.**\n",
    " \n",
    " Для всех моделей, построенных в предыдущем задании:\n",
    "- Постройте ROC и Precision/Recall кривые в одних координатных осях, линиями разных цветов. Добавьте легенду: какая кривая соответствует какому классификатору.\n",
    "- Сравните значения AUC-ROC.\n",
    "\n",
    "Какой максимальной полноты определения спама достигают построенные классификаторы, если перед вами стоит жесткое ограничение: точность классификатора не может быть меньше 90%?"
   ]
  },
  {
   "cell_type": "code",
   "execution_count": 131,
   "metadata": {
    "collapsed": false
   },
   "outputs": [
    {
     "name": "stdout",
     "output_type": "stream",
     "text": [
      "\n"
     ]
    }
   ],
   "source": [
    "from sklearn.tree import DecisionTreeRegressor\n",
    "from sklearn.neighbors import KNeighborsRegressor\n",
    "tree = DecisionTreeRegressor(max_depth = 7).fit(X_train, y_train)\n",
    "knn = KNeighborsRegressor().fit(X_train, y_train)\n",
    "y_pred_tree = tree.predict(X_test)\n",
    "y_pred_knn = knn.predict(X_test)"
   ]
  },
  {
   "cell_type": "code",
   "execution_count": 140,
   "metadata": {
    "collapsed": false
   },
   "outputs": [],
   "source": [
    "tree = DecisionTreeClassifier(max_depth=7, criterion='gini').fit(X_train, y_train)\n",
    "knn = KNeighborsClassifier().fit(X_train, y_train)\n",
    "y_pred_tree = tree.predict(X_test)\n",
    "y_pred_knn = knn.predict(X_test)"
   ]
  },
  {
   "cell_type": "code",
   "execution_count": 141,
   "metadata": {
    "collapsed": false
   },
   "outputs": [
    {
     "data": {
      "image/png": "[encoded data removed]",
      "text/plain": [
       "<matplotlib.figure.Figure at 0x7fe4de297a50>"
      ]
     },
     "metadata": {},
     "output_type": "display_data"
    },
    {
     "data": {
      "image/png": "[encoded data removed]",
      "text/plain": [
       "<matplotlib.figure.Figure at 0x7fe4de1e9b90>"
      ]
     },
     "metadata": {},
     "output_type": "display_data"
    }
   ],
   "source": [
    "fp1, tp1, _ = metrics.roc_curve(y_test, y_pred_tree)\n",
    "fp2, tp2, _ = metrics.roc_curve(y_test, y_pred_knn)\n",
    "plt.plot(fp1, tp1, label='tree_roc')\n",
    "plt.plot(fp2, tp2, label='knn_roc')\n",
    "plt.xlabel('FP')\n",
    "plt.ylabel('TP')\n",
    "plt.legend()\n",
    "plt.show()\n",
    "fp1, tp1, _ = metrics.precision_recall_curve(y_test, y_pred_tree)\n",
    "fp2, tp2, _ = metrics.precision_recall_curve(y_test, y_pred_knn)\n",
    "plt.plot(fp1, tp1, label='tree_pr_rec')\n",
    "plt.plot(fp2, tp2, label='knn_pr_rec')\n",
    "plt.xlabel('FP')\n",
    "plt.ylabel('TP')\n",
    "plt.legend()\n",
    "plt.show()"
   ]
  },
  {
   "cell_type": "code",
   "execution_count": 142,
   "metadata": {
    "collapsed": false
   },
   "outputs": [
    {
     "name": "stdout",
     "output_type": "stream",
     "text": [
      "ROC-AUC for tree:  0.916087742831\n",
      "ROC-AUC for knn:  0.786168410794\n"
     ]
    }
   ],
   "source": [
    "print 'ROC-AUC for tree: ', metrics.roc_auc_score(y_pred_tree, y_test)\n",
    "print 'ROC-AUC for knn: ', metrics.roc_auc_score(y_pred_knn, y_test)"
   ]
  },
  {
   "cell_type": "markdown",
   "metadata": {},
   "source": [
    "### Кросс-валидация и подбор параметров"
   ]
  },
  {
   "cell_type": "markdown",
   "metadata": {
    "collapsed": true
   },
   "source": [
    "Каждая модель машинного обучения имеет множество структурных параметров и параметров обучения: число соседей и тип функции расстояния в KNN, максимальная высота дерева, минимальное число объектов в листе дерева и т.д. Нет универсальных наборов параметров, оптимально работающих во всех задачах, для каждой задачи нужно подбирать свой набор параметров.\n",
    "\n",
    "Для оптимизации параметров модели часто используют перебор по сетке (grid search): для каждого параметра выбирается несколько значений, перебираются все комбинации значений параметров и выбирается комбинация, на которой модель показывает лучшее качество (с точки зрения метрики, которая оптимизируется).\n",
    "\n",
    "Сравнение большого числа моделей при переборе параметров приводит к ситуации, когда лучшая на тестовой подвыборке модель не сохраняет свои качества на новых данных. Можно сказать, что происходит переобучение на тестовую выборку.\n",
    "\n",
    "Для устранения этой проблемы, данные разбивают на 3 непересекающихся подвыборки: обучение (train), валидация (validation) и контроль (test)."
   ]
  },
  {
   "cell_type": "markdown",
   "metadata": {
    "collapsed": true
   },
   "source": [
    "Валидационную подвыборку используют для сравнения моделей, а test — для окончательной оценки качества и сравнения семейств моделей с подобранными параметрами.\n",
    "\n",
    "Более надежный способ объективного сравнения моделей — кросс-валидация. Существуют различные схемы кросс-валидации:\n",
    "\n",
    "- Leave-One-Out\n",
    "- K-Fold\n",
    "- Многократное случайное разбиение выборки\n",
    "Кросс-валидация вычислительно затратна, особенно если вы делаете перебор по сетке с очень большим числом комбинаций. С учетом конечности времени на выполнение задания, возникает ряд компромиссов:\n",
    "\n",
    "- сетку можно делать более разреженной, перебирая меньше значений каждого параметра, но в таком случае можно пропустить хорошую комбинацию параметров;\n",
    "- кросс-валидацию можно делать с меньшим числом разбиений или фолдов, но в таком случае оценка качества кросс-валидации становится более шумной и увеличивается риск выбрать неоптимальный набор параметров из-за случайности разбиения;\n",
    "- параметры можно оптимизировать последовательно (жадно) — один за другим, а не перебирать все комбинации; такая стратегия не всегда приводит к оптимальному набору;\n",
    "- перебирать не все комбинации параметров, а небольшое число случайно выбранных."
   ]
  },
  {
   "cell_type": "markdown",
   "metadata": {
    "collapsed": true
   },
   "source": [
    "**Задание**\n",
    "- Выберите схему кросс-валидаци, одну из перечисленных выше. Зафиксируйте разбиение кросс-валидации обучающей выборки. Кросс-валидировать нужно по выборке train из предыдущих заданий, test должен остаться независимым. Обратите внимание: при сравнении моделей, набор разбиений кросс-валидации не должен меняться, должен быть строго фиксированным.\n",
    "- Выберите одну метрику, которую будете оптимизировать при переборе параметров. Например, можно взять AUC-ROC.\n",
    "- Найдите оптимальный набор параметров дерева, перебрав значения параметров по сетке. Параметры для настройки: критерий разбиения, максимальная глубина, число признаков для каждого узла, минимальное число объектов в листе (или часть из этих параметров).\n",
    "- Найдите оптимальный набор параметров для KNN, перебрав значения параметров по сетке. Параметры для настройки: число соседей, функция расстояния, схема взвешивания (или часть из этих параметров).\n",
    "- Сравните полученные модели с моделями из предыдущих заданий. Сравнение необходимо проводить на тестовой выборке, которая не участвовала в подборе и обучении. Сравнение нужно проводить только по метрике которая оптимизировалась."
   ]
  },
  {
   "cell_type": "markdown",
   "metadata": {},
   "source": [
    "**Схема кросс-валидации - жадная. Будем использовать grig_search, Метрика - f1**"
   ]
  },
  {
   "cell_type": "code",
   "execution_count": 107,
   "metadata": {
    "collapsed": false
   },
   "outputs": [],
   "source": [
    "from sklearn.grid_search import GridSearchCV\n",
    "X_train, X_test, y_train, y_test = train_test_split(data, score, train_size=3000)"
   ]
  },
  {
   "cell_type": "code",
   "execution_count": 108,
   "metadata": {
    "collapsed": false
   },
   "outputs": [
    {
     "data": {
      "text/plain": [
       "([mean: 0.87694, std: 0.00753, params: {'criterion': 'gini'},\n",
       "  mean: 0.88370, std: 0.00425, params: {'criterion': 'entropy'}],\n",
       " {'criterion': 'entropy'},\n",
       " 0.88370313932544187)"
      ]
     },
     "execution_count": 108,
     "metadata": {},
     "output_type": "execute_result"
    }
   ],
   "source": [
    "param_test = {'criterion':('gini', 'entropy')}\n",
    "gsearch = GridSearchCV(estimator = tree.DecisionTreeClassifier(), param_grid = param_test, scoring='f1',n_jobs=4,iid=False, cv=5)\n",
    "gsearch.fit(X_train, y_train)\n",
    "gsearch.grid_scores_, gsearch.best_params_, gsearch.best_score_"
   ]
  },
  {
   "cell_type": "code",
   "execution_count": 109,
   "metadata": {
    "collapsed": false
   },
   "outputs": [
    {
     "data": {
      "text/plain": [
       "([mean: 0.85327, std: 0.01546, params: {'max_depth': 3},\n",
       "  mean: 0.87725, std: 0.01470, params: {'max_depth': 5},\n",
       "  mean: 0.89378, std: 0.01269, params: {'max_depth': 7},\n",
       "  mean: 0.89049, std: 0.00949, params: {'max_depth': 9},\n",
       "  mean: 0.88582, std: 0.00477, params: {'max_depth': 11}],\n",
       " {'max_depth': 7},\n",
       " 0.89377518966943215)"
      ]
     },
     "execution_count": 109,
     "metadata": {},
     "output_type": "execute_result"
    }
   ],
   "source": [
    "param_test = {'max_depth':[3, 5, 7, 9, 11]}\n",
    "gsearch = GridSearchCV(estimator = tree.DecisionTreeClassifier(criterion='gini'), param_grid = param_test, scoring='f1',n_jobs=4,iid=False, cv=5)\n",
    "gsearch.fit(X_train, y_train)\n",
    "gsearch.grid_scores_, gsearch.best_params_, gsearch.best_score_"
   ]
  },
  {
   "cell_type": "code",
   "execution_count": 112,
   "metadata": {
    "collapsed": false
   },
   "outputs": [
    {
     "data": {
      "text/plain": [
       "([mean: 0.89351, std: 0.01338, params: {'min_samples_leaf': 1},\n",
       "  mean: 0.89285, std: 0.01321, params: {'min_samples_leaf': 3},\n",
       "  mean: 0.88094, std: 0.01960, params: {'min_samples_leaf': 5},\n",
       "  mean: 0.88307, std: 0.01145, params: {'min_samples_leaf': 7},\n",
       "  mean: 0.88446, std: 0.01843, params: {'min_samples_leaf': 9}],\n",
       " {'min_samples_leaf': 1},\n",
       " 0.89351114909563911)"
      ]
     },
     "execution_count": 112,
     "metadata": {},
     "output_type": "execute_result"
    }
   ],
   "source": [
    "param_test = {'min_samples_leaf' :[1, 3, 5, 7, 9]}\n",
    "gsearch = GridSearchCV(estimator = tree.DecisionTreeClassifier(criterion='gini', max_depth=7), param_grid = param_test, scoring='f1',n_jobs=4,iid=False, cv=5)\n",
    "gsearch.fit(X_train, y_train)\n",
    "gsearch.grid_scores_, gsearch.best_params_, gsearch.best_score_"
   ]
  },
  {
   "cell_type": "code",
   "execution_count": 129,
   "metadata": {
    "collapsed": false
   },
   "outputs": [
    {
     "name": "stdout",
     "output_type": "stream",
     "text": [
      "F1:  0.890354492993\n"
     ]
    }
   ],
   "source": [
    "clf = tree.DecisionTreeClassifier(max_depth=7, criterion='gini', min_samples_leaf=1)\n",
    "clf.fit(X_train, y_train)\n",
    "pred = clf.predict(X_test)\n",
    "print 'F1: ', metrics.f1_score(pred, y_test)"
   ]
  },
  {
   "cell_type": "code",
   "execution_count": 128,
   "metadata": {
    "collapsed": false
   },
   "outputs": [
    {
     "name": "stdout",
     "output_type": "stream",
     "text": [
      "F1:  0.890453834116\n"
     ]
    }
   ],
   "source": [
    "clf = tree.DecisionTreeClassifier()\n",
    "clf.fit(X_train, y_train)\n",
    "pred = clf.predict(X_test)\n",
    "print 'F1: ', metrics.f1_score(pred, y_test)"
   ]
  },
  {
   "cell_type": "code",
   "execution_count": 123,
   "metadata": {
    "collapsed": false
   },
   "outputs": [
    {
     "data": {
      "text/plain": [
       "([mean: 0.76709, std: 0.02424, params: {'metric': 'manhattan'},\n",
       "  mean: 0.71524, std: 0.03477, params: {'metric': 'euclidean'}],\n",
       " {'metric': 'manhattan'},\n",
       " 0.7670857286414996)"
      ]
     },
     "execution_count": 123,
     "metadata": {},
     "output_type": "execute_result"
    }
   ],
   "source": [
    "param_test = {'metric':('manhattan', 'euclidean')}\n",
    "gsearch = GridSearchCV(estimator = KNeighborsClassifier(), param_grid = param_test, scoring='f1',n_jobs=4,iid=False, cv=5)\n",
    "gsearch.fit(X_train, y_train)\n",
    "gsearch.grid_scores_, gsearch.best_params_, gsearch.best_score_"
   ]
  },
  {
   "cell_type": "code",
   "execution_count": 124,
   "metadata": {
    "collapsed": false
   },
   "outputs": [
    {
     "data": {
      "text/plain": [
       "([mean: 0.77309, std: 0.01329, params: {'n_neighbors': 1},\n",
       "  mean: 0.76591, std: 0.01666, params: {'n_neighbors': 3},\n",
       "  mean: 0.76709, std: 0.02424, params: {'n_neighbors': 5},\n",
       "  mean: 0.76805, std: 0.03023, params: {'n_neighbors': 7},\n",
       "  mean: 0.75987, std: 0.02621, params: {'n_neighbors': 9}],\n",
       " {'n_neighbors': 1},\n",
       " 0.77308523114112948)"
      ]
     },
     "execution_count": 124,
     "metadata": {},
     "output_type": "execute_result"
    }
   ],
   "source": [
    "param_test = {'n_neighbors':[1, 3, 5, 7, 9]}\n",
    "gsearch = GridSearchCV(estimator = KNeighborsClassifier(metric='manhattan'), param_grid = param_test, scoring='f1',n_jobs=4,iid=False, cv=5)\n",
    "gsearch.fit(X_train, y_train)\n",
    "gsearch.grid_scores_, gsearch.best_params_, gsearch.best_score_"
   ]
  },
  {
   "cell_type": "code",
   "execution_count": 127,
   "metadata": {
    "collapsed": false
   },
   "outputs": [
    {
     "name": "stdout",
     "output_type": "stream",
     "text": [
      "F1:  0.779365079365\n"
     ]
    }
   ],
   "source": [
    "clf = KNeighborsClassifier(n_neighbors=1, metric='manhattan')\n",
    "clf.fit(X_train, y_train)\n",
    "pred = clf.predict(X_test)\n",
    "print 'F1: ', metrics.f1_score(pred, y_test)"
   ]
  },
  {
   "cell_type": "code",
   "execution_count": 125,
   "metadata": {
    "collapsed": false
   },
   "outputs": [
    {
     "name": "stdout",
     "output_type": "stream",
     "text": [
      "F1:  0.734693877551\n"
     ]
    }
   ],
   "source": [
    "clf = KNeighborsClassifier()\n",
    "clf.fit(X_train, y_train)\n",
    "pred = clf.predict(X_test)\n",
    "print 'F1: ', metrics.f1_score(pred, y_test)"
   ]
  },
  {
   "cell_type": "markdown",
   "metadata": {},
   "source": [
    "В knn улучшили, в decision tree нет(("
   ]
  },
  {
   "cell_type": "markdown",
   "metadata": {},
   "source": [
    "<h1 align=\"center\">Примеры</h1> "
   ]
  },
  {
   "cell_type": "markdown",
   "metadata": {},
   "source": [
    "## Обучение решающего дерева"
   ]
  },
  {
   "cell_type": "code",
   "execution_count": 3,
   "metadata": {
    "collapsed": true
   },
   "outputs": [],
   "source": [
    "from sklearn.datasets import load_iris\n",
    "from sklearn.tree import DecisionTreeClassifier\n",
    "\n",
    "iris_data = load_iris()\n",
    "X, y = iris_data.data, iris_data.target\n",
    "\n",
    "clf = DecisionTreeClassifier(max_depth=3).fit(X, y)\n",
    "\n",
    "y_pred = clf.predict(X)"
   ]
  },
  {
   "cell_type": "markdown",
   "metadata": {},
   "source": [
    "#### Важность признаков"
   ]
  },
  {
   "cell_type": "markdown",
   "metadata": {},
   "source": [
    "Важность признаков вычисляется на основании частоты разбиения по признаку и глубины узлов дерева в которых происходило разбиение по признаку."
   ]
  },
  {
   "cell_type": "code",
   "execution_count": 4,
   "metadata": {
    "collapsed": false
   },
   "outputs": [
    {
     "name": "stdout",
     "output_type": "stream",
     "text": [
      "3 petal width (cm), importance = 0.95\n",
      "2 petal length (cm), importance = 0.05\n",
      "1 sepal width (cm), importance = 0.00\n",
      "0 sepal length (cm), importance = 0.00\n"
     ]
    }
   ],
   "source": [
    "most_important_features = argsort(clf.feature_importances_)[::-1]\n",
    "for idx in most_important_features:\n",
    "    print '%d %s, importance = %.2f' % (idx, iris_data.feature_names[idx], clf.feature_importances_[idx])"
   ]
  },
  {
   "cell_type": "markdown",
   "metadata": {},
   "source": [
    "#### Ошибочно классифицированные объекты обучающей выборки"
   ]
  },
  {
   "cell_type": "code",
   "execution_count": 5,
   "metadata": {
    "collapsed": false
   },
   "outputs": [
    {
     "data": {
      "text/plain": [
       "<matplotlib.text.Text at 0x1094a92d0>"
      ]
     },
     "execution_count": 5,
     "metadata": {},
     "output_type": "execute_result"
    },
    {
     "data": {
      "image/png": "[encoded data removed]",
      "text/plain": [
       "<matplotlib.figure.Figure at 0x1094024d0>"
      ]
     },
     "metadata": {},
     "output_type": "display_data"
    }
   ],
   "source": [
    "xind, yind = most_important_features[0], most_important_features[1]\n",
    "err = (y != y_pred)\n",
    "scatter(X[err, xind], X[err, yind], c=y_pred[err], marker='x', s=80, linewidths=2)\n",
    "scatter(X[:, xind], X[:, yind], c=y)\n",
    "xlabel(iris_data.feature_names[xind])\n",
    "ylabel(iris_data.feature_names[yind])\n",
    "title(u'Classification errors')"
   ]
  },
  {
   "cell_type": "markdown",
   "metadata": {},
   "source": [
    "#### Визуализация дерева"
   ]
  },
  {
   "cell_type": "code",
   "execution_count": 6,
   "metadata": {
    "collapsed": true
   },
   "outputs": [],
   "source": [
    "from sklearn.tree import export_graphviz\n",
    "export_graphviz(clf, out_file='tree.dot', feature_names=iris_data.feature_names)"
   ]
  },
  {
   "cell_type": "code",
   "execution_count": 7,
   "metadata": {
    "collapsed": true
   },
   "outputs": [],
   "source": [
    "!dot -Tpng tree.dot -o tree.png"
   ]
  },
  {
   "cell_type": "code",
   "execution_count": 8,
   "metadata": {
    "collapsed": false
   },
   "outputs": [
    {
     "data": {
      "image/png": "[encoded data removed]",
      "text/plain": [
       "<IPython.core.display.Image object>"
      ]
     },
     "execution_count": 8,
     "metadata": {},
     "output_type": "execute_result"
    }
   ],
   "source": [
    "from IPython.display import Image\n",
    "Image('tree.png')"
   ]
  },
  {
   "cell_type": "markdown",
   "metadata": {},
   "source": [
    "## Кросс-валидация"
   ]
  },
  {
   "cell_type": "code",
   "execution_count": 9,
   "metadata": {
    "collapsed": true
   },
   "outputs": [],
   "source": [
    "from sklearn.datasets import load_boston\n",
    "boston_data = load_boston()\n",
    "X, y = boston_data.data, boston_data.target"
   ]
  },
  {
   "cell_type": "markdown",
   "metadata": {},
   "source": [
    "Зафиксируем разбиение для 5-fold кросс-валидации."
   ]
  },
  {
   "cell_type": "code",
   "execution_count": 10,
   "metadata": {
    "collapsed": true
   },
   "outputs": [],
   "source": [
    "from sklearn.cross_validation import KFold\n",
    "cv = KFold(n=len(y), n_folds=5, shuffle=True, random_state=123)"
   ]
  },
  {
   "cell_type": "markdown",
   "metadata": {},
   "source": [
    "Обратите внимание на аргументы:\n",
    " \n",
    "\n",
    "- shuffle=True — без него фолды будут формироваться из последовательно идущих объектов, что нехорошо — в этом поможет убедиться задание в части 2;\n",
    "- random_state — если этот параметр не выставить, то после каждого запуска команды будет генерироваться новое разбиение на фолды; крайне желательно, чтобы ваши эксперименты были в точности воспроизводимы — это упрощает исследования.\n",
    "\n",
    "\n",
    "Оценим качество регрессии KNN на наборе Boston Housing для различных значений K (число соседей). В качестве метрики качества возьмем модуль отклонения:\n",
    "\n",
    " $MAE=\\sum_i|y_{pred,i}-y_i|$\n"
   ]
  },
  {
   "cell_type": "code",
   "execution_count": 11,
   "metadata": {
    "collapsed": true
   },
   "outputs": [],
   "source": [
    "from sklearn.neighbors import KNeighborsRegressor\n",
    "from sklearn.cross_validation import cross_val_score"
   ]
  },
  {
   "cell_type": "markdown",
   "metadata": {},
   "source": [
    "Переберем ряд значений n_neigbors, для каждого оценим среднее и стандартное отклонение MAE по кросс-валидации. Магия %%time позволяет измерить время работы ячейки с кодом."
   ]
  },
  {
   "cell_type": "code",
   "execution_count": 12,
   "metadata": {
    "collapsed": false
   },
   "outputs": [
    {
     "name": "stdout",
     "output_type": "stream",
     "text": [
      "CPU times: user 390 ms, sys: 23 ms, total: 413 ms\n",
      "Wall time: 461 ms\n"
     ]
    }
   ],
   "source": [
    "%%time \n",
    "\n",
    "k_values = range(1, 10) + range(10, 50, 5)\n",
    "mae_cv_mean = []\n",
    "mae_cv_std = []\n",
    "\n",
    "for k in k_values:\n",
    "    clf = KNeighborsRegressor(n_neighbors=k)\n",
    "    mae_folds = -cross_val_score(clf, X, y, cv=cv, scoring='mean_absolute_error')\n",
    "    mae_cv_mean.append(mae_folds.mean())\n",
    "    mae_cv_std.append(mae_folds.std())"
   ]
  },
  {
   "cell_type": "markdown",
   "metadata": {},
   "source": [
    "#### График, демонстрирующий оптимальность выбора числа соседей"
   ]
  },
  {
   "cell_type": "code",
   "execution_count": 13,
   "metadata": {
    "collapsed": false
   },
   "outputs": [
    {
     "data": {
      "text/plain": [
       "<matplotlib.text.Annotation at 0x109913510>"
      ]
     },
     "execution_count": 13,
     "metadata": {},
     "output_type": "execute_result"
    },
    {
     "data": {
      "image/png": "[encoded data removed]",
      "text/plain": [
       "<matplotlib.figure.Figure at 0x1096a1610>"
      ]
     },
     "metadata": {},
     "output_type": "display_data"
    }
   ],
   "source": [
    "figure(figsize=(8, 4))\n",
    "errorbar(k_values, mae_cv_mean, yerr=array(mae_cv_std)*2)\n",
    "title('Choosing optimal number of neighbors with 5-Fold Cross-Validation')\n",
    "xlabel('n_neighbors')\n",
    "ylabel('mean absolute error')\n",
    "\n",
    "opt_idx = argmin(mae_cv_mean)\n",
    "optimal_k = k_values[opt_idx]\n",
    "optimal_mae = mae_cv_mean[opt_idx]\n",
    "annotate('n_neighbors=%d\\nMAE=%f' % (optimal_k, optimal_mae), \n",
    "         xy=(opt_idx, optimal_mae), xytext=(30, optimal_mae), \n",
    "         arrowprops=dict(facecolor='black', shrink=0.05, alpha=0.5))"
   ]
  }
 ],
 "metadata": {
  "kernelspec": {
   "display_name": "Python 2",
   "language": "python",
   "name": "python2"
  },
  "language_info": {
   "codemirror_mode": {
    "name": "ipython",
    "version": 2
   },
   "file_extension": ".py",
   "mimetype": "text/x-python",
   "name": "python",
   "nbconvert_exporter": "python",
   "pygments_lexer": "ipython2",
   "version": "2.7.10"
  }
 },
 "nbformat": 4,
 "nbformat_minor": 0
}
