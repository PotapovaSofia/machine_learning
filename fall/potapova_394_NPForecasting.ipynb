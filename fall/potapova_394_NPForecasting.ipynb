{
 "cells": [
  {
   "cell_type": "markdown",
   "metadata": {},
   "source": [
    "## Домашнее здание №3 / New Product Forecasting\n",
    "\n",
    "### Фамилия Имя / Группа\n",
    "\n",
    "----\n",
    "План выполнения домашнего задания:\n",
    "\n",
    "1. Подготовка данных\n",
    "2. Предсказание без категориальных признаков\n",
    "3. Предсказание с категориальными признаками\n",
    "4.  Другие модели и генерация дополнительных признаков\n",
    "5. Отправка результатов в контест на Kaggle"
   ]
  },
  {
   "cell_type": "code",
   "execution_count": 1,
   "metadata": {
    "collapsed": false
   },
   "outputs": [],
   "source": [
    "import pandas as pd\n",
    "import numpy as np\n",
    "from random import shuffle\n",
    "from sklearn import tree\n",
    "from copy import deepcopy\n",
    "from sklearn.ensemble import BaggingRegressor\n",
    "import matplotlib.pyplot as plt\n",
    "from sklearn.ensemble import RandomForestRegressor\n",
    "from sklearn.ensemble import ExtraTreesRegressor\n",
    "from sklearn.ensemble import GradientBoostingRegressor\n",
    "from sklearn import cross_validation\n",
    "from sklearn.dummy import DummyRegressor\n",
    "from scipy.optimize import minimize_scalar\n",
    "%matplotlib inline"
   ]
  },
  {
   "cell_type": "markdown",
   "metadata": {},
   "source": [
    "## Подготовка данных (1 балл)\n",
    " * Изучить признаки\n",
    " * Выделить категориальные признаки, которые можно использовать для обучения\n",
    " * Выделить датасет только с числовыми признаками\n",
    " * Выделить полезные числовые признаки"
   ]
  },
  {
   "cell_type": "code",
   "execution_count": 152,
   "metadata": {
    "collapsed": false
   },
   "outputs": [
    {
     "data": {
      "text/plain": [
       "(40000, 33)"
      ]
     },
     "execution_count": 152,
     "metadata": {},
     "output_type": "execute_result"
    }
   ],
   "source": [
    "data = pd.read_csv('./train.csv', sep=';', index_col='ID')\n",
    "data.shape"
   ]
  },
  {
   "cell_type": "code",
   "execution_count": 147,
   "metadata": {
    "collapsed": false
   },
   "outputs": [
    {
     "data": {
      "text/html": [
       "<div>\n",
       "<table border=\"1\" class=\"dataframe\">\n",
       "  <thead>\n",
       "    <tr style=\"text-align: right;\">\n",
       "      <th></th>\n",
       "      <th>DEMAND</th>\n",
       "      <th>LOCATION_ID</th>\n",
       "      <th>MODEL_BRAND</th>\n",
       "      <th>MODEL_COST_AVG</th>\n",
       "      <th>MODEL_COUNT_SALES_DAYS</th>\n",
       "      <th>MODEL_DIAG</th>\n",
       "      <th>MODEL_DIAG_TYPE</th>\n",
       "      <th>MODEL_HEIGHT</th>\n",
       "      <th>MODEL_ID</th>\n",
       "      <th>MODEL_MEAN_SALES</th>\n",
       "      <th>...</th>\n",
       "      <th>STORE_FORMAT</th>\n",
       "      <th>STORE_OPEN_DTTM</th>\n",
       "      <th>STORE_PRICE_TYPE</th>\n",
       "      <th>STORE_REGION</th>\n",
       "      <th>STORE_RES_ABC</th>\n",
       "      <th>STORE_RES_SPECTR</th>\n",
       "      <th>STORE_TYPE_A</th>\n",
       "      <th>STORE_TYPE_B</th>\n",
       "      <th>STORE_TYPE_C</th>\n",
       "      <th>STORE_TYPE_SPECTR</th>\n",
       "    </tr>\n",
       "    <tr>\n",
       "      <th>ID</th>\n",
       "      <th></th>\n",
       "      <th></th>\n",
       "      <th></th>\n",
       "      <th></th>\n",
       "      <th></th>\n",
       "      <th></th>\n",
       "      <th></th>\n",
       "      <th></th>\n",
       "      <th></th>\n",
       "      <th></th>\n",
       "      <th></th>\n",
       "      <th></th>\n",
       "      <th></th>\n",
       "      <th></th>\n",
       "      <th></th>\n",
       "      <th></th>\n",
       "      <th></th>\n",
       "      <th></th>\n",
       "      <th></th>\n",
       "      <th></th>\n",
       "      <th></th>\n",
       "    </tr>\n",
       "  </thead>\n",
       "  <tbody>\n",
       "    <tr>\n",
       "      <th>0</th>\n",
       "      <td>0.10536</td>\n",
       "      <td>1835543262</td>\n",
       "      <td>ark</td>\n",
       "      <td>5179.7500</td>\n",
       "      <td>NaN</td>\n",
       "      <td>5.5</td>\n",
       "      <td>big</td>\n",
       "      <td>720.0</td>\n",
       "      <td>1682</td>\n",
       "      <td>NaN</td>\n",
       "      <td>...</td>\n",
       "      <td>новый формат</td>\n",
       "      <td>19MAY15:00:00:00</td>\n",
       "      <td>розничная цена (северо-запад-санкт-петербург)</td>\n",
       "      <td>северо-запад</td>\n",
       "      <td>B</td>\n",
       "      <td>0.67</td>\n",
       "      <td>0.75</td>\n",
       "      <td>0.25</td>\n",
       "      <td>0.0</td>\n",
       "      <td>3.06</td>\n",
       "    </tr>\n",
       "    <tr>\n",
       "      <th>1</th>\n",
       "      <td>0.00010</td>\n",
       "      <td>1972241965</td>\n",
       "      <td>samsung</td>\n",
       "      <td>22015.3300</td>\n",
       "      <td>NaN</td>\n",
       "      <td>5.2</td>\n",
       "      <td>big</td>\n",
       "      <td>1920.0</td>\n",
       "      <td>34706</td>\n",
       "      <td>NaN</td>\n",
       "      <td>...</td>\n",
       "      <td>новый формат</td>\n",
       "      <td>20JAN16:00:00:00</td>\n",
       "      <td>розничная цена (северо-запад-днс1)</td>\n",
       "      <td>северо-запад</td>\n",
       "      <td>C</td>\n",
       "      <td>0.48</td>\n",
       "      <td>0.00</td>\n",
       "      <td>1.00</td>\n",
       "      <td>0.0</td>\n",
       "      <td>2.51</td>\n",
       "    </tr>\n",
       "    <tr>\n",
       "      <th>2</th>\n",
       "      <td>0.00010</td>\n",
       "      <td>2027986985</td>\n",
       "      <td>samsung</td>\n",
       "      <td>15592.5900</td>\n",
       "      <td>NaN</td>\n",
       "      <td>5.0</td>\n",
       "      <td>big</td>\n",
       "      <td>1280.0</td>\n",
       "      <td>2753</td>\n",
       "      <td>NaN</td>\n",
       "      <td>...</td>\n",
       "      <td>новый формат</td>\n",
       "      <td>27APR16:00:00:00</td>\n",
       "      <td>розничная цена (дальний восток-якутск)</td>\n",
       "      <td>дальний восток</td>\n",
       "      <td>A</td>\n",
       "      <td>0.64</td>\n",
       "      <td>1.00</td>\n",
       "      <td>0.00</td>\n",
       "      <td>0.0</td>\n",
       "      <td>2.72</td>\n",
       "    </tr>\n",
       "    <tr>\n",
       "      <th>3</th>\n",
       "      <td>0.00010</td>\n",
       "      <td>28432</td>\n",
       "      <td>alcatel</td>\n",
       "      <td>540.9533</td>\n",
       "      <td>29.0</td>\n",
       "      <td>1.8</td>\n",
       "      <td>small</td>\n",
       "      <td>128.0</td>\n",
       "      <td>1593</td>\n",
       "      <td>7.533</td>\n",
       "      <td>...</td>\n",
       "      <td>стандарт</td>\n",
       "      <td>21OCT09:00:00:00</td>\n",
       "      <td>розничная цена (северо-запад-боровичи)</td>\n",
       "      <td>северо-запад</td>\n",
       "      <td>B</td>\n",
       "      <td>0.65</td>\n",
       "      <td>0.50</td>\n",
       "      <td>0.25</td>\n",
       "      <td>0.0</td>\n",
       "      <td>2.04</td>\n",
       "    </tr>\n",
       "    <tr>\n",
       "      <th>4</th>\n",
       "      <td>0.00010</td>\n",
       "      <td>28547</td>\n",
       "      <td>мтс</td>\n",
       "      <td>444.7300</td>\n",
       "      <td>30.0</td>\n",
       "      <td>4.0</td>\n",
       "      <td>medium</td>\n",
       "      <td>480.0</td>\n",
       "      <td>80644</td>\n",
       "      <td>16.830</td>\n",
       "      <td>...</td>\n",
       "      <td>стандарт</td>\n",
       "      <td>20MAY09:00:00:00</td>\n",
       "      <td>розничная цена (северо-запад-санкт-петербург)</td>\n",
       "      <td>северо-запад</td>\n",
       "      <td>A</td>\n",
       "      <td>0.83</td>\n",
       "      <td>0.75</td>\n",
       "      <td>0.25</td>\n",
       "      <td>0.0</td>\n",
       "      <td>2.37</td>\n",
       "    </tr>\n",
       "  </tbody>\n",
       "</table>\n",
       "<p>5 rows × 33 columns</p>\n",
       "</div>"
      ],
      "text/plain": [
       "     DEMAND  LOCATION_ID MODEL_BRAND  MODEL_COST_AVG  MODEL_COUNT_SALES_DAYS  \\\n",
       "ID                                                                             \n",
       "0   0.10536   1835543262         ark       5179.7500                     NaN   \n",
       "1   0.00010   1972241965     samsung      22015.3300                     NaN   \n",
       "2   0.00010   2027986985     samsung      15592.5900                     NaN   \n",
       "3   0.00010        28432     alcatel        540.9533                    29.0   \n",
       "4   0.00010        28547         мтс        444.7300                    30.0   \n",
       "\n",
       "    MODEL_DIAG MODEL_DIAG_TYPE  MODEL_HEIGHT  MODEL_ID  MODEL_MEAN_SALES  \\\n",
       "ID                                                                         \n",
       "0          5.5             big         720.0      1682               NaN   \n",
       "1          5.2             big        1920.0     34706               NaN   \n",
       "2          5.0             big        1280.0      2753               NaN   \n",
       "3          1.8           small         128.0      1593             7.533   \n",
       "4          4.0          medium         480.0     80644            16.830   \n",
       "\n",
       "          ...         STORE_FORMAT   STORE_OPEN_DTTM  \\\n",
       "ID        ...                                          \n",
       "0         ...         новый формат  19MAY15:00:00:00   \n",
       "1         ...         новый формат  20JAN16:00:00:00   \n",
       "2         ...         новый формат  27APR16:00:00:00   \n",
       "3         ...             стандарт  21OCT09:00:00:00   \n",
       "4         ...             стандарт  20MAY09:00:00:00   \n",
       "\n",
       "                                 STORE_PRICE_TYPE    STORE_REGION  \\\n",
       "ID                                                                  \n",
       "0   розничная цена (северо-запад-санкт-петербург)    северо-запад   \n",
       "1              розничная цена (северо-запад-днс1)    северо-запад   \n",
       "2          розничная цена (дальний восток-якутск)  дальний восток   \n",
       "3          розничная цена (северо-запад-боровичи)    северо-запад   \n",
       "4   розничная цена (северо-запад-санкт-петербург)    северо-запад   \n",
       "\n",
       "    STORE_RES_ABC  STORE_RES_SPECTR STORE_TYPE_A  STORE_TYPE_B STORE_TYPE_C  \\\n",
       "ID                                                                            \n",
       "0               B              0.67         0.75          0.25          0.0   \n",
       "1               C              0.48         0.00          1.00          0.0   \n",
       "2               A              0.64         1.00          0.00          0.0   \n",
       "3               B              0.65         0.50          0.25          0.0   \n",
       "4               A              0.83         0.75          0.25          0.0   \n",
       "\n",
       "   STORE_TYPE_SPECTR  \n",
       "ID                    \n",
       "0               3.06  \n",
       "1               2.51  \n",
       "2               2.72  \n",
       "3               2.04  \n",
       "4               2.37  \n",
       "\n",
       "[5 rows x 33 columns]"
      ]
     },
     "execution_count": 147,
     "metadata": {},
     "output_type": "execute_result"
    }
   ],
   "source": [
    "data.head()"
   ]
  },
  {
   "cell_type": "markdown",
   "metadata": {},
   "source": [
    "### Категориальные признаки\n",
    " * Какие категориальные признаки следует использовать в первую очередь? \n",
    " * Есть ли категориальные признаки, которые в принципе не понятно, как использовать?"
   ]
  },
  {
   "cell_type": "code",
   "execution_count": 153,
   "metadata": {
    "collapsed": false
   },
   "outputs": [
    {
     "data": {
      "text/plain": [
       "Index([u'MODEL_BRAND', u'MODEL_DIAG_TYPE', u'MODEL_NAME', u'MODEL_OS',\n",
       "       u'MODEL_RES_TYPE', u'MODEL_TYPE', u'STORE_BRAND_ABC',\n",
       "       u'STORE_BUILDING_TYPE', u'STORE_CITY', u'STORE_CLUSTER',\n",
       "       u'STORE_DIAG_ABC', u'STORE_FORMAT', u'STORE_OPEN_DTTM',\n",
       "       u'STORE_PRICE_TYPE', u'STORE_REGION', u'STORE_RES_ABC'],\n",
       "      dtype='object')"
      ]
     },
     "execution_count": 153,
     "metadata": {},
     "output_type": "execute_result"
    }
   ],
   "source": [
    "# Определяем категориальные признаки\n",
    "# По понятным причинам 'LOCATION_ID', 'MODEL_ID' считаются числовыми признаками - их добавляем руками отдельно\n",
    "Categorical_columns = data.columns[([isinstance(z, str) for z in data.ix[0]])]\n",
    "Categorical_columns"
   ]
  },
  {
   "cell_type": "code",
   "execution_count": 5,
   "metadata": {
    "collapsed": false
   },
   "outputs": [
    {
     "name": "stdout",
     "output_type": "stream",
     "text": [
      "Количество уникальных категориальных значений: [845]\n",
      "Удаляем признаки с номерами: \n",
      "                     NoUniqueValues\n",
      "MODEL_NAME                      447\n",
      "STORE_OPEN_DTTM                 246\n",
      "STORE_CITY                       36\n",
      "MODEL_BRAND                      33\n",
      "STORE_CLUSTER                    23\n",
      "STORE_PRICE_TYPE                 20\n",
      "STORE_FORMAT                     10\n",
      "MODEL_OS                          5\n",
      "STORE_REGION                      5\n",
      "MODEL_DIAG_TYPE                   3\n",
      "MODEL_RES_TYPE                    3\n",
      "STORE_BRAND_ABC                   3\n",
      "STORE_BUILDING_TYPE               3\n",
      "STORE_DIAG_ABC                    3\n",
      "STORE_RES_ABC                     3\n",
      "MODEL_TYPE                        2\n"
     ]
    }
   ],
   "source": [
    "# Количество уникальных значений в категориальных признаках\n",
    "dist_val = pd.DataFrame({'NoUniqueValues': [data[z].nunique() for z in Categorical_columns]}, index = Categorical_columns)\n",
    "\n",
    "print('Количество уникальных категориальных значений: '+ str(dist_val.sum().values))\n",
    "print('Удаляем признаки с номерами: \\n'+ str(dist_val.ix[dist_val['NoUniqueValues']>0].sort_values(by='NoUniqueValues', ascending=False)))"
   ]
  },
  {
   "cell_type": "markdown",
   "metadata": {},
   "source": [
    "**Будем использовать \"понятные\" признаки : \"MODEL_NAME\", \"MODEL_OS\", \"MODEL_BRAND\", \"MODEL_TYPE\"**"
   ]
  },
  {
   "cell_type": "code",
   "execution_count": 154,
   "metadata": {
    "collapsed": false
   },
   "outputs": [],
   "source": [
    "Categorical_columns_use = Categorical_columns.drop(['STORE_PRICE_TYPE'])"
   ]
  },
  {
   "cell_type": "code",
   "execution_count": 155,
   "metadata": {
    "collapsed": true
   },
   "outputs": [],
   "source": [
    "cat_data = pd.read_csv('./train.csv', sep=';', index_col='ID')\n",
    "cat_data.drop(['STORE_PRICE_TYPE'], axis = 1, inplace=True)"
   ]
  },
  {
   "cell_type": "markdown",
   "metadata": {},
   "source": [
    "### Числовые признаки\n",
    "* Какие числовые признаки следует использовать в первую очередь? \n",
    "* Есть ли числовые признаки, которые в принципе не понятно, как использовать?\n",
    "* Как заполнять NaN?"
   ]
  },
  {
   "cell_type": "code",
   "execution_count": 57,
   "metadata": {
    "collapsed": false
   },
   "outputs": [
    {
     "data": {
      "text/plain": [
       "Index([u'DEMAND', u'MODEL_COST_AVG', u'MODEL_COUNT_SALES_DAYS', u'MODEL_DIAG',\n",
       "       u'MODEL_HEIGHT', u'MODEL_MEAN_SALES', u'MODEL_WIDTH',\n",
       "       u'STORE_ASSORTMENT', u'STORE_BRAND_SPECTR', u'STORE_DIAG_SPECTR',\n",
       "       u'STORE_RES_SPECTR', u'STORE_TYPE_A', u'STORE_TYPE_B', u'STORE_TYPE_C',\n",
       "       u'STORE_TYPE_SPECTR'],\n",
       "      dtype='object')"
      ]
     },
     "execution_count": 57,
     "metadata": {},
     "output_type": "execute_result"
    }
   ],
   "source": [
    "# Выделяем числовой датасет: В данном случае удаляем все + MODEL_ID и LOCATION_ID\n",
    "num_data = data.drop(Categorical_columns | data.columns[[1,8]], axis = 1)\n",
    "num_data.columns"
   ]
  },
  {
   "cell_type": "code",
   "execution_count": 58,
   "metadata": {
    "collapsed": false
   },
   "outputs": [
    {
     "data": {
      "text/html": [
       "<div>\n",
       "<table border=\"1\" class=\"dataframe\">\n",
       "  <thead>\n",
       "    <tr style=\"text-align: right;\">\n",
       "      <th></th>\n",
       "      <th>DEMAND</th>\n",
       "      <th>MODEL_COST_AVG</th>\n",
       "      <th>MODEL_COUNT_SALES_DAYS</th>\n",
       "      <th>MODEL_DIAG</th>\n",
       "      <th>MODEL_HEIGHT</th>\n",
       "      <th>MODEL_MEAN_SALES</th>\n",
       "      <th>MODEL_WIDTH</th>\n",
       "      <th>STORE_ASSORTMENT</th>\n",
       "      <th>STORE_BRAND_SPECTR</th>\n",
       "      <th>STORE_DIAG_SPECTR</th>\n",
       "      <th>STORE_RES_SPECTR</th>\n",
       "      <th>STORE_TYPE_A</th>\n",
       "      <th>STORE_TYPE_B</th>\n",
       "      <th>STORE_TYPE_C</th>\n",
       "      <th>STORE_TYPE_SPECTR</th>\n",
       "    </tr>\n",
       "    <tr>\n",
       "      <th>ID</th>\n",
       "      <th></th>\n",
       "      <th></th>\n",
       "      <th></th>\n",
       "      <th></th>\n",
       "      <th></th>\n",
       "      <th></th>\n",
       "      <th></th>\n",
       "      <th></th>\n",
       "      <th></th>\n",
       "      <th></th>\n",
       "      <th></th>\n",
       "      <th></th>\n",
       "      <th></th>\n",
       "      <th></th>\n",
       "      <th></th>\n",
       "    </tr>\n",
       "  </thead>\n",
       "  <tbody>\n",
       "    <tr>\n",
       "      <th>0</th>\n",
       "      <td>0.10536</td>\n",
       "      <td>5179.7500</td>\n",
       "      <td>NaN</td>\n",
       "      <td>5.5</td>\n",
       "      <td>720</td>\n",
       "      <td>NaN</td>\n",
       "      <td>1280</td>\n",
       "      <td>136</td>\n",
       "      <td>0.76</td>\n",
       "      <td>0.78</td>\n",
       "      <td>0.67</td>\n",
       "      <td>0.75</td>\n",
       "      <td>0.25</td>\n",
       "      <td>0</td>\n",
       "      <td>3.06</td>\n",
       "    </tr>\n",
       "    <tr>\n",
       "      <th>1</th>\n",
       "      <td>0.00010</td>\n",
       "      <td>22015.3300</td>\n",
       "      <td>NaN</td>\n",
       "      <td>5.2</td>\n",
       "      <td>1920</td>\n",
       "      <td>NaN</td>\n",
       "      <td>1080</td>\n",
       "      <td>70</td>\n",
       "      <td>0.73</td>\n",
       "      <td>0.65</td>\n",
       "      <td>0.48</td>\n",
       "      <td>0.00</td>\n",
       "      <td>1.00</td>\n",
       "      <td>0</td>\n",
       "      <td>2.51</td>\n",
       "    </tr>\n",
       "    <tr>\n",
       "      <th>2</th>\n",
       "      <td>0.00010</td>\n",
       "      <td>15592.5900</td>\n",
       "      <td>NaN</td>\n",
       "      <td>5.0</td>\n",
       "      <td>1280</td>\n",
       "      <td>NaN</td>\n",
       "      <td>1280</td>\n",
       "      <td>106</td>\n",
       "      <td>0.89</td>\n",
       "      <td>0.67</td>\n",
       "      <td>0.64</td>\n",
       "      <td>1.00</td>\n",
       "      <td>0.00</td>\n",
       "      <td>0</td>\n",
       "      <td>2.72</td>\n",
       "    </tr>\n",
       "    <tr>\n",
       "      <th>3</th>\n",
       "      <td>0.00010</td>\n",
       "      <td>540.9533</td>\n",
       "      <td>29</td>\n",
       "      <td>1.8</td>\n",
       "      <td>128</td>\n",
       "      <td>7.533</td>\n",
       "      <td>160</td>\n",
       "      <td>132</td>\n",
       "      <td>0.67</td>\n",
       "      <td>0.60</td>\n",
       "      <td>0.65</td>\n",
       "      <td>0.50</td>\n",
       "      <td>0.25</td>\n",
       "      <td>0</td>\n",
       "      <td>2.04</td>\n",
       "    </tr>\n",
       "    <tr>\n",
       "      <th>4</th>\n",
       "      <td>0.00010</td>\n",
       "      <td>444.7300</td>\n",
       "      <td>30</td>\n",
       "      <td>4.0</td>\n",
       "      <td>480</td>\n",
       "      <td>16.830</td>\n",
       "      <td>800</td>\n",
       "      <td>95</td>\n",
       "      <td>1.00</td>\n",
       "      <td>0.71</td>\n",
       "      <td>0.83</td>\n",
       "      <td>0.75</td>\n",
       "      <td>0.25</td>\n",
       "      <td>0</td>\n",
       "      <td>2.37</td>\n",
       "    </tr>\n",
       "  </tbody>\n",
       "</table>\n",
       "</div>"
      ],
      "text/plain": [
       "     DEMAND  MODEL_COST_AVG  MODEL_COUNT_SALES_DAYS  MODEL_DIAG  MODEL_HEIGHT  \\\n",
       "ID                                                                              \n",
       "0   0.10536       5179.7500                     NaN         5.5           720   \n",
       "1   0.00010      22015.3300                     NaN         5.2          1920   \n",
       "2   0.00010      15592.5900                     NaN         5.0          1280   \n",
       "3   0.00010        540.9533                      29         1.8           128   \n",
       "4   0.00010        444.7300                      30         4.0           480   \n",
       "\n",
       "    MODEL_MEAN_SALES  MODEL_WIDTH  STORE_ASSORTMENT  STORE_BRAND_SPECTR  \\\n",
       "ID                                                                        \n",
       "0                NaN         1280               136                0.76   \n",
       "1                NaN         1080                70                0.73   \n",
       "2                NaN         1280               106                0.89   \n",
       "3              7.533          160               132                0.67   \n",
       "4             16.830          800                95                1.00   \n",
       "\n",
       "    STORE_DIAG_SPECTR  STORE_RES_SPECTR  STORE_TYPE_A  STORE_TYPE_B  \\\n",
       "ID                                                                    \n",
       "0                0.78              0.67          0.75          0.25   \n",
       "1                0.65              0.48          0.00          1.00   \n",
       "2                0.67              0.64          1.00          0.00   \n",
       "3                0.60              0.65          0.50          0.25   \n",
       "4                0.71              0.83          0.75          0.25   \n",
       "\n",
       "    STORE_TYPE_C  STORE_TYPE_SPECTR  \n",
       "ID                                   \n",
       "0              0               3.06  \n",
       "1              0               2.51  \n",
       "2              0               2.72  \n",
       "3              0               2.04  \n",
       "4              0               2.37  "
      ]
     },
     "execution_count": 58,
     "metadata": {},
     "output_type": "execute_result"
    }
   ],
   "source": [
    "num_data.head()"
   ]
  },
  {
   "cell_type": "code",
   "execution_count": 59,
   "metadata": {
    "collapsed": false
   },
   "outputs": [
    {
     "name": "stdout",
     "output_type": "stream",
     "text": [
      "Количество NaN:\n"
     ]
    },
    {
     "data": {
      "text/plain": [
       "DEMAND                        0\n",
       "MODEL_COST_AVG                0\n",
       "MODEL_COUNT_SALES_DAYS    18917\n",
       "MODEL_DIAG                  212\n",
       "MODEL_HEIGHT                212\n",
       "MODEL_MEAN_SALES          18917\n",
       "MODEL_WIDTH                 212\n",
       "STORE_ASSORTMENT            235\n",
       "STORE_BRAND_SPECTR          235\n",
       "STORE_DIAG_SPECTR           442\n",
       "STORE_RES_SPECTR            446\n",
       "STORE_TYPE_A                  0\n",
       "STORE_TYPE_B                  0\n",
       "STORE_TYPE_C                  0\n",
       "STORE_TYPE_SPECTR             0\n",
       "dtype: int64"
      ]
     },
     "execution_count": 59,
     "metadata": {},
     "output_type": "execute_result"
    }
   ],
   "source": [
    "# Количество NaN в числовых признаках\n",
    "print('Количество NaN:')\n",
    "nan_val = num_data.isnull().sum().T\n",
    "nan_val\n",
    "# print('Удаляем признаки с номерами: \\n'+ str(nan_val.sort_values(by='NoUniqueValues', ascending=False)))"
   ]
  },
  {
   "cell_type": "markdown",
   "metadata": {},
   "source": [
    "##### Преобразовываем числовые признаки (удаляем/добавляем/заменяем nan)"
   ]
  },
  {
   "cell_type": "code",
   "execution_count": 60,
   "metadata": {
    "collapsed": true
   },
   "outputs": [],
   "source": [
    "#без изменений вариант\n",
    "test_data = deepcopy(num_data)"
   ]
  },
  {
   "cell_type": "code",
   "execution_count": 61,
   "metadata": {
    "collapsed": true
   },
   "outputs": [],
   "source": [
    "# Здесь добавьте код по преобразованию числовых признаков\n",
    "\n",
    "# пример\n",
    "num_data['STORE_TYPE_A'][num_data['STORE_TYPE_A']<0.5]=0\n",
    "num_data['STORE_TYPE_B'][num_data['STORE_TYPE_B']<0.5]=0\n",
    "num_data['STORE_TYPE_C'][num_data['STORE_TYPE_C']<0.5]=0\n",
    "num_data['STORE_TYPE_A'][num_data['STORE_TYPE_A']>0.5]=1\n",
    "num_data['STORE_TYPE_B'][num_data['STORE_TYPE_B']>0.5]=1\n",
    "num_data['STORE_TYPE_C'][num_data['STORE_TYPE_C']>0.5]=1"
   ]
  },
  {
   "cell_type": "code",
   "execution_count": 30,
   "metadata": {
    "collapsed": false
   },
   "outputs": [],
   "source": [
    "features = []\n",
    "for feature in num_data.columns:\n",
    "    if num_data[feature].isnull().sum() > 0:\n",
    "        features.append(feature)"
   ]
  },
  {
   "cell_type": "code",
   "execution_count": 31,
   "metadata": {
    "collapsed": false
   },
   "outputs": [
    {
     "name": "stdout",
     "output_type": "stream",
     "text": [
      "['MODEL_COUNT_SALES_DAYS', 'MODEL_DIAG', 'MODEL_HEIGHT', 'MODEL_MEAN_SALES', 'MODEL_WIDTH', 'STORE_ASSORTMENT', 'STORE_BRAND_SPECTR', 'STORE_DIAG_SPECTR', 'STORE_RES_SPECTR']\n"
     ]
    }
   ],
   "source": [
    "print features"
   ]
  },
  {
   "cell_type": "code",
   "execution_count": 63,
   "metadata": {
    "collapsed": false
   },
   "outputs": [
    {
     "data": {
      "text/plain": [
       "Index([u'DEMAND', u'MODEL_COST_AVG', u'MODEL_COUNT_SALES_DAYS', u'MODEL_DIAG',\n",
       "       u'MODEL_HEIGHT', u'MODEL_MEAN_SALES', u'MODEL_WIDTH',\n",
       "       u'STORE_ASSORTMENT', u'STORE_BRAND_SPECTR', u'STORE_DIAG_SPECTR',\n",
       "       u'STORE_TYPE_A', u'STORE_TYPE_B', u'STORE_TYPE_C',\n",
       "       u'STORE_TYPE_SPECTR'],\n",
       "      dtype='object')"
      ]
     },
     "execution_count": 63,
     "metadata": {},
     "output_type": "execute_result"
    }
   ],
   "source": [
    "num_data[features] = num_data[features].fillna(0)\n",
    "test_data[features] = test_data[features].fillna(0)\n",
    "\n",
    "# Здесь добавьте код по удалению числовых признаков\n",
    "num_data.drop(['STORE_RES_SPECTR'], axis = 1, inplace=True)\n",
    "num_data.columns"
   ]
  },
  {
   "cell_type": "markdown",
   "metadata": {},
   "source": [
    "## Предсказание без категориальных признаков (1 балл)\n",
    "### Вспомогательные функции"
   ]
  },
  {
   "cell_type": "code",
   "execution_count": 64,
   "metadata": {
    "collapsed": true
   },
   "outputs": [],
   "source": [
    "def smape_loss_func(x, y):\n",
    "    SymAPE = [ 2*np.abs(x-y)/(np.abs(x)+np.abs(y))] \n",
    "    return np.mean(SymAPE)\n",
    "\n",
    "def get_numerated_data(df, categorical_columns):\n",
    "    simple_df = deepcopy(df)\n",
    "    for column in categorical_columns:\n",
    "        simple_df[column] = pd.Categorical.from_array(simple_df[column]).labels\n",
    "    \n",
    "    return simple_df\n",
    "\n",
    "def get_binarized_data(df, categorical_columns):\n",
    "    binary_df = deepcopy(df)\n",
    "    for column in categorical_columns:\n",
    "        binary_df = pd.concat([binary_df, pd.get_dummies(binary_df[column], prefix=column, prefix_sep=': ')], axis=1)\n",
    "        del binary_df[column]\n",
    "    \n",
    "    return binary_df\n",
    "\n",
    "def split_to_numpy(df, y_column_name):\n",
    "    #print df\n",
    "    #print y_column_name\n",
    "    data_x = df.drop(y_column_name, axis=1).values.astype(np.float32)\n",
    "    data_y = df[y_column_name].values.astype(np.float32)\n",
    "    column_names = df.drop(y_column_name, axis=1).columns\n",
    "    \n",
    "    return data_x, data_y, column_names\n",
    "\n",
    "def split_train_test(df, test_size=0.5, random_state=42, y_column_name='y'):\n",
    "    X = np.asarray(df.drop(y_column_name, axis=1))\n",
    "    y = np.asarray(df[y_column_name]).ravel()\n",
    "    trainX, testX, trainY, testY = cross_validation.train_test_split(X, y, test_size=test_size, random_state=42)\n",
    "    return trainX, testX, trainY, testY"
   ]
  },
  {
   "cell_type": "markdown",
   "metadata": {},
   "source": [
    "### Необходимые функции"
   ]
  },
  {
   "cell_type": "code",
   "execution_count": 73,
   "metadata": {
    "collapsed": false
   },
   "outputs": [],
   "source": [
    "def show_plot(n_est, res, title=\"\", ylabel=\"acc\"):\n",
    "    fig, ax = plt.subplots()\n",
    "    ax.plot(n_est, [res[x][1] for x in n_est], 'ro')\n",
    "#     ax.set_xlim((np.min(n_est) - 10, np.max(n_est) + 10))\n",
    "#     plt.xlabel(\"n_estimators\")\n",
    "#     plt.ylabel(ylabel)\n",
    "#     plt.title(\"Test result\")\n",
    "#     plt.show()\n",
    "    \n",
    "#     fig, ax = plt.subplots()\n",
    "    ax.plot(n_est, [res[x][0] for x in n_est], 'bo')\n",
    "    ax.set_xlim((np.min(n_est) - 10, np.max(n_est) + 10))\n",
    "    plt.xlabel(\"n_estimators\")\n",
    "    plt.ylabel(\"acc\")\n",
    "    plt.title(title)\n",
    "    plt.show()\n",
    "\n",
    "def get_results_dummy_reg(acc=smape_loss_func, verbose=True, strg ='mean', const=None):\n",
    "    results = dict()\n",
    "    reg = DummyRegressor(strategy=strg, constant=const)\n",
    "    reg.fit(trainX, trainY)\n",
    "    predict = reg.predict(testX)\n",
    "    results[1] = (acc(trainY, reg.predict(trainX)), acc(testY, predict))\n",
    "    if verbose:\n",
    "        print(\"Accuracy: \" + str(results[1][1]))\n",
    "    return results\n",
    "\n",
    "def get_results_baggind_rsm(n_est, max_samples, max_features, acc=smape_loss_func, verbose=True):\n",
    "    results = dict()\n",
    "    for i in n_est:\n",
    "        reg = BaggingRegressor(n_estimators=i,\n",
    "                          max_samples=max_samples, max_features=max_features, random_state=1234, n_jobs=-1, verbose=0)\n",
    "        reg.fit(trainX, trainY)\n",
    "#         results[i] = (mse(reg.predict(trainX), trainY), mse(reg.predict(testX), testY))\n",
    "        predict = reg.predict(testX)\n",
    "        results[i] = (acc(trainY, reg.predict(trainX)), acc(testY, predict))\n",
    "        if verbose:\n",
    "            print(\"Count of estimators: \" + str(i) + \", accuracy: \" + str(results[i][1]))\n",
    "    return results\n",
    "\n",
    "def get_results_rf(n_est, oob=False, verbose=True, acc=smape_loss_func):\n",
    "    results = dict()\n",
    "    for i in n_est:\n",
    "        reg = RandomForestRegressor(n_estimators=i, n_jobs=-1, random_state=1234, verbose=0,\n",
    "                                    oob_score=oob, max_features='sqrt')\n",
    "        reg.fit(trainX, trainY)\n",
    "        predict = reg.predict(testX)\n",
    "        if oob:\n",
    "            results[i] = (reg.oob_score_, acc(predict, testY))\n",
    "        else:\n",
    "            results[i] = (acc(trainY, reg.predict(trainX)), acc(testY,predict))\n",
    "        if verbose:\n",
    "            print(\"Count of estimators: \" + str(i) + \", accuracy: \" + str(results[i][1]))\n",
    "    return results\n",
    "\n",
    "def get_results_erte(n_est, verbose=True,acc=smape_loss_func):\n",
    "    results = dict()\n",
    "    for i in n_est:\n",
    "        reg = ExtraTreesRegressor(n_estimators=i, n_jobs=-1, random_state=12, verbose=0)\n",
    "        reg.fit(trainX, trainY)\n",
    "        predict = reg.predict(testX)\n",
    "        results[i] = (acc(trainY,reg.predict(trainX)), acc(predict, testY))\n",
    "        if verbose:\n",
    "            print(\"Count of estimators: \" + str(i) + \", accuracy: \" + str(results[i][1]))\n",
    "    return results\n",
    "\n",
    "def get_results_gbdt(n_est, verbose=True, init=None, acc=smape_loss_func, min_max_filter=True, max_val=1, min_val=0.001):\n",
    "    results = dict()\n",
    "    for i in n_est:\n",
    "        if init is not None:\n",
    "            reg = GradientBoostingRegressor(n_estimators=i, random_state=1234, verbose=0, init=init)\n",
    "        else:\n",
    "            reg = GradientBoostingRegressor(n_estimators=i, random_state=1234, verbose=0)\n",
    "        reg.fit(trainX, trainY)\n",
    "        predict = reg.predict(testX)\n",
    "        if min_max_filter:\n",
    "            predict = np.minimum(np.maximum(predict, min_val),max_val)\n",
    "        results[i] = (acc(trainY, reg.predict(trainX)), acc(testY, predict))\n",
    "        if verbose:\n",
    "            print(\"Count of estimators: \" + str(i) + \", accuracy: \" + str(results[i][1]))    \n",
    "    return results\n",
    "\n",
    "def get_optimal(results):\n",
    "    results = sorted(results, key=lambda x: x[1])"
   ]
  },
  {
   "cell_type": "markdown",
   "metadata": {},
   "source": [
    "### Делим выборку на обучение и контроль"
   ]
  },
  {
   "cell_type": "code",
   "execution_count": 66,
   "metadata": {
    "collapsed": false
   },
   "outputs": [],
   "source": [
    "trainX, testX, trainY, testY = split_train_test(df = num_data, test_size=0.1,  y_column_name='DEMAND')"
   ]
  },
  {
   "cell_type": "markdown",
   "metadata": {},
   "source": [
    "### DummyRegressor\n",
    "* Самый простой классификатор на числовых признаках используется как база для сравнения"
   ]
  },
  {
   "cell_type": "code",
   "execution_count": 68,
   "metadata": {
    "collapsed": false
   },
   "outputs": [
    {
     "name": "stdout",
     "output_type": "stream",
     "text": [
      "Accuracy: 1.24306344718\n",
      "CPU times: user 1.26 ms, sys: 640 µs, total: 1.9 ms\n",
      "Wall time: 1.9 ms\n",
      "Accuracy: 1.81014628129\n",
      "CPU times: user 939 µs, sys: 0 ns, total: 939 µs\n",
      "Wall time: 1.31 ms\n"
     ]
    }
   ],
   "source": [
    "%time results = get_results_dummy_reg()\n",
    "%time results = get_results_dummy_reg(strg='constant', const=0.001)"
   ]
  },
  {
   "cell_type": "markdown",
   "metadata": {},
   "source": [
    "### Bagging and RSM\n",
    "Диапазон для n_est рекомендуется брать небольшим\n",
    "\n",
    "Если трубется изменять дефолтные параметры алгоритма - меняйте код выше"
   ]
  },
  {
   "cell_type": "markdown",
   "metadata": {},
   "source": [
    "** Каким стоит брать размер bootstrap выборки и RSM выборки ** \n",
    "Например: \n",
    "**Bagging:** 0.5 от размера тестовой выборки.\n",
    "\n",
    "**RSM:** 0.5 от размера тестовой выборки."
   ]
  },
  {
   "cell_type": "code",
   "execution_count": 69,
   "metadata": {
    "collapsed": false
   },
   "outputs": [
    {
     "name": "stdout",
     "output_type": "stream",
     "text": [
      "Count of estimators: 10, accuracy: 1.21176116818\n",
      "Count of estimators: 20, accuracy: 1.20546831049\n",
      "Count of estimators: 30, accuracy: 1.21213657012\n",
      "Count of estimators: 40, accuracy: 1.21276740585\n",
      "Count of estimators: 50, accuracy: 1.21481283448\n",
      "Count of estimators: 60, accuracy: 1.21288236144\n",
      "Count of estimators: 70, accuracy: 1.21626765137\n",
      "Count of estimators: 80, accuracy: 1.21438832423\n",
      "Count of estimators: 90, accuracy: 1.21157431788\n",
      "Count of estimators: 100, accuracy: 1.21156165038\n",
      "Count of estimators: 110, accuracy: 1.21137791847\n",
      "Count of estimators: 120, accuracy: 1.21247715004\n",
      "Count of estimators: 130, accuracy: 1.21408960818\n",
      "Count of estimators: 140, accuracy: 1.21382126703\n",
      "CPU times: user 12.6 s, sys: 13.2 s, total: 25.8 s\n",
      "Wall time: 39.1 s\n"
     ]
    },
    {
     "data": {
      "image/png": "[encoded data removed]",
      "text/plain": [
       "<matplotlib.figure.Figure at 0x7f0655d59450>"
      ]
     },
     "metadata": {},
     "output_type": "display_data"
    }
   ],
   "source": [
    "n_est = range(10, 150, 10)\n",
    "%time results = get_results_baggind_rsm(n_est, 0.5, 0.5, verbose=True)\n",
    "show_plot(n_est, results)"
   ]
  },
  {
   "cell_type": "markdown",
   "metadata": {},
   "source": [
    "### Random Forest\n",
    "Диапазон для n_est рекомендуется брать небольшим\n",
    "\n",
    "Если трубется изменять дефолтные параметры алгоритма - меняйте код выше"
   ]
  },
  {
   "cell_type": "code",
   "execution_count": 70,
   "metadata": {
    "collapsed": false
   },
   "outputs": [
    {
     "name": "stdout",
     "output_type": "stream",
     "text": [
      "Count of estimators: 10, accuracy: 1.14750326418\n",
      "Count of estimators: 20, accuracy: 1.19079209072\n",
      "Count of estimators: 30, accuracy: 1.202870609\n",
      "Count of estimators: 40, accuracy: 1.20988840119\n",
      "Count of estimators: 50, accuracy: 1.21082573286\n",
      "Count of estimators: 60, accuracy: 1.2143448492\n",
      "Count of estimators: 70, accuracy: 1.21500776834\n",
      "Count of estimators: 80, accuracy: 1.21646848564\n",
      "Count of estimators: 90, accuracy: 1.21776706812\n",
      "Count of estimators: 100, accuracy: 1.2184335711\n",
      "Count of estimators: 110, accuracy: 1.21834810699\n",
      "Count of estimators: 120, accuracy: 1.21795573953\n",
      "Count of estimators: 130, accuracy: 1.21776931967\n",
      "Count of estimators: 140, accuracy: 1.21683105819\n",
      "CPU times: user 1min 30s, sys: 2 s, total: 1min 32s\n",
      "Wall time: 11.4 s\n"
     ]
    },
    {
     "data": {
      "image/png": "[encoded data removed]",
      "text/plain": [
       "<matplotlib.figure.Figure at 0x7f06563e8790>"
      ]
     },
     "metadata": {},
     "output_type": "display_data"
    }
   ],
   "source": [
    "n_est = range(10, 150, 10)\n",
    "%time results = get_results_rf(n_est)\n",
    "show_plot(n_est, results)"
   ]
  },
  {
   "cell_type": "markdown",
   "metadata": {},
   "source": [
    "### Extremely Randomized Trees Ensemble\n",
    "Диапазон для n_est рекомендуется брать небольшим\n",
    "\n",
    "Если трубется изменять дефолтные параметры алгоритма - меняйте код выше"
   ]
  },
  {
   "cell_type": "code",
   "execution_count": 74,
   "metadata": {
    "collapsed": false
   },
   "outputs": [
    {
     "name": "stdout",
     "output_type": "stream",
     "text": [
      "Count of estimators: 10, accuracy: 1.11491067377\n",
      "Count of estimators: 20, accuracy: 1.17244779479\n",
      "Count of estimators: 30, accuracy: 1.19164393215\n",
      "Count of estimators: 40, accuracy: 1.20184609665\n",
      "Count of estimators: 50, accuracy: 1.20684291284\n",
      "Count of estimators: 60, accuracy: 1.20979916421\n",
      "Count of estimators: 70, accuracy: 1.21211058755\n",
      "Count of estimators: 80, accuracy: 1.214271505\n",
      "Count of estimators: 90, accuracy: 1.21482360132\n",
      "Count of estimators: 100, accuracy: 1.21431803564\n",
      "Count of estimators: 110, accuracy: 1.21476939337\n",
      "Count of estimators: 120, accuracy: 1.21534473985\n",
      "Count of estimators: 130, accuracy: 1.21537528033\n",
      "Count of estimators: 140, accuracy: 1.21401967666\n",
      "CPU times: user 2min 46s, sys: 2.88 s, total: 2min 49s\n",
      "Wall time: 17 s\n"
     ]
    },
    {
     "data": {
      "image/png": "[encoded data removed]",
      "text/plain": [
       "<matplotlib.figure.Figure at 0x7f0655592ad0>"
      ]
     },
     "metadata": {},
     "output_type": "display_data"
    }
   ],
   "source": [
    "n_est = range(10, 150, 10)\n",
    "%time results = get_results_erte(n_est)\n",
    "show_plot(n_est, results)"
   ]
  },
  {
   "cell_type": "markdown",
   "metadata": {},
   "source": [
    "## Gradient Boosted Decision Trees\n",
    "Диапазон для n_est рекомендуется брать небольшим\n",
    "\n",
    "Если трубется изменять дефолтные параметры алгоритма - меняйте код выше"
   ]
  },
  {
   "cell_type": "code",
   "execution_count": 72,
   "metadata": {
    "collapsed": false
   },
   "outputs": [
    {
     "name": "stdout",
     "output_type": "stream",
     "text": [
      "Count of estimators: 10, accuracy: 1.22977470358\n",
      "Count of estimators: 20, accuracy: 1.22639236183\n",
      "Count of estimators: 30, accuracy: 1.22541568924\n",
      "Count of estimators: 40, accuracy: 1.22768741816\n",
      "Count of estimators: 50, accuracy: 1.22557414292\n",
      "Count of estimators: 60, accuracy: 1.22574481035\n",
      "Count of estimators: 70, accuracy: 1.22415032792\n",
      "Count of estimators: 80, accuracy: 1.22401751986\n",
      "Count of estimators: 90, accuracy: 1.22416706013\n",
      "Count of estimators: 100, accuracy: 1.22184289628\n",
      "Count of estimators: 110, accuracy: 1.2239811729\n",
      "Count of estimators: 120, accuracy: 1.2237929322\n",
      "Count of estimators: 130, accuracy: 1.22398520643\n",
      "Count of estimators: 140, accuracy: 1.22351940855\n",
      "CPU times: user 23.7 s, sys: 0 ns, total: 23.7 s\n",
      "Wall time: 23.7 s\n"
     ]
    },
    {
     "data": {
      "image/png": "[encoded data removed]",
      "text/plain": [
       "<matplotlib.figure.Figure at 0x7f065569d290>"
      ]
     },
     "metadata": {},
     "output_type": "display_data"
    }
   ],
   "source": [
    "n_est = range(10, 150, 10)\n",
    "%time results = get_results_gbdt(n_est)\n",
    "show_plot(n_est, results)"
   ]
  },
  {
   "cell_type": "markdown",
   "metadata": {},
   "source": [
    "### Вывод\n",
    "Переобучаются ExtraDT, остальные методы показывают результаты на одном уровне (в пределах погрешности).\n",
    "\n",
    "Для RF и Baggin+RSM оптимальные значения кол-ва близко к 20.\n",
    "\n",
    "Для GBDT оптимальное количество алгоритмов находится в районе 50."
   ]
  },
  {
   "cell_type": "markdown",
   "metadata": {},
   "source": [
    "**Вопрос: Дайте интепретацию полученным результатам в вашем случае.**\n",
    "\n",
    "Bagging и Boosting дают примерно одинаковые результаты: нужно работать как над уменьшением смещения, так и разброса.\n",
    "Видимо, ..."
   ]
  },
  {
   "cell_type": "code",
   "execution_count": 75,
   "metadata": {
    "collapsed": false
   },
   "outputs": [
    {
     "name": "stdout",
     "output_type": "stream",
     "text": [
      "Count of estimators: 1, accuracy: 0.851155367578\n",
      "Count of estimators: 2, accuracy: 0.915688646412\n",
      "Count of estimators: 3, accuracy: 0.960120807826\n",
      "Count of estimators: 4, accuracy: 1.00806942614\n",
      "Count of estimators: 5, accuracy: 1.03380852823\n",
      "Count of estimators: 6, accuracy: 1.05782041493\n",
      "Count of estimators: 7, accuracy: 1.07463014338\n",
      "Count of estimators: 8, accuracy: 1.08944564217\n",
      "Count of estimators: 9, accuracy: 1.10442768912\n",
      "CPU times: user 6.23 s, sys: 201 ms, total: 6.43 s\n",
      "Wall time: 4.22 s\n"
     ]
    },
    {
     "data": {
      "image/png": "[encoded data removed]",
      "text/plain": [
       "<matplotlib.figure.Figure at 0x7f0655592d10>"
      ]
     },
     "metadata": {},
     "output_type": "display_data"
    }
   ],
   "source": [
    "n_est = range(1, 10, 1)\n",
    "%time results = get_results_erte(n_est)\n",
    "show_plot(n_est, results)"
   ]
  },
  {
   "cell_type": "code",
   "execution_count": 77,
   "metadata": {
    "collapsed": false
   },
   "outputs": [
    {
     "name": "stdout",
     "output_type": "stream",
     "text": [
      "Count of estimators: 1, accuracy: 0.856017556133\n",
      "Count of estimators: 2, accuracy: 0.933179602437\n",
      "Count of estimators: 3, accuracy: 0.99419697981\n",
      "Count of estimators: 4, accuracy: 1.04059482184\n",
      "Count of estimators: 5, accuracy: 1.06661817429\n",
      "Count of estimators: 6, accuracy: 1.0910662704\n",
      "Count of estimators: 7, accuracy: 1.10763600943\n",
      "Count of estimators: 8, accuracy: 1.11995128435\n",
      "Count of estimators: 9, accuracy: 1.13637274334\n",
      "Count of estimators: 10, accuracy: 1.14750326418\n",
      "CPU times: user 4.36 s, sys: 102 ms, total: 4.46 s\n",
      "Wall time: 3.82 s\n"
     ]
    },
    {
     "data": {
      "image/png": "[encoded data removed]",
      "text/plain": [
       "<matplotlib.figure.Figure at 0x7f0655d66f90>"
      ]
     },
     "metadata": {},
     "output_type": "display_data"
    }
   ],
   "source": [
    "n_est = range(1, 11, 1)\n",
    "%time results = get_results_rf(n_est)\n",
    "show_plot(n_est, results)"
   ]
  },
  {
   "cell_type": "code",
   "execution_count": 79,
   "metadata": {
    "collapsed": false
   },
   "outputs": [
    {
     "name": "stdout",
     "output_type": "stream",
     "text": [
      "Count of estimators: 150, accuracy: 1.22275785335\n",
      "Count of estimators: 160, accuracy: 1.22234185377\n",
      "Count of estimators: 170, accuracy: 1.2225610307\n",
      "Count of estimators: 180, accuracy: 1.22199585302\n",
      "Count of estimators: 190, accuracy: 1.22161030435\n",
      "Count of estimators: 200, accuracy: 1.224125918\n",
      "Count of estimators: 210, accuracy: 1.22417442024\n",
      "Count of estimators: 220, accuracy: 1.22503394281\n",
      "Count of estimators: 230, accuracy: 1.22554497867\n",
      "Count of estimators: 240, accuracy: 1.22599263572\n",
      "CPU times: user 48.5 s, sys: 0 ns, total: 48.5 s\n",
      "Wall time: 48.5 s\n"
     ]
    },
    {
     "data": {
      "image/png": "[encoded data removed]",
      "text/plain": [
       "<matplotlib.figure.Figure at 0x7f0655caf2d0>"
      ]
     },
     "metadata": {},
     "output_type": "display_data"
    }
   ],
   "source": [
    "n_est = range(150, 250, 10)\n",
    "%time results = get_results_gbdt(n_est)\n",
    "show_plot(n_est, results)"
   ]
  },
  {
   "cell_type": "markdown",
   "metadata": {},
   "source": [
    "Для модифицированных данных лучше всего работает ExtraDT и RF"
   ]
  },
  {
   "cell_type": "code",
   "execution_count": 80,
   "metadata": {
    "collapsed": true
   },
   "outputs": [],
   "source": [
    "#Неизмененные данные:\n",
    "trainX, testX, trainY, testY = split_train_test(df = test_data, test_size=0.1,  y_column_name='DEMAND')"
   ]
  },
  {
   "cell_type": "code",
   "execution_count": 81,
   "metadata": {
    "collapsed": false
   },
   "outputs": [
    {
     "name": "stdout",
     "output_type": "stream",
     "text": [
      "Count of estimators: 1, accuracy: 0.861795824368\n",
      "Count of estimators: 2, accuracy: 0.942107157544\n",
      "Count of estimators: 3, accuracy: 1.00362923835\n",
      "Count of estimators: 4, accuracy: 1.04860641787\n",
      "Count of estimators: 5, accuracy: 1.07706905619\n",
      "Count of estimators: 6, accuracy: 1.0998258603\n",
      "Count of estimators: 7, accuracy: 1.10879472885\n",
      "Count of estimators: 8, accuracy: 1.1231793936\n",
      "Count of estimators: 9, accuracy: 1.13575840538\n",
      "CPU times: user 6.56 s, sys: 201 ms, total: 6.77 s\n",
      "Wall time: 4.22 s\n"
     ]
    },
    {
     "data": {
      "image/png": "[encoded data removed]",
      "text/plain": [
       "<matplotlib.figure.Figure at 0x7f06553eb110>"
      ]
     },
     "metadata": {},
     "output_type": "display_data"
    }
   ],
   "source": [
    "n_est = range(1, 10, 1)\n",
    "%time results = get_results_erte(n_est)\n",
    "show_plot(n_est, results)"
   ]
  },
  {
   "cell_type": "markdown",
   "metadata": {},
   "source": [
    "(работает хуже)"
   ]
  },
  {
   "cell_type": "markdown",
   "metadata": {},
   "source": [
    "## Использование категориальных признаков (1 балл)\n",
    "* Проведите аналогичный экспермент при наличии категориальных признаков"
   ]
  },
  {
   "cell_type": "markdown",
   "metadata": {},
   "source": [
    "### Обучение и Контроль"
   ]
  },
  {
   "cell_type": "code",
   "execution_count": 93,
   "metadata": {
    "collapsed": false
   },
   "outputs": [
    {
     "data": {
      "text/html": [
       "<div>\n",
       "<table border=\"1\" class=\"dataframe\">\n",
       "  <thead>\n",
       "    <tr style=\"text-align: right;\">\n",
       "      <th></th>\n",
       "      <th>DEMAND</th>\n",
       "      <th>LOCATION_ID</th>\n",
       "      <th>MODEL_BRAND</th>\n",
       "      <th>MODEL_COST_AVG</th>\n",
       "      <th>MODEL_COUNT_SALES_DAYS</th>\n",
       "      <th>MODEL_DIAG</th>\n",
       "      <th>MODEL_DIAG_TYPE</th>\n",
       "      <th>MODEL_HEIGHT</th>\n",
       "      <th>MODEL_ID</th>\n",
       "      <th>MODEL_MEAN_SALES</th>\n",
       "      <th>...</th>\n",
       "      <th>STORE_DIAG_SPECTR</th>\n",
       "      <th>STORE_FORMAT</th>\n",
       "      <th>STORE_OPEN_DTTM</th>\n",
       "      <th>STORE_REGION</th>\n",
       "      <th>STORE_RES_ABC</th>\n",
       "      <th>STORE_RES_SPECTR</th>\n",
       "      <th>STORE_TYPE_A</th>\n",
       "      <th>STORE_TYPE_B</th>\n",
       "      <th>STORE_TYPE_C</th>\n",
       "      <th>STORE_TYPE_SPECTR</th>\n",
       "    </tr>\n",
       "    <tr>\n",
       "      <th>ID</th>\n",
       "      <th></th>\n",
       "      <th></th>\n",
       "      <th></th>\n",
       "      <th></th>\n",
       "      <th></th>\n",
       "      <th></th>\n",
       "      <th></th>\n",
       "      <th></th>\n",
       "      <th></th>\n",
       "      <th></th>\n",
       "      <th></th>\n",
       "      <th></th>\n",
       "      <th></th>\n",
       "      <th></th>\n",
       "      <th></th>\n",
       "      <th></th>\n",
       "      <th></th>\n",
       "      <th></th>\n",
       "      <th></th>\n",
       "      <th></th>\n",
       "      <th></th>\n",
       "    </tr>\n",
       "  </thead>\n",
       "  <tbody>\n",
       "    <tr>\n",
       "      <th>0</th>\n",
       "      <td>0.10536</td>\n",
       "      <td>1835543262</td>\n",
       "      <td>ark</td>\n",
       "      <td>5179.7500</td>\n",
       "      <td>NaN</td>\n",
       "      <td>5.5</td>\n",
       "      <td>big</td>\n",
       "      <td>720</td>\n",
       "      <td>1682</td>\n",
       "      <td>NaN</td>\n",
       "      <td>...</td>\n",
       "      <td>0.78</td>\n",
       "      <td>новый формат</td>\n",
       "      <td>19MAY15:00:00:00</td>\n",
       "      <td>северо-запад</td>\n",
       "      <td>B</td>\n",
       "      <td>0.67</td>\n",
       "      <td>0.75</td>\n",
       "      <td>0.25</td>\n",
       "      <td>0</td>\n",
       "      <td>3.06</td>\n",
       "    </tr>\n",
       "    <tr>\n",
       "      <th>1</th>\n",
       "      <td>0.00010</td>\n",
       "      <td>1972241965</td>\n",
       "      <td>samsung</td>\n",
       "      <td>22015.3300</td>\n",
       "      <td>NaN</td>\n",
       "      <td>5.2</td>\n",
       "      <td>big</td>\n",
       "      <td>1920</td>\n",
       "      <td>34706</td>\n",
       "      <td>NaN</td>\n",
       "      <td>...</td>\n",
       "      <td>0.65</td>\n",
       "      <td>новый формат</td>\n",
       "      <td>20JAN16:00:00:00</td>\n",
       "      <td>северо-запад</td>\n",
       "      <td>C</td>\n",
       "      <td>0.48</td>\n",
       "      <td>0.00</td>\n",
       "      <td>1.00</td>\n",
       "      <td>0</td>\n",
       "      <td>2.51</td>\n",
       "    </tr>\n",
       "    <tr>\n",
       "      <th>2</th>\n",
       "      <td>0.00010</td>\n",
       "      <td>2027986985</td>\n",
       "      <td>samsung</td>\n",
       "      <td>15592.5900</td>\n",
       "      <td>NaN</td>\n",
       "      <td>5.0</td>\n",
       "      <td>big</td>\n",
       "      <td>1280</td>\n",
       "      <td>2753</td>\n",
       "      <td>NaN</td>\n",
       "      <td>...</td>\n",
       "      <td>0.67</td>\n",
       "      <td>новый формат</td>\n",
       "      <td>27APR16:00:00:00</td>\n",
       "      <td>дальний восток</td>\n",
       "      <td>A</td>\n",
       "      <td>0.64</td>\n",
       "      <td>1.00</td>\n",
       "      <td>0.00</td>\n",
       "      <td>0</td>\n",
       "      <td>2.72</td>\n",
       "    </tr>\n",
       "    <tr>\n",
       "      <th>3</th>\n",
       "      <td>0.00010</td>\n",
       "      <td>28432</td>\n",
       "      <td>alcatel</td>\n",
       "      <td>540.9533</td>\n",
       "      <td>29</td>\n",
       "      <td>1.8</td>\n",
       "      <td>small</td>\n",
       "      <td>128</td>\n",
       "      <td>1593</td>\n",
       "      <td>7.533</td>\n",
       "      <td>...</td>\n",
       "      <td>0.60</td>\n",
       "      <td>стандарт</td>\n",
       "      <td>21OCT09:00:00:00</td>\n",
       "      <td>северо-запад</td>\n",
       "      <td>B</td>\n",
       "      <td>0.65</td>\n",
       "      <td>0.50</td>\n",
       "      <td>0.25</td>\n",
       "      <td>0</td>\n",
       "      <td>2.04</td>\n",
       "    </tr>\n",
       "    <tr>\n",
       "      <th>4</th>\n",
       "      <td>0.00010</td>\n",
       "      <td>28547</td>\n",
       "      <td>мтс</td>\n",
       "      <td>444.7300</td>\n",
       "      <td>30</td>\n",
       "      <td>4.0</td>\n",
       "      <td>medium</td>\n",
       "      <td>480</td>\n",
       "      <td>80644</td>\n",
       "      <td>16.830</td>\n",
       "      <td>...</td>\n",
       "      <td>0.71</td>\n",
       "      <td>стандарт</td>\n",
       "      <td>20MAY09:00:00:00</td>\n",
       "      <td>северо-запад</td>\n",
       "      <td>A</td>\n",
       "      <td>0.83</td>\n",
       "      <td>0.75</td>\n",
       "      <td>0.25</td>\n",
       "      <td>0</td>\n",
       "      <td>2.37</td>\n",
       "    </tr>\n",
       "  </tbody>\n",
       "</table>\n",
       "<p>5 rows × 32 columns</p>\n",
       "</div>"
      ],
      "text/plain": [
       "     DEMAND  LOCATION_ID MODEL_BRAND  MODEL_COST_AVG  MODEL_COUNT_SALES_DAYS  \\\n",
       "ID                                                                             \n",
       "0   0.10536   1835543262         ark       5179.7500                     NaN   \n",
       "1   0.00010   1972241965     samsung      22015.3300                     NaN   \n",
       "2   0.00010   2027986985     samsung      15592.5900                     NaN   \n",
       "3   0.00010        28432     alcatel        540.9533                      29   \n",
       "4   0.00010        28547         мтс        444.7300                      30   \n",
       "\n",
       "    MODEL_DIAG MODEL_DIAG_TYPE  MODEL_HEIGHT  MODEL_ID  MODEL_MEAN_SALES  \\\n",
       "ID                                                                         \n",
       "0          5.5             big           720      1682               NaN   \n",
       "1          5.2             big          1920     34706               NaN   \n",
       "2          5.0             big          1280      2753               NaN   \n",
       "3          1.8           small           128      1593             7.533   \n",
       "4          4.0          medium           480     80644            16.830   \n",
       "\n",
       "          ...        STORE_DIAG_SPECTR  STORE_FORMAT   STORE_OPEN_DTTM  \\\n",
       "ID        ...                                                            \n",
       "0         ...                     0.78  новый формат  19MAY15:00:00:00   \n",
       "1         ...                     0.65  новый формат  20JAN16:00:00:00   \n",
       "2         ...                     0.67  новый формат  27APR16:00:00:00   \n",
       "3         ...                     0.60      стандарт  21OCT09:00:00:00   \n",
       "4         ...                     0.71      стандарт  20MAY09:00:00:00   \n",
       "\n",
       "      STORE_REGION  STORE_RES_ABC  STORE_RES_SPECTR STORE_TYPE_A  \\\n",
       "ID                                                                 \n",
       "0     северо-запад              B              0.67         0.75   \n",
       "1     северо-запад              C              0.48         0.00   \n",
       "2   дальний восток              A              0.64         1.00   \n",
       "3     северо-запад              B              0.65         0.50   \n",
       "4     северо-запад              A              0.83         0.75   \n",
       "\n",
       "    STORE_TYPE_B STORE_TYPE_C STORE_TYPE_SPECTR  \n",
       "ID                                               \n",
       "0           0.25            0              3.06  \n",
       "1           1.00            0              2.51  \n",
       "2           0.00            0              2.72  \n",
       "3           0.25            0              2.04  \n",
       "4           0.25            0              2.37  \n",
       "\n",
       "[5 rows x 32 columns]"
      ]
     },
     "execution_count": 93,
     "metadata": {},
     "output_type": "execute_result"
    }
   ],
   "source": [
    "cat_data.head()"
   ]
  },
  {
   "cell_type": "code",
   "execution_count": 94,
   "metadata": {
    "collapsed": false
   },
   "outputs": [
    {
     "name": "stderr",
     "output_type": "stream",
     "text": [
      "/root/miniconda/envs/rep_py2/lib/python2.7/site-packages/ipykernel/__main__.py:2: SettingWithCopyWarning: \n",
      "A value is trying to be set on a copy of a slice from a DataFrame\n",
      "\n",
      "See the caveats in the documentation: http://pandas.pydata.org/pandas-docs/stable/indexing.html#indexing-view-versus-copy\n",
      "  from ipykernel import kernelapp as app\n",
      "/root/miniconda/envs/rep_py2/lib/python2.7/site-packages/ipykernel/__main__.py:3: SettingWithCopyWarning: \n",
      "A value is trying to be set on a copy of a slice from a DataFrame\n",
      "\n",
      "See the caveats in the documentation: http://pandas.pydata.org/pandas-docs/stable/indexing.html#indexing-view-versus-copy\n",
      "  app.launch_new_instance()\n",
      "/root/miniconda/envs/rep_py2/lib/python2.7/site-packages/ipykernel/__main__.py:4: SettingWithCopyWarning: \n",
      "A value is trying to be set on a copy of a slice from a DataFrame\n",
      "\n",
      "See the caveats in the documentation: http://pandas.pydata.org/pandas-docs/stable/indexing.html#indexing-view-versus-copy\n",
      "/root/miniconda/envs/rep_py2/lib/python2.7/site-packages/ipykernel/__main__.py:5: SettingWithCopyWarning: \n",
      "A value is trying to be set on a copy of a slice from a DataFrame\n",
      "\n",
      "See the caveats in the documentation: http://pandas.pydata.org/pandas-docs/stable/indexing.html#indexing-view-versus-copy\n",
      "/root/miniconda/envs/rep_py2/lib/python2.7/site-packages/ipykernel/__main__.py:6: SettingWithCopyWarning: \n",
      "A value is trying to be set on a copy of a slice from a DataFrame\n",
      "\n",
      "See the caveats in the documentation: http://pandas.pydata.org/pandas-docs/stable/indexing.html#indexing-view-versus-copy\n",
      "/root/miniconda/envs/rep_py2/lib/python2.7/site-packages/ipykernel/__main__.py:7: SettingWithCopyWarning: \n",
      "A value is trying to be set on a copy of a slice from a DataFrame\n",
      "\n",
      "See the caveats in the documentation: http://pandas.pydata.org/pandas-docs/stable/indexing.html#indexing-view-versus-copy\n"
     ]
    }
   ],
   "source": [
    "#Работаем с cat_data:\n",
    "cat_data['STORE_TYPE_A'][cat_data['STORE_TYPE_A']<0.5]=0\n",
    "cat_data['STORE_TYPE_B'][cat_data['STORE_TYPE_B']<0.5]=0\n",
    "cat_data['STORE_TYPE_C'][cat_data['STORE_TYPE_C']<0.5]=0\n",
    "cat_data['STORE_TYPE_A'][cat_data['STORE_TYPE_A']>0.5]=1\n",
    "cat_data['STORE_TYPE_B'][cat_data['STORE_TYPE_B']>0.5]=1\n",
    "cat_data['STORE_TYPE_C'][cat_data['STORE_TYPE_C']>0.5]=1"
   ]
  },
  {
   "cell_type": "code",
   "execution_count": 96,
   "metadata": {
    "collapsed": false
   },
   "outputs": [
    {
     "data": {
      "text/plain": [
       "Index([u'DEMAND', u'LOCATION_ID', u'MODEL_BRAND', u'MODEL_COST_AVG',\n",
       "       u'MODEL_COUNT_SALES_DAYS', u'MODEL_DIAG', u'MODEL_DIAG_TYPE',\n",
       "       u'MODEL_HEIGHT', u'MODEL_ID', u'MODEL_MEAN_SALES', u'MODEL_NAME',\n",
       "       u'MODEL_OS', u'MODEL_RES_TYPE', u'MODEL_TYPE', u'MODEL_WIDTH',\n",
       "       u'STORE_ASSORTMENT', u'STORE_BRAND_ABC', u'STORE_BRAND_SPECTR',\n",
       "       u'STORE_BUILDING_TYPE', u'STORE_CITY', u'STORE_CLUSTER',\n",
       "       u'STORE_DIAG_ABC', u'STORE_DIAG_SPECTR', u'STORE_FORMAT',\n",
       "       u'STORE_OPEN_DTTM', u'STORE_REGION', u'STORE_RES_ABC', u'STORE_TYPE_A',\n",
       "       u'STORE_TYPE_B', u'STORE_TYPE_C', u'STORE_TYPE_SPECTR'],\n",
       "      dtype='object')"
      ]
     },
     "execution_count": 96,
     "metadata": {},
     "output_type": "execute_result"
    }
   ],
   "source": [
    "cat_data[features] = cat_data[features].fillna(0)\n",
    "\n",
    "# Здесь добавьте код по удалению числовых признаков\n",
    "cat_data.drop(['STORE_RES_SPECTR'], axis = 1, inplace=True)\n",
    "cat_data.columns"
   ]
  },
  {
   "cell_type": "code",
   "execution_count": 97,
   "metadata": {
    "collapsed": false
   },
   "outputs": [
    {
     "name": "stdout",
     "output_type": "stream",
     "text": [
      "(40000, 841)\n"
     ]
    }
   ],
   "source": [
    "# Для обучения используются полезные категориальные признаки\n",
    "bin_data = get_binarized_data(cat_data, Categorical_columns_use)\n",
    "print(bin_data.shape)"
   ]
  },
  {
   "cell_type": "markdown",
   "metadata": {},
   "source": [
    "##### Исключаем лишние произнаки, заменяем NaN"
   ]
  },
  {
   "cell_type": "code",
   "execution_count": null,
   "metadata": {
    "collapsed": true
   },
   "outputs": [],
   "source": [
    "# Удаляем лишние категоримальные признаки\n",
    "bin_data.drop(Cathegorical_columns[лишние категориальные признаки], axis = 1, inplace=True)"
   ]
  },
  {
   "cell_type": "code",
   "execution_count": null,
   "metadata": {
    "collapsed": true
   },
   "outputs": [],
   "source": [
    "# Удаляем лишние числвые признаки признаки\n",
    "bin_data = bin_data.drop([лишние числовые признаки], axis = 1, inplace = True)"
   ]
  },
  {
   "cell_type": "code",
   "execution_count": 98,
   "metadata": {
    "collapsed": true
   },
   "outputs": [],
   "source": [
    "# Заменяем NaN\n",
    "bin_data.fillna(0, inplace = True)"
   ]
  },
  {
   "cell_type": "code",
   "execution_count": 99,
   "metadata": {
    "collapsed": false
   },
   "outputs": [],
   "source": [
    "# Делим выборку на обучение и контроль\n",
    "trainX, testX, trainY, testY = split_train_test(df = bin_data, test_size=0.1,  y_column_name='DEMAND')"
   ]
  },
  {
   "cell_type": "markdown",
   "metadata": {},
   "source": [
    "### Bagging and RSM\n",
    "Диапазон для n_est рекомендуется брать небольшим\n",
    "\n",
    "Если трубется изменять дефолтные параметры алгоритма - меняйте код выше"
   ]
  },
  {
   "cell_type": "code",
   "execution_count": 293,
   "metadata": {
    "collapsed": false
   },
   "outputs": [
    {
     "name": "stdout",
     "output_type": "stream",
     "text": [
      "Count of estimators: 10, accuracy: 1.15699968877\n",
      "Count of estimators: 20, accuracy: 1.18203437582\n",
      "Count of estimators: 30, accuracy: 1.18645092593\n",
      "Count of estimators: 40, accuracy: 1.1896945103\n",
      "Count of estimators: 50, accuracy: 1.19407763041\n",
      "Count of estimators: 60, accuracy: 1.19573702042\n",
      "Count of estimators: 70, accuracy: 1.19544348245\n",
      "Count of estimators: 80, accuracy: 1.19694194811\n",
      "Count of estimators: 90, accuracy: 1.19571517851\n",
      "Count of estimators: 100, accuracy: 1.19695077391\n",
      "Count of estimators: 110, accuracy: 1.19581644326\n",
      "Count of estimators: 120, accuracy: 1.19506062393\n",
      "Count of estimators: 130, accuracy: 1.19445445735\n",
      "Count of estimators: 140, accuracy: 1.19348136202\n",
      "Wall time: 13min 17s\n"
     ]
    },
    {
     "data": {
      "image/png": "[encoded data removed]",
      "text/plain": [
       "<matplotlib.figure.Figure at 0x2379a438>"
      ]
     },
     "metadata": {},
     "output_type": "display_data"
    }
   ],
   "source": [
    "n_est = range(10, 150, 10)\n",
    "%time results = get_results_baggind_rsm(n_est, 0.9, 0.9, verbose=True)\n",
    "show_plot(n_est, results)"
   ]
  },
  {
   "cell_type": "markdown",
   "metadata": {},
   "source": [
    "### Random Forest\n",
    "Диапазон для n_est рекомендуется брать небольшим\n",
    "\n",
    "Если трубется изменять дефолтные параметры алгоритма - меняйте код выше"
   ]
  },
  {
   "cell_type": "code",
   "execution_count": 101,
   "metadata": {
    "collapsed": false
   },
   "outputs": [
    {
     "name": "stdout",
     "output_type": "stream",
     "text": [
      "Count of estimators: 1, accuracy: 0.872234626953\n",
      "Count of estimators: 2, accuracy: 0.968396960471\n",
      "Count of estimators: 3, accuracy: 1.02213080766\n",
      "Count of estimators: 4, accuracy: 1.05746359886\n",
      "Count of estimators: 5, accuracy: 1.0861921747\n",
      "Count of estimators: 6, accuracy: 1.11614886913\n",
      "Count of estimators: 7, accuracy: 1.12930357391\n",
      "Count of estimators: 8, accuracy: 1.1401975885\n",
      "Count of estimators: 9, accuracy: 1.15095205928\n",
      "CPU times: user 18.8 s, sys: 701 ms, total: 19.5 s\n",
      "Wall time: 8.32 s\n"
     ]
    },
    {
     "data": {
      "image/png": "[encoded data removed]",
      "text/plain": [
       "<matplotlib.figure.Figure at 0x7f0655687550>"
      ]
     },
     "metadata": {},
     "output_type": "display_data"
    }
   ],
   "source": [
    "n_est = range(1, 10, 1)\n",
    "%time results = get_results_rf(n_est)\n",
    "show_plot(n_est, results)"
   ]
  },
  {
   "cell_type": "markdown",
   "metadata": {},
   "source": [
    "### Extremely Randomized Trees Ensemble\n",
    "Диапазон для n_est рекомендуется брать небольшим\n",
    "\n",
    "Если трубется изменять дефолтные параметры алгоритма - меняйте код выше"
   ]
  },
  {
   "cell_type": "code",
   "execution_count": 102,
   "metadata": {
    "collapsed": false
   },
   "outputs": [
    {
     "name": "stdout",
     "output_type": "stream",
     "text": [
      "Count of estimators: 1, accuracy: 0.731626981846\n",
      "Count of estimators: 2, accuracy: 0.766762963723\n",
      "Count of estimators: 3, accuracy: 0.81045274278\n",
      "Count of estimators: 4, accuracy: 0.838075943683\n",
      "Count of estimators: 5, accuracy: 0.865951900858\n",
      "Count of estimators: 6, accuracy: 0.882819961105\n",
      "Count of estimators: 7, accuracy: 0.905145102766\n",
      "Count of estimators: 8, accuracy: 0.916829904725\n",
      "Count of estimators: 9, accuracy: 0.927146138637\n",
      "CPU times: user 15min 4s, sys: 737 ms, total: 15min 4s\n",
      "Wall time: 3min 20s\n"
     ]
    },
    {
     "data": {
      "image/png": "[encoded data removed]",
      "text/plain": [
       "<matplotlib.figure.Figure at 0x7f0655c89f90>"
      ]
     },
     "metadata": {},
     "output_type": "display_data"
    }
   ],
   "source": [
    "n_est = range(1, 10, 1)\n",
    "%time results = get_results_erte(n_est)\n",
    "show_plot(n_est, results)"
   ]
  },
  {
   "cell_type": "markdown",
   "metadata": {},
   "source": [
    "### Gradient Boosted Decision Trees\n",
    "Диапазон для n_est рекомендуется брать небольшим\n",
    "\n",
    "Если трубется изменять дефолтные параметры алгоритма - меняйте код выше"
   ]
  },
  {
   "cell_type": "code",
   "execution_count": 137,
   "metadata": {
    "collapsed": false
   },
   "outputs": [
    {
     "name": "stdout",
     "output_type": "stream",
     "text": [
      "Count of estimators: 10, accuracy: 1.23647479812\n",
      "Count of estimators: 20, accuracy: 1.2319271105\n",
      "Count of estimators: 30, accuracy: 1.22711722873\n",
      "Count of estimators: 40, accuracy: 1.22327720049\n",
      "Count of estimators: 50, accuracy: 1.22259612735\n",
      "Count of estimators: 60, accuracy: 1.21965220455\n",
      "Count of estimators: 70, accuracy: 1.21675080389\n",
      "Count of estimators: 80, accuracy: 1.21466139927\n",
      "Count of estimators: 90, accuracy: 1.21333242439\n",
      "Count of estimators: 100, accuracy: 1.21093695731\n",
      "Count of estimators: 110, accuracy: 1.21001948269\n",
      "Count of estimators: 120, accuracy: 1.21009679306\n",
      "Count of estimators: 130, accuracy: 1.20949188327\n",
      "Count of estimators: 140, accuracy: 1.20843396288\n",
      "CPU times: user 43min 11s, sys: 2.51 s, total: 43min 13s\n",
      "Wall time: 43min 14s\n"
     ]
    },
    {
     "data": {
      "image/png": "[encoded data removed]",
      "text/plain": [
       "<matplotlib.figure.Figure at 0x7f0655306850>"
      ]
     },
     "metadata": {},
     "output_type": "display_data"
    }
   ],
   "source": [
    "n_est = range(10, 150, 10)\n",
    "%time results = get_results_gbdt(n_est)\n",
    "show_plot(n_est, results)"
   ]
  },
  {
   "cell_type": "markdown",
   "metadata": {},
   "source": [
    "Посмотрим, улучшится ли результат при следующем:"
   ]
  },
  {
   "cell_type": "code",
   "execution_count": 156,
   "metadata": {
    "collapsed": false
   },
   "outputs": [
    {
     "name": "stderr",
     "output_type": "stream",
     "text": [
      "/root/miniconda/envs/rep_py2/lib/python2.7/site-packages/ipykernel/__main__.py:2: FutureWarning: using '+' to provide set union with Indexes is deprecated, use '|' or .union()\n",
      "  from ipykernel import kernelapp as app\n"
     ]
    }
   ],
   "source": [
    "#Добавим LOCATION_ID и MODEL_ID к категориальным признакам\n",
    "Categorical_columns_use += cat_data[['LOCATION_ID', 'MODEL_ID']].columns"
   ]
  },
  {
   "cell_type": "code",
   "execution_count": 157,
   "metadata": {
    "collapsed": true
   },
   "outputs": [],
   "source": [
    "bin_data = get_binarized_data(cat_data, Categorical_columns_use)\n",
    "bin_data.fillna(0, inplace = True)\n",
    "trainX, testX, trainY, testY = split_train_test(df = bin_data, test_size=0.1,  y_column_name='DEMAND')"
   ]
  },
  {
   "cell_type": "code",
   "execution_count": 158,
   "metadata": {
    "collapsed": false
   },
   "outputs": [
    {
     "name": "stdout",
     "output_type": "stream",
     "text": [
      "Count of estimators: 1, accuracy: 0.712672658054\n",
      "Count of estimators: 2, accuracy: 0.753568140196\n",
      "CPU times: user 2min 47s, sys: 291 ms, total: 2min 48s\n",
      "Wall time: 1min 52s\n"
     ]
    }
   ],
   "source": [
    "n_est = range(1, 3, 1)\n",
    "%time results = get_results_erte(n_est)"
   ]
  },
  {
   "cell_type": "markdown",
   "metadata": {},
   "source": [
    "### Вывод"
   ]
  },
  {
   "cell_type": "markdown",
   "metadata": {},
   "source": [
    "Лучше всего работает Extremely Randomized Trees Ensemble с модификацией типов магазина и убиранием некоторых признаков"
   ]
  },
  {
   "cell_type": "markdown",
   "metadata": {},
   "source": [
    "## Другие модели и генерация дополнительных признаков (2 балла)"
   ]
  },
  {
   "cell_type": "markdown",
   "metadata": {},
   "source": [
    "* На основании сделанных выводов, предложите другой вариант алгоритма ML, который должен показать лучший результат\n",
    "* Направляния:\n",
    "    -- использовать принципиально другое семейство алгоритмов (NN, GB+kNN, LinearRegression, композиция Baggin и GBDT)\n",
    "    -- исключить бесполезные фичи из обучающей выборки (полезность фич проанализировать с помощью RF);\n",
    "    -- исключить фичи, в которых есть NaN; сделать восстановление NaN более интеллектуально;\n",
    "    -- преобразовать катеориальные признаки так, чтобы получились числовые."
   ]
  },
  {
   "cell_type": "markdown",
   "metadata": {},
   "source": [
    "## Отправка результатов в контест на Kaggle (оценивается по результатам в Leaderboard)"
   ]
  },
  {
   "cell_type": "code",
   "execution_count": 143,
   "metadata": {
    "collapsed": false
   },
   "outputs": [],
   "source": [
    "test = pd.read_csv('./test.csv', sep=';',decimal= '.', index_col='ID')"
   ]
  },
  {
   "cell_type": "code",
   "execution_count": 144,
   "metadata": {
    "collapsed": false
   },
   "outputs": [
    {
     "name": "stderr",
     "output_type": "stream",
     "text": [
      "/root/miniconda/envs/rep_py2/lib/python2.7/site-packages/ipykernel/__main__.py:2: SettingWithCopyWarning: \n",
      "A value is trying to be set on a copy of a slice from a DataFrame\n",
      "\n",
      "See the caveats in the documentation: http://pandas.pydata.org/pandas-docs/stable/indexing.html#indexing-view-versus-copy\n",
      "  from ipykernel import kernelapp as app\n",
      "/root/miniconda/envs/rep_py2/lib/python2.7/site-packages/ipykernel/__main__.py:3: SettingWithCopyWarning: \n",
      "A value is trying to be set on a copy of a slice from a DataFrame\n",
      "\n",
      "See the caveats in the documentation: http://pandas.pydata.org/pandas-docs/stable/indexing.html#indexing-view-versus-copy\n",
      "  app.launch_new_instance()\n",
      "/root/miniconda/envs/rep_py2/lib/python2.7/site-packages/ipykernel/__main__.py:4: SettingWithCopyWarning: \n",
      "A value is trying to be set on a copy of a slice from a DataFrame\n",
      "\n",
      "See the caveats in the documentation: http://pandas.pydata.org/pandas-docs/stable/indexing.html#indexing-view-versus-copy\n",
      "/root/miniconda/envs/rep_py2/lib/python2.7/site-packages/ipykernel/__main__.py:5: SettingWithCopyWarning: \n",
      "A value is trying to be set on a copy of a slice from a DataFrame\n",
      "\n",
      "See the caveats in the documentation: http://pandas.pydata.org/pandas-docs/stable/indexing.html#indexing-view-versus-copy\n",
      "/root/miniconda/envs/rep_py2/lib/python2.7/site-packages/ipykernel/__main__.py:6: SettingWithCopyWarning: \n",
      "A value is trying to be set on a copy of a slice from a DataFrame\n",
      "\n",
      "See the caveats in the documentation: http://pandas.pydata.org/pandas-docs/stable/indexing.html#indexing-view-versus-copy\n",
      "/root/miniconda/envs/rep_py2/lib/python2.7/site-packages/ipykernel/__main__.py:7: SettingWithCopyWarning: \n",
      "A value is trying to be set on a copy of a slice from a DataFrame\n",
      "\n",
      "See the caveats in the documentation: http://pandas.pydata.org/pandas-docs/stable/indexing.html#indexing-view-versus-copy\n"
     ]
    }
   ],
   "source": [
    "test.drop(['STORE_PRICE_TYPE'], axis = 1, inplace=True)\n",
    "test['STORE_TYPE_A'][test['STORE_TYPE_A']<0.5]=0\n",
    "test['STORE_TYPE_B'][test['STORE_TYPE_B']<0.5]=0\n",
    "test['STORE_TYPE_C'][test['STORE_TYPE_C']<0.5]=0\n",
    "test['STORE_TYPE_A'][test['STORE_TYPE_A']>0.5]=1\n",
    "test['STORE_TYPE_B'][test['STORE_TYPE_B']>0.5]=1\n",
    "test['STORE_TYPE_C'][test['STORE_TYPE_C']>0.5]=1"
   ]
  },
  {
   "cell_type": "code",
   "execution_count": 145,
   "metadata": {
    "collapsed": true
   },
   "outputs": [],
   "source": [
    "test[features] = test[features].fillna(0)\n",
    "test.drop(['STORE_RES_SPECTR'], axis = 1, inplace=True)"
   ]
  },
  {
   "cell_type": "code",
   "execution_count": 146,
   "metadata": {
    "collapsed": false
   },
   "outputs": [],
   "source": [
    "# Предобработка тестовой выборки (добавляем\\удаляем признаки, предобработка NaN и пр.)\n",
    "test_data = get_binarized_data(test, Categorical_columns_use)"
   ]
  },
  {
   "cell_type": "code",
   "execution_count": 147,
   "metadata": {
    "collapsed": false
   },
   "outputs": [],
   "source": [
    "# Все отсутствующие в тестовой выборке столбцы полагаем 0\n",
    "add_columns = bin_data.columns[1:].difference(test_data.columns)\n",
    "test_data = pd.merge(test_data, bin_data.ix[test_data.index][add_columns], how='inner', left_index=True, right_index=True)\n",
    "test_data[add_columns]=0\n",
    "\n",
    "# Оставляем только столбцы обучающей выборки (целевая переменная в обучающей выборке отсутствует)\n",
    "test_data = test_data[bin_data.columns[1:]]\n",
    "\n",
    "#test_data = test_data.fillna(0, inplace=True)"
   ]
  },
  {
   "cell_type": "code",
   "execution_count": 148,
   "metadata": {
    "collapsed": true
   },
   "outputs": [],
   "source": [
    "# Обучающая выборка\n",
    "trainX, _, trainY, _ = split_train_test(df = bin_data, test_size=0,  y_column_name='DEMAND')"
   ]
  },
  {
   "cell_type": "code",
   "execution_count": 149,
   "metadata": {
    "collapsed": false
   },
   "outputs": [
    {
     "data": {
      "text/plain": [
       "ExtraTreesRegressor(bootstrap=False, criterion='mse', max_depth=None,\n",
       "          max_features='auto', max_leaf_nodes=None, min_samples_leaf=1,\n",
       "          min_samples_split=2, min_weight_fraction_leaf=0.0,\n",
       "          n_estimators=1, n_jobs=-1, oob_score=False, random_state=12,\n",
       "          verbose=0, warm_start=False)"
      ]
     },
     "execution_count": 149,
     "metadata": {},
     "output_type": "execute_result"
    }
   ],
   "source": [
    "# Обучаем финальный алгоритм\n",
    "final_regressor = ExtraTreesRegressor(n_estimators=1, n_jobs=-1, random_state=12, verbose=0)\n",
    "final_regressor.fit(trainX, trainY)"
   ]
  },
  {
   "cell_type": "code",
   "execution_count": 150,
   "metadata": {
    "collapsed": false
   },
   "outputs": [],
   "source": [
    "# Предсказание интенсивности\n",
    "test_predict = final_regressor.predict(np.asarray(test_data))"
   ]
  },
  {
   "cell_type": "code",
   "execution_count": 151,
   "metadata": {
    "collapsed": false
   },
   "outputs": [],
   "source": [
    "# Сохраняем в csv-файл\n",
    "test['DEMAND'] = test_predict\n",
    "test[['DEMAND']].to_csv('./submission_best.csv', sep = ',', index = True)"
   ]
  },
  {
   "cell_type": "code",
   "execution_count": null,
   "metadata": {
    "collapsed": true
   },
   "outputs": [],
   "source": []
  }
 ],
 "metadata": {
  "anaconda-cloud": {},
  "kernelspec": {
   "display_name": "Python 2",
   "language": "python",
   "name": "python2"
  },
  "language_info": {
   "codemirror_mode": {
    "name": "ipython",
    "version": 2
   },
   "file_extension": ".py",
   "mimetype": "text/x-python",
   "name": "python",
   "nbconvert_exporter": "python",
   "pygments_lexer": "ipython2",
   "version": "2.7.6"
  }
 },
 "nbformat": 4,
 "nbformat_minor": 0
}
